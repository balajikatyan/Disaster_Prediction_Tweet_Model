{
  "nbformat": 4,
  "nbformat_minor": 0,
  "metadata": {
    "colab": {
      "provenance": [],
      "gpuType": "T4",
      "authorship_tag": "ABX9TyNJrHA1nV+f0t5DHu/+0oP4",
      "include_colab_link": true
    },
    "kernelspec": {
      "name": "python3",
      "display_name": "Python 3"
    },
    "language_info": {
      "name": "python"
    },
    "accelerator": "GPU"
  },
  "cells": [
    {
      "cell_type": "markdown",
      "metadata": {
        "id": "view-in-github",
        "colab_type": "text"
      },
      "source": [
        "<a href=\"https://colab.research.google.com/github/billybutcheroi/Disaster_Prediction_Tweet_Model/blob/main/Disaster_Tweet.ipynb\" target=\"_parent\"><img src=\"https://colab.research.google.com/assets/colab-badge.svg\" alt=\"Open In Colab\"/></a>"
      ]
    },
    {
      "cell_type": "markdown",
      "source": [
        "##Natural Language Processing with Tensorflow"
      ],
      "metadata": {
        "id": "ynw9Lap0R-IP"
      }
    },
    {
      "cell_type": "markdown",
      "source": [
        "#What we're going to cover\n",
        "\n",
        "* Downloading a text dataset\n",
        "* Visulaizing the data\n",
        "* Converting text into numbers using tokenization\n",
        "* Turning our tokenized text into an embedding\n",
        "* Modelling a text dataset\n",
        "  * Starting with a baseline(TF-IDF)\n",
        "  * Building several deep learning text models\n",
        "     * Dense, LSTM, GRU, Conv1D, Transfer learninig\n",
        "* Comparing the perfomance of each our models\n",
        "* Combining our models into an ensemble\n",
        "* Saving and loading a trained models\n",
        "* Find the most wrong predictions"
      ],
      "metadata": {
        "id": "_mWAfWxISSp8"
      }
    },
    {
      "cell_type": "code",
      "source": [
        "import datetime\n",
        "print(f\"Notebook last run (end-to-end) : {datetime.datetime.now()}\")"
      ],
      "metadata": {
        "id": "wPOB-vvNScFr"
      },
      "execution_count": null,
      "outputs": []
    },
    {
      "cell_type": "code",
      "source": [
        "#Check for GPU\n",
        "!nvidia-smi -L"
      ],
      "metadata": {
        "id": "rlIptjNATQMF"
      },
      "execution_count": null,
      "outputs": []
    },
    {
      "cell_type": "markdown",
      "source": [
        "#Get Helper Fucntions"
      ],
      "metadata": {
        "id": "EJmdGr2GTVrD"
      }
    },
    {
      "cell_type": "code",
      "source": [
        "# Download helper functions script\n",
        "!wget https://raw.githubusercontent.com/mrdbourke/tensorflow-deep-learning/main/extras/helper_functions.py"
      ],
      "metadata": {
        "id": "PC71-E5CUchE"
      },
      "execution_count": null,
      "outputs": []
    },
    {
      "cell_type": "code",
      "source": [
        "# Import series of helper functions for the notebook\n",
        "from helper_functions import unzip_data, create_tensorboard_callback, plot_loss_curves, compare_historys"
      ],
      "metadata": {
        "id": "ZRJjW_eRUlpc"
      },
      "execution_count": 4,
      "outputs": []
    },
    {
      "cell_type": "markdown",
      "source": [
        "#Download a text dataset\n",
        "Let's start by download a text dataset. We'll be using the Real or Not? dataset from Kaggle which contains text-based Tweets about natural disasters.\n",
        "\n",
        "The Real Tweets are actually about disasters.\n",
        "\n",
        "  Jetstar and Virgin forced to cancel Bali Fights again because of ash from Mount Raung volcano\n",
        "\n",
        "The Not Real Tweets are Tweets not about disasters (they can be anything), for example:\n",
        "\n",
        " 'Education is the most powerful weapon which you can use to change the world.'\n",
        "  Nelson #MAndela #Quote\n",
        "\n",
        "For convience, the dataset has been (downlaoded from Kaggle account) and uploaded as a downloadble zip file.\n",
        "\n"
      ],
      "metadata": {
        "id": "ZeL4N3s0U5mU"
      }
    },
    {
      "cell_type": "code",
      "source": [
        "# DOwnlaod data (same as from Kaggle)\n",
        "!wget \"https://storage.googleapis.com/ztm_tf_course/nlp_getting_started.zip\"\n",
        "\n",
        "# Unzip data\n",
        "unzip_data(\"nlp_getting_started.zip\")"
      ],
      "metadata": {
        "colab": {
          "base_uri": "https://localhost:8080/"
        },
        "id": "P7FNJ5ObVrMD",
        "outputId": "ce62f0d4-c813-483f-d6a4-f25e5e6fecf8"
      },
      "execution_count": 5,
      "outputs": [
        {
          "output_type": "stream",
          "name": "stdout",
          "text": [
            "--2025-03-22 20:54:01--  https://storage.googleapis.com/ztm_tf_course/nlp_getting_started.zip\n",
            "Resolving storage.googleapis.com (storage.googleapis.com)... 142.251.31.207, 142.251.18.207, 142.250.153.207, ...\n",
            "Connecting to storage.googleapis.com (storage.googleapis.com)|142.251.31.207|:443... connected.\n",
            "HTTP request sent, awaiting response... 200 OK\n",
            "Length: 607343 (593K) [application/zip]\n",
            "Saving to: ‘nlp_getting_started.zip’\n",
            "\n",
            "nlp_getting_started 100%[===================>] 593.11K  1.26MB/s    in 0.5s    \n",
            "\n",
            "2025-03-22 20:54:02 (1.26 MB/s) - ‘nlp_getting_started.zip’ saved [607343/607343]\n",
            "\n"
          ]
        }
      ]
    },
    {
      "cell_type": "markdown",
      "source": [
        "#Visualizing a text dataset\n",
        "Once you've acquired a new dataset to work with, what should you do first?\n",
        "\n",
        "Explore it? Inscept it? Verify it? Become one with it?\n",
        "\n",
        "All correct\n",
        "\n"
      ],
      "metadata": {
        "id": "h1BA_I56VqrM"
      }
    },
    {
      "cell_type": "code",
      "source": [
        "# Turn .csv files into pandas DataFrame's\n",
        "import pandas as pd\n",
        "train_df = pd.read_csv(\"train.csv\")\n",
        "test_df = pd.read_csv(\"test.csv\")\n",
        "train_df.head()"
      ],
      "metadata": {
        "colab": {
          "base_uri": "https://localhost:8080/",
          "height": 206
        },
        "id": "voAOxmW8X60U",
        "outputId": "2334504a-4a80-475e-b630-97e917b3810f"
      },
      "execution_count": 6,
      "outputs": [
        {
          "output_type": "execute_result",
          "data": {
            "text/plain": [
              "   id keyword location                                               text  \\\n",
              "0   1     NaN      NaN  Our Deeds are the Reason of this #earthquake M...   \n",
              "1   4     NaN      NaN             Forest fire near La Ronge Sask. Canada   \n",
              "2   5     NaN      NaN  All residents asked to 'shelter in place' are ...   \n",
              "3   6     NaN      NaN  13,000 people receive #wildfires evacuation or...   \n",
              "4   7     NaN      NaN  Just got sent this photo from Ruby #Alaska as ...   \n",
              "\n",
              "   target  \n",
              "0       1  \n",
              "1       1  \n",
              "2       1  \n",
              "3       1  \n",
              "4       1  "
            ],
            "text/html": [
              "\n",
              "  <div id=\"df-fa9e9062-9061-4df6-9dfa-12624d272377\" class=\"colab-df-container\">\n",
              "    <div>\n",
              "<style scoped>\n",
              "    .dataframe tbody tr th:only-of-type {\n",
              "        vertical-align: middle;\n",
              "    }\n",
              "\n",
              "    .dataframe tbody tr th {\n",
              "        vertical-align: top;\n",
              "    }\n",
              "\n",
              "    .dataframe thead th {\n",
              "        text-align: right;\n",
              "    }\n",
              "</style>\n",
              "<table border=\"1\" class=\"dataframe\">\n",
              "  <thead>\n",
              "    <tr style=\"text-align: right;\">\n",
              "      <th></th>\n",
              "      <th>id</th>\n",
              "      <th>keyword</th>\n",
              "      <th>location</th>\n",
              "      <th>text</th>\n",
              "      <th>target</th>\n",
              "    </tr>\n",
              "  </thead>\n",
              "  <tbody>\n",
              "    <tr>\n",
              "      <th>0</th>\n",
              "      <td>1</td>\n",
              "      <td>NaN</td>\n",
              "      <td>NaN</td>\n",
              "      <td>Our Deeds are the Reason of this #earthquake M...</td>\n",
              "      <td>1</td>\n",
              "    </tr>\n",
              "    <tr>\n",
              "      <th>1</th>\n",
              "      <td>4</td>\n",
              "      <td>NaN</td>\n",
              "      <td>NaN</td>\n",
              "      <td>Forest fire near La Ronge Sask. Canada</td>\n",
              "      <td>1</td>\n",
              "    </tr>\n",
              "    <tr>\n",
              "      <th>2</th>\n",
              "      <td>5</td>\n",
              "      <td>NaN</td>\n",
              "      <td>NaN</td>\n",
              "      <td>All residents asked to 'shelter in place' are ...</td>\n",
              "      <td>1</td>\n",
              "    </tr>\n",
              "    <tr>\n",
              "      <th>3</th>\n",
              "      <td>6</td>\n",
              "      <td>NaN</td>\n",
              "      <td>NaN</td>\n",
              "      <td>13,000 people receive #wildfires evacuation or...</td>\n",
              "      <td>1</td>\n",
              "    </tr>\n",
              "    <tr>\n",
              "      <th>4</th>\n",
              "      <td>7</td>\n",
              "      <td>NaN</td>\n",
              "      <td>NaN</td>\n",
              "      <td>Just got sent this photo from Ruby #Alaska as ...</td>\n",
              "      <td>1</td>\n",
              "    </tr>\n",
              "  </tbody>\n",
              "</table>\n",
              "</div>\n",
              "    <div class=\"colab-df-buttons\">\n",
              "\n",
              "  <div class=\"colab-df-container\">\n",
              "    <button class=\"colab-df-convert\" onclick=\"convertToInteractive('df-fa9e9062-9061-4df6-9dfa-12624d272377')\"\n",
              "            title=\"Convert this dataframe to an interactive table.\"\n",
              "            style=\"display:none;\">\n",
              "\n",
              "  <svg xmlns=\"http://www.w3.org/2000/svg\" height=\"24px\" viewBox=\"0 -960 960 960\">\n",
              "    <path d=\"M120-120v-720h720v720H120Zm60-500h600v-160H180v160Zm220 220h160v-160H400v160Zm0 220h160v-160H400v160ZM180-400h160v-160H180v160Zm440 0h160v-160H620v160ZM180-180h160v-160H180v160Zm440 0h160v-160H620v160Z\"/>\n",
              "  </svg>\n",
              "    </button>\n",
              "\n",
              "  <style>\n",
              "    .colab-df-container {\n",
              "      display:flex;\n",
              "      gap: 12px;\n",
              "    }\n",
              "\n",
              "    .colab-df-convert {\n",
              "      background-color: #E8F0FE;\n",
              "      border: none;\n",
              "      border-radius: 50%;\n",
              "      cursor: pointer;\n",
              "      display: none;\n",
              "      fill: #1967D2;\n",
              "      height: 32px;\n",
              "      padding: 0 0 0 0;\n",
              "      width: 32px;\n",
              "    }\n",
              "\n",
              "    .colab-df-convert:hover {\n",
              "      background-color: #E2EBFA;\n",
              "      box-shadow: 0px 1px 2px rgba(60, 64, 67, 0.3), 0px 1px 3px 1px rgba(60, 64, 67, 0.15);\n",
              "      fill: #174EA6;\n",
              "    }\n",
              "\n",
              "    .colab-df-buttons div {\n",
              "      margin-bottom: 4px;\n",
              "    }\n",
              "\n",
              "    [theme=dark] .colab-df-convert {\n",
              "      background-color: #3B4455;\n",
              "      fill: #D2E3FC;\n",
              "    }\n",
              "\n",
              "    [theme=dark] .colab-df-convert:hover {\n",
              "      background-color: #434B5C;\n",
              "      box-shadow: 0px 1px 3px 1px rgba(0, 0, 0, 0.15);\n",
              "      filter: drop-shadow(0px 1px 2px rgba(0, 0, 0, 0.3));\n",
              "      fill: #FFFFFF;\n",
              "    }\n",
              "  </style>\n",
              "\n",
              "    <script>\n",
              "      const buttonEl =\n",
              "        document.querySelector('#df-fa9e9062-9061-4df6-9dfa-12624d272377 button.colab-df-convert');\n",
              "      buttonEl.style.display =\n",
              "        google.colab.kernel.accessAllowed ? 'block' : 'none';\n",
              "\n",
              "      async function convertToInteractive(key) {\n",
              "        const element = document.querySelector('#df-fa9e9062-9061-4df6-9dfa-12624d272377');\n",
              "        const dataTable =\n",
              "          await google.colab.kernel.invokeFunction('convertToInteractive',\n",
              "                                                    [key], {});\n",
              "        if (!dataTable) return;\n",
              "\n",
              "        const docLinkHtml = 'Like what you see? Visit the ' +\n",
              "          '<a target=\"_blank\" href=https://colab.research.google.com/notebooks/data_table.ipynb>data table notebook</a>'\n",
              "          + ' to learn more about interactive tables.';\n",
              "        element.innerHTML = '';\n",
              "        dataTable['output_type'] = 'display_data';\n",
              "        await google.colab.output.renderOutput(dataTable, element);\n",
              "        const docLink = document.createElement('div');\n",
              "        docLink.innerHTML = docLinkHtml;\n",
              "        element.appendChild(docLink);\n",
              "      }\n",
              "    </script>\n",
              "  </div>\n",
              "\n",
              "\n",
              "<div id=\"df-1bc57813-8f03-417c-8f2c-0ed43ef0430c\">\n",
              "  <button class=\"colab-df-quickchart\" onclick=\"quickchart('df-1bc57813-8f03-417c-8f2c-0ed43ef0430c')\"\n",
              "            title=\"Suggest charts\"\n",
              "            style=\"display:none;\">\n",
              "\n",
              "<svg xmlns=\"http://www.w3.org/2000/svg\" height=\"24px\"viewBox=\"0 0 24 24\"\n",
              "     width=\"24px\">\n",
              "    <g>\n",
              "        <path d=\"M19 3H5c-1.1 0-2 .9-2 2v14c0 1.1.9 2 2 2h14c1.1 0 2-.9 2-2V5c0-1.1-.9-2-2-2zM9 17H7v-7h2v7zm4 0h-2V7h2v10zm4 0h-2v-4h2v4z\"/>\n",
              "    </g>\n",
              "</svg>\n",
              "  </button>\n",
              "\n",
              "<style>\n",
              "  .colab-df-quickchart {\n",
              "      --bg-color: #E8F0FE;\n",
              "      --fill-color: #1967D2;\n",
              "      --hover-bg-color: #E2EBFA;\n",
              "      --hover-fill-color: #174EA6;\n",
              "      --disabled-fill-color: #AAA;\n",
              "      --disabled-bg-color: #DDD;\n",
              "  }\n",
              "\n",
              "  [theme=dark] .colab-df-quickchart {\n",
              "      --bg-color: #3B4455;\n",
              "      --fill-color: #D2E3FC;\n",
              "      --hover-bg-color: #434B5C;\n",
              "      --hover-fill-color: #FFFFFF;\n",
              "      --disabled-bg-color: #3B4455;\n",
              "      --disabled-fill-color: #666;\n",
              "  }\n",
              "\n",
              "  .colab-df-quickchart {\n",
              "    background-color: var(--bg-color);\n",
              "    border: none;\n",
              "    border-radius: 50%;\n",
              "    cursor: pointer;\n",
              "    display: none;\n",
              "    fill: var(--fill-color);\n",
              "    height: 32px;\n",
              "    padding: 0;\n",
              "    width: 32px;\n",
              "  }\n",
              "\n",
              "  .colab-df-quickchart:hover {\n",
              "    background-color: var(--hover-bg-color);\n",
              "    box-shadow: 0 1px 2px rgba(60, 64, 67, 0.3), 0 1px 3px 1px rgba(60, 64, 67, 0.15);\n",
              "    fill: var(--button-hover-fill-color);\n",
              "  }\n",
              "\n",
              "  .colab-df-quickchart-complete:disabled,\n",
              "  .colab-df-quickchart-complete:disabled:hover {\n",
              "    background-color: var(--disabled-bg-color);\n",
              "    fill: var(--disabled-fill-color);\n",
              "    box-shadow: none;\n",
              "  }\n",
              "\n",
              "  .colab-df-spinner {\n",
              "    border: 2px solid var(--fill-color);\n",
              "    border-color: transparent;\n",
              "    border-bottom-color: var(--fill-color);\n",
              "    animation:\n",
              "      spin 1s steps(1) infinite;\n",
              "  }\n",
              "\n",
              "  @keyframes spin {\n",
              "    0% {\n",
              "      border-color: transparent;\n",
              "      border-bottom-color: var(--fill-color);\n",
              "      border-left-color: var(--fill-color);\n",
              "    }\n",
              "    20% {\n",
              "      border-color: transparent;\n",
              "      border-left-color: var(--fill-color);\n",
              "      border-top-color: var(--fill-color);\n",
              "    }\n",
              "    30% {\n",
              "      border-color: transparent;\n",
              "      border-left-color: var(--fill-color);\n",
              "      border-top-color: var(--fill-color);\n",
              "      border-right-color: var(--fill-color);\n",
              "    }\n",
              "    40% {\n",
              "      border-color: transparent;\n",
              "      border-right-color: var(--fill-color);\n",
              "      border-top-color: var(--fill-color);\n",
              "    }\n",
              "    60% {\n",
              "      border-color: transparent;\n",
              "      border-right-color: var(--fill-color);\n",
              "    }\n",
              "    80% {\n",
              "      border-color: transparent;\n",
              "      border-right-color: var(--fill-color);\n",
              "      border-bottom-color: var(--fill-color);\n",
              "    }\n",
              "    90% {\n",
              "      border-color: transparent;\n",
              "      border-bottom-color: var(--fill-color);\n",
              "    }\n",
              "  }\n",
              "</style>\n",
              "\n",
              "  <script>\n",
              "    async function quickchart(key) {\n",
              "      const quickchartButtonEl =\n",
              "        document.querySelector('#' + key + ' button');\n",
              "      quickchartButtonEl.disabled = true;  // To prevent multiple clicks.\n",
              "      quickchartButtonEl.classList.add('colab-df-spinner');\n",
              "      try {\n",
              "        const charts = await google.colab.kernel.invokeFunction(\n",
              "            'suggestCharts', [key], {});\n",
              "      } catch (error) {\n",
              "        console.error('Error during call to suggestCharts:', error);\n",
              "      }\n",
              "      quickchartButtonEl.classList.remove('colab-df-spinner');\n",
              "      quickchartButtonEl.classList.add('colab-df-quickchart-complete');\n",
              "    }\n",
              "    (() => {\n",
              "      let quickchartButtonEl =\n",
              "        document.querySelector('#df-1bc57813-8f03-417c-8f2c-0ed43ef0430c button');\n",
              "      quickchartButtonEl.style.display =\n",
              "        google.colab.kernel.accessAllowed ? 'block' : 'none';\n",
              "    })();\n",
              "  </script>\n",
              "</div>\n",
              "\n",
              "    </div>\n",
              "  </div>\n"
            ],
            "application/vnd.google.colaboratory.intrinsic+json": {
              "type": "dataframe",
              "variable_name": "train_df",
              "summary": "{\n  \"name\": \"train_df\",\n  \"rows\": 7613,\n  \"fields\": [\n    {\n      \"column\": \"id\",\n      \"properties\": {\n        \"dtype\": \"number\",\n        \"std\": 3137,\n        \"min\": 1,\n        \"max\": 10873,\n        \"num_unique_values\": 7613,\n        \"samples\": [\n          3796,\n          3185,\n          7769\n        ],\n        \"semantic_type\": \"\",\n        \"description\": \"\"\n      }\n    },\n    {\n      \"column\": \"keyword\",\n      \"properties\": {\n        \"dtype\": \"category\",\n        \"num_unique_values\": 221,\n        \"samples\": [\n          \"injury\",\n          \"nuclear%20reactor\",\n          \"engulfed\"\n        ],\n        \"semantic_type\": \"\",\n        \"description\": \"\"\n      }\n    },\n    {\n      \"column\": \"location\",\n      \"properties\": {\n        \"dtype\": \"category\",\n        \"num_unique_values\": 3341,\n        \"samples\": [\n          \"Oklahoma\",\n          \"Starling City\",\n          \"Trinidad and Tobago\"\n        ],\n        \"semantic_type\": \"\",\n        \"description\": \"\"\n      }\n    },\n    {\n      \"column\": \"text\",\n      \"properties\": {\n        \"dtype\": \"string\",\n        \"num_unique_values\": 7503,\n        \"samples\": [\n          \"Three Homes Demolished in Unrecognized Arab Village - International Middle East Media Center http://t.co/ik8m4Yi9T4\",\n          \"Reid Lake fire prompts campground evacuation order http://t.co/jBODKM6rBU\",\n          \"FAAN orders evacuation of abandoned aircraft at MMA http://t.co/dEvYbnVXGQ via @todayng\"\n        ],\n        \"semantic_type\": \"\",\n        \"description\": \"\"\n      }\n    },\n    {\n      \"column\": \"target\",\n      \"properties\": {\n        \"dtype\": \"number\",\n        \"std\": 0,\n        \"min\": 0,\n        \"max\": 1,\n        \"num_unique_values\": 2,\n        \"samples\": [\n          0,\n          1\n        ],\n        \"semantic_type\": \"\",\n        \"description\": \"\"\n      }\n    }\n  ]\n}"
            }
          },
          "metadata": {},
          "execution_count": 6
        }
      ]
    },
    {
      "cell_type": "code",
      "source": [
        "# Shuffle training dataframe\n",
        "train_df_shuffled = train_df.sample(frac=1, random_state=42)\n",
        "train_df_shuffled.head()"
      ],
      "metadata": {
        "colab": {
          "base_uri": "https://localhost:8080/",
          "height": 206
        },
        "id": "9v8CIF6aYU2M",
        "outputId": "fd54f436-391b-45e7-ae70-44d26df66d69"
      },
      "execution_count": 7,
      "outputs": [
        {
          "output_type": "execute_result",
          "data": {
            "text/plain": [
              "        id      keyword               location  \\\n",
              "2644  3796  destruction                    NaN   \n",
              "2227  3185       deluge                    NaN   \n",
              "5448  7769       police                     UK   \n",
              "132    191   aftershock                    NaN   \n",
              "6845  9810       trauma  Montgomery County, MD   \n",
              "\n",
              "                                                   text  target  \n",
              "2644  So you have a new weapon that can cause un-ima...       1  \n",
              "2227  The f$&amp;@ing things I do for #GISHWHES Just...       0  \n",
              "5448  DT @georgegalloway: RT @Galloway4Mayor: ÛÏThe...       1  \n",
              "132   Aftershock back to school kick off was great. ...       0  \n",
              "6845  in response to trauma Children of Addicts deve...       0  "
            ],
            "text/html": [
              "\n",
              "  <div id=\"df-e4fcf884-e434-4e27-9cd4-530863a5f81d\" class=\"colab-df-container\">\n",
              "    <div>\n",
              "<style scoped>\n",
              "    .dataframe tbody tr th:only-of-type {\n",
              "        vertical-align: middle;\n",
              "    }\n",
              "\n",
              "    .dataframe tbody tr th {\n",
              "        vertical-align: top;\n",
              "    }\n",
              "\n",
              "    .dataframe thead th {\n",
              "        text-align: right;\n",
              "    }\n",
              "</style>\n",
              "<table border=\"1\" class=\"dataframe\">\n",
              "  <thead>\n",
              "    <tr style=\"text-align: right;\">\n",
              "      <th></th>\n",
              "      <th>id</th>\n",
              "      <th>keyword</th>\n",
              "      <th>location</th>\n",
              "      <th>text</th>\n",
              "      <th>target</th>\n",
              "    </tr>\n",
              "  </thead>\n",
              "  <tbody>\n",
              "    <tr>\n",
              "      <th>2644</th>\n",
              "      <td>3796</td>\n",
              "      <td>destruction</td>\n",
              "      <td>NaN</td>\n",
              "      <td>So you have a new weapon that can cause un-ima...</td>\n",
              "      <td>1</td>\n",
              "    </tr>\n",
              "    <tr>\n",
              "      <th>2227</th>\n",
              "      <td>3185</td>\n",
              "      <td>deluge</td>\n",
              "      <td>NaN</td>\n",
              "      <td>The f$&amp;amp;@ing things I do for #GISHWHES Just...</td>\n",
              "      <td>0</td>\n",
              "    </tr>\n",
              "    <tr>\n",
              "      <th>5448</th>\n",
              "      <td>7769</td>\n",
              "      <td>police</td>\n",
              "      <td>UK</td>\n",
              "      <td>DT @georgegalloway: RT @Galloway4Mayor: ÛÏThe...</td>\n",
              "      <td>1</td>\n",
              "    </tr>\n",
              "    <tr>\n",
              "      <th>132</th>\n",
              "      <td>191</td>\n",
              "      <td>aftershock</td>\n",
              "      <td>NaN</td>\n",
              "      <td>Aftershock back to school kick off was great. ...</td>\n",
              "      <td>0</td>\n",
              "    </tr>\n",
              "    <tr>\n",
              "      <th>6845</th>\n",
              "      <td>9810</td>\n",
              "      <td>trauma</td>\n",
              "      <td>Montgomery County, MD</td>\n",
              "      <td>in response to trauma Children of Addicts deve...</td>\n",
              "      <td>0</td>\n",
              "    </tr>\n",
              "  </tbody>\n",
              "</table>\n",
              "</div>\n",
              "    <div class=\"colab-df-buttons\">\n",
              "\n",
              "  <div class=\"colab-df-container\">\n",
              "    <button class=\"colab-df-convert\" onclick=\"convertToInteractive('df-e4fcf884-e434-4e27-9cd4-530863a5f81d')\"\n",
              "            title=\"Convert this dataframe to an interactive table.\"\n",
              "            style=\"display:none;\">\n",
              "\n",
              "  <svg xmlns=\"http://www.w3.org/2000/svg\" height=\"24px\" viewBox=\"0 -960 960 960\">\n",
              "    <path d=\"M120-120v-720h720v720H120Zm60-500h600v-160H180v160Zm220 220h160v-160H400v160Zm0 220h160v-160H400v160ZM180-400h160v-160H180v160Zm440 0h160v-160H620v160ZM180-180h160v-160H180v160Zm440 0h160v-160H620v160Z\"/>\n",
              "  </svg>\n",
              "    </button>\n",
              "\n",
              "  <style>\n",
              "    .colab-df-container {\n",
              "      display:flex;\n",
              "      gap: 12px;\n",
              "    }\n",
              "\n",
              "    .colab-df-convert {\n",
              "      background-color: #E8F0FE;\n",
              "      border: none;\n",
              "      border-radius: 50%;\n",
              "      cursor: pointer;\n",
              "      display: none;\n",
              "      fill: #1967D2;\n",
              "      height: 32px;\n",
              "      padding: 0 0 0 0;\n",
              "      width: 32px;\n",
              "    }\n",
              "\n",
              "    .colab-df-convert:hover {\n",
              "      background-color: #E2EBFA;\n",
              "      box-shadow: 0px 1px 2px rgba(60, 64, 67, 0.3), 0px 1px 3px 1px rgba(60, 64, 67, 0.15);\n",
              "      fill: #174EA6;\n",
              "    }\n",
              "\n",
              "    .colab-df-buttons div {\n",
              "      margin-bottom: 4px;\n",
              "    }\n",
              "\n",
              "    [theme=dark] .colab-df-convert {\n",
              "      background-color: #3B4455;\n",
              "      fill: #D2E3FC;\n",
              "    }\n",
              "\n",
              "    [theme=dark] .colab-df-convert:hover {\n",
              "      background-color: #434B5C;\n",
              "      box-shadow: 0px 1px 3px 1px rgba(0, 0, 0, 0.15);\n",
              "      filter: drop-shadow(0px 1px 2px rgba(0, 0, 0, 0.3));\n",
              "      fill: #FFFFFF;\n",
              "    }\n",
              "  </style>\n",
              "\n",
              "    <script>\n",
              "      const buttonEl =\n",
              "        document.querySelector('#df-e4fcf884-e434-4e27-9cd4-530863a5f81d button.colab-df-convert');\n",
              "      buttonEl.style.display =\n",
              "        google.colab.kernel.accessAllowed ? 'block' : 'none';\n",
              "\n",
              "      async function convertToInteractive(key) {\n",
              "        const element = document.querySelector('#df-e4fcf884-e434-4e27-9cd4-530863a5f81d');\n",
              "        const dataTable =\n",
              "          await google.colab.kernel.invokeFunction('convertToInteractive',\n",
              "                                                    [key], {});\n",
              "        if (!dataTable) return;\n",
              "\n",
              "        const docLinkHtml = 'Like what you see? Visit the ' +\n",
              "          '<a target=\"_blank\" href=https://colab.research.google.com/notebooks/data_table.ipynb>data table notebook</a>'\n",
              "          + ' to learn more about interactive tables.';\n",
              "        element.innerHTML = '';\n",
              "        dataTable['output_type'] = 'display_data';\n",
              "        await google.colab.output.renderOutput(dataTable, element);\n",
              "        const docLink = document.createElement('div');\n",
              "        docLink.innerHTML = docLinkHtml;\n",
              "        element.appendChild(docLink);\n",
              "      }\n",
              "    </script>\n",
              "  </div>\n",
              "\n",
              "\n",
              "<div id=\"df-d8f42c49-a4c0-4433-9e4a-86fb9de57a32\">\n",
              "  <button class=\"colab-df-quickchart\" onclick=\"quickchart('df-d8f42c49-a4c0-4433-9e4a-86fb9de57a32')\"\n",
              "            title=\"Suggest charts\"\n",
              "            style=\"display:none;\">\n",
              "\n",
              "<svg xmlns=\"http://www.w3.org/2000/svg\" height=\"24px\"viewBox=\"0 0 24 24\"\n",
              "     width=\"24px\">\n",
              "    <g>\n",
              "        <path d=\"M19 3H5c-1.1 0-2 .9-2 2v14c0 1.1.9 2 2 2h14c1.1 0 2-.9 2-2V5c0-1.1-.9-2-2-2zM9 17H7v-7h2v7zm4 0h-2V7h2v10zm4 0h-2v-4h2v4z\"/>\n",
              "    </g>\n",
              "</svg>\n",
              "  </button>\n",
              "\n",
              "<style>\n",
              "  .colab-df-quickchart {\n",
              "      --bg-color: #E8F0FE;\n",
              "      --fill-color: #1967D2;\n",
              "      --hover-bg-color: #E2EBFA;\n",
              "      --hover-fill-color: #174EA6;\n",
              "      --disabled-fill-color: #AAA;\n",
              "      --disabled-bg-color: #DDD;\n",
              "  }\n",
              "\n",
              "  [theme=dark] .colab-df-quickchart {\n",
              "      --bg-color: #3B4455;\n",
              "      --fill-color: #D2E3FC;\n",
              "      --hover-bg-color: #434B5C;\n",
              "      --hover-fill-color: #FFFFFF;\n",
              "      --disabled-bg-color: #3B4455;\n",
              "      --disabled-fill-color: #666;\n",
              "  }\n",
              "\n",
              "  .colab-df-quickchart {\n",
              "    background-color: var(--bg-color);\n",
              "    border: none;\n",
              "    border-radius: 50%;\n",
              "    cursor: pointer;\n",
              "    display: none;\n",
              "    fill: var(--fill-color);\n",
              "    height: 32px;\n",
              "    padding: 0;\n",
              "    width: 32px;\n",
              "  }\n",
              "\n",
              "  .colab-df-quickchart:hover {\n",
              "    background-color: var(--hover-bg-color);\n",
              "    box-shadow: 0 1px 2px rgba(60, 64, 67, 0.3), 0 1px 3px 1px rgba(60, 64, 67, 0.15);\n",
              "    fill: var(--button-hover-fill-color);\n",
              "  }\n",
              "\n",
              "  .colab-df-quickchart-complete:disabled,\n",
              "  .colab-df-quickchart-complete:disabled:hover {\n",
              "    background-color: var(--disabled-bg-color);\n",
              "    fill: var(--disabled-fill-color);\n",
              "    box-shadow: none;\n",
              "  }\n",
              "\n",
              "  .colab-df-spinner {\n",
              "    border: 2px solid var(--fill-color);\n",
              "    border-color: transparent;\n",
              "    border-bottom-color: var(--fill-color);\n",
              "    animation:\n",
              "      spin 1s steps(1) infinite;\n",
              "  }\n",
              "\n",
              "  @keyframes spin {\n",
              "    0% {\n",
              "      border-color: transparent;\n",
              "      border-bottom-color: var(--fill-color);\n",
              "      border-left-color: var(--fill-color);\n",
              "    }\n",
              "    20% {\n",
              "      border-color: transparent;\n",
              "      border-left-color: var(--fill-color);\n",
              "      border-top-color: var(--fill-color);\n",
              "    }\n",
              "    30% {\n",
              "      border-color: transparent;\n",
              "      border-left-color: var(--fill-color);\n",
              "      border-top-color: var(--fill-color);\n",
              "      border-right-color: var(--fill-color);\n",
              "    }\n",
              "    40% {\n",
              "      border-color: transparent;\n",
              "      border-right-color: var(--fill-color);\n",
              "      border-top-color: var(--fill-color);\n",
              "    }\n",
              "    60% {\n",
              "      border-color: transparent;\n",
              "      border-right-color: var(--fill-color);\n",
              "    }\n",
              "    80% {\n",
              "      border-color: transparent;\n",
              "      border-right-color: var(--fill-color);\n",
              "      border-bottom-color: var(--fill-color);\n",
              "    }\n",
              "    90% {\n",
              "      border-color: transparent;\n",
              "      border-bottom-color: var(--fill-color);\n",
              "    }\n",
              "  }\n",
              "</style>\n",
              "\n",
              "  <script>\n",
              "    async function quickchart(key) {\n",
              "      const quickchartButtonEl =\n",
              "        document.querySelector('#' + key + ' button');\n",
              "      quickchartButtonEl.disabled = true;  // To prevent multiple clicks.\n",
              "      quickchartButtonEl.classList.add('colab-df-spinner');\n",
              "      try {\n",
              "        const charts = await google.colab.kernel.invokeFunction(\n",
              "            'suggestCharts', [key], {});\n",
              "      } catch (error) {\n",
              "        console.error('Error during call to suggestCharts:', error);\n",
              "      }\n",
              "      quickchartButtonEl.classList.remove('colab-df-spinner');\n",
              "      quickchartButtonEl.classList.add('colab-df-quickchart-complete');\n",
              "    }\n",
              "    (() => {\n",
              "      let quickchartButtonEl =\n",
              "        document.querySelector('#df-d8f42c49-a4c0-4433-9e4a-86fb9de57a32 button');\n",
              "      quickchartButtonEl.style.display =\n",
              "        google.colab.kernel.accessAllowed ? 'block' : 'none';\n",
              "    })();\n",
              "  </script>\n",
              "</div>\n",
              "\n",
              "    </div>\n",
              "  </div>\n"
            ],
            "application/vnd.google.colaboratory.intrinsic+json": {
              "type": "dataframe",
              "variable_name": "train_df_shuffled",
              "summary": "{\n  \"name\": \"train_df_shuffled\",\n  \"rows\": 7613,\n  \"fields\": [\n    {\n      \"column\": \"id\",\n      \"properties\": {\n        \"dtype\": \"number\",\n        \"std\": 3137,\n        \"min\": 1,\n        \"max\": 10873,\n        \"num_unique_values\": 7613,\n        \"samples\": [\n          7061,\n          843,\n          10603\n        ],\n        \"semantic_type\": \"\",\n        \"description\": \"\"\n      }\n    },\n    {\n      \"column\": \"keyword\",\n      \"properties\": {\n        \"dtype\": \"category\",\n        \"num_unique_values\": 221,\n        \"samples\": [\n          \"blazing\",\n          \"emergency\",\n          \"rescue\"\n        ],\n        \"semantic_type\": \"\",\n        \"description\": \"\"\n      }\n    },\n    {\n      \"column\": \"location\",\n      \"properties\": {\n        \"dtype\": \"category\",\n        \"num_unique_values\": 3341,\n        \"samples\": [\n          \"617-BTOWN-BEATDOWN\",\n          \"Newcastle Upon Tyne, England\",\n          \"Federal Capital Territory\"\n        ],\n        \"semantic_type\": \"\",\n        \"description\": \"\"\n      }\n    },\n    {\n      \"column\": \"text\",\n      \"properties\": {\n        \"dtype\": \"string\",\n        \"num_unique_values\": 7503,\n        \"samples\": [\n          \"This week first responders and DART members are participating in a four day intensive Technical Large Animal... http://t.co/tL93AOd3ER\",\n          \"My mom is watching a show about bridges breaking/falling and the people on them drowning in their cars aka one of my biggest fears ????\",\n          \"@NickLee8  i went to school in a bombed out East End of London3 families to one house no bathroom outside loo &amp; poor so whats yr point\"\n        ],\n        \"semantic_type\": \"\",\n        \"description\": \"\"\n      }\n    },\n    {\n      \"column\": \"target\",\n      \"properties\": {\n        \"dtype\": \"number\",\n        \"std\": 0,\n        \"min\": 0,\n        \"max\": 1,\n        \"num_unique_values\": 2,\n        \"samples\": [\n          0,\n          1\n        ],\n        \"semantic_type\": \"\",\n        \"description\": \"\"\n      }\n    }\n  ]\n}"
            }
          },
          "metadata": {},
          "execution_count": 7
        }
      ]
    },
    {
      "cell_type": "code",
      "source": [
        "# Test data doesn't have a target\n",
        "test_df.head()"
      ],
      "metadata": {
        "colab": {
          "base_uri": "https://localhost:8080/",
          "height": 206
        },
        "id": "igy18yTGYbwk",
        "outputId": "05281c0f-6a23-432e-8b69-31b8257e8a63"
      },
      "execution_count": 8,
      "outputs": [
        {
          "output_type": "execute_result",
          "data": {
            "text/plain": [
              "   id keyword location                                               text\n",
              "0   0     NaN      NaN                 Just happened a terrible car crash\n",
              "1   2     NaN      NaN  Heard about #earthquake is different cities, s...\n",
              "2   3     NaN      NaN  there is a forest fire at spot pond, geese are...\n",
              "3   9     NaN      NaN           Apocalypse lighting. #Spokane #wildfires\n",
              "4  11     NaN      NaN      Typhoon Soudelor kills 28 in China and Taiwan"
            ],
            "text/html": [
              "\n",
              "  <div id=\"df-dc26154b-aa19-43d4-8717-dd059964f79e\" class=\"colab-df-container\">\n",
              "    <div>\n",
              "<style scoped>\n",
              "    .dataframe tbody tr th:only-of-type {\n",
              "        vertical-align: middle;\n",
              "    }\n",
              "\n",
              "    .dataframe tbody tr th {\n",
              "        vertical-align: top;\n",
              "    }\n",
              "\n",
              "    .dataframe thead th {\n",
              "        text-align: right;\n",
              "    }\n",
              "</style>\n",
              "<table border=\"1\" class=\"dataframe\">\n",
              "  <thead>\n",
              "    <tr style=\"text-align: right;\">\n",
              "      <th></th>\n",
              "      <th>id</th>\n",
              "      <th>keyword</th>\n",
              "      <th>location</th>\n",
              "      <th>text</th>\n",
              "    </tr>\n",
              "  </thead>\n",
              "  <tbody>\n",
              "    <tr>\n",
              "      <th>0</th>\n",
              "      <td>0</td>\n",
              "      <td>NaN</td>\n",
              "      <td>NaN</td>\n",
              "      <td>Just happened a terrible car crash</td>\n",
              "    </tr>\n",
              "    <tr>\n",
              "      <th>1</th>\n",
              "      <td>2</td>\n",
              "      <td>NaN</td>\n",
              "      <td>NaN</td>\n",
              "      <td>Heard about #earthquake is different cities, s...</td>\n",
              "    </tr>\n",
              "    <tr>\n",
              "      <th>2</th>\n",
              "      <td>3</td>\n",
              "      <td>NaN</td>\n",
              "      <td>NaN</td>\n",
              "      <td>there is a forest fire at spot pond, geese are...</td>\n",
              "    </tr>\n",
              "    <tr>\n",
              "      <th>3</th>\n",
              "      <td>9</td>\n",
              "      <td>NaN</td>\n",
              "      <td>NaN</td>\n",
              "      <td>Apocalypse lighting. #Spokane #wildfires</td>\n",
              "    </tr>\n",
              "    <tr>\n",
              "      <th>4</th>\n",
              "      <td>11</td>\n",
              "      <td>NaN</td>\n",
              "      <td>NaN</td>\n",
              "      <td>Typhoon Soudelor kills 28 in China and Taiwan</td>\n",
              "    </tr>\n",
              "  </tbody>\n",
              "</table>\n",
              "</div>\n",
              "    <div class=\"colab-df-buttons\">\n",
              "\n",
              "  <div class=\"colab-df-container\">\n",
              "    <button class=\"colab-df-convert\" onclick=\"convertToInteractive('df-dc26154b-aa19-43d4-8717-dd059964f79e')\"\n",
              "            title=\"Convert this dataframe to an interactive table.\"\n",
              "            style=\"display:none;\">\n",
              "\n",
              "  <svg xmlns=\"http://www.w3.org/2000/svg\" height=\"24px\" viewBox=\"0 -960 960 960\">\n",
              "    <path d=\"M120-120v-720h720v720H120Zm60-500h600v-160H180v160Zm220 220h160v-160H400v160Zm0 220h160v-160H400v160ZM180-400h160v-160H180v160Zm440 0h160v-160H620v160ZM180-180h160v-160H180v160Zm440 0h160v-160H620v160Z\"/>\n",
              "  </svg>\n",
              "    </button>\n",
              "\n",
              "  <style>\n",
              "    .colab-df-container {\n",
              "      display:flex;\n",
              "      gap: 12px;\n",
              "    }\n",
              "\n",
              "    .colab-df-convert {\n",
              "      background-color: #E8F0FE;\n",
              "      border: none;\n",
              "      border-radius: 50%;\n",
              "      cursor: pointer;\n",
              "      display: none;\n",
              "      fill: #1967D2;\n",
              "      height: 32px;\n",
              "      padding: 0 0 0 0;\n",
              "      width: 32px;\n",
              "    }\n",
              "\n",
              "    .colab-df-convert:hover {\n",
              "      background-color: #E2EBFA;\n",
              "      box-shadow: 0px 1px 2px rgba(60, 64, 67, 0.3), 0px 1px 3px 1px rgba(60, 64, 67, 0.15);\n",
              "      fill: #174EA6;\n",
              "    }\n",
              "\n",
              "    .colab-df-buttons div {\n",
              "      margin-bottom: 4px;\n",
              "    }\n",
              "\n",
              "    [theme=dark] .colab-df-convert {\n",
              "      background-color: #3B4455;\n",
              "      fill: #D2E3FC;\n",
              "    }\n",
              "\n",
              "    [theme=dark] .colab-df-convert:hover {\n",
              "      background-color: #434B5C;\n",
              "      box-shadow: 0px 1px 3px 1px rgba(0, 0, 0, 0.15);\n",
              "      filter: drop-shadow(0px 1px 2px rgba(0, 0, 0, 0.3));\n",
              "      fill: #FFFFFF;\n",
              "    }\n",
              "  </style>\n",
              "\n",
              "    <script>\n",
              "      const buttonEl =\n",
              "        document.querySelector('#df-dc26154b-aa19-43d4-8717-dd059964f79e button.colab-df-convert');\n",
              "      buttonEl.style.display =\n",
              "        google.colab.kernel.accessAllowed ? 'block' : 'none';\n",
              "\n",
              "      async function convertToInteractive(key) {\n",
              "        const element = document.querySelector('#df-dc26154b-aa19-43d4-8717-dd059964f79e');\n",
              "        const dataTable =\n",
              "          await google.colab.kernel.invokeFunction('convertToInteractive',\n",
              "                                                    [key], {});\n",
              "        if (!dataTable) return;\n",
              "\n",
              "        const docLinkHtml = 'Like what you see? Visit the ' +\n",
              "          '<a target=\"_blank\" href=https://colab.research.google.com/notebooks/data_table.ipynb>data table notebook</a>'\n",
              "          + ' to learn more about interactive tables.';\n",
              "        element.innerHTML = '';\n",
              "        dataTable['output_type'] = 'display_data';\n",
              "        await google.colab.output.renderOutput(dataTable, element);\n",
              "        const docLink = document.createElement('div');\n",
              "        docLink.innerHTML = docLinkHtml;\n",
              "        element.appendChild(docLink);\n",
              "      }\n",
              "    </script>\n",
              "  </div>\n",
              "\n",
              "\n",
              "<div id=\"df-8678fa8a-1131-458c-a88b-b8c412a2204e\">\n",
              "  <button class=\"colab-df-quickchart\" onclick=\"quickchart('df-8678fa8a-1131-458c-a88b-b8c412a2204e')\"\n",
              "            title=\"Suggest charts\"\n",
              "            style=\"display:none;\">\n",
              "\n",
              "<svg xmlns=\"http://www.w3.org/2000/svg\" height=\"24px\"viewBox=\"0 0 24 24\"\n",
              "     width=\"24px\">\n",
              "    <g>\n",
              "        <path d=\"M19 3H5c-1.1 0-2 .9-2 2v14c0 1.1.9 2 2 2h14c1.1 0 2-.9 2-2V5c0-1.1-.9-2-2-2zM9 17H7v-7h2v7zm4 0h-2V7h2v10zm4 0h-2v-4h2v4z\"/>\n",
              "    </g>\n",
              "</svg>\n",
              "  </button>\n",
              "\n",
              "<style>\n",
              "  .colab-df-quickchart {\n",
              "      --bg-color: #E8F0FE;\n",
              "      --fill-color: #1967D2;\n",
              "      --hover-bg-color: #E2EBFA;\n",
              "      --hover-fill-color: #174EA6;\n",
              "      --disabled-fill-color: #AAA;\n",
              "      --disabled-bg-color: #DDD;\n",
              "  }\n",
              "\n",
              "  [theme=dark] .colab-df-quickchart {\n",
              "      --bg-color: #3B4455;\n",
              "      --fill-color: #D2E3FC;\n",
              "      --hover-bg-color: #434B5C;\n",
              "      --hover-fill-color: #FFFFFF;\n",
              "      --disabled-bg-color: #3B4455;\n",
              "      --disabled-fill-color: #666;\n",
              "  }\n",
              "\n",
              "  .colab-df-quickchart {\n",
              "    background-color: var(--bg-color);\n",
              "    border: none;\n",
              "    border-radius: 50%;\n",
              "    cursor: pointer;\n",
              "    display: none;\n",
              "    fill: var(--fill-color);\n",
              "    height: 32px;\n",
              "    padding: 0;\n",
              "    width: 32px;\n",
              "  }\n",
              "\n",
              "  .colab-df-quickchart:hover {\n",
              "    background-color: var(--hover-bg-color);\n",
              "    box-shadow: 0 1px 2px rgba(60, 64, 67, 0.3), 0 1px 3px 1px rgba(60, 64, 67, 0.15);\n",
              "    fill: var(--button-hover-fill-color);\n",
              "  }\n",
              "\n",
              "  .colab-df-quickchart-complete:disabled,\n",
              "  .colab-df-quickchart-complete:disabled:hover {\n",
              "    background-color: var(--disabled-bg-color);\n",
              "    fill: var(--disabled-fill-color);\n",
              "    box-shadow: none;\n",
              "  }\n",
              "\n",
              "  .colab-df-spinner {\n",
              "    border: 2px solid var(--fill-color);\n",
              "    border-color: transparent;\n",
              "    border-bottom-color: var(--fill-color);\n",
              "    animation:\n",
              "      spin 1s steps(1) infinite;\n",
              "  }\n",
              "\n",
              "  @keyframes spin {\n",
              "    0% {\n",
              "      border-color: transparent;\n",
              "      border-bottom-color: var(--fill-color);\n",
              "      border-left-color: var(--fill-color);\n",
              "    }\n",
              "    20% {\n",
              "      border-color: transparent;\n",
              "      border-left-color: var(--fill-color);\n",
              "      border-top-color: var(--fill-color);\n",
              "    }\n",
              "    30% {\n",
              "      border-color: transparent;\n",
              "      border-left-color: var(--fill-color);\n",
              "      border-top-color: var(--fill-color);\n",
              "      border-right-color: var(--fill-color);\n",
              "    }\n",
              "    40% {\n",
              "      border-color: transparent;\n",
              "      border-right-color: var(--fill-color);\n",
              "      border-top-color: var(--fill-color);\n",
              "    }\n",
              "    60% {\n",
              "      border-color: transparent;\n",
              "      border-right-color: var(--fill-color);\n",
              "    }\n",
              "    80% {\n",
              "      border-color: transparent;\n",
              "      border-right-color: var(--fill-color);\n",
              "      border-bottom-color: var(--fill-color);\n",
              "    }\n",
              "    90% {\n",
              "      border-color: transparent;\n",
              "      border-bottom-color: var(--fill-color);\n",
              "    }\n",
              "  }\n",
              "</style>\n",
              "\n",
              "  <script>\n",
              "    async function quickchart(key) {\n",
              "      const quickchartButtonEl =\n",
              "        document.querySelector('#' + key + ' button');\n",
              "      quickchartButtonEl.disabled = true;  // To prevent multiple clicks.\n",
              "      quickchartButtonEl.classList.add('colab-df-spinner');\n",
              "      try {\n",
              "        const charts = await google.colab.kernel.invokeFunction(\n",
              "            'suggestCharts', [key], {});\n",
              "      } catch (error) {\n",
              "        console.error('Error during call to suggestCharts:', error);\n",
              "      }\n",
              "      quickchartButtonEl.classList.remove('colab-df-spinner');\n",
              "      quickchartButtonEl.classList.add('colab-df-quickchart-complete');\n",
              "    }\n",
              "    (() => {\n",
              "      let quickchartButtonEl =\n",
              "        document.querySelector('#df-8678fa8a-1131-458c-a88b-b8c412a2204e button');\n",
              "      quickchartButtonEl.style.display =\n",
              "        google.colab.kernel.accessAllowed ? 'block' : 'none';\n",
              "    })();\n",
              "  </script>\n",
              "</div>\n",
              "\n",
              "    </div>\n",
              "  </div>\n"
            ],
            "application/vnd.google.colaboratory.intrinsic+json": {
              "type": "dataframe",
              "variable_name": "test_df",
              "summary": "{\n  \"name\": \"test_df\",\n  \"rows\": 3263,\n  \"fields\": [\n    {\n      \"column\": \"id\",\n      \"properties\": {\n        \"dtype\": \"number\",\n        \"std\": 3146,\n        \"min\": 0,\n        \"max\": 10875,\n        \"num_unique_values\": 3263,\n        \"samples\": [\n          8051,\n          425,\n          1330\n        ],\n        \"semantic_type\": \"\",\n        \"description\": \"\"\n      }\n    },\n    {\n      \"column\": \"keyword\",\n      \"properties\": {\n        \"dtype\": \"category\",\n        \"num_unique_values\": 221,\n        \"samples\": [\n          \"injury\",\n          \"nuclear%20reactor\",\n          \"engulfed\"\n        ],\n        \"semantic_type\": \"\",\n        \"description\": \"\"\n      }\n    },\n    {\n      \"column\": \"location\",\n      \"properties\": {\n        \"dtype\": \"category\",\n        \"num_unique_values\": 1602,\n        \"samples\": [\n          \"UAE\",\n          \"Tokio / Tokyo\",\n          \"Texas\"\n        ],\n        \"semantic_type\": \"\",\n        \"description\": \"\"\n      }\n    },\n    {\n      \"column\": \"text\",\n      \"properties\": {\n        \"dtype\": \"string\",\n        \"num_unique_values\": 3243,\n        \"samples\": [\n          \"Latest: USA: Huge sinkhole swallows up Brooklyn intersection http://t.co/vspKHg3nZy\",\n          \"I liked a @YouTube video http://t.co/a5YTAw9Vih S.O.S. Rona Guide - The Red Whirlwind\",\n          \"HitchBot travels Europe and greeted with open arms. Gets destroyed after two weeks in america. There's a lesson to be learned here.\"\n        ],\n        \"semantic_type\": \"\",\n        \"description\": \"\"\n      }\n    }\n  ]\n}"
            }
          },
          "metadata": {},
          "execution_count": 8
        }
      ]
    },
    {
      "cell_type": "code",
      "source": [
        "#How many examples of each class?\n",
        "train_df.target.value_counts()"
      ],
      "metadata": {
        "colab": {
          "base_uri": "https://localhost:8080/",
          "height": 178
        },
        "id": "DkEE2Mb-YyVE",
        "outputId": "a2040e0d-7cc3-4ef9-bb09-6123efc78780"
      },
      "execution_count": 9,
      "outputs": [
        {
          "output_type": "execute_result",
          "data": {
            "text/plain": [
              "target\n",
              "0    4342\n",
              "1    3271\n",
              "Name: count, dtype: int64"
            ],
            "text/html": [
              "<div>\n",
              "<style scoped>\n",
              "    .dataframe tbody tr th:only-of-type {\n",
              "        vertical-align: middle;\n",
              "    }\n",
              "\n",
              "    .dataframe tbody tr th {\n",
              "        vertical-align: top;\n",
              "    }\n",
              "\n",
              "    .dataframe thead th {\n",
              "        text-align: right;\n",
              "    }\n",
              "</style>\n",
              "<table border=\"1\" class=\"dataframe\">\n",
              "  <thead>\n",
              "    <tr style=\"text-align: right;\">\n",
              "      <th></th>\n",
              "      <th>count</th>\n",
              "    </tr>\n",
              "    <tr>\n",
              "      <th>target</th>\n",
              "      <th></th>\n",
              "    </tr>\n",
              "  </thead>\n",
              "  <tbody>\n",
              "    <tr>\n",
              "      <th>0</th>\n",
              "      <td>4342</td>\n",
              "    </tr>\n",
              "    <tr>\n",
              "      <th>1</th>\n",
              "      <td>3271</td>\n",
              "    </tr>\n",
              "  </tbody>\n",
              "</table>\n",
              "</div><br><label><b>dtype:</b> int64</label>"
            ]
          },
          "metadata": {},
          "execution_count": 9
        }
      ]
    },
    {
      "cell_type": "markdown",
      "source": [
        "Since we have 2 target values, we're dealing with **binary classifiaction** problem\n",
        "* `1` = a real disiasster tweet\n",
        "* `2` = not a real"
      ],
      "metadata": {
        "id": "Q7Dn4o47Y75E"
      }
    },
    {
      "cell_type": "code",
      "source": [
        "#How many samples total?\n",
        "print(f\"Total training samples : {len(train_df)}\")\n",
        "print(f\"Total test samples : {len(test_df)}\")\n",
        "print(f\"Total samples : {len(train_df) + len(test_df)}\")"
      ],
      "metadata": {
        "colab": {
          "base_uri": "https://localhost:8080/"
        },
        "id": "YqIoJ2lIZJkc",
        "outputId": "34dd838d-a4ef-4312-a2e4-817f7059cce7"
      },
      "execution_count": 10,
      "outputs": [
        {
          "output_type": "stream",
          "name": "stdout",
          "text": [
            "Total training samples : 7613\n",
            "Total test samples : 3263\n",
            "Total samples : 10876\n"
          ]
        }
      ]
    },
    {
      "cell_type": "code",
      "source": [
        "# Let's visualize some random training examples\n",
        "import random\n",
        "random_index = random.randint(0, len(train_df)-5)\n",
        "for row in train_df_shuffled[[\"text\", \"target\"]][random_index:random_index+5].itertuples():\n",
        "  _, text, target = row\n",
        "  print(f\"Target : {target}\", \"(real disaster)\" if target > 0 else \"(not real disaster)\")\n",
        "  print(f\"Text : \\n{text}\\n\")\n",
        "  print(\"---\\n\")"
      ],
      "metadata": {
        "colab": {
          "base_uri": "https://localhost:8080/"
        },
        "id": "8EA1wRKjZlxk",
        "outputId": "29c0b181-6834-451a-e4bc-669afb77448e"
      },
      "execution_count": 11,
      "outputs": [
        {
          "output_type": "stream",
          "name": "stdout",
          "text": [
            "Target : 1 (real disaster)\n",
            "Text : \n",
            "If you did a cannon ball into the ocean then Japan would evacuate.\n",
            "\n",
            "---\n",
            "\n",
            "Target : 1 (real disaster)\n",
            "Text : \n",
            "@Ashayo @MsMiggi Hi Ashayo! I believe there will be VODs on YouTube after the presentation but there is nothing like seeing it live :)\n",
            "\n",
            "---\n",
            "\n",
            "Target : 1 (real disaster)\n",
            "Text : \n",
            "A poignant reminder that in war there are many casualties. http://t.co/Mwmt3BdR5L\n",
            "\n",
            "---\n",
            "\n",
            "Target : 1 (real disaster)\n",
            "Text : \n",
            "Bush Fires are scary....even scarier when you go down and fight them\n",
            "\n",
            "---\n",
            "\n",
            "Target : 0 (not real disaster)\n",
            "Text : \n",
            "None of you annoying crusty 'All Lives Matter' head ass people ever actually support causes you just hate when black deaths get attention.\n",
            "\n",
            "---\n",
            "\n"
          ]
        }
      ]
    },
    {
      "cell_type": "markdown",
      "source": [
        "#Split data into tranining and validation sets"
      ],
      "metadata": {
        "id": "U1OkV9Sscnf1"
      }
    },
    {
      "cell_type": "code",
      "source": [
        "from sklearn.model_selection import train_test_split\n",
        "\n",
        "train_sentences, val_sentences, train_labels, val_labels = train_test_split(train_df_shuffled[\"text\"].to_numpy(),\n",
        "                                                                            train_df_shuffled[\"target\"].to_numpy(),\n",
        "                                                                            test_size=0.1,\n",
        "                                                                            random_state=42)"
      ],
      "metadata": {
        "id": "9q2oN6bicwxs"
      },
      "execution_count": 12,
      "outputs": []
    },
    {
      "cell_type": "code",
      "source": [
        "# Check the lengths\n",
        "len(train_sentences), len(train_labels), len(val_sentences), len(val_labels)"
      ],
      "metadata": {
        "colab": {
          "base_uri": "https://localhost:8080/"
        },
        "id": "M8FA_A27dntU",
        "outputId": "84dc6375-a28f-42aa-fc48-6ce6e234a6e5"
      },
      "execution_count": 13,
      "outputs": [
        {
          "output_type": "execute_result",
          "data": {
            "text/plain": [
              "(6851, 6851, 762, 762)"
            ]
          },
          "metadata": {},
          "execution_count": 13
        }
      ]
    },
    {
      "cell_type": "code",
      "source": [
        "# View the first training sentences and thier labels\n",
        "train_sentences[:10], train_labels[:10]"
      ],
      "metadata": {
        "colab": {
          "base_uri": "https://localhost:8080/"
        },
        "id": "8hzc4UHpd0js",
        "outputId": "a0f3f1a0-7a50-4403-b9f7-cdea228e3275"
      },
      "execution_count": 14,
      "outputs": [
        {
          "output_type": "execute_result",
          "data": {
            "text/plain": [
              "(array(['@mogacola @zamtriossu i screamed after hitting tweet',\n",
              "        'Imagine getting flattened by Kurt Zouma',\n",
              "        '@Gurmeetramrahim #MSGDoing111WelfareWorks Green S welfare force ke appx 65000 members har time disaster victim ki help ke liye tyar hai....',\n",
              "        \"@shakjn @C7 @Magnums im shaking in fear he's gonna hack the planet\",\n",
              "        'Somehow find you and I collide http://t.co/Ee8RpOahPk',\n",
              "        '@EvaHanderek @MarleyKnysh great times until the bus driver held us hostage in the mall parking lot lmfao',\n",
              "        'destroy the free fandom honestly',\n",
              "        'Weapons stolen from National Guard Armory in New Albany still missing #Gunsense http://t.co/lKNU8902JE',\n",
              "        '@wfaaweather Pete when will the heat wave pass? Is it really going to be mid month? Frisco Boy Scouts have a canoe trip in Okla.',\n",
              "        'Patient-reported outcomes in long-term survivors of metastatic colorectal cancer - British Journal of Surgery http://t.co/5Yl4DC1Tqt'],\n",
              "       dtype=object),\n",
              " array([0, 0, 1, 0, 0, 1, 1, 0, 1, 1]))"
            ]
          },
          "metadata": {},
          "execution_count": 14
        }
      ]
    },
    {
      "cell_type": "markdown",
      "source": [
        "#Converting text into numbers\n",
        "\n",
        "In NLP, there are 2 main concepts for turning text into numbers\n",
        "\n",
        "* **Tokenization** - A straight mapping from word or chaarcter or sub-word to a numerical value. There are 3 main levels of Tokenization\n",
        "\n",
        "1. Using **word-level** with the sentence \"I Love Tensorflow\" might result in \"I\" being `0`, \"love\" being `1` and \"Tensorflow\" being `2`. In this case every word is a single **Token**\n",
        "\n",
        "2. **Character lvl**, such as converting the letters A-Z values `1-26`. In this case every character in a sequence considered a single Token\n",
        "\n",
        "3. **Sub-word** is in b/w word lvl and charcater lvl. It involves breaking individual words into smaller parts and then converting those smaller parts into numbers.\n",
        "\n",
        "\n",
        "* **Embeddings** - An embedding is a representation of natural language which can be learned. Representation comes in the form of a feature vector. For example, the word \"dance\" could be represented by the 5-dimensional vector [-0.8547, 0.4559, -0.3332, 0.9877, 0.1112]. It's important to note here, the size of the feature vector is tuneable. There are two ways to use embeddings:\n",
        "1. **Create your own embedding** - Once your text has been turned into numbers (required for an embedding), you can put them through an embedding layer (such as tf.keras.layers.Embedding) and an embedding representation will be learned during model training.\n",
        "2. **Reuse a pre-learned embedding** - Many pre-trained embeddings exist online. These pre-trained embeddings have often been learned on large corpuses of text (such as all of Wikipedia) and thus have a good underlying representation of natural language. You can use a pre-trained embedding to initialize your model and fine-tune it to your own specific task."
      ],
      "metadata": {
        "id": "aICm1PgBd8fM"
      }
    },
    {
      "cell_type": "markdown",
      "source": [
        "#Text vectorization (tokenization)\n",
        "\n",
        "To tokenize our words, we'll use the helpful preprocessing layer\n",
        "\n",
        "`keras.layers.experimental.preprocessing.TextVectorization`"
      ],
      "metadata": {
        "id": "XmZ-yujXeCeT"
      }
    },
    {
      "cell_type": "code",
      "source": [
        "import tensorflow as tf\n",
        "import tf_keras as keras\n",
        "\n",
        "from tensorflow.keras.layers import TextVectorization\n",
        "\n",
        "text_vectorizer = TextVectorization(max_tokens=None,\n",
        "                                 standardize=\"lower_and_strip_punctuation\",#Lowers the words and removes all punctuation\n",
        "                                 split=\"whitespace\",#how to split tokens\n",
        "                                 ngrams=None, #create grp of n words,\n",
        "                                 output_mode=\"int\",#How to map tokens into numbers\n",
        "                                 output_sequence_length=None)#how long should the output sequence of tokens be?\n",
        "                                    # pad_to_max_tokens=True) # Not valid if using max_tokens=None\n"
      ],
      "metadata": {
        "id": "k8bYgQMZfmik"
      },
      "execution_count": 15,
      "outputs": []
    },
    {
      "cell_type": "code",
      "source": [
        "# Find average number of tokens(words) in training Tweets\n",
        "round(sum([len(i.split()) for i in train_sentences])/len(train_sentences))"
      ],
      "metadata": {
        "colab": {
          "base_uri": "https://localhost:8080/"
        },
        "id": "1gU7YaRgg7JN",
        "outputId": "b250159b-2706-4c4e-800a-a1720dc76812"
      },
      "execution_count": 16,
      "outputs": [
        {
          "output_type": "execute_result",
          "data": {
            "text/plain": [
              "15"
            ]
          },
          "metadata": {},
          "execution_count": 16
        }
      ]
    },
    {
      "cell_type": "code",
      "source": [
        "# Setup text vectorization with custom variables\n",
        "max_vocab_length = 10000\n",
        "max_length = 15\n",
        "\n",
        "text_vectorizer = TextVectorization(max_tokens=max_vocab_length,\n",
        "                                    output_mode=\"int\",\n",
        "                                    output_sequence_length=max_length)"
      ],
      "metadata": {
        "id": "I8GB90GXhXJU"
      },
      "execution_count": 17,
      "outputs": []
    },
    {
      "cell_type": "code",
      "source": [
        "# Fit the text vectoizer to the training text\n",
        "text_vectorizer.adapt(train_sentences)"
      ],
      "metadata": {
        "id": "q01MYV-Jhom0"
      },
      "execution_count": 18,
      "outputs": []
    },
    {
      "cell_type": "code",
      "source": [
        "# Create sample senetnce and tokenize it\n",
        "sample_sentence = \"There's a flood in my street!\"\n",
        "text_vectorizer([sample_sentence])"
      ],
      "metadata": {
        "colab": {
          "base_uri": "https://localhost:8080/"
        },
        "id": "08Bkq3aEhxfc",
        "outputId": "1b654c0f-2115-46ef-f180-4b258f02f51a"
      },
      "execution_count": 19,
      "outputs": [
        {
          "output_type": "execute_result",
          "data": {
            "text/plain": [
              "<tf.Tensor: shape=(1, 15), dtype=int64, numpy=\n",
              "array([[264,   3, 232,   4,  13, 698,   0,   0,   0,   0,   0,   0,   0,\n",
              "          0,   0]])>"
            ]
          },
          "metadata": {},
          "execution_count": 19
        }
      ]
    },
    {
      "cell_type": "code",
      "source": [
        "# Choose a random senetnce from the training daastet and tokenize it\n",
        "random_sentence = random.choice(train_sentences)\n",
        "print(f\"Original text:\\n{random_sentence}\\\n",
        "      \\n\\nVectorized version:\")\n",
        "text_vectorizer([random_sentence])\n"
      ],
      "metadata": {
        "colab": {
          "base_uri": "https://localhost:8080/"
        },
        "id": "3ZBuWhLqh9cF",
        "outputId": "363ba71f-f0be-4967-81f8-33491276bfc2"
      },
      "execution_count": 20,
      "outputs": [
        {
          "output_type": "stream",
          "name": "stdout",
          "text": [
            "Original text:\n",
            "Cyclist who collided with runner on Roanoke greenway wins $300000 civil verdict - Roanoke Times: Cyclist who c... http://t.co/E2WfGp8JHk      \n",
            "\n",
            "Vectorized version:\n"
          ]
        },
        {
          "output_type": "execute_result",
          "data": {
            "text/plain": [
              "<tf.Tensor: shape=(1, 15), dtype=int64, numpy=\n",
              "array([[3074,   65,  321,   14, 3453,   11, 3462, 5537, 1919, 4180, 2522,\n",
              "        3281, 3462,  252, 3074]])>"
            ]
          },
          "metadata": {},
          "execution_count": 20
        }
      ]
    },
    {
      "cell_type": "code",
      "source": [
        "# Get the unique words in the vocabulary\n",
        "words_in_vocab = text_vectorizer.get_vocabulary()\n",
        "top_5_words = words_in_vocab[:5]#most common tokens\n",
        "bottom_5_words = words_in_vocab[-5:] #Least Common Tokens\n",
        "print(f\"Number of words in vocab: {len(words_in_vocab)}\")\n",
        "print(f\"Top 5 most common words: {top_5_words}\")\n",
        "print(f\"Bottom 5 least common words: {bottom_5_words}\")\n",
        "print(words_in_vocab)"
      ],
      "metadata": {
        "id": "SiyHTx0BigDl",
        "colab": {
          "base_uri": "https://localhost:8080/"
        },
        "outputId": "cde821db-6a52-4e4e-aa49-c708053ed033"
      },
      "execution_count": 21,
      "outputs": [
        {
          "output_type": "stream",
          "name": "stdout",
          "text": [
            "Number of words in vocab: 10000\n",
            "Top 5 most common words: ['', '[UNK]', np.str_('the'), np.str_('a'), np.str_('in')]\n",
            "Bottom 5 least common words: [np.str_('pages'), np.str_('paeds'), np.str_('pads'), np.str_('padres'), np.str_('paddytomlinson1')]\n",
            "['', '[UNK]', np.str_('the'), np.str_('a'), np.str_('in'), np.str_('to'), np.str_('of'), np.str_('and'), np.str_('i'), np.str_('is'), np.str_('for'), np.str_('on'), np.str_('you'), np.str_('my'), np.str_('with'), np.str_('it'), np.str_('that'), np.str_('at'), np.str_('by'), np.str_('this'), np.str_('from'), np.str_('be'), np.str_('are'), np.str_('was'), np.str_('have'), np.str_('like'), np.str_('as'), np.str_('up'), np.str_('so'), np.str_('just'), np.str_('but'), np.str_('me'), np.str_('im'), np.str_('your'), np.str_('not'), np.str_('amp'), np.str_('out'), np.str_('its'), np.str_('will'), np.str_('an'), np.str_('no'), np.str_('has'), np.str_('fire'), np.str_('after'), np.str_('all'), np.str_('when'), np.str_('we'), np.str_('if'), np.str_('now'), np.str_('via'), np.str_('new'), np.str_('more'), np.str_('get'), np.str_('or'), np.str_('about'), np.str_('what'), np.str_('he'), np.str_('people'), np.str_('news'), np.str_('been'), np.str_('over'), np.str_('one'), np.str_('how'), np.str_('dont'), np.str_('they'), np.str_('who'), np.str_('into'), np.str_('were'), np.str_('do'), np.str_('us'), np.str_('2'), np.str_('can'), np.str_('video'), np.str_('emergency'), np.str_('there'), np.str_('disaster'), np.str_('than'), np.str_('police'), np.str_('would'), np.str_('his'), np.str_('still'), np.str_('her'), np.str_('some'), np.str_('body'), np.str_('storm'), np.str_('crash'), np.str_('burning'), np.str_('suicide'), np.str_('back'), np.str_('man'), np.str_('california'), np.str_('why'), np.str_('time'), np.str_('them'), np.str_('had'), np.str_('buildings'), np.str_('rt'), np.str_('first'), np.str_('cant'), np.str_('see'), np.str_('got'), np.str_('day'), np.str_('off'), np.str_('our'), np.str_('going'), np.str_('nuclear'), np.str_('know'), np.str_('world'), np.str_('bomb'), np.str_('fires'), np.str_('love'), np.str_('killed'), np.str_('go'), np.str_('attack'), np.str_('youtube'), np.str_('dead'), np.str_('two'), np.str_('families'), np.str_('3'), np.str_('train'), np.str_('full'), np.str_('being'), np.str_('war'), np.str_('many'), np.str_('today'), np.str_('think'), np.str_('only'), np.str_('car'), np.str_('accident'), np.str_('life'), np.str_('hiroshima'), np.str_('their'), np.str_('say'), np.str_('may'), np.str_('down'), np.str_('watch'), np.str_('good'), np.str_('could'), np.str_('want'), np.str_('last'), np.str_('here'), np.str_('years'), np.str_('u'), np.str_('then'), np.str_('make'), np.str_('did'), np.str_('wildfire'), np.str_('way'), np.str_('help'), np.str_('best'), np.str_('too'), np.str_('even'), np.str_('because'), np.str_('home'), np.str_('death'), np.str_('collapse'), np.str_('bombing'), np.str_('mass'), np.str_('him'), np.str_('black'), np.str_('am'), np.str_('those'), np.str_('need'), np.str_('fatal'), np.str_('army'), np.str_('another'), np.str_('work'), np.str_('take'), np.str_('should'), np.str_('really'), np.str_('please'), np.str_('mh370'), np.str_('youre'), np.str_('look'), np.str_('lol'), np.str_('hot'), np.str_('pm'), np.str_('legionnaires'), np.str_('4'), np.str_('right'), np.str_('5'), np.str_('let'), np.str_('city'), np.str_('year'), np.str_('wreck'), np.str_('school'), np.str_('northern'), np.str_('much'), np.str_('forest'), np.str_('bomber'), np.str_('water'), np.str_('she'), np.str_('never'), np.str_('read'), np.str_('latest'), np.str_('homes'), np.str_('great'), np.str_('every'), np.str_('1'), np.str_('live'), np.str_('god'), np.str_('fear'), np.str_('any'), np.str_('\\x89Û'), np.str_('under'), np.str_('said'), np.str_('old'), np.str_('floods'), np.str_('2015'), np.str_('getting'), np.str_('atomic'), np.str_('while'), np.str_('top'), np.str_('obama'), np.str_('feel'), np.str_('thats'), np.str_('since'), np.str_('near'), np.str_('flames'), np.str_('ever'), np.str_('come'), np.str_('where'), np.str_('these'), np.str_('military'), np.str_('japan'), np.str_('found'), np.str_('content'), np.str_('ass'), np.str_('without'), np.str_('weather'), np.str_('most'), np.str_('flooding'), np.str_('flood'), np.str_('damage'), np.str_('which'), np.str_('shit'), np.str_('s'), np.str_('hope'), np.str_('everyone'), np.str_('before'), np.str_('stop'), np.str_('plan'), np.str_('malaysia'), np.str_('injured'), np.str_('hit'), np.str_('evacuation'), np.str_('during'), np.str_('debris'), np.str_('cross'), np.str_('coming'), np.str_('wild'), np.str_('well'), np.str_('times'), np.str_('sinking'), np.str_('oil'), np.str_('fucking'), np.str_('check'), np.str_('cause'), np.str_('weapons'), np.str_('truck'), np.str_('food'), np.str_('bloody'), np.str_('always'), np.str_('weapon'), np.str_('theres'), np.str_('state'), np.str_('little'), np.str_('injuries'), np.str_('free'), np.str_('wounded'), np.str_('summer'), np.str_('smoke'), np.str_('severe'), np.str_('reddit'), np.str_('next'), np.str_('movie'), np.str_('ive'), np.str_('hes'), np.str_('fall'), np.str_('evacuate'), np.str_('confirmed'), np.str_('bad'), np.str_('again'), np.str_('thunderstorm'), np.str_('set'), np.str_('night'), np.str_('natural'), np.str_('looks'), np.str_('heat'), np.str_('face'), np.str_('earthquake'), np.str_('boy'), np.str_('whole'), np.str_('until'), np.str_('thunder'), np.str_('through'), np.str_('says'), np.str_('panic'), np.str_('outbreak'), np.str_('made'), np.str_('lightning'), np.str_('fatalities'), np.str_('family'), np.str_('explosion'), np.str_('end'), np.str_('destroy'), np.str_('derailment'), np.str_('air'), np.str_('w'), np.str_('terrorist'), np.str_('survive'), np.str_('screaming'), np.str_('saudi'), np.str_('refugees'), np.str_('rain'), np.str_('murder'), np.str_('loud'), np.str_('liked'), np.str_('house'), np.str_('gonna'), np.str_('failure'), np.str_('collided'), np.str_('bag'), np.str_('attacked'), np.str_('ambulance'), np.str_('70'), np.str_('wind'), np.str_('services'), np.str_('save'), np.str_('report'), np.str_('migrants'), np.str_('head'), np.str_('explode'), np.str_('charged'), np.str_('change'), np.str_('big'), np.str_('also'), np.str_('wrecked'), np.str_('warning'), np.str_('update'), np.str_('run'), np.str_('rescuers'), np.str_('released'), np.str_('photo'), np.str_('massacre'), np.str_('injury'), np.str_('hurricane'), np.str_('high'), np.str_('hail'), np.str_('fuck'), np.str_('does'), np.str_('destroyed'), np.str_('bus'), np.str_('blood'), np.str_('40'), np.str_('\\x89ÛÒ'), np.str_('wreckage'), np.str_('violent'), np.str_('twister'), np.str_('trauma'), np.str_('tragedy'), np.str_('terrorism'), np.str_('survivors'), np.str_('survived'), np.str_('sinkhole'), np.str_('sandstorm'), np.str_('road'), np.str_('rioting'), np.str_('red'), np.str_('real'), np.str_('put'), np.str_('post'), np.str_('national'), np.str_('missing'), np.str_('landslide'), np.str_('keep'), np.str_('girl'), np.str_('drought'), np.str_('curfew'), np.str_('breaking'), np.str_('bags'), np.str_('white'), np.str_('twitter'), np.str_('tonight'), np.str_('structural'), np.str_('spill'), np.str_('service'), np.str_('screamed'), np.str_('rescued'), np.str_('rescue'), np.str_('phone'), np.str_('ok'), np.str_('oh'), np.str_('mosque'), np.str_('lives'), np.str_('horrible'), np.str_('harm'), np.str_('game'), np.str_('dust'), np.str_('destruction'), np.str_('deluge'), np.str_('deaths'), np.str_('crashed'), np.str_('cliff'), np.str_('catastrophe'), np.str_('boat'), np.str_('away'), np.str_('august'), np.str_('area'), np.str_('apocalypse'), np.str_('woman'), np.str_('whirlwind'), np.str_('traumatised'), np.str_('stock'), np.str_('saw'), np.str_('ruin'), np.str_('riot'), np.str_('quarantine'), np.str_('kills'), np.str_('island'), np.str_('investigators'), np.str_('ill'), np.str_('hostages'), np.str_('hazard'), np.str_('danger'), np.str_('call'), np.str_('15'), np.str_('women'), np.str_('windstorm'), np.str_('things'), np.str_('suspect'), np.str_('show'), np.str_('reunion'), np.str_('quarantined'), np.str_('lava'), np.str_('heart'), np.str_('engulfed'), np.str_('detonate'), np.str_('crush'), np.str_('collapsed'), np.str_('came'), np.str_('better'), np.str_('battle'), np.str_('armageddon'), np.str_('airplane'), np.str_('against'), np.str_('affected'), np.str_('use'), np.str_('trapped'), np.str_('thank'), np.str_('sunk'), np.str_('story'), np.str_('send'), np.str_('part'), np.str_('other'), np.str_('must'), np.str_('mudslide'), np.str_('market'), np.str_('iran'), np.str_('famine'), np.str_('exploded'), np.str_('electrocuted'), np.str_('ebay'), np.str_('displaced'), np.str_('derailed'), np.str_('derail'), np.str_('burned'), np.str_('bombed'), np.str_('blown'), np.str_('baby'), np.str_('around'), np.str_('zone'), np.str_('wave'), np.str_('wanna'), np.str_('sure'), np.str_('someone'), np.str_('screams'), np.str_('razed'), np.str_('power'), np.str_('obliterated'), np.str_('long'), np.str_('land'), np.str_('hundreds'), np.str_('heard'), np.str_('group'), np.str_('flattened'), np.str_('drown'), np.str_('doing'), np.str_('care'), np.str_('bridge'), np.str_('bagging'), np.str_('9'), np.str_('went'), np.str_('used'), np.str_('typhoon'), np.str_('trouble'), np.str_('tornado'), np.str_('thought'), np.str_('thing'), np.str_('river'), np.str_('responders'), np.str_('past'), np.str_('pandemonium'), np.str_('officials'), np.str_('meltdown'), np.str_('lot'), np.str_('least'), np.str_('inundated'), np.str_('id'), np.str_('hostage'), np.str_('hijacking'), np.str_('hazardous'), np.str_('goes'), np.str_('drowning'), np.str_('didnt'), np.str_('devastation'), np.str_('demolish'), np.str_('collide'), np.str_('casualties'), np.str_('calgary'), np.str_('bang'), np.str_('anniversary'), np.str_('yet'), np.str_('wounds'), np.str_('volcano'), np.str_('tsunami'), np.str_('sue'), np.str_('st'), np.str_('song'), np.str_('something'), np.str_('shoulder'), np.str_('security'), np.str_('prebreak'), np.str_('possible'), np.str_('pkk'), np.str_('panicking'), np.str_('obliteration'), np.str_('obliterate'), np.str_('murderer'), np.str_('minute'), np.str_('light'), np.str_('lets'), np.str_('kill'), np.str_('isis'), np.str_('india'), np.str_('hijacker'), np.str_('hellfire'), np.str_('government'), np.str_('few'), np.str_('evacuated'), np.str_('due'), np.str_('detonated'), np.str_('desolation'), np.str_('crushed'), np.str_('chemical'), np.str_('blew'), np.str_('blazing'), np.str_('blast'), np.str_('annihilated'), np.str_('airport'), np.str_('6'), np.str_('week'), np.str_('upheaval'), np.str_('trying'), np.str_('three'), np.str_('thanks'), np.str_('sound'), np.str_('soon'), np.str_('sirens'), np.str_('rainstorm'), np.str_('plane'), np.str_('music'), np.str_('making'), np.str_('kids'), np.str_('issues'), np.str_('half'), np.str_('guys'), np.str_('fedex'), np.str_('done'), np.str_('died'), np.str_('detonation'), np.str_('days'), np.str_('cyclone'), np.str_('county'), np.str_('collision'), np.str_('caused'), np.str_('catastrophic'), np.str_('bleeding'), np.str_('beautiful'), np.str_('8'), np.str_('words'), np.str_('very'), np.str_('traffic'), np.str_('south'), np.str_('remember'), np.str_('policy'), np.str_('place'), np.str_('nothing'), np.str_('north'), np.str_('mp'), np.str_('longer'), np.str_('left'), np.str_('israeli'), np.str_('hell'), np.str_('fun'), np.str_('drowned'), np.str_('demolished'), np.str_('cool'), np.str_('both'), np.str_('bioterror'), np.str_('believe'), np.str_('avalanche'), np.str_('arson'), np.str_('turkey'), np.str_('snowstorm'), np.str_('site'), np.str_('shot'), np.str_('shooting'), np.str_('pic'), np.str_('nowplaying'), np.str_('media'), np.str_('islam'), np.str_('inside'), np.str_('hijack'), np.str_('helicopter'), np.str_('fight'), np.str_('fatality'), np.str_('fan'), np.str_('electrocute'), np.str_('doesnt'), np.str_('building'), np.str_('brown'), np.str_('bc'), np.str_('actually'), np.str_('16yr'), np.str_('yes'), np.str_('watching'), np.str_('wait'), np.str_('ur'), np.str_('tell'), np.str_('swallowed'), np.str_('seismic'), np.str_('second'), np.str_('rubble'), np.str_('re\\x89Û'), np.str_('plans'), np.str_('men'), np.str_('memories'), np.str_('line'), np.str_('la'), np.str_('horror'), np.str_('health'), np.str_('having'), np.str_('find'), np.str_('eyewitness'), np.str_('deluged'), np.str_('children'), np.str_('bush'), np.str_('anything'), np.str_('already'), np.str_('almost'), np.str_('aircraft'), np.str_('yourself'), np.str_('yeah'), np.str_('whats'), np.str_('tomorrow'), np.str_('such'), np.str_('start'), np.str_('side'), np.str_('searching'), np.str_('saved'), np.str_('reactor'), np.str_('probably'), np.str_('play'), np.str_('person'), np.str_('peace'), np.str_('outside'), np.str_('officer'), np.str_('nearby'), np.str_('n'), np.str_('maybe'), np.str_('lost'), np.str_('literally'), np.str_('hours'), np.str_('hear'), np.str_('far'), np.str_('die'), np.str_('demolition'), np.str_('data'), np.str_('crews'), np.str_('conclusively'), np.str_('business'), np.str_('american'), np.str_('20'), np.str_('\\x89ÛÓ'), np.str_('west'), np.str_('waves'), np.str_('team'), np.str_('street'), np.str_('stay'), np.str_('soudelor'), np.str_('reuters'), np.str_('manslaughter'), np.str_('leather'), np.str_('job'), np.str_('history'), np.str_('hey'), np.str_('feeling'), np.str_('eyes'), np.str_('everything'), np.str_('declares'), np.str_('deal'), np.str_('casualty'), np.str_('bodies'), np.str_('amid'), np.str_('ablaze'), np.str_('7'), np.str_('50'), np.str_('30'), np.str_('12'), np.str_('youth'), np.str_('wont'), np.str_('wake'), np.str_('theyre'), np.str_('support'), np.str_('stretcher'), np.str_('same'), np.str_('rise'), np.str_('picking'), np.str_('photos'), np.str_('own'), np.str_('others'), np.str_('order'), np.str_('omg'), np.str_('okay'), np.str_('name'), np.str_('myself'), np.str_('money'), np.str_('makes'), np.str_('leave'), np.str_('lab'), np.str_('gt'), np.str_('gets'), np.str_('flag'), np.str_('desolate'), np.str_('crisis'), np.str_('center'), np.str_('book'), np.str_('blight'), np.str_('blaze'), np.str_('ago'), np.str_('abc'), np.str_('11yearold'), np.str_('womens'), np.str_('typhoondevastated'), np.str_('tv'), np.str_('trench'), np.str_('trains'), np.str_('texas'), np.str_('space'), np.str_('siren'), np.str_('shes'), np.str_('self'), np.str_('saipan'), np.str_('reason'), np.str_('rd'), np.str_('pretty'), np.str_('pick'), np.str_('offensive'), np.str_('move'), np.str_('meek'), np.str_('major'), np.str_('m'), np.str_('low'), np.str_('lord'), np.str_('huge'), np.str_('hat'), np.str_('flash'), np.str_('feared'), np.str_('fast'), np.str_('effect'), np.str_('course'), np.str_('country'), np.str_('control'), np.str_('class'), np.str_('child'), np.str_('chance'), np.str_('caught'), np.str_('called'), np.str_('bioterrorism'), np.str_('bestnaijamade'), np.str_('become'), np.str_('bar'), np.str_('banned'), np.str_('ball'), np.str_('aug'), np.str_('annihilation'), np.str_('wrong'), np.str_('win'), np.str_('usa'), np.str_('united'), np.str_('town'), np.str_('totally'), np.str_('toddler'), np.str_('though'), np.str_('temple'), np.str_('taken'), np.str_('stand'), np.str_('spot'), np.str_('signs'), np.str_('ship'), np.str_('pakistan'), np.str_('online'), np.str_('level'), np.str_('ladies'), np.str_('jobs'), np.str_('isnt'), np.str_('happy'), np.str_('hailstorm'), np.str_('friends'), np.str_('disea'), np.str_('damn'), np.str_('couple'), np.str_('case'), np.str_('blue'), np.str_('bigger'), np.str_('america'), np.str_('across'), np.str_('10'), np.str_('yours'), np.str_('village'), np.str_('try'), np.str_('transport'), np.str_('talk'), np.str_('seen'), np.str_('russian'), np.str_('radio'), np.str_('projected'), np.str_('once'), np.str_('official'), np.str_('needs'), np.str_('nearly'), np.str_('mount'), np.str_('might'), np.str_('mayhem'), np.str_('instead'), np.str_('hollywood'), np.str_('haha'), np.str_('guy'), np.str_('gun'), np.str_('green'), np.str_('front'), np.str_('finally'), np.str_('favorite'), np.str_('experts'), np.str_('entire'), np.str_('east'), np.str_('daily'), np.str_('crazy'), np.str_('computers'), np.str_('coaches'), np.str_('christian'), np.str_('china'), np.str_('blizzard'), np.str_('anyone'), np.str_('aint'), np.str_('action'), np.str_('25'), np.str_('virgin'), np.str_('vehicle'), np.str_('truth'), np.str_('trust'), np.str_('takes'), np.str_('t'), np.str_('star'), np.str_('sorry'), np.str_('running'), np.str_('refugio'), np.str_('reddits'), np.str_('poor'), np.str_('pain'), np.str_('mom'), np.str_('miners'), np.str_('marks'), np.str_('looking'), np.str_('knock'), np.str_('issued'), np.str_('insurance'), np.str_('ignition'), np.str_('houses'), np.str_('heavy'), np.str_('hate'), np.str_('hard'), np.str_('happened'), np.str_('global'), np.str_('giant'), np.str_('gbbo'), np.str_('flight'), np.str_('eye'), np.str_('emmerdale'), np.str_('driver'), np.str_('devastated'), np.str_('d'), np.str_('costlier'), np.str_('cnn'), np.str_('cars'), np.str_('camp'), np.str_('beach'), np.str_('arsonist'), np.str_('angry'), np.str_('alone'), np.str_('added'), np.str_('05'), np.str_('york'), np.str_('wonder'), np.str_('uk'), np.str_('turn'), np.str_('taking'), np.str_('subreddits'), np.str_('sounds'), np.str_('scared'), np.str_('russia'), np.str_('rly'), np.str_('reports'), np.str_('ready'), np.str_('quiz'), np.str_('public'), np.str_('property'), np.str_('pradesh'), np.str_('ppl'), np.str_('playing'), np.str_('pay'), np.str_('parole'), np.str_('pamela'), np.str_('pakistani'), np.str_('outrage'), np.str_('niggas'), np.str_('nagasaki'), np.str_('myanmar'), np.str_('muslims'), np.str_('mop'), np.str_('madhya'), np.str_('mad'), np.str_('lmao'), np.str_('learn'), np.str_('large'), np.str_('govt'), np.str_('give'), np.str_('gems'), np.str_('gave'), np.str_('funtenna'), np.str_('fukushima'), np.str_('former'), np.str_('film'), np.str_('earth'), np.str_('drive'), np.str_('downtown'), np.str_('dog'), np.str_('comes'), np.str_('closed'), np.str_('cake'), np.str_('british'), np.str_('bring'), np.str_('bbc'), np.str_('b'), np.str_('appears'), np.str_('aftershock'), np.str_('13'), np.str_('11'), np.str_('young'), np.str_('wow'), np.str_('worst'), np.str_('waving'), np.str_('washington'), np.str_('wanted'), np.str_('vs'), np.str_('view'), np.str_('upon'), np.str_('tweet'), np.str_('tree'), np.str_('tote'), np.str_('thousands'), np.str_('thinking'), np.str_('theater'), np.str_('soul'), np.str_('sky'), np.str_('sign'), np.str_('shows'), np.str_('shift'), np.str_('seeing'), np.str_('sea'), np.str_('scene'), np.str_('safety'), np.str_('rules'), np.str_('rock'), np.str_('reported'), np.str_('r'), np.str_('pray'), np.str_('playlist'), np.str_('patience'), np.str_('passengers'), np.str_('park'), np.str_('nws'), np.str_('nigerian'), np.str_('morning'), np.str_('moment'), np.str_('mode'), np.str_('listen'), np.str_('likely'), np.str_('libya'), np.str_('led'), np.str_('israel'), np.str_('human'), np.str_('hiring'), np.str_('handbag'), np.str_('hand'), np.str_('gop'), np.str_('geller'), np.str_('gas'), np.str_('galactic'), np.str_('friend'), np.str_('france'), np.str_('following'), np.str_('follow'), np.str_('fashion'), np.str_('enough'), np.str_('else'), np.str_('driving'), np.str_('drake'), np.str_('don\\x89Ûªt'), np.str_('disease'), np.str_('declaration'), np.str_('cut'), np.str_('colorado'), np.str_('chinas'), np.str_('chile'), np.str_('centre'), np.str_('businesses'), np.str_('biggest'), np.str_('behind'), np.str_('bed'), np.str_('bayelsa'), np.str_('awesome'), np.str_('arrested'), np.str_('apollo'), np.str_('ancient'), np.str_('70th'), np.str_('100'), np.str_('x'), np.str_('working'), np.str_('wednesday'), np.str_('wasnt'), np.str_('unconfirmed'), np.str_('twelve'), np.str_('turned'), np.str_('tried'), np.str_('thursday'), np.str_('terror'), np.str_('super'), np.str_('sex'), np.str_('secret'), np.str_('sad'), np.str_('risk'), np.str_('recount'), np.str_('problem'), np.str_('potus'), np.str_('planned'), np.str_('parents'), np.str_('occurred'), np.str_('number'), np.str_('neighbours'), np.str_('mph'), np.str_('militants'), np.str_('middle'), np.str_('link'), np.str_('landing'), np.str_('lamp'), np.str_('info'), np.str_('idea'), np.str_('holding'), np.str_('governor'), np.str_('glad'), np.str_('germs'), np.str_('firefighters'), np.str_('escape'), np.str_('ebola'), np.str_('early'), np.str_('dude'), np.str_('deep'), np.str_('date'), np.str_('cree'), np.str_('claims'), np.str_('cdt'), np.str_('break'), np.str_('ave'), np.str_('art'), np.str_('anthrax'), np.str_('60'), np.str_('16'), np.str_('12000'), np.str_('worse'), np.str_('worlds'), np.str_('western'), np.str_('wants'), np.str_('wall'), np.str_('walk'), np.str_('using'), np.str_('true'), np.str_('till'), np.str_('started'), np.str_('spring'), np.str_('small'), np.str_('silver'), np.str_('serious'), np.str_('provoke'), np.str_('played'), np.str_('party'), np.str_('nice'), np.str_('mountain'), np.str_('months'), np.str_('mod'), np.str_('miss'), np.str_('mishaps'), np.str_('metal'), np.str_('med'), np.str_('lies'), np.str_('lake'), np.str_('lady'), np.str_('japanese'), np.str_('involving'), np.str_('investigating'), np.str_('internet'), np.str_('hour'), np.str_('helping'), np.str_('havent'), np.str_('gtgt'), np.str_('funny'), np.str_('force'), np.str_('financial'), np.str_('faux'), np.str_('falling'), np.str_('expected'), np.str_('download'), np.str_('direction'), np.str_('department'), np.str_('denver'), np.str_('delivers'), np.str_('crematoria'), np.str_('coast'), np.str_('climate'), np.str_('ca'), np.str_('buy'), np.str_('bombs'), np.str_('album'), np.str_('alarm'), np.str_('ahead'), np.str_('account'), np.str_('aba'), np.str_('\\x89ÛÏwhen'), np.str_('youll'), np.str_('wish'), np.str_('wedding'), np.str_('victims'), np.str_('udhampur'), np.str_('turkish'), np.str_('travel'), np.str_('took'), np.str_('told'), np.str_('together'), np.str_('todays'), np.str_('threat'), np.str_('sun'), np.str_('stories'), np.str_('sick'), np.str_('shots'), np.str_('share'), np.str_('series'), np.str_('sense'), np.str_('season'), np.str_('saying'), np.str_('salt'), np.str_('room'), np.str_('record'), np.str_('purse'), np.str_('prepare'), np.str_('plunging'), np.str_('philippines'), np.str_('pass'), np.str_('p'), np.str_('offroad'), np.str_('nigga'), np.str_('members'), np.str_('means'), np.str_('louis'), np.str_('london'), np.str_('living'), np.str_('linked'), np.str_('king'), np.str_('join'), np.str_('international'), np.str_('information'), np.str_('horse'), np.str_('hasnt'), np.str_('happening'), np.str_('guide'), np.str_('guess'), np.str_('ground'), np.str_('future'), np.str_('friday'), np.str_('four'), np.str_('feat'), np.str_('fact'), np.str_('expect'), np.str_('etc'), np.str_('door'), np.str_('different'), np.str_('dies'), np.str_('de'), np.str_('company'), np.str_('comment'), np.str_('causes'), np.str_('career'), np.str_('cameroon'), np.str_('begin'), np.str_('australia'), np.str_('arent'), np.str_('answer'), np.str_('along'), np.str_('allows'), np.str_('alabama'), np.str_('airlines'), np.str_('act'), np.str_('600'), np.str_('2014'), np.str_('17'), np.str_('wtf'), np.str_('worry'), np.str_('wife'), np.str_('weekend'), np.str_('walking'), np.str_('victim'), np.str_('v'), np.str_('utc20150805'), np.str_('trump'), np.str_('tho'), np.str_('text'), np.str_('test'), np.str_('teen'), np.str_('taiwan'), np.str_('tablet'), np.str_('syrian'), np.str_('strike'), np.str_('straight'), np.str_('states'), np.str_('short'), np.str_('ships'), np.str_('shape'), np.str_('setting'), np.str_('sensorsenso'), np.str_('search'), np.str_('rocky'), np.str_('research'), np.str_('reading'), np.str_('rather'), np.str_('rate'), np.str_('press'), np.str_('piece'), np.str_('phoenix'), np.str_('orders'), np.str_('ones'), np.str_('nyc'), np.str_('minutes'), np.str_('million'), np.str_('michael'), np.str_('mean'), np.str_('map'), np.str_('lucky'), np.str_('killing'), np.str_('jonathan'), np.str_('islamic'), np.str_('internally'), np.str_('interesting'), np.str_('indian'), np.str_('hero'), np.str_('happens'), np.str_('happen'), np.str_('hair'), np.str_('giving'), np.str_('girls'), np.str_('general'), np.str_('freak'), np.str_('fighting'), np.str_('felt'), np.str_('feels'), np.str_('fat'), np.str_('fans'), np.str_('episode'), np.str_('enugu'), np.str_('effects'), np.str_('each'), np.str_('e'), np.str_('drunk'), np.str_('double'), np.str_('dogs'), np.str_('destroys'), np.str_('desires'), np.str_('dc'), np.str_('dance'), np.str_('dan'), np.str_('cover'), np.str_('court'), np.str_('complete'), np.str_('cold'), np.str_('close'), np.str_('changes'), np.str_('carrying'), np.str_('captures'), np.str_('cable'), np.str_('buses'), np.str_('brooklyn'), np.str_('board'), np.str_('blocked'), np.str_('bit'), np.str_('between'), np.str_('ban'), np.str_('ashes'), np.str_('arianagrande'), np.str_('apc'), np.str_('animal'), np.str_('amazon'), np.str_('alive'), np.str_('agree'), np.str_('africa'), np.str_('absolutely'), np.str_('2nd'), np.str_('24'), np.str_('2013'), np.str_('1st'), np.str_('19'), np.str_('18'), np.str_('0'), np.str_('yall'), np.str_('wrought'), np.str_('worth'), np.str_('winds'), np.str_('vote'), np.str_('version'), np.str_('upset'), np.str_('un'), np.str_('trent'), np.str_('trees'), np.str_('training'), np.str_('tracks'), np.str_('total'), np.str_('technology'), np.str_('suspected'), np.str_('strong'), np.str_('standard'), np.str_('stadium'), np.str_('specially'), np.str_('special'), np.str_('sometimes'), np.str_('soldiers'), np.str_('snow'), np.str_('smaug'), np.str_('sleeping'), np.str_('single'), np.str_('sh'), np.str_('selfimage'), np.str_('route'), np.str_('ross'), np.str_('roosevelt'), np.str_('response'), np.str_('repatriated'), np.str_('remove'), np.str_('radiation'), np.str_('queen'), np.str_('program'), np.str_('prevent'), np.str_('population'), np.str_('picture'), np.str_('petition'), np.str_('palestinian'), np.str_('office'), np.str_('nc'), np.str_('navy'), np.str_('moving'), np.str_('millions'), np.str_('metro'), np.str_('meet'), np.str_('mediterranean'), np.str_('marians'), np.str_('leaving'), np.str_('lead'), np.str_('late'), np.str_('kit'), np.str_('killer'), np.str_('image'), np.str_('hold'), np.str_('hobo'), np.str_('hello'), np.str_('handbags'), np.str_('gunman'), np.str_('grows'), np.str_('gotta'), np.str_('gone'), np.str_('gold'), np.str_('games'), np.str_('fully'), np.str_('french'), np.str_('foxnews'), np.str_('feet'), np.str_('express'), np.str_('examining'), np.str_('event'), np.str_('evening'), np.str_('either'), np.str_('dr'), np.str_('dangerous'), np.str_('dad'), np.str_('currently'), np.str_('cranes'), np.str_('cops'), np.str_('colour'), np.str_('chicago'), np.str_('central'), np.str_('causing'), np.str_('cat'), np.str_('cannot'), np.str_('canada'), np.str_('calls'), np.str_('brother'), np.str_('broke'), np.str_('box'), np.str_('beyond'), np.str_('beat'), np.str_('based'), np.str_('avoid'), np.str_('anymore'), np.str_('afghanistan'), np.str_('able'), np.str_('abandoned'), np.str_('22'), np.str_('1980'), np.str_('14'), np.str_('06'), np.str_('yyc'), np.str_('wwii'), np.str_('word'), np.str_('won'), np.str_('woke'), np.str_('videos'), np.str_('usgs'), np.str_('usatoday'), np.str_('updates'), np.str_('tribal'), np.str_('trfc'), np.str_('totaling'), np.str_('thunderstorms'), np.str_('tension'), np.str_('tears'), np.str_('target'), np.str_('talking'), np.str_('supposed'), np.str_('sunday'), np.str_('stuff'), np.str_('students'), np.str_('struggles'), np.str_('starts'), np.str_('stage'), np.str_('squad'), np.str_('spos'), np.str_('spaceship'), np.str_('son'), np.str_('sitting'), np.str_('sismo'), np.str_('shut'), np.str_('shouldnt'), np.str_('shall'), np.str_('seeks'), np.str_('seek'), np.str_('screen'), np.str_('saving'), np.str_('san'), np.str_('runs'), np.str_('relief'), np.str_('region'), np.str_('reasons'), np.str_('re'), np.str_('question'), np.str_('president'), np.str_('point'), np.str_('pile'), np.str_('perfect'), np.str_('percent'), np.str_('pdp'), np.str_('paul'), np.str_('open'), np.str_('municipal'), np.str_('motorcyclist'), np.str_('month'), np.str_('modified'), np.str_('match'), np.str_('main'), np.str_('lots'), np.str_('lose'), np.str_('lie'), np.str_('less'), np.str_('leading'), np.str_('later'), np.str_('kinda'), np.str_('keeps'), np.str_('insurer'), np.str_('industry'), np.str_('imagine'), np.str_('ice'), np.str_('hunt'), np.str_('hospital'), np.str_('honestly'), np.str_('hilarious'), np.str_('ft'), np.str_('forever'), np.str_('forecast'), np.str_('football'), np.str_('fleets'), np.str_('five'), np.str_('fears'), np.str_('extreme'), np.str_('everywhere'), np.str_('emotional'), np.str_('drink'), np.str_('dream'), np.str_('damaged'), np.str_('da'), np.str_('cruz'), np.str_('crime'), np.str_('create'), np.str_('cook'), np.str_('confirms'), np.str_('completely'), np.str_('community'), np.str_('combo'), np.str_('coffee'), np.str_('cancer'), np.str_('c130'), np.str_('brought'), np.str_('broken'), np.str_('boys'), np.str_('books'), np.str_('block'), np.str_('began'), np.str_('bay'), np.str_('babies'), np.str_('attacks'), np.str_('ask'), np.str_('apply'), np.str_('ap'), np.str_('antioch'), np.str_('among'), np.str_('allah'), np.str_('according'), np.str_('911'), np.str_('4000'), np.str_('31'), np.str_('2011'), np.str_('yo'), np.str_('worldnews'), np.str_('wmata'), np.str_('wired'), np.str_('welcome'), np.str_('watched'), np.str_('wars'), np.str_('waiting'), np.str_('usually'), np.str_('units'), np.str_('understand'), np.str_('tropical'), np.str_('tram'), np.str_('tonto'), np.str_('tips'), np.str_('time20150806'), np.str_('tickets'), np.str_('thx'), np.str_('terrorists'), np.str_('system'), np.str_('streets'), np.str_('stream'), np.str_('stopped'), np.str_('sports'), np.str_('spent'), np.str_('sir'), np.str_('simple'), np.str_('signed'), np.str_('shower'), np.str_('shares'), np.str_('shame'), np.str_('sent'), np.str_('seems'), np.str_('secrets'), np.str_('seconds'), np.str_('seattle'), np.str_('saturday'), np.str_('satellite'), np.str_('rule'), np.str_('round'), np.str_('rip'), np.str_('ridge'), np.str_('richmond'), np.str_('review'), np.str_('return'), np.str_('repair'), np.str_('rea\\x89Û'), np.str_('quite'), np.str_('pressure'), np.str_('practice'), np.str_('potential'), np.str_('pool'), np.str_('plus'), np.str_('pilot'), np.str_('pics'), np.str_('parenthood'), np.str_('owner'), np.str_('outlook'), np.str_('original'), np.str_('opens'), np.str_('opening'), np.str_('onto'), np.str_('oklahoma'), np.str_('ocean'), np.str_('o784'), np.str_('o'), np.str_('nursing'), np.str_('nah'), np.str_('mortal'), np.str_('mix'), np.str_('mine'), np.str_('mention'), np.str_('mediterran'), np.str_('matter'), np.str_('massive'), np.str_('mary'), np.str_('lt'), np.str_('loving'), np.str_('loved'), np.str_('list'), np.str_('limited'), np.str_('lil'), np.str_('leads'), np.str_('leader'), np.str_('kombat'), np.str_('kid'), np.str_('kick'), np.str_('justinbieber'), np.str_('issue'), np.str_('irandeal'), np.str_('inner'), np.str_('incident'), np.str_('impact'), np.str_('humanity'), np.str_('hobbit'), np.str_('hits'), np.str_('himself'), np.str_('highway'), np.str_('hi'), np.str_('heres'), np.str_('hawaii'), np.str_('hands'), np.str_('guns'), np.str_('grill'), np.str_('greatest'), np.str_('gov'), np.str_('gm'), np.str_('gay'), np.str_('forget'), np.str_('firefighter'), np.str_('fine'), np.str_('final'), np.str_('false'), np.str_('facebook'), np.str_('faan'), np.str_('exploration'), np.str_('exit'), np.str_('exchanging'), np.str_('epic'), np.str_('el'), np.str_('edm'), np.str_('earlier'), np.str_('drinking'), np.str_('disco'), np.str_('directioners'), np.str_('deadly'), np.str_('david'), np.str_('dark'), np.str_('crying'), np.str_('cost'), np.str_('continue'), np.str_('concerned'), np.str_('companies'), np.str_('common'), np.str_('civilians'), np.str_('civilian'), np.str_('character'), np.str_('cases'), np.str_('careful'), np.str_('canyon'), np.str_('calling'), np.str_('burn'), np.str_('build'), np.str_('browser'), np.str_('bro'), np.str_('bringing'), np.str_('bought'), np.str_('blog'), np.str_('birthday'), np.str_('bin'), np.str_('bicyclist'), np.str_('ben'), np.str_('battlefield'), np.str_('arrived'), np.str_('ar'), np.str_('amazing'), np.str_('afternoon'), np.str_('acres'), np.str_('accidents'), np.str_('abstorm'), np.str_('90'), np.str_('500'), np.str_('26'), np.str_('you\\x89Ûªve'), np.str_('youve'), np.str_('yesterday'), np.str_('wx'), np.str_('writing'), np.str_('worked'), np.str_('within'), np.str_('wildfires'), np.str_('weird'), np.str_('ways'), np.str_('warnings'), np.str_('wa'), np.str_('vuitton'), np.str_('voice'), np.str_('visit'), np.str_('vietnam'), np.str_('unless'), np.str_('universe'), np.str_('trip'), np.str_('township'), np.str_('tongue'), np.str_('toilet'), np.str_('thomas'), np.str_('tent'), np.str_('tank'), np.str_('syria'), np.str_('survival'), np.str_('stupid'), np.str_('stone'), np.str_('steve'), np.str_('starting'), np.str_('sport'), np.str_('somalia'), np.str_('social'), np.str_('smh'), np.str_('sleep'), np.str_('situation'), np.str_('shoes'), np.str_('seven'), np.str_('sensor'), np.str_('sees'), np.str_('seat'), np.str_('science'), np.str_('sadly'), np.str_('rubber'), np.str_('roof'), np.str_('roads'), np.str_('result'), np.str_('respond'), np.str_('replace'), np.str_('remains'), np.str_('related'), np.str_('reduce'), np.str_('recovery'), np.str_('realise'), np.str_('rare'), np.str_('rail'), np.str_('quote'), np.str_('quickly'), np.str_('quick'), np.str_('pussy'), np.str_('protect'), np.str_('problems'), np.str_('price'), np.str_('preparedness'), np.str_('powerful'), np.str_('posts'), np.str_('portland'), np.str_('pop'), np.str_('political'), np.str_('points'), np.str_('player'), np.str_('photography'), np.str_('pathogens'), np.str_('officers'), np.str_('none'), np.str_('needed'), np.str_('nature'), np.str_('mumbai'), np.str_('ms'), np.str_('mr'), np.str_('moments'), np.str_('missed'), np.str_('minecraft'), np.str_('mill'), np.str_('mile'), np.str_('md'), np.str_('mayan'), np.str_('manchester'), np.str_('malaysian'), np.str_('loss'), np.str_('loose'), np.str_('listening'), np.str_('lion'), np.str_('linkury'), np.str_('lights'), np.str_('lifted'), np.str_('laden'), np.str_('knew'), np.str_('kindle'), np.str_('jeb'), np.str_('it\\x89Ûªs'), np.str_('italian'), np.str_('iraq'), np.str_('invoices'), np.str_('inundation'), np.str_('inj'), np.str_('including'), np.str_('illegal'), np.str_('i5'), np.str_('hwy'), np.str_('hwo'), np.str_('httptcoqew4c5m1xd'), np.str_('hill'), np.str_('hearing'), np.str_('headed'), np.str_('ha'), np.str_('guardian'), np.str_('gods'), np.str_('glass'), np.str_('genocide'), np.str_('gaza'), np.str_('freakiest'), np.str_('fort'), np.str_('forces'), np.str_('fog'), np.str_('fish'), np.str_('feminists'), np.str_('fell'), np.str_('fantasy'), np.str_('falls'), np.str_('f'), np.str_('experience'), np.str_('exchange'), np.str_('except'), np.str_('equipment'), np.str_('epicentre'), np.str_('ep'), np.str_('ended'), np.str_('em'), np.str_('economy'), np.str_('economic'), np.str_('dropped'), np.str_('dozens'), np.str_('disney'), np.str_('discovered'), np.str_('di'), np.str_('created'), np.str_('continues'), np.str_('conference'), np.str_('computer'), np.str_('clutch'), np.str_('church'), np.str_('choice'), np.str_('china\\x89Ûªs'), np.str_('chief'), np.str_('cheese'), np.str_('charity'), np.str_('canaanites'), np.str_('burns'), np.str_('bruh'), np.str_('broadway'), np.str_('brain'), np.str_('bout'), np.str_('bombings'), np.str_('beyhive'), np.str_('bet'), np.str_('baseball'), np.str_('bank'), np.str_('automatic'), np.str_('audio'), np.str_('attention'), np.str_('asking'), np.str_('asked'), np.str_('articles'), np.str_('areas'), np.str_('arabia'), np.str_('angel'), np.str_('al'), np.str_('ah'), np.str_('add'), np.str_('access'), np.str_('4x4'), np.str_('3g'), np.str_('1000'), np.str_('zombie'), np.str_('yrs'), np.str_('ya'), np.str_('xd'), np.str_('write'), np.str_('wouldnt'), np.str_('wins'), np.str_('wings'), np.str_('window'), np.str_('wheavenly'), np.str_('weeks'), np.str_('wed'), np.str_('waste'), np.str_('vinyl'), np.str_('vine'), np.str_('veterans'), np.str_('van'), np.str_('valley'), np.str_('utc'), np.str_('updated'), np.str_('unlocked'), np.str_('unit'), np.str_('type'), np.str_('twice'), np.str_('tweets'), np.str_('tube'), np.str_('troops'), np.str_('triggered'), np.str_('trailer'), np.str_('tour'), np.str_('tough'), np.str_('touch'), np.str_('toronto'), np.str_('tom'), np.str_('toll'), np.str_('tired'), np.str_('threatens'), np.str_('thoughts'), np.str_('theatre'), np.str_('terrible'), np.str_('ten'), np.str_('tcot'), np.str_('swallows'), np.str_('sw'), np.str_('surrounded'), np.str_('surprise'), np.str_('sunset'), np.str_('subject'), np.str_('style'), np.str_('struck'), np.str_('storms'), np.str_('store'), np.str_('stops'), np.str_('steps'), np.str_('steel'), np.str_('stealing'), np.str_('stars'), np.str_('standuser'), np.str_('sparked'), np.str_('soundcloud'), np.str_('somebody'), np.str_('society'), np.str_('snap'), np.str_('slightly'), np.str_('skin'), np.str_('size'), np.str_('sit'), np.str_('sinjar'), np.str_('sidelines'), np.str_('sicily'), np.str_('shelter'), np.str_('shadow'), np.str_('several'), np.str_('september'), np.str_('senior'), np.str_('senator'), np.str_('se'), np.str_('scary'), np.str_('satchel'), np.str_('santa'), np.str_('salem'), np.str_('sale'), np.str_('safe'), np.str_('runway'), np.str_('row'), np.str_('root'), np.str_('rocks'), np.str_('rn'), np.str_('rising'), np.str_('riots'), np.str_('residents'), np.str_('republicans'), np.str_('reminds'), np.str_('remembering'), np.str_('releases'), np.str_('release'), np.str_('relatives'), np.str_('ran'), np.str_('quran'), np.str_('questions'), np.str_('putin'), np.str_('prosecuted'), np.str_('prophetmuhammad'), np.str_('project'), np.str_('prime'), np.str_('powerlines'), np.str_('poll'), np.str_('pipe'), np.str_('pilots'), np.str_('pc'), np.str_('patient'), np.str_('passing'), np.str_('parleys'), np.str_('parker'), np.str_('page'), np.str_('operation'), np.str_('officially'), np.str_('nytimes'), np.str_('ny'), np.str_('notices'), np.str_('nine'), np.str_('nashville'), np.str_('murdered'), np.str_('mt'), np.str_('movies'), np.str_('moon'), np.str_('mood'), np.str_('monogram'), np.str_('mma'), np.str_('mission'), np.str_('minister'), np.str_('mining'), np.str_('mini'), np.str_('mind'), np.str_('mikeparractor'), np.str_('mets'), np.str_('message'), np.str_('mentions'), np.str_('meeting'), np.str_('medical'), np.str_('meatloving'), np.str_('maximum'), np.str_('max'), np.str_('markets'), np.str_('maintenance'), np.str_('madinah'), np.str_('mac'), np.str_('lt3'), np.str_('lovely'), np.str_('loop'), np.str_('local'), np.str_('library'), np.str_('levels'), np.str_('legacy'), np.str_('learning'), np.str_('laws'), np.str_('lane'), np.str_('lack'), np.str_('knows'), np.str_('knee'), np.str_('kisii'), np.str_('kidnapped'), np.str_('john'), np.str_('joe'), np.str_('jackson'), np.str_('jack'), np.str_('i\\x89Ûªm'), np.str_('itunes'), np.str_('interview'), np.str_('intensity'), np.str_('indeed'), np.str_('incredible'), np.str_('ii'), np.str_('ie'), np.str_('ideas'), np.str_('hurts'), np.str_('hunters'), np.str_('humans'), np.str_('httptcoq2eblokeve'), np.str_('httptcoencmhz6y34'), np.str_('homeless'), np.str_('heroes'), np.str_('held'), np.str_('heads'), np.str_('h'), np.str_('gunfire'), np.str_('gta'), np.str_('gotten'), np.str_('given'), np.str_('girlfriend'), np.str_('german'), np.str_('fruit'), np.str_('fr'), np.str_('foxtrot'), np.str_('forced'), np.str_('followers'), np.str_('focus'), np.str_('florida'), np.str_('floor'), np.str_('flat'), np.str_('fix'), np.str_('fired'), np.str_('female'), np.str_('feed'), np.str_('failed'), np.str_('fail'), np.str_('exp'), np.str_('executives'), np.str_('evil'), np.str_('everyday'), np.str_('estimate'), np.str_('entertainment'), np.str_('enjoy'), np.str_('england'), np.str_('enemy'), np.str_('electronic'), np.str_('edt'), np.str_('edition'), np.str_('eat'), np.str_('dying'), np.str_('dubstep'), np.str_('drone'), np.str_('drill'), np.str_('dollar'), np.str_('documents'), np.str_('dnb'), np.str_('distance'), np.str_('destiny'), np.str_('defense'), np.str_('debate'), np.str_('cuz'), np.str_('cute'), np.str_('curved'), np.str_('criminals'), np.str_('crap'), np.str_('cramer'), np.str_('couldnt'), np.str_('costs'), np.str_('cop'), np.str_('consider'), np.str_('congress'), np.str_('conditions'), np.str_('concert'), np.str_('complex'), np.str_('co'), np.str_('club'), np.str_('click'), np.str_('chinese'), np.str_('charging'), np.str_('ceo'), np.str_('carry'), np.str_('card'), np.str_('capsizes'), np.str_('can\\x89Ûªt'), np.str_('calories'), np.str_('calm'), np.str_('calif'), np.str_('c'), np.str_('by\\x89Û'), np.str_('button'), np.str_('butter'), np.str_('burst'), np.str_('budget'), np.str_('broad'), np.str_('brazil'), np.str_('boston'), np.str_('blvd'), np.str_('blk'), np.str_('blessings'), np.str_('blessed'), np.str_('blamed'), np.str_('bells'), np.str_('bear'), np.str_('awful'), np.str_('avoiding'), np.str_('authorities'), np.str_('australian'), np.str_('associated'), np.str_('arrive'), np.str_('arms'), np.str_('apparently'), np.str_('app'), np.str_('animalrescue'), np.str_('amsterdam'), np.str_('aka'), np.str_('aim'), np.str_('af'), np.str_('advisory'), np.str_('adult'), np.str_('actions'), np.str_('accidentally'), np.str_('above'), np.str_('5km'), np.str_('53inch'), np.str_('4wd'), np.str_('35'), np.str_('300w'), np.str_('1945'), np.str_('zionist'), np.str_('z10'), np.str_('youngheroesid'), np.str_('youd'), np.str_('yobe'), np.str_('yay'), np.str_('xbox'), np.str_('ww1'), np.str_('written'), np.str_('wouldve'), np.str_('worried'), np.str_('workers'), np.str_('wondering'), np.str_('wonderful'), np.str_('wo'), np.str_('williams'), np.str_('whos'), np.str_('whether'), np.str_('wet'), np.str_('weed'), np.str_('wearing'), np.str_('wealth'), np.str_('warship'), np.str_('warns'), np.str_('viralspell'), np.str_('violence'), np.str_('vehicles'), np.str_('usual'), np.str_('users'), np.str_('upper'), np.str_('unveiled'), np.str_('ultimate'), np.str_('ugh'), np.str_('twia'), np.str_('tryna'), np.str_('truly'), np.str_('treatment'), np.str_('treat'), np.str_('trapmusic'), np.str_('trap'), np.str_('traditional'), np.str_('track'), np.str_('towel'), np.str_('toward'), np.str_('tornadoes'), np.str_('title'), np.str_('thus'), np.str_('throwing'), np.str_('thriller'), np.str_('threatening'), np.str_('theyll'), np.str_('tennessee'), np.str_('tempered'), np.str_('ted'), np.str_('tech'), np.str_('teams'), np.str_('tea'), np.str_('tbt'), np.str_('tax'), np.str_('tag'), np.str_('sydney'), np.str_('swim'), np.str_('sweet'), np.str_('surprised'), np.str_('stuart'), np.str_('structures'), np.str_('structure'), np.str_('streak'), np.str_('strategy'), np.str_('strange'), np.str_('stranded'), np.str_('status'), np.str_('statement'), np.str_('staff'), np.str_('springs'), np.str_('spirit'), np.str_('spider'), np.str_('spanish'), np.str_('somehow'), np.str_('solution'), np.str_('solar'), np.str_('socialnews'), np.str_('smoking'), np.str_('sister'), np.str_('singing'), np.str_('sing'), np.str_('shop'), np.str_('shipping'), np.str_('shepherd'), np.str_('sharp'), np.str_('sexual'), np.str_('served'), np.str_('seriously'), np.str_('serial'), np.str_('sentinel'), np.str_('sarah'), np.str_('sac'), np.str_('rÌ©union'), np.str_('romance'), np.str_('roll'), np.str_('revealed'), np.str_('results'), np.str_('restore'), np.str_('rest'), np.str_('responsible'), np.str_('responds'), np.str_('respect'), np.str_('residential'), np.str_('reporting'), np.str_('reno'), np.str_('remain'), np.str_('register'), np.str_('reduced'), np.str_('rear'), np.str_('realized'), np.str_('read\\x89Û'), np.str_('ray'), np.str_('rape'), np.str_('rally'), np.str_('rains'), np.str_('quest'), np.str_('quality'), np.str_('putting'), np.str_('purple'), np.str_('pump'), np.str_('protector'), np.str_('prophet'), np.str_('profile'), np.str_('prices'), np.str_('pres'), np.str_('pov'), np.str_('port'), np.str_('politics'), np.str_('plug'), np.str_('plot'), np.str_('playoffs'), np.str_('planet'), np.str_('plains'), np.str_('plague'), np.str_('places'), np.str_('piling'), np.str_('picked'), np.str_('physical'), np.str_('philly'), np.str_('persons'), np.str_('personal'), np.str_('peanut'), np.str_('patrick'), np.str_('parts'), np.str_('paper'), np.str_('pantherattack'), np.str_('pak'), np.str_('owners'), np.str_('option'), np.str_('okwx'), np.str_('of\\x89Û'), np.str_('offer'), np.str_('numbers'), np.str_('nuke'), np.str_('normal'), np.str_('newest'), np.str_('nd'), np.str_('naved'), np.str_('nation'), np.str_('nasahurricane'), np.str_('named'), np.str_('museum'), np.str_('murderous'), np.str_('moves'), np.str_('moved'), np.str_('motor'), np.str_('mo'), np.str_('mlb'), np.str_('miles'), np.str_('migrant'), np.str_('mido'), np.str_('microlight'), np.str_('mhtw4fnet'), np.str_('mess'), np.str_('memory'), np.str_('memorial'), np.str_('maria'), np.str_('mansehra'), np.str_('manager'), np.str_('management'), np.str_('mail'), np.str_('lungs'), np.str_('luck'), np.str_('lowndes'), np.str_('lower'), np.str_('loves'), np.str_('lorries'), np.str_('looting'), np.str_('looked'), np.str_('let\\x89Ûªs'), np.str_('legal'), np.str_('law'), np.str_('laughing'), np.str_('larger'), np.str_('justice'), np.str_('july'), np.str_('judge'), np.str_('jewish'), np.str_('jet'), np.str_('jamaica'), np.str_('jam'), np.str_('jacksonville'), np.str_('itself'), np.str_('italy'), np.str_('ir'), np.str_('iphone'), np.str_('insane'), np.str_('injuryi495'), np.str_('increased'), np.str_('iii'), np.str_('igers'), np.str_('ices\\x89Û'), np.str_('icemoon'), np.str_('i77'), np.str_('hungry'), np.str_('httptcovvplfqv58p'), np.str_('httptcoksawlyux02'), np.str_('housing'), np.str_('hotel'), np.str_('hopefully'), np.str_('hip'), np.str_('hearts'), np.str_('hd'), np.str_('guillermo'), np.str_('gtgtgt'), np.str_('grow'), np.str_('grey'), np.str_('grade'), np.str_('grace'), np.str_('google'), np.str_('golf'), np.str_('goal'), np.str_('germany'), np.str_('george'), np.str_('generation'), np.str_('gang'), np.str_('gabon'), np.str_('fresh'), np.str_('freedom'), np.str_('fox'), np.str_('finnish'), np.str_('fighters'), np.str_('field'), np.str_('festival'), np.str_('fav'), np.str_('fake'), np.str_('faced'), np.str_('extremely'), np.str_('extra'), np.str_('external'), np.str_('explosionproof'), np.str_('experiments'), np.str_('exactly'), np.str_('everyones'), np.str_('estimated'), np.str_('especially'), np.str_('eruption'), np.str_('error'), np.str_('energy'), np.str_('ends'), np.str_('ems'), np.str_('elephant'), np.str_('electrical'), np.str_('effort'), np.str_('education'), np.str_('easy'), np.str_('dvd'), np.str_('duty'), np.str_('dutch'), np.str_('drug'), np.str_('drop'), np.str_('drones'), np.str_('drawn'), np.str_('dramatic'), np.str_('djicemoon'), np.str_('diving'), np.str_('disrupts'), np.str_('disneys'), np.str_('diet'), np.str_('details'), np.str_('depth'), np.str_('demand'), np.str_('degrees'), np.str_('decided'), np.str_('debt'), np.str_('deals'), np.str_('darude'), np.str_('dare'), np.str_('damages'), np.str_('cry'), np.str_('crossed'), np.str_('cream'), np.str_('covers'), np.str_('covered'), np.str_('countries'), np.str_('copilot'), np.str_('considering'), np.str_('conflict'), np.str_('confirm'), np.str_('combined'), np.str_('collisionno'), np.str_('collection'), np.str_('clip'), np.str_('clear'), np.str_('clean'), np.str_('classic'), np.str_('civil'), np.str_('cities'), np.str_('cinema'), np.str_('cia'), np.str_('christmas'), np.str_('christians'), np.str_('charge'), np.str_('characters'), np.str_('certain'), np.str_('campaign'), np.str_('built'), np.str_('buffalo'), np.str_('bride'), np.str_('brakes'), np.str_('bowl'), np.str_('boss'), np.str_('bob'), np.str_('blind'), np.str_('blackberry'), np.str_('bjp'), np.str_('bitch'), np.str_('be\\x89Û'), np.str_('below'), np.str_('beginning'), np.str_('becomes'), np.str_('became'), np.str_('beam'), np.str_('bb17'), np.str_('bat'), np.str_('bargain'), np.str_('b4'), np.str_('australias'), np.str_('asap'), np.str_('article'), np.str_('approaches'), np.str_('anyway'), np.str_('anti'), np.str_('annual'), np.str_('animals'), np.str_('anchorage'), np.str_('amongst'), np.str_('americans'), np.str_('alps'), np.str_('allow'), np.str_('aid'), np.str_('age'), np.str_('afterlife'), np.str_('afraid'), np.str_('afghan'), np.str_('advance'), np.str_('address'), np.str_('acts'), np.str_('activity'), np.str_('activated'), np.str_('abuse'), np.str_('abcnews'), np.str_('97georgia'), np.str_('731'), np.str_('3d'), np.str_('33'), np.str_('320'), np.str_('300'), np.str_('101'), np.str_('åÊ'), np.str_('\\x89Û÷politics'), np.str_('\\x89ÛÏthe'), np.str_('\\x89ÛÏa'), np.str_('zouma'), np.str_('z'), np.str_('yr'), np.str_('yazidis'), np.str_('y'), np.str_('xp'), np.str_('wy'), np.str_('writer'), np.str_('wound'), np.str_('worstsummerjob'), np.str_('wood'), np.str_('wither'), np.str_('wit'), np.str_('wireless'), np.str_('wire'), np.str_('winston'), np.str_('windows'), np.str_('wheres'), np.str_('whao'), np.str_('weve'), np.str_('werent'), np.str_('website'), np.str_('wash'), np.str_('warfighting'), np.str_('wanting'), np.str_('walmart'), np.str_('waimate'), np.str_('vulnerable'), np.str_('votejkt48id'), np.str_('vintage'), np.str_('vets'), np.str_('values'), np.str_('val'), np.str_('vacant'), np.str_('va'), np.str_('utterly'), np.str_('utter'), np.str_('uses'), np.str_('usagov'), np.str_('uribe'), np.str_('unsuckdcmetro'), np.str_('unlocking'), np.str_('university'), np.str_('union'), np.str_('understanding'), np.str_('ugly'), np.str_('uganda'), np.str_('twin'), np.str_('tutorial'), np.str_('turns'), np.str_('turbine'), np.str_('tubestrike'), np.str_('trucks'), np.str_('trolley'), np.str_('tripledigit'), np.str_('tribune'), np.str_('trial'), np.str_('transit'), np.str_('tracking'), np.str_('tools'), np.str_('tons'), np.str_('todd'), np.str_('time20150805'), np.str_('throw'), np.str_('thousand'), np.str_('theyve'), np.str_('theory'), np.str_('themselves'), np.str_('th'), np.str_('temporary300'), np.str_('telling'), np.str_('taste'), np.str_('targeting'), np.str_('tampa'), np.str_('table'), np.str_('swimming'), np.str_('swansea'), np.str_('supreme'), np.str_('summerfate'), np.str_('suffer'), np.str_('sucks'), np.str_('success'), np.str_('subs'), np.str_('sub'), np.str_('study'), np.str_('stress'), np.str_('strategicpatience'), np.str_('stir'), np.str_('stereo'), np.str_('station'), np.str_('starter'), np.str_('stands'), np.str_('stabbing'), np.str_('stab'), np.str_('sprinter'), np.str_('spend'), np.str_('speaking'), np.str_('speaker'), np.str_('sparks'), np.str_('spain'), np.str_('sp'), np.str_('southern'), np.str_('southeast'), np.str_('southampton'), np.str_('sources'), np.str_('source'), np.str_('soup'), np.str_('sophie'), np.str_('someones'), np.str_('smithsonian'), np.str_('smile'), np.str_('slow'), np.str_('slide'), np.str_('slanglucci'), np.str_('skinny'), np.str_('sixth'), np.str_('six'), np.str_('sisters'), np.str_('simulate'), np.str_('silence'), np.str_('shell'), np.str_('sets'), np.str_('senate'), np.str_('selfie'), np.str_('section'), np.str_('sean'), np.str_('scott'), np.str_('score'), np.str_('scientists'), np.str_('schools'), np.str_('scheme'), np.str_('schedule'), np.str_('sat'), np.str_('sandiego'), np.str_('sanctions'), np.str_('safer'), np.str_('sa'), np.str_('rs'), np.str_('rose'), np.str_('rolling'), np.str_('rohingya'), np.str_('rockyfire'), np.str_('rockin'), np.str_('rocket'), np.str_('robots'), np.str_('robert'), np.str_('rob'), np.str_('rises'), np.str_('ring'), np.str_('rights'), np.str_('ridiculous'), np.str_('rider'), np.str_('ride'), np.str_('richard'), np.str_('reward'), np.str_('reveals'), np.str_('responsibility'), np.str_('republican'), np.str_('reportedly'), np.str_('replacing'), np.str_('remembered'), np.str_('regular'), np.str_('refugee'), np.str_('redlight'), np.str_('recommend'), np.str_('recognize'), np.str_('recently'), np.str_('recent'), np.str_('recall'), np.str_('reap'), np.str_('realize'), np.str_('reality'), np.str_('reaching'), np.str_('reach'), np.str_('rapidly'), np.str_('raining'), np.str_('rage'), np.str_('radar'), np.str_('racist'), np.str_('race'), np.str_('pulls'), np.str_('pulled'), np.str_('ps'), np.str_('providence'), np.str_('protest'), np.str_('prompts'), np.str_('promises'), np.str_('promise'), np.str_('progress'), np.str_('produced'), np.str_('probe'), np.str_('pro'), np.str_('prison'), np.str_('prior'), np.str_('print'), np.str_('prince'), np.str_('primary'), np.str_('previously'), np.str_('prepared'), np.str_('pregnant'), np.str_('predicted'), np.str_('predict'), np.str_('precipitation'), np.str_('prabhu'), np.str_('poverty'), np.str_('posted'), np.str_('positive'), np.str_('pls'), np.str_('players'), np.str_('plate'), np.str_('planted'), np.str_('plant'), np.str_('plaguing'), np.str_('pitch'), np.str_('pipeline'), np.str_('photoshop'), np.str_('phones'), np.str_('perhaps'), np.str_('pepper'), np.str_('pbban'), np.str_('path'), np.str_('passenger'), np.str_('parking'), np.str_('palms'), np.str_('palestinians'), np.str_('palestine'), np.str_('painting'), np.str_('packs'), np.str_('pacific'), np.str_('pace'), np.str_('overnight'), np.str_('outdoor'), np.str_('otrametlife'), np.str_('oppressions'), np.str_('opposite'), np.str_('opinion'), np.str_('opened'), np.str_('oops'), np.str_('omfg'), np.str_('olympic'), np.str_('okanagan'), np.str_('often'), np.str_('offers'), np.str_('occasion'), np.str_('nw'), np.str_('nurse'), np.str_('nu'), np.str_('np'), np.str_('notice'), np.str_('nobody'), np.str_('nigeria'), np.str_('nicki'), np.str_('newyork'), np.str_('newlyweds'), np.str_('network'), np.str_('nema'), np.str_('negative'), np.str_('nb'), np.str_('nasa'), np.str_('mystery'), np.str_('muslim'), np.str_('muscle'), np.str_('multiple'), np.str_('mtvhottest'), np.str_('mourning'), np.str_('mountains'), np.str_('motorcycle'), np.str_('mother'), np.str_('morgan'), np.str_('monsoon'), np.str_('minds'), np.str_('min'), np.str_('michigan'), np.str_('michael5sos'), np.str_('miami'), np.str_('mexico'), np.str_('messenger'), np.str_('mens'), np.str_('memes'), np.str_('measurement'), np.str_('meant'), np.str_('meals'), np.str_('materials'), np.str_('maryland'), np.str_('marked'), np.str_('mark'), np.str_('mansion'), np.str_('mama'), np.str_('mall'), np.str_('majority'), np.str_('magic'), np.str_('machine'), np.str_('lunch'), np.str_('lulgzimbestpicts'), np.str_('lowly'), np.str_('losses'), np.str_('losing'), np.str_('los'), np.str_('longest'), np.str_('lonely'), np.str_('logo'), np.str_('location'), np.str_('loan'), np.str_('load'), np.str_('lmfao'), np.str_('listed'), np.str_('lip'), np.str_('lightening'), np.str_('lez'), np.str_('leveled'), np.str_('letting'), np.str_('letters'), np.str_('lethal'), np.str_('legit'), np.str_('leaves'), np.str_('league'), np.str_('leaders'), np.str_('largest'), np.str_('kyle'), np.str_('known'), np.str_('kind'), np.str_('kerricktrial'), np.str_('kept'), np.str_('kca'), np.str_('karymsky'), np.str_('jst'), np.str_('joy'), np.str_('jordan'), np.str_('jeans'), np.str_('japÌn'), np.str_('i\\x89Û'), np.str_('iranian'), np.str_('invalid'), np.str_('internal'), np.str_('intern'), np.str_('interested'), np.str_('interest'), np.str_('insurers'), np.str_('instagram'), np.str_('innocent'), np.str_('include'), np.str_('impossible'), np.str_('images'), np.str_('ig'), np.str_('idp'), np.str_('idk'), np.str_('idfire'), np.str_('hurt'), np.str_('huh'), np.str_('hughes'), np.str_('huffman'), np.str_('httptcozujwuiomb3'), np.str_('httptcowvj39a3bgm'), np.str_('httptcoviwxy1xdyk'), np.str_('httptcothoyhrhkfj'), np.str_('httptcolvlh3w3awo'), np.str_('httpstcomoll5vd8yd'), np.str_('hosting'), np.str_('host'), np.str_('horses'), np.str_('horrific'), np.str_('hop'), np.str_('honors'), np.str_('holy'), np.str_('holland'), np.str_('holiday'), np.str_('hole'), np.str_('hitting'), np.str_('hills'), np.str_('highest'), np.str_('hieroglyphics'), np.str_('here\\x89Ûªs'), np.str_('heights'), np.str_('heaven'), np.str_('headphones'), np.str_('heading'), np.str_('haunting'), np.str_('hated'), np.str_('harry'), np.str_('harbor'), np.str_('haram'), np.str_('gusty'), np.str_('gusts'), np.str_('groups'), np.str_('grief\\x89Ûª'), np.str_('grenade'), np.str_('grazed'), np.str_('grateful'), np.str_('grab'), np.str_('gift'), np.str_('garden'), np.str_('gained'), np.str_('g'), np.str_('fwy'), np.str_('further'), np.str_('fund'), np.str_('fuel'), np.str_('fucked'), np.str_('frontline'), np.str_('forward'), np.str_('forgotten'), np.str_('forgot'), np.str_('forbes'), np.str_('follows'), np.str_('fly'), np.str_('floyds'), np.str_('flooded'), np.str_('flew'), np.str_('flags'), np.str_('fits'), np.str_('fingers'), np.str_('finds'), np.str_('fights'), np.str_('fifth'), np.str_('fettilootch'), np.str_('feeding'), np.str_('fbi'), np.str_('father'), np.str_('fate'), np.str_('faster'), np.str_('farrakhan'), np.str_('fantastic'), np.str_('famous'), np.str_('falcon'), np.str_('faith'), np.str_('factory'), np.str_('explains'), np.str_('expert'), np.str_('exist'), np.str_('ex'), np.str_('eventually'), np.str_('events'), np.str_('europe'), np.str_('estate'), np.str_('equal'), np.str_('epilepsy'), np.str_('entered'), np.str_('enter'), np.str_('enjoying'), np.str_('english'), np.str_('emotions'), np.str_('elevated'), np.str_('elem'), np.str_('electric'), np.str_('election'), np.str_('efforts'), np.str_('edinburgh'), np.str_('eden'), np.str_('ebike'), np.str_('eating'), np.str_('easily'), np.str_('earrings'), np.str_('earners'), np.str_('dtn'), np.str_('dry'), np.str_('drugs'), np.str_('drove'), np.str_('driven'), np.str_('dress'), np.str_('dragon'), np.str_('doubt'), np.str_('dk'), np.str_('diss'), np.str_('dinner'), np.str_('diamond'), np.str_('detectado'), np.str_('desire'), np.str_('designs'), np.str_('design'), np.str_('description'), np.str_('derails'), np.str_('deputies'), np.str_('dependency'), np.str_('democracy'), np.str_('delays'), np.str_('degree'), np.str_('defend'), np.str_('decisions'), np.str_('decision'), np.str_('decide'), np.str_('dear'), np.str_('daughters'), np.str_('daughter'), np.str_('dam'), np.str_('dallas'), np.str_('cyclist'), np.str_('current'), np.str_('cupcake'), np.str_('cup'), np.str_('crowd'), np.str_('crater'), np.str_('crashes'), np.str_('cr'), np.str_('cousin'), np.str_('couples'), np.str_('counselor'), np.str_('cotton'), np.str_('cos'), np.str_('cord'), np.str_('copycat'), np.str_('constantly'), np.str_('concerns'), np.str_('concern'), np.str_('compliant'), np.str_('communities'), np.str_('commercial'), np.str_('comments'), np.str_('collapses'), np.str_('cofounder'), np.str_('cock'), np.str_('clouds'), np.str_('cloud'), np.str_('clinton'), np.str_('client'), np.str_('cleveland'), np.str_('clev'), np.str_('clearly'), np.str_('cleanup'), np.str_('clash'), np.str_('claim'), np.str_('chill'), np.str_('childhood'), np.str_('chicagoarea'), np.str_('chelsea'), np.str_('charts'), np.str_('charlie'), np.str_('charles'), np.str_('channel'), np.str_('challenge'), np.str_('certainly'), np.str_('cell'), np.str_('cdc'), np.str_('caution'), np.str_('cats'), np.str_('catch'), np.str_('cast'), np.str_('carryi'), np.str_('captured'), np.str_('capture'), np.str_('captain'), np.str_('capacity'), np.str_('cancel'), np.str_('campus'), np.str_('californias'), np.str_('calamity'), np.str_('bulletin'), np.str_('bug'), np.str_('buckle'), np.str_('brutally'), np.str_('brothers'), np.str_('brings'), np.str_('braking'), np.str_('boxer'), np.str_('bound'), np.str_('boot'), np.str_('bluetooth'), np.str_('bluejays'), np.str_('blows'), np.str_('blocking'), np.str_('bless'), np.str_('bitches'), np.str_('bid'), np.str_('bff'), np.str_('beyonce'), np.str_('benefits'), np.str_('bell'), np.str_('begins'), np.str_('bees'), np.str_('beer'), np.str_('bedroom'), np.str_('beats'), np.str_('bears'), np.str_('battling'), np.str_('battery'), np.str_('bathroom'), np.str_('base'), np.str_('bands'), np.str_('bake'), np.str_('averted'), np.str_('average'), np.str_('av'), np.str_('auth'), np.str_('aussie'), np.str_('auctions'), np.str_('attacking'), np.str_('atlanta'), np.str_('assistance'), np.str_('asian'), np.str_('asia'), np.str_('arabian'), np.str_('apple'), np.str_('anybody'), np.str_('answers'), np.str_('ankle'), np.str_('angeles'), np.str_('analysis'), np.str_('america\\x89Ûªs'), np.str_('americas'), np.str_('allowed'), np.str_('alleged'), np.str_('alert'), np.str_('alcohol'), np.str_('alberta'), np.str_('alaska'), np.str_('agreed'), np.str_('admits'), np.str_('active'), np.str_('activates'), np.str_('accuses'), np.str_('ability'), np.str_('abbswinston'), np.str_('852015'), np.str_('80s'), np.str_('800'), np.str_('6aug'), np.str_('5pm'), np.str_('5000'), np.str_('48'), np.str_('3rd'), np.str_('39'), np.str_('370'), np.str_('360wisenews'), np.str_('34'), np.str_('2pm'), np.str_('2pcs'), np.str_('29072015'), np.str_('23'), np.str_('21'), np.str_('2030'), np.str_('2009'), np.str_('18w'), np.str_('13000'), np.str_('125'), np.str_('1200'), np.str_('10th'), np.str_('02'), np.str_('å¨'), np.str_('\\x89Û÷extremely'), np.str_('\\x89ÛÏwe'), np.str_('\\x89ÛÏrichmond'), np.str_('\\x89ÛÏhatchet'), np.str_('zayn'), np.str_('yugvani'), np.str_('yorker'), np.str_('yep'), np.str_('yemen'), np.str_('yea'), np.str_('yahoonews'), np.str_('yahoo'), np.str_('xxx'), np.str_('wwi'), np.str_('wrapup'), np.str_('worldnetdaily'), np.str_('wom'), np.str_('wnd'), np.str_('witter'), np.str_('winter'), np.str_('willing'), np.str_('widespread'), np.str_('wicked'), np.str_('wi'), np.str_('wht'), np.str_('whales'), np.str_('weight'), np.str_('wee'), np.str_('weathernetwork'), np.str_('wear'), np.str_('weak'), np.str_('waterways'), np.str_('waterresistant'), np.str_('washed'), np.str_('warships'), np.str_('warned'), np.str_('warne'), np.str_('warn'), np.str_('warcraft'), np.str_('wannabe'), np.str_('walls'), np.str_('walker'), np.str_('voter'), np.str_('volga'), np.str_('vladimir'), np.str_('visited'), np.str_('virus'), np.str_('virgil'), np.str_('vip'), np.str_('villages'), np.str_('villagers'), np.str_('vid'), np.str_('vet'), np.str_('vest'), np.str_('vermont'), np.str_('verdict'), np.str_('venezuela'), np.str_('vegetarian'), np.str_('vegas'), np.str_('variety'), np.str_('vampiro'), np.str_('vacation'), np.str_('usnwsgov'), np.str_('urgent'), np.str_('unsafe'), np.str_('unknown'), np.str_('uniform'), np.str_('underway'), np.str_('undercover'), np.str_('unawares'), np.str_('unavoidable'), np.str_('ud'), np.str_('uber'), np.str_('tyre'), np.str_('ty'), np.str_('twins'), np.str_('turning'), np.str_('tunnel'), np.str_('tune'), np.str_('ts'), np.str_('trubgme'), np.str_('trs'), np.str_('triple'), np.str_('tries'), np.str_('trials'), np.str_('transporting'), np.str_('transformation'), np.str_('transfer'), np.str_('trafford'), np.str_('tr'), np.str_('towards'), np.str_('torch'), np.str_('tooth'), np.str_('tool'), np.str_('tonights'), np.str_('tomorrows'), np.str_('tmp'), np.str_('titan'), np.str_('tinyjecht'), np.str_('timeline'), np.str_('tilnow'), np.str_('til'), np.str_('tied'), np.str_('tie'), np.str_('ticket'), np.str_('thru'), np.str_('threats'), np.str_('third'), np.str_('thinks'), np.str_('thin'), np.str_('thick'), np.str_('the\\x89Û'), np.str_('theyd'), np.str_('therapy'), np.str_('that\\x89Ûªs'), np.str_('tflbusalerts'), np.str_('tf'), np.str_('tested'), np.str_('terrifying'), np.str_('terms'), np.str_('temper'), np.str_('tells'), np.str_('telegraph'), np.str_('teaching'), np.str_('teachers'), np.str_('tdp'), np.str_('tb'), np.str_('taxiways'), np.str_('targets'), np.str_('talks'), np.str_('talent'), np.str_('taco'), np.str_('tab\\x89Û'), np.str_('systems'), np.str_('sympathy'), np.str_('swing'), np.str_('swells'), np.str_('sweden'), np.str_('suv'), np.str_('survivor'), np.str_('surge'), np.str_('surface'), np.str_('surf'), np.str_('surely'), np.str_('surah'), np.str_('supervisor'), np.str_('superhero'), np.str_('suffering'), np.str_('suffered'), np.str_('stylish'), np.str_('stuck'), np.str_('strikes'), np.str_('stressed'), np.str_('stomach'), np.str_('stewart'), np.str_('stepped'), np.str_('stephen'), np.str_('step'), np.str_('steam'), np.str_('stays'), np.str_('startup'), np.str_('starring'), np.str_('standing'), np.str_('stamp'), np.str_('spinningbot'), np.str_('spinning'), np.str_('speed'), np.str_('specimens'), np.str_('specific'), np.str_('specif'), np.str_('spears'), np.str_('souls'), np.str_('songs'), np.str_('soldier'), np.str_('socialism'), np.str_('smoky'), np.str_('sm'), np.str_('slowly'), np.str_('slower'), np.str_('slip'), np.str_('slate'), np.str_('skirt'), np.str_('skills'), np.str_('sized'), np.str_('sittwe'), np.str_('sitting\\x89Û'), np.str_('sites'), np.str_('sink'), np.str_('silvergray'), np.str_('silent'), np.str_('significant'), np.str_('sight'), np.str_('showcase'), np.str_('shoulders'), np.str_('shook'), np.str_('shocked'), np.str_('shock'), np.str_('shitty'), np.str_('shirt'), np.str_('shipwreck'), np.str_('shelby'), np.str_('shedding'), np.str_('shared'), np.str_('shanghai'), np.str_('sexy'), np.str_('settlement'), np.str_('sends'), np.str_('sending'), np.str_('seemed'), np.str_('seasons'), np.str_('screenshots'), np.str_('scotland'), np.str_('scoopit'), np.str_('scifi'), np.str_('schiphol'), np.str_('scars'), np.str_('sb'), np.str_('savebees'), np.str_('sassy'), np.str_('sand'), np.str_('sampling'), np.str_('salvation'), np.str_('salmon'), np.str_('safely'), np.str_('saddlebrooke'), np.str_('rwy'), np.str_('rworldnews'), np.str_('runner'), np.str_('ruined'), np.str_('royal'), np.str_('rome'), np.str_('roller'), np.str_('role'), np.str_('robotrainstorm'), np.str_('robinson'), np.str_('roberts'), np.str_('roanoke'), np.str_('ripped'), np.str_('rid'), np.str_('rickperry'), np.str_('rexyy'), np.str_('revolution'), np.str_('reviews'), np.str_('revenues'), np.str_('returns'), np.str_('returned'), np.str_('retail'), np.str_('resulted'), np.str_('restaurant'), np.str_('responded'), np.str_('republic'), np.str_('repeat'), np.str_('reopening'), np.str_('reminder'), np.str_('relax'), np.str_('regret'), np.str_('registered'), np.str_('regarding'), np.str_('refused'), np.str_('reflect'), np.str_('referring'), np.str_('recycling'), np.str_('recover'), np.str_('recipes'), np.str_('recalls'), np.str_('realtime'), np.str_('realmandyrain'), np.str_('realdonaldtrump'), np.str_('raynbowaffair'), np.str_('range'), np.str_('ramag'), np.str_('rainfall'), np.str_('raid'), np.str_('radioactive'), np.str_('quotes'), np.str_('queens'), np.str_('purchase'), np.str_('pun'), np.str_('pull'), np.str_('ptsdchat'), np.str_('ptsd'), np.str_('psychological'), np.str_('psychiatric'), np.str_('provide'), np.str_('protests'), np.str_('propertycasualty'), np.str_('prompted'), np.str_('profit'), np.str_('proceeds'), np.str_('procedures'), np.str_('private'), np.str_('preview'), np.str_('present'), np.str_('premium'), np.str_('premature'), np.str_('prefer'), np.str_('prayers'), np.str_('posting'), np.str_('possibly'), np.str_('portion'), np.str_('porn'), np.str_('popular'), np.str_('pond'), np.str_('poland'), np.str_('pockets'), np.str_('plays'), np.str_('planning'), np.str_('pizza'), np.str_('pisgah'), np.str_('pillow'), np.str_('pieces'), np.str_('photographer'), np.str_('pets'), np.str_('period'), np.str_('peoples'), np.str_('penalties'), np.str_('peaceful'), np.str_('pattern'), np.str_('patched'), np.str_('patch'), np.str_('passed'), np.str_('panel'), np.str_('pam'), np.str_('palin'), np.str_('pack'), np.str_('outflow'), np.str_('os'), np.str_('ornament'), np.str_('origin'), np.str_('orange'), np.str_('oral'), np.str_('opus'), np.str_('options'), np.str_('ops'), np.str_('opposition'), np.str_('oper'), np.str_('openly'), np.str_('ooh'), np.str_('ontario'), np.str_('omars'), np.str_('olive'), np.str_('older'), np.str_('olap'), np.str_('ohio'), np.str_('offensiveåÊcontent'), np.str_('offensive\\x89Ûª'), np.str_('odeon'), np.str_('odds'), np.str_('odd'), np.str_('occurs'), np.str_('occupants'), np.str_('oc'), np.str_('oak'), np.str_('nyt'), np.str_('numbered'), np.str_('nuggets'), np.str_('nsfw'), np.str_('ns'), np.str_('nri'), np.str_('noticed'), np.str_('note'), np.str_('nose'), np.str_('noncompliant'), np.str_('non'), np.str_('noise'), np.str_('nm'), np.str_('nike'), np.str_('niece'), np.str_('nickcannon'), np.str_('nfl'), np.str_('newsintweets'), np.str_('neither'), np.str_('needle'), np.str_('necessary'), np.str_('nbcnews'), np.str_('navbl'), np.str_('nations'), np.str_('nasty'), np.str_('nap'), np.str_('musician'), np.str_('multiplayer'), np.str_('mullah'), np.str_('msf'), np.str_('movement'), np.str_('mountaineering'), np.str_('moth'), np.str_('moral'), np.str_('modiministry'), np.str_('modi'), np.str_('models'), np.str_('model'), np.str_('mnpdnashville'), np.str_('mkx'), np.str_('mitt\\x89Û\\x9d'), np.str_('mitigation'), np.str_('mistake'), np.str_('mirage'), np.str_('mins'), np.str_('minority'), np.str_('minor'), np.str_('minaj'), np.str_('milkshake'), np.str_('milk'), np.str_('militant'), np.str_('mike'), np.str_('mfs'), np.str_('mf'), np.str_('metrofmtalk'), np.str_('metrics'), np.str_('method'), np.str_('mercy'), np.str_('mercury'), np.str_('mentioned'), np.str_('mentally'), np.str_('mental'), np.str_('memphis'), np.str_('member'), np.str_('melt'), np.str_('mega'), np.str_('meat'), np.str_('mcilroy'), np.str_('mcdonalds'), np.str_('mattson'), np.str_('matters'), np.str_('mate'), np.str_('matches'), np.str_('marvel'), np.str_('marker'), np.str_('marine'), np.str_('marijuana'), np.str_('manmade'), np.str_('maj'), np.str_('magnum'), np.str_('ma'), np.str_('m194'), np.str_('luis'), np.str_('lrt'), np.str_('lover'), np.str_('loses'), np.str_('lonewolffur'), np.str_('log'), np.str_('locker'), np.str_('locke'), np.str_('lock'), np.str_('local\\x89Û'), np.str_('localarsonist'), np.str_('listenlive'), np.str_('listenbuy'), np.str_('limit'), np.str_('lighting'), np.str_('lgbt'), np.str_('lessons'), np.str_('lesbian'), np.str_('leo'), np.str_('len'), np.str_('leisure'), np.str_('lego'), np.str_('legion'), np.str_('legendary'), np.str_('leg'), np.str_('leadership'), np.str_('lay'), np.str_('launch'), np.str_('laugh'), np.str_('lately'), np.str_('las'), np.str_('languages'), np.str_('langley'), np.str_('landfall'), np.str_('laid'), np.str_('l'), np.str_('kuwait'), np.str_('kurtschlichter'), np.str_('kurdish'), np.str_('korea'), np.str_('komen'), np.str_('knoxville'), np.str_('kingdom'), np.str_('kiernan'), np.str_('kicked'), np.str_('key'), np.str_('kenya'), np.str_('karachi'), np.str_('kalle'), np.str_('just\\x89Û'), np.str_('jupiters'), np.str_('julie'), np.str_('journalist'), np.str_('jon'), np.str_('joke'), np.str_('joining'), np.str_('johnson'), np.str_('johannesburg'), np.str_('joel'), np.str_('jimmyfallon'), np.str_('jesus'), np.str_('jazz'), np.str_('jays'), np.str_('jay'), np.str_('jax'), np.str_('japans'), np.str_('jan'), np.str_('james'), np.str_('jail'), np.str_('j'), np.str_('i\\x89Ûªve'), np.str_('itunesmusic'), np.str_('irish'), np.str_('ireland'), np.str_('involved'), np.str_('integrity'), np.str_('instant'), np.str_('installation'), np.str_('inst'), np.str_('inning'), np.str_('ink'), np.str_('initial'), np.str_('inevitable'), np.str_('indonesia'), np.str_('individuals'), np.str_('individual'), np.str_('independent'), np.str_('imported'), np.str_('illinois'), np.str_('ik'), np.str_('idps'), np.str_('idiot'), np.str_('icymi'), np.str_('ibooklove'), np.str_('ianhellfire'), np.str_('ian'), np.str_('hybrid'), np.str_('hurry'), np.str_('hunk'), np.str_('hunger'), np.str_('hundred'), np.str_('humidity'), np.str_('humaza'), np.str_('httptcoo91f3cyy0r'), np.str_('httptconnmqlz91o9'), np.str_('httptcocybksxhf7d'), np.str_('httptcocedcugeuws'), np.str_('httptcobbdpnj8xsx'), np.str_('httptco9nwajli9cr'), np.str_('httpstcorqwuoy1fm4'), np.str_('httpstcodehmym5lpk'), np.str_('however'), np.str_('houston'), np.str_('horrors'), np.str_('honey'), np.str_('historic'), np.str_('hillary'), np.str_('hike'), np.str_('highly'), np.str_('higher'), np.str_('helps'), np.str_('headset'), np.str_('hating'), np.str_('hatchet'), np.str_('hatcap'), np.str_('hashtag'), np.str_('harrybecareful'), np.str_('harper'), np.str_('happiness'), np.str_('hang'), np.str_('hampshire'), np.str_('hamilton'), np.str_('hamas'), np.str_('haiyan'), np.str_('gunshot'), np.str_('gunsense'), np.str_('guilty'), np.str_('guided'), np.str_('guard'), np.str_('growth'), np.str_('grown'), np.str_('grove'), np.str_('groom'), np.str_('grew'), np.str_('greg'), np.str_('greeces'), np.str_('grand'), np.str_('grabbers'), np.str_('gps'), np.str_('gopdebate'), np.str_('gon'), np.str_('goals'), np.str_('glorious'), np.str_('gives'), np.str_('gerenciatodos'), np.str_('georgia'), np.str_('genuine'), np.str_('generally'), np.str_('gem'), np.str_('gateau'), np.str_('gamergate'), np.str_('gameplay'), np.str_('fyi'), np.str_('funds'), np.str_('fuels'), np.str_('fuckin'), np.str_('frozen'), np.str_('frontpage'), np.str_('freezing'), np.str_('frank'), np.str_('fraction'), np.str_('foul'), np.str_('formed'), np.str_('forgiven'), np.str_('ford'), np.str_('footage'), np.str_('foot'), np.str_('flying'), np.str_('flower'), np.str_('floated'), np.str_('flaming'), np.str_('fkn'), np.str_('fixed'), np.str_('fitness'), np.str_('fit'), np.str_('fishing'), np.str_('finishing'), np.str_('finish'), np.str_('finger'), np.str_('filled'), np.str_('ferguson'), np.str_('feminist'), np.str_('feelings'), np.str_('fed'), np.str_('features'), np.str_('fd'), np.str_('fb'), np.str_('favourite'), np.str_('fashionable'), np.str_('faroeislands'), np.str_('farm'), np.str_('fam'), np.str_('fallen'), np.str_('fair'), np.str_('facts'), np.str_('factors'), np.str_('extends'), np.str_('exploit'), np.str_('experiencing'), np.str_('experienced'), np.str_('expensive'), np.str_('expecting'), np.str_('existence'), np.str_('excellent'), np.str_('example'), np.str_('evidence'), np.str_('euro'), np.str_('eu'), np.str_('esp'), np.str_('er'), np.str_('eq'), np.str_('environmental'), np.str_('environment'), np.str_('entering'), np.str_('enrt'), np.str_('enjoyed'), np.str_('engine'), np.str_('ending'), np.str_('encounter'), np.str_('en'), np.str_('embroidered'), np.str_('email'), np.str_('elite'), np.str_('eight'), np.str_('ego'), np.str_('eggs'), np.str_('egged'), np.str_('ee'), np.str_('editor'), np.str_('ed'), np.str_('eb'), np.str_('eaten'), np.str_('eastern'), np.str_('earthquakes'), np.str_('ear'), np.str_('dundee'), np.str_('dudes'), np.str_('dublin'), np.str_('dual'), np.str_('drives'), np.str_('drinks'), np.str_('dreams'), np.str_('drag'), np.str_('dq'), np.str_('dorrets'), np.str_('dorret'), np.str_('donate'), np.str_('donald'), np.str_('domestic'), np.str_('doc'), np.str_('dj'), np.str_('disgusting'), np.str_('discovery'), np.str_('disasters'), np.str_('disappoints'), np.str_('disappearance'), np.str_('dis'), np.str_('dirt'), np.str_('diamondkesawn'), np.str_('devalue'), np.str_('detained'), np.str_('destroying'), np.str_('despite'), np.str_('designed'), np.str_('describing'), np.str_('describes'), np.str_('dept'), np.str_('dental'), np.str_('denmark'), np.str_('dem'), np.str_('deliver'), np.str_('delay'), np.str_('definitely'), np.str_('declined'), np.str_('december'), np.str_('decades'), np.str_('dating'), np.str_('dat'), np.str_('darkness'), np.str_('daesh'), np.str_('cutting'), np.str_('curb'), np.str_('cunts'), np.str_('cum'), np.str_('cue'), np.str_('cuban'), np.str_('cta'), np.str_('csx'), np.str_('cryptic'), np.str_('crosses'), np.str_('croatian'), np.str_('cries'), np.str_('cricket'), np.str_('crew'), np.str_('crashing'), np.str_('crackdown'), np.str_('counter'), np.str_('count'), np.str_('correction'), np.str_('corners'), np.str_('cooler'), np.str_('control\\x89Û\\x9d'), np.str_('continued'), np.str_('context'), np.str_('contemplating'), np.str_('contained'), np.str_('construction'), np.str_('consequence'), np.str_('conquest'), np.str_('connector'), np.str_('condition'), np.str_('concept'), np.str_('commute'), np.str_('communication'), np.str_('commit'), np.str_('comedy'), np.str_('combat'), np.str_('columbia'), np.str_('color'), np.str_('collision1141'), np.str_('college'), np.str_('cobra'), np.str_('coastal'), np.str_('coach'), np.str_('cnbc'), np.str_('clothes'), np.str_('closures'), np.str_('closing'), np.str_('closes'), np.str_('climb'), np.str_('clearedincident'), np.str_('claytonbryant'), np.str_('cladding'), np.str_('citizens'), np.str_('circuit'), np.str_('circle'), np.str_('cigarette'), np.str_('chunks'), np.str_('chosen'), np.str_('choking'), np.str_('choices'), np.str_('chocolate'), np.str_('chicken'), np.str_('chewing'), np.str_('chevy'), np.str_('chest'), np.str_('chernobyl'), np.str_('checked'), np.str_('chases'), np.str_('charlotte'), np.str_('charges'), np.str_('charger'), np.str_('chaos'), np.str_('changed'), np.str_('chain'), np.str_('centipede'), np.str_('cecilthelion'), np.str_('cd'), np.str_('cbcca'), np.str_('cave'), np.str_('catches'), np.str_('casual'), np.str_('casper'), np.str_('carried'), np.str_('cargo'), np.str_('capsized'), np.str_('capital'), np.str_('candy'), np.str_('camera'), np.str_('cam'), np.str_('calum5sos'), np.str_('cakes'), np.str_('caitlin'), np.str_('cabin'), np.str_('bypass'), np.str_('buying'), np.str_('butt'), np.str_('burnt'), np.str_('buried'), np.str_('bunch'), np.str_('bully'), np.str_('buddys'), np.str_('bu'), np.str_('btw'), np.str_('bts'), np.str_('bs'), np.str_('brush'), np.str_('briefing'), np.str_('brian'), np.str_('breathe'), np.str_('breaks'), np.str_('breakingnews'), np.str_('brave'), np.str_('brand'), np.str_('brady'), np.str_('bp'), np.str_('bowling'), np.str_('bounty'), np.str_('bottom'), np.str_('bother'), np.str_('born'), np.str_('bored'), np.str_('bore'), np.str_('border'), np.str_('boom'), np.str_('bookboost'), np.str_('bones'), np.str_('boko'), np.str_('boeing'), np.str_('bluedio'), np.str_('blowout'), np.str_('blowmandyup'), np.str_('blow'), np.str_('blasts'), np.str_('blanket'), np.str_('blame'), np.str_('blake'), np.str_('blah'), np.str_('birth'), np.str_('birds'), np.str_('bio'), np.str_('billings'), np.str_('bill'), np.str_('biker'), np.str_('bigamist'), np.str_('beware'), np.str_('betrayed'), np.str_('besides'), np.str_('bend'), np.str_('belongs'), np.str_('belonged'), np.str_('beginners'), np.str_('beforeitsnews'), np.str_('bee'), np.str_('becoming'), np.str_('beard'), np.str_('bbcnews'), np.str_('bb4sp'), np.str_('battleship'), np.str_('batters'), np.str_('bath'), np.str_('basement'), np.str_('bars'), np.str_('barn'), np.str_('barely'), np.str_('bare'), np.str_('barackobama'), np.str_('bangladesh'), np.str_('band'), np.str_('background'), np.str_('a\\x89Û'), np.str_('aware'), np.str_('aw'), np.str_('avenue'), np.str_('aussies'), np.str_('at\\x89Û'), np.str_('attitude'), np.str_('asshole'), np.str_('assembly'), np.str_('arwx'), np.str_('arts'), np.str_('artistsunited'), np.str_('arsenal'), np.str_('arrest'), np.str_('arm'), np.str_('appreciate'), np.str_('applications'), np.str_('apch'), np.str_('apartment'), np.str_('apart'), np.str_('aoms'), np.str_('anxious'), np.str_('anxiety'), np.str_('announcement'), np.str_('anna'), np.str_('angels'), np.str_('amirite'), np.str_('although'), np.str_('alternatives'), np.str_('alright'), np.str_('alex'), np.str_('alarms'), np.str_('ahh'), np.str_('affects'), np.str_('adding'), np.str_('acute'), np.str_('actual'), np.str_('acting'), np.str_('acid'), np.str_('accused'), np.str_('accionempresa'), np.str_('abortion'), np.str_('abomination'), np.str_('abe'), np.str_('abandon'), np.str_('95'), np.str_('87'), np.str_('86'), np.str_('80'), np.str_('78'), np.str_('6th'), np.str_('69'), np.str_('56'), np.str_('55'), np.str_('45'), np.str_('43rd'), np.str_('41'), np.str_('375'), np.str_('361'), np.str_('300000'), np.str_('2us'), np.str_('27'), np.str_('2005'), np.str_('200'), np.str_('1620'), np.str_('150foot'), np.str_('150401'), np.str_('150'), np.str_('103'), np.str_('0day'), np.str_('09'), np.str_('010401'), np.str_('0104'), np.str_('åÈ'), np.str_('åÇ'), np.str_('å'), np.str_('\\x89Û÷plot'), np.str_('\\x89Û÷it\\x89Ûªs'), np.str_('\\x89ÛÏyou'), np.str_('\\x89ÛÏstretcher'), np.str_('\\x89ÛÏhannaph\\x89Û\\x9d'), np.str_('\\x89Û¢åÊdemolition'), np.str_('zippednews'), np.str_('zionism'), np.str_('zimbabwe'), np.str_('zaynmalik'), np.str_('zabadani'), np.str_('yycstorm'), np.str_('ypres'), np.str_('you\\x89Ûªre'), np.str_('you\\x89Ûªll'), np.str_('yourselves'), np.str_('yougov'), np.str_('yesterdays'), np.str_('yellow'), np.str_('yelling'), np.str_('yazidi'), np.str_('yankees'), np.str_('xv'), np.str_('wwwcbplawyers'), np.str_('wwe'), np.str_('ww2'), np.str_('wud'), np.str_('wrist'), np.str_('wowo'), np.str_('wouldn\\x89Ûªt'), np.str_('worries'), np.str_('worn'), np.str_('worldwide'), np.str_('works'), np.str_('workplace'), np.str_('workout'), np.str_('worker'), np.str_('woods'), np.str_('woodlawn'), np.str_('wolves'), np.str_('wolf'), np.str_('wod'), np.str_('wocowae'), np.str_('wmv'), np.str_('wmur9'), np.str_('witness'), np.str_('wipp'), np.str_('wine'), np.str_('windy'), np.str_('wilshere'), np.str_('william'), np.str_('wide'), np.str_('whose'), np.str_('whoops'), np.str_('whomever'), np.str_('wholesale'), np.str_('whoever'), np.str_('whoa'), np.str_('whitehouse'), np.str_('whitbourne'), np.str_('whistle'), np.str_('whipped'), np.str_('whenever'), np.str_('whatsapp'), np.str_('whale'), np.str_('wftv'), np.str_('wfp'), np.str_('weyreygidi'), np.str_('weston'), np.str_('wen'), np.str_('welfare'), np.str_('weighs'), np.str_('weekold'), np.str_('wednesdays'), np.str_('wedn'), np.str_('wedaug5th'), np.str_('wealthy'), np.str_('weallheartonedirection'), np.str_('weakening'), np.str_('wd'), np.str_('wce'), np.str_('wbioterrorismampuse'), np.str_('wb'), np.str_('wayne'), np.str_('wattpad'), np.str_('watertown'), np.str_('waters'), np.str_('washingtonpost'), np.str_('warrior'), np.str_('warming'), np.str_('warm'), np.str_('walter'), np.str_('walked'), np.str_('walerga'), np.str_('waking'), np.str_('waits'), np.str_('waist'), np.str_('voting'), np.str_('voted'), np.str_('voodoo'), np.str_('voluntary'), np.str_('volleyball'), np.str_('volcanoåÊinåÊrussia'), np.str_('volcanoes'), np.str_('vods'), np.str_('vital'), np.str_('visto'), np.str_('visits'), np.str_('vision'), np.str_('violations'), np.str_('vince'), np.str_('vietnamese'), np.str_('videoveranomtv'), np.str_('vida'), np.str_('victory'), np.str_('vicinity'), np.str_('vice'), np.str_('vibez'), np.str_('vi'), np.str_('veteran'), np.str_('versions'), np.str_('versethe'), np.str_('venice'), np.str_('vegetable'), np.str_('ve'), np.str_('vault'), np.str_('vashon'), np.str_('various'), np.str_('vanuatu'), np.str_('vantage'), np.str_('vancouver'), np.str_('utc5km'), np.str_('ut'), np.str_('ushed'), np.str_('user'), np.str_('us101'), np.str_('urs'), np.str_('upwards'), np.str_('uploading'), np.str_('upgrading'), np.str_('upgraded'), np.str_('unrest'), np.str_('unrelenting'), np.str_('unr'), np.str_('unprecedented'), np.str_('unnecessary'), np.str_('unity'), np.str_('unique'), np.str_('unions'), np.str_('uniforms'), np.str_('unhappiness'), np.str_('unfortunately'), np.str_('unfolded'), np.str_('uncle'), np.str_('ultimalucha'), np.str_('ukraine'), np.str_('typos'), np.str_('types'), np.str_('tyler'), np.str_('twovehicle'), np.str_('twos'), np.str_('twentynine'), np.str_('tweetlikeitsseptember11th2001'), np.str_('turkmen'), np.str_('tuning'), np.str_('tunein'), np.str_('tuesday'), np.str_('ttes'), np.str_('tt'), np.str_('tsunamiesh'), np.str_('tryouts'), np.str_('tryout'), np.str_('trusty'), np.str_('trunk'), np.str_('truelove'), np.str_('troy'), np.str_('troubling'), np.str_('troll'), np.str_('trinity'), np.str_('trillion'), np.str_('trick'), np.str_('trend'), np.str_('tremor'), np.str_('trek'), np.str_('treeporn'), np.str_('treatments'), np.str_('treating'), np.str_('treated'), np.str_('travis'), np.str_('traverse'), np.str_('travelling'), np.str_('traveling'), np.str_('transformed'), np.str_('trancy'), np.str_('tragic'), np.str_('trading'), np.str_('touched'), np.str_('totes'), np.str_('torture'), np.str_('tornados'), np.str_('torching'), np.str_('tor'), np.str_('topstories'), np.str_('tops'), np.str_('tomcatarts'), np.str_('tomatoes'), np.str_('tokyo'), np.str_('tlc'), np.str_('tix'), np.str_('titanic'), np.str_('tin'), np.str_('timkaine'), np.str_('timelapse'), np.str_('tigers'), np.str_('tides'), np.str_('tidal'), np.str_('thyroid'), np.str_('thy'), np.str_('thuggin'), np.str_('thu'), np.str_('thrown'), np.str_('throwingknifes'), np.str_('throwback'), np.str_('throughout'), np.str_('thrones'), np.str_('throat'), np.str_('threw'), np.str_('threaten'), np.str_('thisizbwright'), np.str_('thisiswhywecanthavenicethings'), np.str_('thirsty'), np.str_('thirst'), np.str_('thighs'), np.str_('thief'), np.str_('thetawniest'), np.str_('therapies'), np.str_('theological'), np.str_('themed'), np.str_('themagickidraps'), np.str_('thegame'), np.str_('thee'), np.str_('thankfully'), np.str_('thankful'), np.str_('tha'), np.str_('tgirl'), np.str_('tests'), np.str_('testing'), np.str_('testimony'), np.str_('teslas'), np.str_('term'), np.str_('tens'), np.str_('temptation'), np.str_('teeth'), np.str_('teens'), np.str_('teenagers'), np.str_('technologies'), np.str_('technique'), np.str_('technica'), np.str_('teases'), np.str_('tear'), np.str_('teamstream'), np.str_('teamhendrick'), np.str_('teacher'), np.str_('te'), np.str_('tch'), np.str_('tc'), np.str_('taylor'), np.str_('taught'), np.str_('tattoo'), np.str_('tastes'), np.str_('tasmanias'), np.str_('targeted'), np.str_('tape'), np.str_('tanzania'), np.str_('tanks'), np.str_('tan'), np.str_('talkin'), np.str_('tale'), np.str_('tak'), np.str_('tahoe'), np.str_('s\\x89Û'), np.str_('syndrome'), np.str_('symphony'), np.str_('sx'), np.str_('sws'), np.str_('swept'), np.str_('sweet2young'), np.str_('sweater'), np.str_('sweat'), np.str_('swear'), np.str_('swarm'), np.str_('sustainable'), np.str_('suspense'), np.str_('suryaray'), np.str_('survey'), np.str_('suruc'), np.str_('surrounding'), np.str_('surrender'), np.str_('surgery'), np.str_('surfers'), np.str_('suppose'), np.str_('supports'), np.str_('supply'), np.str_('sunny'), np.str_('sunnis'), np.str_('sundays'), np.str_('summit'), np.str_('summertime'), np.str_('suit'), np.str_('suicidebombing'), np.str_('suh'), np.str_('suddenly'), np.str_('sudden'), np.str_('subway'), np.str_('stuns'), np.str_('stunned'), np.str_('studio'), np.str_('student'), np.str_('stu'), np.str_('sts'), np.str_('struggling'), np.str_('strongly'), np.str_('stronger'), np.str_('stroke'), np.str_('striking'), np.str_('strikesstrikes'), np.str_('strikers'), np.str_('striker'), np.str_('strict'), np.str_('stressful'), np.str_('strengthening'), np.str_('stout'), np.str_('stormchase'), np.str_('stores'), np.str_('stolen'), np.str_('stole'), np.str_('stockton'), np.str_('stocks'), np.str_('sticks'), np.str_('stick'), np.str_('steal'), np.str_('steak'), np.str_('stats'), np.str_('state\\x89Û'), np.str_('startups'), np.str_('starbucks'), np.str_('stans'), np.str_('standwithpp'), np.str_('standards'), np.str_('stagetwo'), np.str_('stacey'), np.str_('sr'), np.str_('squeeze'), np.str_('square'), np.str_('sputnik'), np.str_('spreading'), np.str_('spots'), np.str_('sportwatch'), np.str_('spontaneously'), np.str_('split'), np.str_('spilled'), np.str_('spending'), np.str_('spencers'), np.str_('spectacular'), np.str_('species'), np.str_('specialists'), np.str_('specialist'), np.str_('speak'), np.str_('soviet'), np.str_('southdowns'), np.str_('soudelors'), np.str_('sort'), np.str_('sorrows'), np.str_('sore'), np.str_('soooo'), np.str_('sooo'), np.str_('soo'), np.str_('sons'), np.str_('somewhere'), np.str_('solve'), np.str_('solo'), np.str_('solitude'), np.str_('solid'), np.str_('solicitor'), np.str_('sold'), np.str_('software'), np.str_('softenza'), np.str_('soft'), np.str_('socialmedia'), np.str_('soccer'), np.str_('soaking'), np.str_('soak'), np.str_('snuff'), np.str_('snowden'), np.str_('snowball'), np.str_('sniping'), np.str_('sneak'), np.str_('snd'), np.str_('snapchat'), np.str_('snacks'), np.str_('smooth'), np.str_('smiling'), np.str_('smells'), np.str_('smell'), np.str_('smash'), np.str_('slips'), np.str_('slipped'), np.str_('slides'), np.str_('slicker'), np.str_('slayer'), np.str_('slammed'), np.str_('skys'), np.str_('skyline'), np.str_('skipping'), np.str_('skill'), np.str_('sketch'), np.str_('skanndtyagi'), np.str_('sixpenceee'), np.str_('sixmeter'), np.str_('sis'), np.str_('singles'), np.str_('sin'), np.str_('simultaneous'), np.str_('simply'), np.str_('simon'), np.str_('signup'), np.str_('signing'), np.str_('sigalert'), np.str_('siding'), np.str_('sides'), np.str_('si'), np.str_('shutdown'), np.str_('showing'), np.str_('showed'), np.str_('shouting'), np.str_('shout'), np.str_('shouldve'), np.str_('shore'), np.str_('shooter'), np.str_('shoot'), np.str_('shoe'), np.str_('shizune'), np.str_('shira'), np.str_('sheriff'), np.str_('shelli'), np.str_('sheet'), np.str_('sheeran'), np.str_('sheer'), np.str_('shed'), np.str_('shaw'), np.str_('sharing'), np.str_('sharethis'), np.str_('shantae'), np.str_('shania'), np.str_('sham'), np.str_('shaking'), np.str_('shakes'), np.str_('shaker'), np.str_('sf'), np.str_('sewer'), np.str_('settle'), np.str_('setlist'), np.str_('servers'), np.str_('server'), np.str_('serve'), np.str_('servants'), np.str_('sequel'), np.str_('sept'), np.str_('sep'), np.str_('selling'), np.str_('sell'), np.str_('selfies'), np.str_('selection'), np.str_('seem'), np.str_('seduction'), np.str_('seal'), np.str_('screw'), np.str_('screamqueens'), np.str_('scream'), np.str_('scottwalker'), np.str_('scorpions'), np.str_('schwarber'), np.str_('schedule\\x89Û'), np.str_('scares'), np.str_('scare'), np.str_('scale'), np.str_('saturn'), np.str_('satan'), np.str_('sarcasm'), np.str_('sandy'), np.str_('sanctioned'), np.str_('samesex'), np.str_('samanthaturne19'), np.str_('salvis'), np.str_('salvador'), np.str_('sake'), np.str_('sailing'), np.str_('sail'), np.str_('sahib'), np.str_('sacramento'), np.str_('sa15t'), np.str_('s2g'), np.str_('ryan'), np.str_('rutherford'), np.str_('rush'), np.str_('ruins'), np.str_('ruining'), np.str_('ruebs'), np.str_('rudd'), np.str_('rtrrt'), np.str_('rtamerica'), np.str_('rss'), np.str_('rpics'), np.str_('royals'), np.str_('royalcarribean'), np.str_('rover'), np.str_('routecomplex'), np.str_('rotten'), np.str_('rotator'), np.str_('rossum'), np.str_('roses'), np.str_('rory'), np.str_('ronnie'), np.str_('ronaldo'), np.str_('rolls'), np.str_('rohnertparkdps'), np.str_('roh3'), np.str_('rogue'), np.str_('roger'), np.str_('rockbottomradfm'), np.str_('riyadh'), np.str_('riversiskiyou'), np.str_('risks'), np.str_('rio'), np.str_('rihanna'), np.str_('rightwaystan'), np.str_('rightways'), np.str_('rifles'), np.str_('riding'), np.str_('riders'), np.str_('rick'), np.str_('rich'), np.str_('rey'), np.str_('revelation'), np.str_('rev'), np.str_('retweet'), np.str_('retro'), np.str_('resulting'), np.str_('restricted'), np.str_('restive'), np.str_('restaurants'), np.str_('responder'), np.str_('respected'), np.str_('resources'), np.str_('reshapes'), np.str_('required'), np.str_('request'), np.str_('repay'), np.str_('repairs'), np.str_('rep'), np.str_('reopens'), np.str_('reopen'), np.str_('renison'), np.str_('removing'), np.str_('removed'), np.str_('removal'), np.str_('remorse'), np.str_('remix'), np.str_('religion'), np.str_('relentless'), np.str_('relationship'), np.str_('rejects'), np.str_('rejected'), np.str_('reject'), np.str_('reinstate'), np.str_('reids'), np.str_('reid'), np.str_('regional'), np.str_('regardless'), np.str_('regard'), np.str_('refuse'), np.str_('redeemeth'), np.str_('recreates'), np.str_('recording'), np.str_('recommended'), np.str_('receive'), np.str_('recap'), np.str_('realised'), np.str_('reads'), np.str_('reacted'), np.str_('react'), np.str_('reaches'), np.str_('rdhorndale'), np.str_('rcmp'), np.str_('rb'), np.str_('raÌ¼l'), np.str_('razing'), np.str_('raynor'), np.str_('rayner'), np.str_('raw'), np.str_('raung'), np.str_('rating'), np.str_('rates'), np.str_('rated'), np.str_('rat'), np.str_('rapping'), np.str_('rappers'), np.str_('rapper'), np.str_('rapidcity'), np.str_('rap'), np.str_('random'), np.str_('rammed'), np.str_('raised'), np.str_('rainier'), np.str_('rained'), np.str_('railways'), np.str_('railway'), np.str_('rails'), np.str_('raiders'), np.str_('rages'), np.str_('racing'), np.str_('quoted'), np.str_('questioning'), np.str_('que'), np.str_('quartz'), np.str_('quarters'), np.str_('q'), np.str_('p\\x89Û'), np.str_('putins'), np.str_('pushing'), np.str_('push'), np.str_('purchased'), np.str_('puppy'), np.str_('puppies'), np.str_('punjab'), np.str_('punishment'), np.str_('punished'), np.str_('puncture'), np.str_('pulwama'), np.str_('pulling'), np.str_('publicizing'), np.str_('ptbo'), np.str_('pt'), np.str_('psalms'), np.str_('ps4'), np.str_('proud'), np.str_('protesting'), np.str_('protection'), np.str_('protecting'), np.str_('protectdenaliwolves'), np.str_('prosyn'), np.str_('proposed'), np.str_('proper'), np.str_('proof'), np.str_('prone'), np.str_('promote'), np.str_('projects'), np.str_('programme'), np.str_('professional'), np.str_('product'), np.str_('prod'), np.str_('privacy'), np.str_('priority'), np.str_('priorities'), np.str_('primarily'), np.str_('priceless'), np.str_('previous'), np.str_('prevention'), np.str_('pretend'), np.str_('pressed'), np.str_('preservation'), np.str_('presence'), np.str_('prepper'), np.str_('preparing'), np.str_('preorder'), np.str_('premonitions'), np.str_('premiere'), np.str_('premier'), np.str_('prediction'), np.str_('predator'), np.str_('precious'), np.str_('pre'), np.str_('potentially'), np.str_('posters'), np.str_('postbattle'), np.str_('possibility'), np.str_('poss'), np.str_('portugal'), np.str_('popularmmos'), np.str_('pops'), np.str_('poplar'), np.str_('pope'), np.str_('poorly'), np.str_('pomo'), np.str_('politifiact'), np.str_('policerun'), np.str_('pointing'), np.str_('poem'), np.str_('pocket'), np.str_('po'), np.str_('pmharper'), np.str_('pmarca'), np.str_('pluto'), np.str_('plummeted'), np.str_('pllolz'), np.str_('plenty'), np.str_('pledge'), np.str_('pleasure'), np.str_('platform'), np.str_('plants'), np.str_('planes'), np.str_('placing'), np.str_('placed'), np.str_('pjnet'), np.str_('pits'), np.str_('pitchers'), np.str_('pissed'), np.str_('pinpoint'), np.str_('piner'), np.str_('pillows'), np.str_('pill'), np.str_('pictures'), np.str_('pickup'), np.str_('pickerel'), np.str_('physicians'), np.str_('photoset'), np.str_('philadelphia'), np.str_('phil'), np.str_('phew'), np.str_('phase'), np.str_('pharaoh'), np.str_('phantom'), np.str_('peterjukes'), np.str_('pertains'), np.str_('personally'), np.str_('perquisite'), np.str_('permits'), np.str_('permanently'), np.str_('permanent'), np.str_('performing'), np.str_('performance'), np.str_('per'), np.str_('pennington'), np.str_('penn'), np.str_('pendleton'), np.str_('peeps'), np.str_('pedestrians'), np.str_('pedestrian'), np.str_('peak'), np.str_('peacefully'), np.str_('pdx911'), np.str_('pcps'), np.str_('pays'), np.str_('paved'), np.str_('pattonoswalt'), np.str_('patriot'), np.str_('pathogen'), np.str_('pasta'), np.str_('password'), np.str_('partnerships'), np.str_('particularly'), np.str_('paris'), np.str_('paramedic'), np.str_('parade'), np.str_('pants'), np.str_('pan'), np.str_('pakpattan'), np.str_('pakistannews'), np.str_('pair'), np.str_('paint'), np.str_('paid'), np.str_('pa'), np.str_('ovofest'), np.str_('ovo'), np.str_('overwork'), np.str_('overlooking'), np.str_('overload'), np.str_('ouvindo'), np.str_('outfit'), np.str_('outbid'), np.str_('outage'), np.str_('ourselves'), np.str_('otherwise'), np.str_('oth'), np.str_('oso'), np.str_('osborn'), np.str_('originalfunko'), np.str_('organizations'), np.str_('organic'), np.str_('org'), np.str_('oregon'), np.str_('ordered'), np.str_('opp'), np.str_('operations'), np.str_('opera'), np.str_('oped'), np.str_('oooooohhhh'), np.str_('oooh'), np.str_('oo'), np.str_('onlinecommunities'), np.str_('oneself'), np.str_('omega'), np.str_('oks'), np.str_('okinawa'), np.str_('ohh'), np.str_('offs'), np.str_('offramp'), np.str_('offr'), np.str_('offices'), np.str_('offers2go'), np.str_('obviously'), np.str_('obsessed'), np.str_('objects'), np.str_('obispo'), np.str_('nylon'), np.str_('nwo'), np.str_('nv'), np.str_('nurses'), np.str_('nuff'), np.str_('nude'), np.str_('ntsb'), np.str_('nowhere'), np.str_('november'), np.str_('novel'), np.str_('notifications'), np.str_('noted'), np.str_('nosurrender'), np.str_('nostrils'), np.str_('nostalgia'), np.str_('northwest'), np.str_('northland'), np.str_('northeast'), np.str_('norman'), np.str_('nor'), np.str_('nope'), np.str_('nonlife'), np.str_('noaa'), np.str_('njturnpike'), np.str_('njenga'), np.str_('nj'), np.str_('nixon'), np.str_('nikeplus'), np.str_('nights'), np.str_('nightmare'), np.str_('nickcocofree'), np.str_('nick'), np.str_('niall'), np.str_('nhs'), np.str_('nh'), np.str_('new\\x89Û'), np.str_('newzsacramento'), np.str_('newswatch'), np.str_('newsarama'), np.str_('newbie'), np.str_('newberg'), np.str_('neverending'), np.str_('netanyahu'), np.str_('nestleindia'), np.str_('nepal'), np.str_('neighborhood'), np.str_('neck'), np.str_('nda'), np.str_('nbc'), np.str_('nba'), np.str_('nazi'), np.str_('native'), np.str_('nasasolarsystem'), np.str_('narendramodi'), np.str_('nankana'), np.str_('nan'), np.str_('names'), np.str_('najib'), np.str_('nail'), np.str_('m\\x89Û'), np.str_('myfitnesspal'), np.str_('mv'), np.str_('muzzamil'), np.str_('mutual'), np.str_('mutant'), np.str_('musik'), np.str_('musicians'), np.str_('murders'), np.str_('murderers'), np.str_('mum'), np.str_('multidimensi'), np.str_('multi'), np.str_('mukilteo'), np.str_('mud'), np.str_('msnbc'), np.str_('moyo'), np.str_('mouth'), np.str_('mourns'), np.str_('moulding'), np.str_('motion'), np.str_('moscow'), np.str_('mooresville'), np.str_('montgomery'), np.str_('montetjwitter11'), np.str_('monster'), np.str_('monkeys'), np.str_('monkey'), np.str_('monitoring'), np.str_('monitor'), np.str_('moms'), np.str_('mohammed'), np.str_('moderate'), np.str_('mock'), np.str_('mobile'), np.str_('mmmmmm'), np.str_('ml'), np.str_('miyagi'), np.str_('mistreated'), np.str_('mississauga'), np.str_('missionhills'), np.str_('missiles'), np.str_('misses'), np.str_('mishacollins'), np.str_('misery'), np.str_('ministers'), np.str_('minions'), np.str_('minimehh'), np.str_('minhazmerchant'), np.str_('milwaukee'), np.str_('migrants\\x89Û'), np.str_('midwest'), np.str_('midsouth'), np.str_('midget'), np.str_('mid'), np.str_('microsofts'), np.str_('microsoft'), np.str_('microphone'), np.str_('micom'), np.str_('michelebachman'), np.str_('mic'), np.str_('mi17'), np.str_('mgm'), np.str_('metlife'), np.str_('meteoearth'), np.str_('met'), np.str_('messi'), np.str_('messed'), np.str_('messages'), np.str_('mercados'), np.str_('meme'), np.str_('meinlcymbals'), np.str_('megynkelly'), np.str_('meets'), np.str_('medium'), np.str_('medieval'), np.str_('medicine'), np.str_('medals'), np.str_('mechanical'), np.str_('measles'), np.str_('meaning'), np.str_('mcmahon'), np.str_('mchenry'), np.str_('mc'), np.str_('matthew'), np.str_('material'), np.str_('matching'), np.str_('master'), np.str_('massmurderer'), np.str_('martinmj22'), np.str_('marshall'), np.str_('married'), np.str_('marquei'), np.str_('marlon'), np.str_('marketing'), np.str_('marines'), np.str_('mariah'), np.str_('march'), np.str_('maps'), np.str_('manufactured'), np.str_('mania'), np.str_('mandatory'), np.str_('mamata'), np.str_('malik'), np.str_('maketh'), np.str_('maker'), np.str_('maintain'), np.str_('magginoodle'), np.str_('mafia'), np.str_('madison'), np.str_('lyrics'), np.str_('lying'), np.str_('luka'), np.str_('luchaunderground'), np.str_('lubbock'), np.str_('lovedup'), np.str_('lous'), np.str_('lotz'), np.str_('loseit'), np.str_('losdelsonido'), np.str_('loretta'), np.str_('looses'), np.str_('looping'), np.str_('longterm'), np.str_('longs'), np.str_('lone'), np.str_('londonfire'), np.str_('lolol'), np.str_('lollapalooza'), np.str_('logistics'), np.str_('logic'), np.str_('locked'), np.str_('located'), np.str_('loans'), np.str_('loads'), np.str_('loading'), np.str_('loaded'), np.str_('lmfaoooo'), np.str_('llf'), np.str_('lizards'), np.str_('livingsafely'), np.str_('liveonk2'), np.str_('lived'), np.str_('lith'), np.str_('lit'), np.str_('links'), np.str_('lines'), np.str_('likes'), np.str_('lightningcaused'), np.str_('lifting'), np.str_('lifetime'), np.str_('lifethreatening'), np.str_('lifestyle'), np.str_('liberal'), np.str_('liable'), np.str_('liability'), np.str_('lglorg'), np.str_('letter'), np.str_('letsfootball'), np.str_('lesson'), np.str_('lemon'), np.str_('legs'), np.str_('legislation'), np.str_('legio'), np.str_('leeds'), np.str_('learned'), np.str_('leaks'), np.str_('leaked'), np.str_('leak'), np.str_('layout'), np.str_('lawsuit'), np.str_('lawrence'), np.str_('lavenderpoetrycafe'), np.str_('lauren'), np.str_('laundry'), np.str_('latimes'), np.str_('latestnews'), np.str_('lasting'), np.str_('laois'), np.str_('lansdowne'), np.str_('language'), np.str_('lanes'), np.str_('landscape'), np.str_('lands'), np.str_('lance'), np.str_('lamha'), np.str_('lakes'), np.str_('labs'), np.str_('label'), np.str_('kurd'), np.str_('ks94'), np.str_('ks'), np.str_('kraft'), np.str_('kowing'), np.str_('koin6news'), np.str_('knowing'), np.str_('knob'), np.str_('knife'), np.str_('knees'), np.str_('km'), np.str_('kittens'), np.str_('kith'), np.str_('kisses'), np.str_('kissed'), np.str_('kiss'), np.str_('kings'), np.str_('kindness'), np.str_('kindermorgan'), np.str_('killings'), np.str_('killers'), np.str_('kiev'), np.str_('kidding'), np.str_('kerry'), np.str_('keratin'), np.str_('kendall'), np.str_('ke'), np.str_('katunews'), np.str_('katrina'), np.str_('katherines'), np.str_('kashmir'), np.str_('karma'), np.str_('kanye'), np.str_('kaduna'), np.str_('justmarried'), np.str_('justifying'), np.str_('justified'), np.str_('jurors'), np.str_('junk'), np.str_('june'), np.str_('jumped'), np.str_('juliedicaro'), np.str_('juice'), np.str_('jr'), np.str_('jp'), np.str_('journal'), np.str_('jose'), np.str_('jonvoyage'), np.str_('jones94kyle'), np.str_('jones'), np.str_('jonathanferrell'), np.str_('joint'), np.str_('johns'), np.str_('johnny'), np.str_('jkl'), np.str_('jim'), np.str_('jhaustin'), np.str_('jewelry'), np.str_('jerry'), np.str_('jenner'), np.str_('jeff'), np.str_('jealous'), np.str_('jdabe80'), np.str_('japton'), np.str_('jams'), np.str_('jamesmelville'), np.str_('jamaicaplain'), np.str_('jamaicaobserver'), np.str_('jailed'), np.str_('jacque'), np.str_('jacket'), np.str_('ja'), np.str_('i\\x89Ûªd'), np.str_('ivanberroa'), np.str_('itsjustinstuart'), np.str_('itll'), np.str_('items'), np.str_('item'), np.str_('isil'), np.str_('irony'), np.str_('ironic'), np.str_('iredell'), np.str_('iranians'), np.str_('ipod'), np.str_('ipad'), np.str_('in\\x89Û'), np.str_('investing'), np.str_('investigation'), np.str_('investigate'), np.str_('invest'), np.str_('invasion'), np.str_('interviews'), np.str_('interstate'), np.str_('interlaken'), np.str_('intelligence'), np.str_('intact'), np.str_('insubcontinent'), np.str_('inspiring'), np.str_('inspections'), np.str_('insomnia'), np.str_('insight'), np.str_('insas'), np.str_('innovation'), np.str_('injures'), np.str_('infosec'), np.str_('infinity'), np.str_('inferno'), np.str_('infectious'), np.str_('inevitably'), np.str_('inec'), np.str_('indoors'), np.str_('indie'), np.str_('indiannews'), np.str_('indi'), np.str_('incredibly'), np.str_('increase'), np.str_('incase'), np.str_('inc'), np.str_('impulse'), np.str_('improve'), np.str_('impressive'), np.str_('impressed'), np.str_('important'), np.str_('imperfect'), np.str_('impending'), np.str_('impacted'), np.str_('immediately'), np.str_('imdb'), np.str_('imagined'), np.str_('ima'), np.str_('illustration'), np.str_('ihhen'), np.str_('ignored'), np.str_('ignore'), np.str_('idol'), np.str_('idis'), np.str_('identitytheft'), np.str_('idc'), np.str_('iconic'), np.str_('icelandreview'), np.str_('i95'), np.str_('i580'), np.str_('i405'), np.str_('i10'), np.str_('h\\x89Û'), np.str_('hysteria'), np.str_('hypocrisy'), np.str_('hyderabad'), np.str_('hurricanes'), np.str_('hurricanedolce'), np.str_('humble'), np.str_('humanconsumption'), np.str_('hug'), np.str_('httpt\\x89Û'), np.str_('httptcozevakjapcz'), np.str_('httptcozdtoyd8ebj'), np.str_('httptcoyduixefipe'), np.str_('httptcoydetwgribk'), np.str_('httptcoxssgedsbh4'), np.str_('httptcoxpfmr368uf'), np.str_('httptcovz1irh0nmm'), np.str_('httptcovxvfaeey0q'), np.str_('httptcovam5podgyw'), np.str_('httptcov3azwoamzk'), np.str_('httptcouoozxaus26'), np.str_('httptcoskqpwsnoin'), np.str_('httptcosdgoutwntb'), np.str_('httptcosaf9mosksn'), np.str_('httptcoroi2nsmejj'), np.str_('httptcopyehwodwun'), np.str_('httptcopvmr38lnva'), np.str_('httptcopo19h8ycnd'), np.str_('httptcophixznv1yn'), np.str_('httptconmfsgkf1za'), np.str_('httptcomg5eajelul'), np.str_('httptcomfckpvzfv8'), np.str_('httptcom5kxlpkfa1'), np.str_('httptcom203ul6o7p'), np.str_('httptcolxtjc87kls'), np.str_('httptcolwwojxttiv'), np.str_('httptcojhpdssvhve'), np.str_('httptcoj5mkcbkcov'), np.str_('httptcoio7kuug1uq'), np.str_('httptcoiikssjgbdn'), np.str_('httptcoidmhswewqw'), np.str_('httptcoi27oa0hisp'), np.str_('httptcoeysvvza7qm'), np.str_('httptcoedyfo6e2pu'), np.str_('httptcodydfvz7amj'), np.str_('httptcoct9ejxolpu'), np.str_('httptcoc1h7jecfrv'), np.str_('httptcobtdjgwekqx'), np.str_('httptcoafmkcfn1tl'), np.str_('httptco7hanpcr5rk'), np.str_('httptco3tj8zjin21'), np.str_('httptco3sicroaanz'), np.str_('httptco0wratka2jl'), np.str_('httpstcowudlkq7ncx'), np.str_('httpstcolfkmtzaekk'), np.str_('httpstcoe8dl1lncvu'), np.str_('hr'), np.str_('housed'), np.str_('hottest'), np.str_('hostageamp2'), np.str_('hospitals'), np.str_('hoping'), np.str_('hood'), np.str_('honest'), np.str_('homs'), np.str_('homie'), np.str_('homeowners'), np.str_('holmgren'), np.str_('holed'), np.str_('holds'), np.str_('hoes'), np.str_('hoe'), np.str_('hockey'), np.str_('hmu'), np.str_('hmm'), np.str_('hiroshima70'), np.str_('hiphop'), np.str_('hinton'), np.str_('himalaya'), np.str_('hiding'), np.str_('hide'), np.str_('hidden'), np.str_('hew'), np.str_('heros'), np.str_('heroin'), np.str_('hermancranston'), np.str_('henry'), np.str_('helpline'), np.str_('hella'), np.str_('helicopters'), np.str_('heavenly'), np.str_('heartwarming'), np.str_('heartless'), np.str_('hearthstone'), np.str_('healthy'), np.str_('healthcare'), np.str_('healing'), np.str_('heal'), np.str_('headlines'), np.str_('hazmat'), np.str_('have\\x89Û'), np.str_('hatred'), np.str_('hatchetwielding'), np.str_('harwich'), np.str_('harmkid'), np.str_('hardy'), np.str_('hardline'), np.str_('hardcore'), np.str_('happily'), np.str_('handling'), np.str_('handle'), np.str_('hamburg'), np.str_('halt'), np.str_('hall'), np.str_('hahahaha'), np.str_('hahahah'), np.str_('hahaha'), np.str_('hahah'), np.str_('hah'), np.str_('hadnt'), np.str_('hackers'), np.str_('hack'), np.str_('habits'), np.str_('gym'), np.str_('gust'), np.str_('gunmen'), np.str_('gum'), np.str_('guest'), np.str_('guaranteed'), np.str_('gtii'), np.str_('growingupblack'), np.str_('growing'), np.str_('grounds'), np.str_('grenades'), np.str_('greenway'), np.str_('greenharvard'), np.str_('greek'), np.str_('greatbritishbakeoff'), np.str_('graveyard'), np.str_('gravel'), np.str_('grass'), np.str_('grandpa'), np.str_('grandeur'), np.str_('grande'), np.str_('gpm'), np.str_('governments'), np.str_('goulburn'), np.str_('gorgeous'), np.str_('goodbye'), np.str_('golem'), np.str_('goldstein'), np.str_('goku'), np.str_('gofundme'), np.str_('goat'), np.str_('gn'), np.str_('gmt'), np.str_('gmmbc'), np.str_('gloucester'), np.str_('globe'), np.str_('globalwarming'), np.str_('glink'), np.str_('glimpses'), np.str_('glenn'), np.str_('glasses'), np.str_('giveaway'), np.str_('gilbert23'), np.str_('gig'), np.str_('gif'), np.str_('ghostwriter'), np.str_('gg'), np.str_('geometric'), np.str_('genius'), np.str_('geneva'), np.str_('generalnews'), np.str_('gel'), np.str_('gear'), np.str_('gd'), np.str_('gays'), np.str_('gawx'), np.str_('gates'), np.str_('garfield'), np.str_('gardens'), np.str_('garbage'), np.str_('gander'), np.str_('gaining'), np.str_('gain'), np.str_('gadgets'), np.str_('ga'), np.str_('fury'), np.str_('function'), np.str_('fukushimatepco'), np.str_('fueling'), np.str_('fruits'), np.str_('frontlines'), np.str_('friggin'), np.str_('friendship'), np.str_('fresno'), np.str_('freshman'), np.str_('freaking'), np.str_('franklin'), np.str_('fran'), np.str_('fragile'), np.str_('foxnew\\x89Û'), np.str_('fouseytube'), np.str_('fourth'), np.str_('foster'), np.str_('for\\x89Û'), np.str_('fortune'), np.str_('fortunately'), np.str_('forth'), np.str_('forsure'), np.str_('forgive'), np.str_('forex'), np.str_('foreign'), np.str_('forbid'), np.str_('fool'), np.str_('foodscare'), np.str_('follower'), np.str_('folk'), np.str_('fold'), np.str_('fm'), np.str_('fluid'), np.str_('flow'), np.str_('florida\\x89Û'), np.str_('float'), np.str_('flip'), np.str_('fleeing'), np.str_('fled'), np.str_('flashbacks'), np.str_('fixing'), np.str_('fist'), np.str_('fire\\x89Û'), np.str_('firey'), np.str_('firetruck'), np.str_('firemen'), np.str_('firefighting'), np.str_('fir'), np.str_('finished'), np.str_('financing'), np.str_('fill'), np.str_('files'), np.str_('file'), np.str_('fifty'), np.str_('fifa16'), np.str_('fierce'), np.str_('fieg'), np.str_('fi'), np.str_('fevwarrior'), np.str_('fest'), np.str_('ferries'), np.str_('ferguson\\x89Ûªs'), np.str_('fergusons'), np.str_('fennovoima'), np.str_('fella'), np.str_('feinstein'), np.str_('federal'), np.str_('featured'), np.str_('feast'), np.str_('favs'), np.str_('favorites'), np.str_('favor'), np.str_('faulty'), np.str_('fathers'), np.str_('fatburning'), np.str_('fatally'), np.str_('fatalityus'), np.str_('fart'), np.str_('familia'), np.str_('fallacy'), np.str_('fairy'), np.str_('fairfax'), np.str_('fading'), np.str_('facing'), np.str_('facility'), np.str_('fabric'), np.str_('extinguished'), np.str_('exterminate'), np.str_('extensive'), np.str_('extension'), np.str_('extender'), np.str_('explores'), np.str_('explodes'), np.str_('explain'), np.str_('expand'), np.str_('exited'), np.str_('exhibition'), np.str_('exhausted'), np.str_('exercised'), np.str_('executing'), np.str_('excuse'), np.str_('exclusive'), np.str_('exciting'), np.str_('excited'), np.str_('exc'), np.str_('examiner'), np.str_('evolve'), np.str_('everytime'), np.str_('everybody'), np.str_('evansville'), np.str_('evanston'), np.str_('evacuating'), np.str_('ev'), np.str_('eurotunnel'), np.str_('eudrylantiqua'), np.str_('etisalat'), np.str_('et'), np.str_('esteemed'), np.str_('esh'), np.str_('escaping'), np.str_('escaped'), np.str_('ergo'), np.str_('equate'), np.str_('epicenter'), np.str_('en\\x89Û'), np.str_('envw98'), np.str_('entrepreneur'), np.str_('enroute'), np.str_('enormous'), np.str_('enhanced'), np.str_('engvaus'), np.str_('engage'), np.str_('enemies'), np.str_('endures'), np.str_('endorses'), np.str_('endangered'), np.str_('encouragement'), np.str_('encore'), np.str_('enabled'), np.str_('empty'), np.str_('empire'), np.str_('emperor'), np.str_('emotionally'), np.str_('emerges'), np.str_('emerg'), np.str_('elsa'), np.str_('elliott'), np.str_('elkhorn'), np.str_('elizabeth'), np.str_('element'), np.str_('electricity'), np.str_('eh'), np.str_('egypt'), np.str_('efak'), np.str_('ef5'), np.str_('edge'), np.str_('economies'), np.str_('eastward'), np.str_('ears'), np.str_('earnings'), np.str_('earned'), np.str_('earbuds'), np.str_('dystopian'), np.str_('dye'), np.str_('dwarves'), np.str_('dvc'), np.str_('durant'), np.str_('dunbar'), np.str_('dumb'), np.str_('dukes'), np.str_('ducks'), np.str_('duck'), np.str_('dt'), np.str_('ds'), np.str_('dryer'), np.str_('drum'), np.str_('dropping'), np.str_('droid'), np.str_('drivers'), np.str_('drifting'), np.str_('drew'), np.str_('dressed'), np.str_('dreaming'), np.str_('draw'), np.str_('drama'), np.str_('dozen'), np.str_('downstairs'), np.str_('downpours'), np.str_('downfall'), np.str_('douchebag'), np.str_('doublecups'), np.str_('dothraki'), np.str_('dorman'), np.str_('dopey'), np.str_('dope'), np.str_('doors'), np.str_('donå«t'), np.str_('dolphin'), np.str_('dollars'), np.str_('document'), np.str_('doctors'), np.str_('doctor'), np.str_('dock'), np.str_('dmpl'), np.str_('dm'), np.str_('dlh'), np.str_('divided'), np.str_('district'), np.str_('distinct'), np.str_('disruptive'), np.str_('displace'), np.str_('discussion'), np.str_('disappeared'), np.str_('disappear'), np.str_('directors'), np.str_('director'), np.str_('diplomacy'), np.str_('dijk\\x89Ûª'), np.str_('dignity'), np.str_('digits'), np.str_('digital'), np.str_('difficult'), np.str_('diesis'), np.str_('dickheads'), np.str_('dick'), np.str_('diarrhea'), np.str_('diaporama'), np.str_('diamorfiend'), np.str_('diablo'), np.str_('dey'), np.str_('devil'), np.str_('device'), np.str_('develop'), np.str_('detroit'), np.str_('destructive'), np.str_('destroyer'), np.str_('despair'), np.str_('desk'), np.str_('deserves'), np.str_('deserve'), np.str_('descriptions'), np.str_('derby'), np.str_('deputy'), np.str_('deny'), np.str_('denier'), np.str_('denial'), np.str_('denali'), np.str_('dems'), np.str_('demon'), np.str_('democrats'), np.str_('demi'), np.str_('delete'), np.str_('delayed'), np.str_('del'), np.str_('define'), np.str_('defects'), np.str_('def'), np.str_('deeds'), np.str_('decor'), np.str_('declared'), np.str_('deck\\x89Û\\x9d'), np.str_('deck'), np.str_('decent'), np.str_('debatequestionswewanttohear'), np.str_('dealbreaker'), np.str_('deadliest'), np.str_('daytoday'), np.str_('davidcameron'), np.str_('dates'), np.str_('darkest'), np.str_('dante'), np.str_('dannyonpc'), np.str_('danisnotonfire'), np.str_('daniels'), np.str_('dances'), np.str_('dambisa'), np.str_('damaging'), np.str_('cyclists'), np.str_('cycling'), np.str_('customs'), np.str_('customers'), np.str_('custom'), np.str_('custer'), np.str_('cus'), np.str_('curiosity'), np.str_('cuff'), np.str_('ctd'), np.str_('cs'), np.str_('crusty'), np.str_('crude'), np.str_('crowns'), np.str_('croat'), np.str_('critical'), np.str_('crippling'), np.str_('criminal'), np.str_('crimes'), np.str_('cried'), np.str_('crickets'), np.str_('credit'), np.str_('creating'), np.str_('creates'), np.str_('crane'), np.str_('cracks'), np.str_('cracking'), np.str_('crack'), np.str_('coyotes'), np.str_('coworker'), np.str_('cowboys'), np.str_('cow'), np.str_('coverage'), np.str_('cousins'), np.str_('courts'), np.str_('coursing'), np.str_('countynews'), np.str_('countrys'), np.str_('countless'), np.str_('couldve'), np.str_('costly'), np.str_('correspondent'), np.str_('correct'), np.str_('corp'), np.str_('corleonedaboss'), np.str_('corey'), np.str_('coral'), np.str_('copycats'), np.str_('coping'), np.str_('cope'), np.str_('cooking'), np.str_('conversations'), np.str_('conversation'), np.str_('contruction'), np.str_('controllers'), np.str_('controlled'), np.str_('contributing'), np.str_('contrast'), np.str_('contract'), np.str_('continually'), np.str_('contain'), np.str_('contact'), np.str_('constant'), np.str_('console'), np.str_('conservative'), np.str_('consent'), np.str_('connectorconnecto'), np.str_('condolence'), np.str_('condemnation'), np.str_('condemn'), np.str_('concrete'), np.str_('concluded'), np.str_('con'), np.str_('compound'), np.str_('complications'), np.str_('completed'), np.str_('complaints'), np.str_('compete'), np.str_('comparison'), np.str_('comp'), np.str_('como'), np.str_('committee'), np.str_('committed'), np.str_('commerce'), np.str_('command'), np.str_('colluded'), np.str_('collective'), np.str_('cole'), np.str_('colder'), np.str_('col'), np.str_('coincide'), np.str_('cod'), np.str_('cockpit'), np.str_('cocaine'), np.str_('coat'), np.str_('coaster'), np.str_('cnewslive'), np.str_('cmon'), np.str_('cm'), np.str_('clueless'), np.str_('closest'), np.str_('cliffs'), np.str_('clever'), np.str_('cleric'), np.str_('cleared'), np.str_('cld'), np.str_('claimed'), np.str_('cjoyner'), np.str_('civilization'), np.str_('cityofcalgary'), np.str_('cites'), np.str_('circus'), np.str_('chronicle'), np.str_('christie'), np.str_('christ'), np.str_('chris'), np.str_('choose'), np.str_('chills'), np.str_('chiefs'), np.str_('chick'), np.str_('cheyenne'), np.str_('chevrolet'), np.str_('chesttorso'), np.str_('cheryl'), np.str_('cherry'), np.str_('cherokee'), np.str_('chase'), np.str_('channels'), np.str_('changing'), np.str_('chances'), np.str_('chan'), np.str_('championship'), np.str_('challenges'), np.str_('chairs'), np.str_('chairman'), np.str_('chair'), np.str_('cfc'), np.str_('certified'), np.str_('certificate'), np.str_('centers'), np.str_('census'), np.str_('cement'), np.str_('celebrations'), np.str_('cbsbigbrother'), np.str_('cbs'), np.str_('cbc'), np.str_('cawx'), np.str_('catching'), np.str_('castle'), np.str_('casperrmg'), np.str_('cash'), np.str_('cart'), np.str_('carr'), np.str_('carpet'), np.str_('carlos'), np.str_('caribbean'), np.str_('careers'), np.str_('cape'), np.str_('canvas'), np.str_('cannon'), np.str_('candle'), np.str_('cancers'), np.str_('cancels'), np.str_('cancelled'), np.str_('canadas'), np.str_('camps'), np.str_('camping'), np.str_('cameo'), np.str_('calumet'), np.str_('cairo'), np.str_('cafire'), np.str_('cafe'), np.str_('cadfyi'), np.str_('cables'), np.str_('cab'), np.str_('c4news'), np.str_('b\\x89Û'), np.str_('bwp'), np.str_('butterfinger'), np.str_('busy'), np.str_('bundle'), np.str_('bumper'), np.str_('bump'), np.str_('bullseye'), np.str_('bullets'), np.str_('builds'), np.str_('buffer'), np.str_('bubble'), np.str_('brunette'), np.str_('bruise'), np.str_('brooke'), np.str_('bronx'), np.str_('britons'), np.str_('britney'), np.str_('brisk'), np.str_('brighton'), np.str_('brigade'), np.str_('brief'), np.str_('brick'), np.str_('brewing'), np.str_('breathing'), np.str_('bread'), np.str_('brazilian'), np.str_('bradleybrad47'), np.str_('boxing'), np.str_('bounds'), np.str_('boundary'), np.str_('boundaries'), np.str_('bottle'), np.str_('boise'), np.str_('bodys'), np.str_('bodybagging'), np.str_('bobcats'), np.str_('bmw'), np.str_('blutz10'), np.str_('blunt'), np.str_('blues'), np.str_('blueprint'), np.str_('bloomberg'), np.str_('blocks'), np.str_('blizzheroes'), np.str_('blizzarddraco'), np.str_('blames'), np.str_('blackpool'), np.str_('blacklivesmatter'), np.str_('bits'), np.str_('bites'), np.str_('bite'), np.str_('bitcoin'), np.str_('bistro'), np.str_('birmingham'), np.str_('biological'), np.str_('bills'), np.str_('billneelynbc'), np.str_('billboard'), np.str_('bicycles'), np.str_('bicycle'), np.str_('bicep'), np.str_('betz'), np.str_('bets'), np.str_('bethlehem'), np.str_('bestseller'), np.str_('bengal'), np.str_('belt'), np.str_('belly'), np.str_('believing'), np.str_('beliefs'), np.str_('belief'), np.str_('behalf'), np.str_('begging'), np.str_('beclearoncancer'), np.str_('beckarnley'), np.str_('beauty'), np.str_('bean'), np.str_('battles'), np.str_('batting'), np.str_('batteries'), np.str_('battered'), np.str_('basis'), np.str_('basically'), np.str_('bashes'), np.str_('baruch'), np.str_('barrier'), np.str_('banquet'), np.str_('bangin'), np.str_('banerjee'), np.str_('bancodeseries'), np.str_('baltimore'), np.str_('balls'), np.str_('balance'), np.str_('bakeofffriends'), np.str_('bail'), np.str_('bago'), np.str_('backyards'), np.str_('backyard'), np.str_('backup'), np.str_('backs'), np.str_('ay'), np.str_('awwww'), np.str_('awareness'), np.str_('awaits'), np.str_('avoided'), np.str_('aviation'), np.str_('avengers'), np.str_('available'), np.str_('autumn'), np.str_('autoinsurance'), np.str_('autistic'), np.str_('author'), np.str_('authentic'), np.str_('australia\\x89Ûªs'), np.str_('austin'), np.str_('aust'), np.str_('aunt'), np.str_('audience'), np.str_('auction'), np.str_('auckland'), np.str_('attraction'), np.str_('attic'), np.str_('attendance'), np.str_('attempting'), np.str_('attempt'), np.str_('atmospheric'), np.str_('atmosphere'), np.str_('atm'), np.str_('atlantic'), np.str_('atk'), np.str_('athlete'), np.str_('astrology'), np.str_('association'), np.str_('assisting'), np.str_('assistant'), np.str_('assholes'), np.str_('asleep'), np.str_('asks'), np.str_('askcharley'), np.str_('asics'), np.str_('ashley'), np.str_('ashayo'), np.str_('ash'), np.str_('asf'), np.str_('artist'), np.str_('artificial'), np.str_('arsonistmusic'), np.str_('ars'), np.str_('arriving'), np.str_('arnhem'), np.str_('armory'), np.str_('armed'), np.str_('arizona'), np.str_('ariaahrary'), np.str_('argument'), np.str_('area\\x89Û'), np.str_('architecture'), np.str_('architect'), np.str_('aquarium'), np.str_('apt'), np.str_('april'), np.str_('approves'), np.str_('approval'), np.str_('appropriation'), np.str_('approaching'), np.str_('appreciated'), np.str_('appointment'), np.str_('applies'), np.str_('applaud'), np.str_('apollobrown'), np.str_('apocalyptic'), np.str_('apartments'), np.str_('aogashima'), np.str_('anyways'), np.str_('any1'), np.str_('antonio'), np.str_('annoying'), np.str_('announces'), np.str_('announced'), np.str_('ani'), np.str_('anger'), np.str_('andrew'), np.str_('andor'), np.str_('ames'), np.str_('ambulances'), np.str_('alot'), np.str_('alois'), np.str_('ally'), np.str_('alloy'), np.str_('allies'), np.str_('allegiance'), np.str_('allegations'), np.str_('aliens'), np.str_('alien'), np.str_('alexbelloli'), np.str_('alerts'), np.str_('albany'), np.str_('alarmed'), np.str_('ak'), np.str_('agrees'), np.str_('aggressive'), np.str_('ages'), np.str_('agents'), np.str_('agency'), np.str_('ag'), np.str_('africans'), np.str_('afp'), np.str_('affiliation'), np.str_('affiliate'), np.str_('affecting'), np.str_('afc'), np.str_('advised'), np.str_('advice'), np.str_('advertised'), np.str_('adventures'), np.str_('advanced'), np.str_('admit'), np.str_('administration'), np.str_('admin'), np.str_('addition'), np.str_('adam'), np.str_('ad'), np.str_('actor'), np.str_('activities'), np.str_('acted'), np.str_('acquire'), np.str_('acoustic'), np.str_('achimota'), np.str_('accustomed'), np.str_('accounts'), np.str_('accept'), np.str_('acc'), np.str_('ac'), np.str_('abusing'), np.str_('abuseddesolateamplost'), np.str_('abused'), np.str_('abubaraa1'), np.str_('absolute'), np.str_('abomb'), np.str_('abia'), np.str_('abc7'), np.str_('abbott'), np.str_('aa'), np.str_('a5'), np.str_('a1'), np.str_('9pm'), np.str_('9newsgoldcoast'), np.str_('9am'), np.str_('96'), np.str_('90th'), np.str_('90blksamp8whts'), np.str_('9000'), np.str_('900'), np.str_('8th'), np.str_('8pin'), np.str_('84'), np.str_('83'), np.str_('77'), np.str_('75'), np.str_('72w'), np.str_('64'), np.str_('61st'), np.str_('60mph'), np.str_('60000'), np.str_('5th'), np.str_('5sosfam'), np.str_('5sos'), np.str_('5s'), np.str_('5c'), np.str_('57'), np.str_('548'), np.str_('530'), np.str_('53'), np.str_('4th'), np.str_('4playthursdays'), np.str_('4km'), np.str_('4500feet'), np.str_('43'), np.str_('429cj'), np.str_('3m'), np.str_('3inspired'), np.str_('3942'), np.str_('360'), np.str_('36'), np.str_('32'), np.str_('2k15'), np.str_('299'), np.str_('29'), np.str_('28'), np.str_('23km'), np.str_('235409'), np.str_('233liveonline'), np.str_('21a'), np.str_('211023'), np.str_('2082676773'), np.str_('2016'), np.str_('20150805'), np.str_('2012'), np.str_('2010'), np.str_('2008'), np.str_('2000'), np.str_('1999'), np.str_('1998'), np.str_('1986'), np.str_('1979'), np.str_('1976'), np.str_('1974'), np.str_('1970'), np.str_('1965'), np.str_('1943'), np.str_('1916'), np.str_('18wheeler'), np.str_('1880'), np.str_('180'), np.str_('175225'), np.str_('1716'), np.str_('166'), np.str_('15th'), np.str_('15km'), np.str_('143'), np.str_('140'), np.str_('12news'), np.str_('118'), np.str_('1100'), np.str_('10km'), np.str_('109'), np.str_('1061thetwister'), np.str_('1038pm'), np.str_('1030'), np.str_('100000'), np.str_('075'), np.str_('0700'), np.str_('070'), np.str_('06jst'), np.str_('0306'), np.str_('015025'), np.str_('005225'), np.str_('åÊi'), np.str_('åÊfedex'), np.str_('å¬only'), np.str_('å©daniel'), np.str_('å¤'), np.str_('å£9'), np.str_('å£6bn'), np.str_('å£27900end'), np.str_('å£150'), np.str_('å£100bn'), np.str_('Ìü'), np.str_('ÌÑ1'), np.str_('ÌÑ'), np.str_('Ì¢'), np.str_('\\x89âÂ'), np.str_('\\x89Û÷we'), np.str_('\\x89Û÷vulnerable\\x89Ûª'), np.str_('\\x89Û÷the'), np.str_('\\x89Û÷second\\x89Ûª'), np.str_('\\x89Û÷ransomware\\x89Ûª'), np.str_('\\x89Û÷nuclear'), np.str_('\\x89Û÷nother\\x89Û\\x9d'), np.str_('\\x89Û÷muslim'), np.str_('\\x89Û÷minimum'), np.str_('\\x89Û÷let\\x89Ûªs'), np.str_('\\x89Û÷leaves'), np.str_('\\x89Û÷it'), np.str_('\\x89Û÷institute'), np.str_('\\x89Û÷ill'), np.str_('\\x89Û÷hoax'), np.str_('\\x89Û÷hijacker'), np.str_('\\x89Û÷heat'), np.str_('\\x89Û÷hazard\\x89Ûª'), np.str_('\\x89Û÷good'), np.str_('\\x89Û÷food'), np.str_('\\x89Û÷first\\x89Ûª'), np.str_('\\x89Û÷faceless\\x89Ûª'), np.str_('\\x89Û÷faceless'), np.str_('\\x89Û÷exceptional\\x89Ûª'), np.str_('\\x89Û÷em'), np.str_('\\x89Û÷devastated\\x89Ûª'), np.str_('\\x89Û÷british'), np.str_('\\x89Û÷bomb'), np.str_('\\x89Û÷body'), np.str_('\\x89Û÷badges'), np.str_('\\x89Û÷avalanche\\x89Ûª'), np.str_('\\x89Û÷amino'), np.str_('\\x89Û÷alloosh'), np.str_('\\x89ÛÓkody'), np.str_('\\x89ÛÓher'), np.str_('\\x89ÛÒåÊcnbc'), np.str_('\\x89ÛÒthe'), np.str_('\\x89ÛÏymcglaun'), np.str_('\\x89ÛÏthehighfessions'), np.str_('\\x89ÛÏthat\\x89Ûªs'), np.str_('\\x89ÛÏsippin\\x89Ûª'), np.str_('\\x89ÛÏplans'), np.str_('\\x89ÛÏparties'), np.str_('\\x89ÛÏnumbers'), np.str_('\\x89ÛÏnobody'), np.str_('\\x89ÛÏmake'), np.str_('\\x89ÛÏmacdaddyleo'), np.str_('\\x89ÛÏlordbrathwaite'), np.str_('\\x89ÛÏlolgop'), np.str_('\\x89ÛÏleoblakecarter'), np.str_('\\x89ÛÏleejasper'), np.str_('\\x89ÛÏkeits'), np.str_('\\x89ÛÏi'), np.str_('\\x89ÛÏfor'), np.str_('\\x89ÛÏfdny'), np.str_('\\x89ÛÏdylanmcclure55'), np.str_('\\x89ÛÏdetonate\\x89Û\\x9d'), np.str_('\\x89ÛÏcat'), np.str_('\\x89ÛÏbbcwomanshour'), np.str_('\\x89ÛÏbbcengland'), np.str_('\\x89ÛÏbasedgeorgie'), np.str_('\\x89ÛÏall'), np.str_('\\x89ÛÏairplane\\x89Û\\x9d'), np.str_('\\x89ÛÏ'), np.str_('\\x89Û¢\\x89Û¢if'), np.str_('\\x89Û¢im'), np.str_('\\x89Û¢'), np.str_('zzzz'), np.str_('zxathetis'), np.str_('zurich'), np.str_('zumiez'), np.str_('zss'), np.str_('zrnf'), np.str_('zourryart'), np.str_('zotar50'), np.str_('zoom'), np.str_('zonewolf123'), np.str_('zonesthank'), np.str_('zones'), np.str_('zombies'), np.str_('zombiefunrun2014'), np.str_('zomatoaus'), np.str_('zojadelin'), np.str_('zodiac'), np.str_('zmne'), np.str_('ziuw'), np.str_('zippoline'), np.str_('zippers'), np.str_('zipper'), np.str_('zipped'), np.str_('ziphimup'), np.str_('zip'), np.str_('zionists'), np.str_('zimmerman'), np.str_('zimmer'), np.str_('zicac'), np.str_('zhenghxn'), np.str_('zhejiang'), np.str_('zeros'), np.str_('zero'), np.str_('zergele'), np.str_('zeno001'), np.str_('zenandemcfen'), np.str_('zehrs'), np.str_('zeal'), np.str_('zaynmaiikist'), np.str_('zarry'), np.str_('zarharzar'), np.str_('zar'), np.str_('zamtriossu'), np.str_('zaman'), np.str_('zakuun'), np.str_('zakbagans'), np.str_('zaibatsunews'), np.str_('zachzaidman'), np.str_('zach'), np.str_('zacb'), np.str_('zaatari'), np.str_('z3kesk1'), np.str_('yzf'), np.str_('yyj'), np.str_('yyeso'), np.str_('yycweather'), np.str_('yycfringe'), np.str_('yuvi'), np.str_('yuuko'), np.str_('yuppies'), np.str_('yup'), np.str_('yunita99'), np.str_('yumiko'), np.str_('yum'), np.str_('yukis'), np.str_('yug'), np.str_('yuan'), np.str_('ypg'), np.str_('yo\\x89Û'), np.str_('you\\x89Û\\x9d'), np.str_('you\\x89Û'), np.str_('youuu'), np.str_('youssefyamani'), np.str_('yourboyshawn'), np.str_('younoone'), np.str_('young\\x89Û'), np.str_('youngsafe'), np.str_('youngins'), np.str_('youngerampgrossly'), np.str_('younger'), np.str_('yosemite'), np.str_('yorkshire'), np.str_('yor'), np.str_('yonews'), np.str_('yolk'), np.str_('yolandaph'), np.str_('yogurt'), np.str_('yoga'), np.str_('yoenis'), np.str_('ymcglaun'), np.str_('ykelquiban'), np.str_('yiraneuni'), np.str_('yikes'), np.str_('yield'), np.str_('yiayplan'), np.str_('yhngsjlg'), np.str_('yh'), np.str_('yeyeulala'), np.str_('yessum'), np.str_('yeshayad'), np.str_('yennora'), np.str_('yemenis'), np.str_('yellows'), np.str_('yelllowheather'), np.str_('yelled'), np.str_('yell'), np.str_('yehuda'), np.str_('yeehaw'), np.str_('yeat'), np.str_('yeaahh'), np.str_('yday'), np.str_('ybtheprophet'), np.str_('yazidishingalgenocide'), np.str_('yard'), np.str_('yamashiro'), np.str_('yamaguchi'), np.str_('yahootv'), np.str_('yahoonewsdigest'), np.str_('yahoofinancehope'), np.str_('yahoocare'), np.str_('yahoo7'), np.str_('yahistorical'), np.str_('yagitudeh'), np.str_('yaboiluke'), np.str_('xylodemon'), np.str_('xxhjesc'), np.str_('xvii'), np.str_('xtra1360'), np.str_('xrays'), np.str_('xpost'), np.str_('xoxo'), np.str_('xojademarie124'), np.str_('xo'), np.str_('xmen'), np.str_('xmas'), np.str_('xl'), np.str_('xkdrx'), np.str_('xii'), np.str_('xhnews'), np.str_('xgninfinity'), np.str_('xfiles'), np.str_('xeni'), np.str_('xela'), np.str_('xekstrin'), np.str_('xdojjjj'), np.str_('xdescry'), np.str_('xboxone'), np.str_('xb1'), np.str_('xaviermarquis'), np.str_('xavier'), np.str_('x37bs'), np.str_('x2'), np.str_('x1441'), np.str_('x1434'), np.str_('x1411'), np.str_('x1402'), np.str_('x1392'), np.str_('x1386'), np.str_('w\\x89Û'), np.str_('wzbt'), np.str_('wyrmwood'), np.str_('wyou'), np.str_('wyattb23'), np.str_('wxky'), np.str_('wxii'), np.str_('wxiatv'), np.str_('wwwbigbaldhead'), np.str_('www'), np.str_('wwp'), np.str_('wwexdreamer'), np.str_('wwa'), np.str_('ww3'), np.str_('ww'), np.str_('wut'), np.str_('wugliness'), np.str_('wtwitter'), np.str_('wtony'), np.str_('wth'), np.str_('wtc'), np.str_('wsvr1686b'), np.str_('wsoc'), np.str_('wsoaring'), np.str_('wsls'), np.str_('wsjthinktank'), np.str_('wsj'), np.str_('wsazbrittany'), np.str_('wroug'), np.str_('wrote'), np.str_('wrongway'), np.str_('wrongperson'), np.str_('wrongdejavu'), np.str_('wrked'), np.str_('writingtips'), np.str_('writers'), np.str_('writebothfists'), np.str_('wristband'), np.str_('wrightsboro'), np.str_('wrestler'), np.str_('wrestleon'), np.str_('wreak'), np.str_('wrapped'), np.str_('wrap'), np.str_('wraith'), np.str_('wr'), np.str_('wqow'), np.str_('wpt994'), np.str_('wps'), np.str_('wpo'), np.str_('wowthe'), np.str_('wowsavannah'), np.str_('wout'), np.str_('wounded\\x89Û\\x9d'), np.str_('woundedpigeon'), np.str_('wouldelectrocute'), np.str_('worthless'), np.str_('worstoverdose'), np.str_('worstever'), np.str_('worship'), np.str_('worsen'), np.str_('worseits'), np.str_('worrying'), np.str_('worm'), np.str_('worldwatchesferguson'), np.str_('worldvision'), np.str_('worldpay'), np.str_('worldoil'), np.str_('worldnetdailyhomosexuality'), np.str_('worldlets'), np.str_('workspace'), np.str_('workd'), np.str_('wordpressdotcom'), np.str_('wordk'), np.str_('wording'), np.str_('wooooooo'), np.str_('woodward'), np.str_('woodland'), np.str_('wooden'), np.str_('woodchucks'), np.str_('woo'), np.str_('wonders'), np.str_('wonderousallure'), np.str_('wonderkid'), np.str_('wonderfully'), np.str_('wompppp'), np.str_('women\\x89Ûª'), np.str_('womengirls'), np.str_('womem'), np.str_('womb'), np.str_('woman\\x89Ûªs'), np.str_('wolter'), np.str_('wolforth'), np.str_('woken'), np.str_('woes'), np.str_('woah'), np.str_('wnw'), np.str_('wnukes'), np.str_('wniagospel'), np.str_('wn'), np.str_('wmiddle'), np.str_('wm'), np.str_('wld'), np.str_('wlandslide'), np.str_('wkrn'), np.str_('wknd'), np.str_('wk'), np.str_('wizard'), np.str_('wiwnpfxa'), np.str_('witnessing'), np.str_('witnesses'), np.str_('witnessed'), np.str_('withåÊannihilation'), np.str_('withstand'), np.str_('withering'), np.str_('withdrawur'), np.str_('withdraws'), np.str_('witch'), np.str_('wishlist'), np.str_('wishing'), np.str_('wished'), np.str_('wisely'), np.str_('wise'), np.str_('wisdomwed'), np.str_('wisdom'), np.str_('wisdc'), np.str_('wipes'), np.str_('winnipeg'), np.str_('winning'), np.str_('winner'), np.str_('winik'), np.str_('wingers'), np.str_('winged'), np.str_('wing'), np.str_('winechat'), np.str_('windwakerstyle'), np.str_('windstormåÊinsurer'), np.str_('windstormfollow'), np.str_('windsor'), np.str_('windows10'), np.str_('windowgatribble'), np.str_('windmy'), np.str_('windits'), np.str_('win10'), np.str_('wimp'), np.str_('wimbledon'), np.str_('wilsons'), np.str_('willow'), np.str_('willis'), np.str_('willinghearted'), np.str_('willieami'), np.str_('willian'), np.str_('willhillbet'), np.str_('wildwestsixgun'), np.str_('wildlooking'), np.str_('wildlionx3'), np.str_('wildlife'), np.str_('wildhorses'), np.str_('wilden'), np.str_('wikipedia'), np.str_('wii'), np.str_('wifi'), np.str_('wifekids'), np.str_('wiedemer'), np.str_('width'), np.str_('widout'), np.str_('wider'), np.str_('widda16'), np.str_('wickett'), np.str_('whyor'), np.str_('whvholst'), np.str_('who\\x89Û'), np.str_('whopperjr760'), np.str_('whod'), np.str_('whocares'), np.str_('whitt'), np.str_('whitewashes'), np.str_('whistled'), np.str_('whistleblower'), np.str_('whiskey'), np.str_('whippenz'), np.str_('whipe'), np.str_('whimsy'), np.str_('while\\x89Û'), np.str_('whereas'), np.str_('wher'), np.str_('whensoever'), np.str_('whelen'), np.str_('wheelsio'), np.str_('wheel'), np.str_('whedonesque'), np.str_('wheatley'), np.str_('whatevs'), np.str_('whatever'), np.str_('whatcanthedo'), np.str_('whashtag'), np.str_('whackamole'), np.str_('wha'), np.str_('wfries'), np.str_('wfaaweather'), np.str_('we\\x89Ûªve'), np.str_('we\\x89Ûªre'), np.str_('wexler'), np.str_('wews'), np.str_('wew'), np.str_('west\\x89Ûªs'), np.str_('westward'), np.str_('wests'), np.str_('westminister'), np.str_('westmarch'), np.str_('westerosnah'), np.str_('westeros'), np.str_('westerncanadadrought'), np.str_('westchester'), np.str_('wesleylowery'), np.str_('wesley'), np.str_('wereonadesolateplanet'), np.str_('weren\\x89Ûªt'), np.str_('wenger'), np.str_('wendell'), np.str_('welshninja87'), np.str_('weloveyoulouis'), np.str_('weloverobdyrdek'), np.str_('welovela'), np.str_('wells'), np.str_('wellknown'), np.str_('wellgrounded'), np.str_('welles7'), np.str_('welladjusted'), np.str_('welcomes'), np.str_('weirdo'), np.str_('weiqin'), np.str_('weights'), np.str_('weightless'), np.str_('weigh'), np.str_('weep'), np.str_('weeklong'), np.str_('weekends'), np.str_('weei'), np.str_('weebly'), np.str_('wednesday\\x89Û'), np.str_('wednes'), np.str_('wedneday'), np.str_('wedgie'), np.str_('weddinghour'), np.str_('websites'), np.str_('webinar'), np.str_('web'), np.str_('weatherstay'), np.str_('weatherit'), np.str_('wears'), np.str_('weaponxmusic'), np.str_('wealilknowa'), np.str_('weaknesses'), np.str_('weakness'), np.str_('wdyouth'), np.str_('wdym'), np.str_('wdtv'), np.str_('wderailed'), np.str_('wcw'), np.str_('wctv35'), np.str_('wccorosen'), np.str_('wc'), np.str_('wbu'), np.str_('wbre'), np.str_('wbcshirl2'), np.str_('wbc2015'), np.str_('waziristan'), np.str_('way\\x89Û\\x9dyeah'), np.str_('wayward'), np.str_('waynesteratl'), np.str_('wayi'), np.str_('wayfieldstone'), np.str_('wave\\x89Ûª'), np.str_('waved'), np.str_('wattys2015'), np.str_('wattle'), np.str_('water\\x89Û'), np.str_('watersafety'), np.str_('waterproof'), np.str_('waterfur'), np.str_('waterboarding'), np.str_('watchthevideo'), np.str_('watchout'), np.str_('watchin'), np.str_('watches'), np.str_('wasting'), np.str_('wastenoxious'), np.str_('wastelands'), np.str_('wasted'), np.str_('wasn\\x89Ûªt'), np.str_('wasnamp8217t'), np.str_('wasilla'), np.str_('washing'), np.str_('washard'), np.str_('waseembadami'), np.str_('war\\x89Û'), np.str_('warzone'), np.str_('wartime'), np.str_('warthen'), np.str_('warsgoddess'), np.str_('warriorcord'), np.str_('warranted'), np.str_('warra'), np.str_('warped'), np.str_('warningwild'), np.str_('warnings900037'), np.str_('warnerrobins'), np.str_('warned\\x89Û\\x9d'), np.str_('warmth'), np.str_('warmbodies'), np.str_('warlordqueen'), np.str_('warfare'), np.str_('wardens'), np.str_('ward'), np.str_('wantmyabsback'), np.str_('wanother'), np.str_('wank'), np.str_('wander'), np.str_('waltdisney'), np.str_('wall\\x89Û\\x9d'), np.str_('wallybaiter'), np.str_('wales'), np.str_('wakho'), np.str_('wakeupflorida'), np.str_('waiver'), np.str_('waited'), np.str_('waimea'), np.str_('wahpeton'), np.str_('wahhabism'), np.str_('wage\\x89Ûª'), np.str_('waferthin'), np.str_('wackos'), np.str_('wackoes'), np.str_('vÌdeo'), np.str_('v\\x89Û'), np.str_('vzwsupport'), np.str_('vvorm'), np.str_('vuzuhustle'), np.str_('vulnerability'), np.str_('vulnera'), np.str_('vuln'), np.str_('vtc'), np.str_('vroman'), np.str_('vra50\\x89Û\\x9d'), np.str_('votes'), np.str_('voters'), np.str_('vosloorus'), np.str_('vortex'), np.str_('voortrekker'), np.str_('voodooben'), np.str_('volunteers'), np.str_('volunteer'), np.str_('voltaire'), np.str_('volfan326'), np.str_('volcanotornado'), np.str_('volcanodiscover'), np.str_('volcanic'), np.str_('void'), np.str_('voices'), np.str_('vodka'), np.str_('vocals'), np.str_('vocalist'), np.str_('vocal'), np.str_('vmas'), np.str_('vj44'), np.str_('vi\\x89Û'), np.str_('vixstuart'), np.str_('vixmeldrew'), np.str_('vivid'), np.str_('vivianunhcr'), np.str_('viviangiang'), np.str_('vivian'), np.str_('vivaargentina'), np.str_('vitesse'), np.str_('vitaly'), np.str_('vitalvegas'), np.str_('vita'), np.str_('visting'), np.str_('visiting'), np.str_('visionzero'), np.str_('visible'), np.str_('visibility'), np.str_('visage'), np.str_('virtual'), np.str_('vir'), np.str_('viper'), np.str_('violin'), np.str_('violets'), np.str_('violentfeminazi'), np.str_('violators'), np.str_('violation'), np.str_('violated'), np.str_('vinustrip'), np.str_('vinnie'), np.str_('vines'), np.str_('vincent'), np.str_('vimvith'), np.str_('vimeo'), np.str_('villicanaalicia'), np.str_('villa'), np.str_('vilelunar'), np.str_('vikings'), np.str_('vigils'), np.str_('vigilent'), np.str_('views'), np.str_('viennabutcher'), np.str_('videogame'), np.str_('videoclip'), np.str_('victorious'), np.str_('victorias'), np.str_('victorian'), np.str_('victoriagittins'), np.str_('vickybrush'), np.str_('vichardy'), np.str_('vibrates'), np.str_('vibrate'), np.str_('viab'), np.str_('vhull'), np.str_('vhs'), np.str_('vgbootcamp'), np.str_('vets78734'), np.str_('vestment'), np.str_('vessels'), np.str_('versus'), np.str_('veronicadlcruz'), np.str_('vern'), np.str_('vermilion'), np.str_('verhoek'), np.str_('vergil'), np.str_('verge'), np.str_('verde'), np.str_('venture'), np.str_('ventilated'), np.str_('vent'), np.str_('venoms'), np.str_('veneto'), np.str_('veldfest'), np.str_('veld'), np.str_('veins'), np.str_('veil'), np.str_('veggies'), np.str_('vegetables'), np.str_('vegassolitude'), np.str_('vegan'), np.str_('veg'), np.str_('vector'), np.str_('vaxshill'), np.str_('vast'), np.str_('vassalboro'), np.str_('varagesale'), np.str_('vanpoli'), np.str_('vannuyscouncil'), np.str_('vanishing'), np.str_('vanished'), np.str_('vanilla'), np.str_('vanessas'), np.str_('vanessa'), np.str_('vandalized'), np.str_('vancouveråÊisland'), np.str_('vampires'), np.str_('value'), np.str_('valuations'), np.str_('valleywx'), np.str_('vallerand'), np.str_('valentines'), np.str_('vale'), np.str_('valdes1978'), np.str_('vail'), np.str_('vai'), np.str_('vaginaorcake'), np.str_('vagersedolla'), np.str_('vaccines'), np.str_('vaccine'), np.str_('vacancies'), np.str_('vaca'), np.str_('vabengal'), np.str_('v452'), np.str_('u\\x89Û'), np.str_('ux'), np.str_('uvopwz'), np.str_('uve'), np.str_('uv'), np.str_('utv'), np.str_('utp'), np.str_('utopian'), np.str_('utilized'), np.str_('utility'), np.str_('utica'), np.str_('utfire'), np.str_('utd'), np.str_('utc3km'), np.str_('utc20150806'), np.str_('utahgrizz'), np.str_('utahcanary'), np.str_('uswarcrimes'), np.str_('usw'), np.str_('uspacific'), np.str_('usmnt'), np.str_('ushanka'), np.str_('usg'), np.str_('usfs'), np.str_('useless'), np.str_('usdot'), np.str_('usbush'), np.str_('usatodaynfl'), np.str_('usat'), np.str_('usarmy'), np.str_('usamisan'), np.str_('usama'), np.str_('usagi'), np.str_('usage'), np.str_('urufusanragu'), np.str_('uruan'), np.str_('urself'), np.str_('urogyn'), np.str_('urine'), np.str_('uriminzok'), np.str_('urgentthere'), np.str_('urg'), np.str_('urbanisation'), np.str_('urbanfashion\\x89Û'), np.str_('urban'), np.str_('uranium'), np.str_('upwindstorm'), np.str_('upward'), np.str_('uptownjorge'), np.str_('uptown'), np.str_('uptotheminute'), np.str_('upstairs'), np.str_('upsetting'), np.str_('uprooting'), np.str_('uprootin'), np.str_('uplifting'), np.str_('upi'), np.str_('uphill'), np.str_('upgrades'), np.str_('updateme'), np.str_('upcoming'), np.str_('upah'), np.str_('upa'), np.str_('unwomen'), np.str_('unwarranted'), np.str_('unwanted'), np.str_('unu'), np.str_('unto'), np.str_('untill'), np.str_('untameddirewolf'), np.str_('unsurprisingly'), np.str_('unsure'), np.str_('unsuccessful'), np.str_('unstoppable'), np.str_('unstable'), np.str_('unsigned'), np.str_('unsensibly'), np.str_('unsecured'), np.str_('unrecognized'), np.str_('unrealtouch'), np.str_('unreal'), np.str_('unprepared'), np.str_('unpredictable'), np.str_('unplug'), np.str_('unpacked'), np.str_('unnewsteam'), np.str_('unloads'), np.str_('unlicensed'), np.str_('unknowingly'), np.str_('univsfoundation'), np.str_('universityoflaw'), np.str_('uniteblue'), np.str_('unite'), np.str_('uninvestigated'), np.str_('unimpressed'), np.str_('unimaginable'), np.str_('unhinged'), np.str_('unhealed'), np.str_('unharmed'), np.str_('unhappy'), np.str_('ungodly'), np.str_('unfortunemelody'), np.str_('unfollow'), np.str_('unfold'), np.str_('unfml'), np.str_('unfair'), np.str_('unexplainable'), np.str_('unending'), np.str_('undone'), np.str_('undetected'), np.str_('undeserving'), np.str_('underwritersenior'), np.str_('underwriter'), np.str_('understood'), np.str_('understand\\x89Û\\x9d'), np.str_('understandable'), np.str_('underpasses'), np.str_('undermined'), np.str_('undergroundrailraod'), np.str_('undergroundbestsellers'), np.str_('underground'), np.str_('underestimate'), np.str_('uncover'), np.str_('uncontrolled'), np.str_('uncontrollable'), np.str_('unconsciously'), np.str_('unconscious'), np.str_('unconditional'), np.str_('uncommon'), np.str_('uncomfortable'), np.str_('uncles'), np.str_('uncertaintyeconomic'), np.str_('uncertain'), np.str_('unbelievably'), np.str_('unaware'), np.str_('unauthorized'), np.str_('unarmed'), np.str_('unaddressed'), np.str_('unable'), np.str_('umntu'), np.str_('umm'), np.str_('umbrella'), np.str_('um'), np.str_('uluru'), np.str_('ultimatum'), np.str_('ullman'), np.str_('uk\\x89Ûªs'), np.str_('ukraines'), np.str_('uknews'), np.str_('ukfrance'), np.str_('ukfloods'), np.str_('uhmmmm'), np.str_('uhhhhh'), np.str_('uglypeople'), np.str_('uglyamesocialaction'), np.str_('ugliest'), np.str_('ugc'), np.str_('ufo4ublogeurope'), np.str_('ufn'), np.str_('udom'), np.str_('udhampuragain'), np.str_('uchicago'), np.str_('uabstephenlong'), np.str_('u2'), np.str_('tÌüp'), np.str_('t\\x89Û'), np.str_('tyrone'), np.str_('tyrant'), np.str_('typography'), np.str_('typing'), np.str_('typical'), np.str_('typhoon\\x89Û'), np.str_('typewriter'), np.str_('tyleroakley'), np.str_('tyar'), np.str_('txt'), np.str_('txlege'), np.str_('tx'), np.str_('twx'), np.str_('twoptwips'), np.str_('twoout'), np.str_('twitsandiego'), np.str_('twitch'), np.str_('twist'), np.str_('twill'), np.str_('twilights'), np.str_('twi'), np.str_('twentysix'), np.str_('tweetstorm'), np.str_('tweetinglew'), np.str_('tweeting'), np.str_('tweeted'), np.str_('tweet4taiji'), np.str_('tween'), np.str_('twcnews'), np.str_('twain'), np.str_('tvshowtime'), np.str_('tvjnews'), np.str_('tutorials'), np.str_('tusky'), np.str_('turner'), np.str_('turnedonfetaboo'), np.str_('turdnado'), np.str_('turbojet'), np.str_('tunisian'), np.str_('tunisia'), np.str_('tunis'), np.str_('tuneswgg'), np.str_('tuned'), np.str_('tunas'), np.str_('tumblr'), np.str_('tumbling'), np.str_('tumbles'), np.str_('tulowitzki'), np.str_('tullamarine'), np.str_('tuicruises'), np.str_('tuffers'), np.str_('tuesdays'), np.str_('tucson'), np.str_('tub'), np.str_('tu'), np.str_('ttw'), np.str_('tthe'), np.str_('tsutomi'), np.str_('tsunamis'), np.str_('tsipras'), np.str_('tshirts'), np.str_('tshirt'), np.str_('trynna'), np.str_('truthsof'), np.str_('trustymclusty'), np.str_('trusting'), np.str_('trusted'), np.str_('trulystings'), np.str_('truestory'), np.str_('truediagnosis'), np.str_('truckload'), np.str_('truckcrash'), np.str_('tru'), np.str_('trpreston01'), np.str_('trp'), np.str_('troyslaby22'), np.str_('troylercraft'), np.str_('troye'), np.str_('troupe'), np.str_('troubleonmymind'), np.str_('trophyhunt'), np.str_('trophy'), np.str_('trophies'), np.str_('tropes'), np.str_('trooper'), np.str_('trombonetristan'), np.str_('trollkrattos'), np.str_('trollingtilmeekdiss'), np.str_('troisrivieres'), np.str_('trjdavis'), np.str_('trixiedrowned'), np.str_('trivium'), np.str_('triumphs'), np.str_('triumphant'), np.str_('triumph'), np.str_('trinna'), np.str_('trim'), np.str_('trillac'), np.str_('trigger'), np.str_('trident'), np.str_('tricycle'), np.str_('tricky'), np.str_('trickxie'), np.str_('trickshot'), np.str_('trickier'), np.str_('triciaoneillphoto'), np.str_('triciaoneill'), np.str_('tribez'), np.str_('tribe'), np.str_('trib'), np.str_('triangle'), np.str_('triad'), np.str_('treyarch'), np.str_('trey'), np.str_('trestle'), np.str_('trend\\x89Û\\x9d'), np.str_('trends'), np.str_('trending'), np.str_('trench\\x89Û'), np.str_('tren'), np.str_('tremors'), np.str_('tremont'), np.str_('tremblayeh'), np.str_('trekkers'), np.str_('treescape'), np.str_('treblinka'), np.str_('treatmen'), np.str_('treasures'), np.str_('treasurehouse'), np.str_('trc'), np.str_('tray'), np.str_('travellers'), np.str_('travelelixir'), np.str_('trash'), np.str_('traplord29'), np.str_('transwomen'), np.str_('transportation'), np.str_('transporta'), np.str_('translated'), np.str_('transgress'), np.str_('transgendered'), np.str_('transgender'), np.str_('transcription'), np.str_('trampling'), np.str_('traitor'), np.str_('traintragedy'), np.str_('trained'), np.str_('trailheads'), np.str_('trailed'), np.str_('trail'), np.str_('trafficnetwork'), np.str_('traditionalist'), np.str_('trader'), np.str_('trade'), np.str_('tradcatknight'), np.str_('tracy'), np.str_('tractor'), np.str_('tracklist'), np.str_('tracey'), np.str_('trace'), np.str_('tra'), np.str_('tps'), np.str_('tprimo24'), np.str_('to\\x89Û'), np.str_('tozlet'), np.str_('toyota'), np.str_('toxicsavior'), np.str_('toxiccancerdiseasehazardous'), np.str_('toxic'), np.str_('towns'), np.str_('towing'), np.str_('tower\\x89Ûª'), np.str_('tower'), np.str_('towboat'), np.str_('tow'), np.str_('tours'), np.str_('tournaments'), np.str_('tournament'), np.str_('tourists'), np.str_('tounge'), np.str_('toughens'), np.str_('touching'), np.str_('touchdown'), np.str_('tottenham'), np.str_('totteham'), np.str_('totoooooooooo'), np.str_('totoooooo'), np.str_('totalitarianism'), np.str_('totalitarian'), np.str_('tosu'), np.str_('toss'), np.str_('tos'), np.str_('tory'), np.str_('tort'), np.str_('torso'), np.str_('torrential'), np.str_('torrent'), np.str_('torrecilla'), np.str_('torrance'), np.str_('torontorc'), np.str_('tornadogiveaway'), np.str_('tormented'), np.str_('tories'), np.str_('tora'), np.str_('topic'), np.str_('topdown'), np.str_('top25'), np.str_('tootrue'), np.str_('toosoon'), np.str_('toooooo'), np.str_('tookitlikeaman'), np.str_('tookem'), np.str_('toocodtodd'), np.str_('tonysandos'), np.str_('tonymcguinness'), np.str_('tonyhsieh'), np.str_('tonycottee1986'), np.str_('tonyburke'), np.str_('tonyabbottmhr'), np.str_('tony'), np.str_('tonne'), np.str_('tonight\\x89Ûªs'), np.str_('tonguetwister'), np.str_('ton'), np.str_('tomorrow\\x89Ûªs'), np.str_('tommorow'), np.str_('tomlinson'), np.str_('tomislav'), np.str_('tomfromireland'), np.str_('tomdean86'), np.str_('tomclancy'), np.str_('tolled'), np.str_('tolewantg'), np.str_('tolerated'), np.str_('tolerance'), np.str_('tokteacher'), np.str_('toilets'), np.str_('toiindianews'), np.str_('togthe'), np.str_('toes'), np.str_('toenail'), np.str_('toe'), np.str_('toddyrockstar'), np.str_('toddstarnes'), np.str_('toddcalfee'), np.str_('today\\x89Ûªs'), np.str_('todaythat'), np.str_('todayngr'), np.str_('todayng'), np.str_('todayim'), np.str_('todayhave'), np.str_('today4got'), np.str_('tod'), np.str_('tobiasellwood'), np.str_('tnwx'), np.str_('tnn'), np.str_('tneazzy'), np.str_('tna'), np.str_('tn'), np.str_('tms7'), np.str_('tmake'), np.str_('tlvfacesauspol'), np.str_('tlvfaces'), np.str_('tloz'), np.str_('tlk'), np.str_('tkyonly1fmk'), np.str_('tjrobertson2'), np.str_('tj'), np.str_('titty'), np.str_('tittie'), np.str_('titortau'), np.str_('titolo'), np.str_('titania'), np.str_('titadom'), np.str_('tita'), np.str_('tirelessly'), np.str_('tire'), np.str_('tipster'), np.str_('tip'), np.str_('tinybaby'), np.str_('tiny'), np.str_('tinted'), np.str_('ting'), np.str_('tindering'), np.str_('tinderbox'), np.str_('tinder'), np.str_('timmicallef'), np.str_('timing'), np.str_('time\\x89Û\\x9d'), np.str_('timesofindia'), np.str_('timesap'), np.str_('timed'), np.str_('timebomb'), np.str_('timber'), np.str_('timaroberts'), np.str_('tightly'), np.str_('tight'), np.str_('tiggr'), np.str_('tigersjostun'), np.str_('tiffanyfrizzell'), np.str_('tier'), np.str_('tide'), np.str_('tidalhifi'), np.str_('ticklemeshawn'), np.str_('tianta'), np.str_('th\\x89Û'), np.str_('thursdays'), np.str_('thursd'), np.str_('thurs'), np.str_('thurlow'), np.str_('thunderstormtornado'), np.str_('thundersnow'), np.str_('thugging'), np.str_('thucydiplease'), np.str_('tht'), np.str_('thruuu'), np.str_('thrusts'), np.str_('throwin'), np.str_('thriving'), np.str_('threesome'), np.str_('threealarm'), np.str_('threat\\x89Ûª'), np.str_('threatintel'), np.str_('threatconnect'), np.str_('thread'), np.str_('thrarchives'), np.str_('thr'), np.str_('thoutaylorbrown'), np.str_('thoughwill'), np.str_('thou'), np.str_('thoroughly'), np.str_('thorium'), np.str_('thorins'), np.str_('thorgan'), np.str_('thomassmonson'), np.str_('thomashcrown'), np.str_('thnk'), np.str_('thi\\x89Û'), np.str_('this\\x89Û'), np.str_('thisispublichealth'), np.str_('thisisperidot'), np.str_('thisishavehope'), np.str_('thisisfaz'), np.str_('thisdayinhistory'), np.str_('thirtyfive'), np.str_('thirdquarter'), np.str_('thinner'), np.str_('thinkpink'), np.str_('thingsihate'), np.str_('thh'), np.str_('they\\x89Ûªd'), np.str_('thexfiles201days'), np.str_('thewesterngaz'), np.str_('thetxi'), np.str_('thetshirtkid'), np.str_('thetimepast'), np.str_('thestrain'), np.str_('thesmallclark'), np.str_('thesewphist'), np.str_('thesensualeye'), np.str_('theresmorewherethatcamefrom'), np.str_('thereof'), np.str_('thereisonlysex'), np.str_('therein'), np.str_('therefore'), np.str_('therealrittz'), np.str_('thereal'), np.str_('theramin'), np.str_('thepartyofmeanness'), np.str_('then\\x89Û'), np.str_('thenissonian'), np.str_('thenewshype'), np.str_('theneeds'), np.str_('themhe'), np.str_('themermacorn'), np.str_('theme'), np.str_('themalemadonna'), np.str_('themaine'), np.str_('thelegendblue'), np.str_('thejonesesvoice'), np.str_('thejenmorillo'), np.str_('theirs'), np.str_('thehobbit'), np.str_('thehammers'), np.str_('thegreenparty'), np.str_('theghostparty'), np.str_('theevilolives'), np.str_('theemobrago'), np.str_('theellenshow'), np.str_('theeconomist'), np.str_('thedoolinggroup'), np.str_('thedayct'), np.str_('thedarktower'), np.str_('thedailyshow'), np.str_('thedailybeast'), np.str_('thecomedyquote'), np.str_('theburnageblue'), np.str_('thebriankrause'), np.str_('theboyofmasks'), np.str_('thebookclub'), np.str_('theblackshag'), np.str_('thebargain'), np.str_('thebachelorette'), np.str_('theatres'), np.str_('theatlantic'), np.str_('theatershooting'), np.str_('theashes'), np.str_('theadvocatemag'), np.str_('thda'), np.str_('that\\x89Û'), np.str_('thatwitchem'), np.str_('thatswhatfriendsarefor'), np.str_('thatsabinegirl'), np.str_('thatrussianman'), np.str_('thatpersianguy'), np.str_('thatnot'), np.str_('thatfatguy'), np.str_('thatdes'), np.str_('thatd'), np.str_('thankyou'), np.str_('thanku'), np.str_('thankkk'), np.str_('thanking'), np.str_('thalapathi'), np.str_('thailand'), np.str_('thai'), np.str_('tfw'), np.str_('tfb'), np.str_('te\\x89Û'), np.str_('texture'), np.str_('texts'), np.str_('texting'), np.str_('texaschainsawmassacre'), np.str_('texans'), np.str_('testy'), np.str_('testify'), np.str_('testified'), np.str_('testicles'), np.str_('tesco'), np.str_('terwilliger'), np.str_('tersestuff'), np.str_('territory'), np.str_('terrified'), np.str_('terrific'), np.str_('terrain'), np.str_('termn8r13'), np.str_('terminated'), np.str_('terell'), np.str_('tepat'), np.str_('tents'), np.str_('tenshi'), np.str_('tennis'), np.str_('tennews'), np.str_('tends'), np.str_('ten4'), np.str_('tem\\x89Û'), np.str_('temps'), np.str_('temporary'), np.str_('temporarily'), np.str_('templates'), np.str_('temperature'), np.str_('temp'), np.str_('temecula'), np.str_('temecafreeman'), np.str_('telnet'), np.str_('tellyfckngo'), np.str_('tellyampi'), np.str_('telly'), np.str_('telltales'), np.str_('teleported'), np.str_('telemarketing'), np.str_('telekinesis'), np.str_('telegraphworld'), np.str_('telangana'), np.str_('tee\\x89Û'), np.str_('teenfiction'), np.str_('teena797'), np.str_('teemo'), np.str_('tee'), np.str_('teduka'), np.str_('tedcruz2016'), np.str_('tecno'), np.str_('techniqu'), np.str_('technical'), np.str_('technews'), np.str_('techesback'), np.str_('team\\x89Û'), np.str_('teamvodg'), np.str_('teamsurvivors'), np.str_('teamscorpion'), np.str_('teamo'), np.str_('teammates'), np.str_('teamhennessy'), np.str_('teamfollowback'), np.str_('teamatowinner'), np.str_('teahivetweets'), np.str_('teafrystlik'), np.str_('tdog'), np.str_('tdm'), np.str_('tcotåÊccot'), np.str_('tcgreno'), np.str_('tbs'), np.str_('tbr'), np.str_('tblack'), np.str_('tbh'), np.str_('taylorswift13'), np.str_('taylors'), np.str_('taykreidler'), np.str_('tayiorrmade'), np.str_('taxstone'), np.str_('taxreturn'), np.str_('taxpayers'), np.str_('taxis'), np.str_('taxi'), np.str_('taxes'), np.str_('tawfmcaw'), np.str_('taungbazar'), np.str_('taufikcj'), np.str_('tattoos'), np.str_('tattooed'), np.str_('tat'), np.str_('tastemycupcakee'), np.str_('tasks'), np.str_('task'), np.str_('tarzana'), np.str_('tarynel'), np.str_('tarp'), np.str_('targe'), np.str_('tareksocal'), np.str_('taraswart'), np.str_('tapas'), np.str_('taoistinsight'), np.str_('tantrums'), np.str_('tanstaafl23'), np.str_('tanslash'), np.str_('tangletalk'), np.str_('tangled'), np.str_('tanehisicoates'), np.str_('tampons'), np.str_('tampabay'), np.str_('tambourine'), np.str_('tambo'), np.str_('tallest'), np.str_('talkradio'), np.str_('talkinghell'), np.str_('talked'), np.str_('talkecologyamphuman'), np.str_('talisman'), np.str_('talibans'), np.str_('taliban'), np.str_('tales'), np.str_('takis'), np.str_('takin'), np.str_('takeoff'), np.str_('takehome'), np.str_('takecare'), np.str_('takeaways'), np.str_('taipei'), np.str_('tailor'), np.str_('tail'), np.str_('tahoeblazeravalanches10'), np.str_('tagging'), np.str_('tagged'), np.str_('tafs'), np.str_('tae'), np.str_('tadhgtgmtel'), np.str_('tactics'), np.str_('tactful'), np.str_('tacos'), np.str_('tackettdc'), np.str_('tacit'), np.str_('taaylordarr'), np.str_('t1000s'), np.str_('s\\x89Ûªarabia'), np.str_('szuter'), np.str_('szmnextdoor'), np.str_('systematic'), np.str_('sys'), np.str_('syringetoanger'), np.str_('synapsenkotze'), np.str_('symptoms'), np.str_('symbol'), np.str_('symantec'), np.str_('syjexo'), np.str_('sydtraffic'), np.str_('swtrains'), np.str_('sworn'), np.str_('swords'), np.str_('swooping'), np.str_('swollen'), np.str_('swivels'), np.str_('switzerland'), np.str_('switching'), np.str_('switch'), np.str_('swiss'), np.str_('swingman'), np.str_('swiming'), np.str_('swiftycommissh'), np.str_('swiftly'), np.str_('swellyjetevo'), np.str_('swell'), np.str_('sweets'), np.str_('sweetpeas'), np.str_('sweetiebirks'), np.str_('sweeps'), np.str_('sweeping'), np.str_('sweep'), np.str_('swedish'), np.str_('sweaty'), np.str_('sweatfyi'), np.str_('sweated'), np.str_('swea'), np.str_('swb1192'), np.str_('swayoung01'), np.str_('swayback'), np.str_('swanger'), np.str_('swami'), np.str_('swag'), np.str_('svetlana'), np.str_('sux'), np.str_('suvs'), np.str_('sustainourearth'), np.str_('sustainability'), np.str_('suspicious'), np.str_('suspended'), np.str_('suspects'), np.str_('susiya'), np.str_('susinesses'), np.str_('sushi'), np.str_('susanj357'), np.str_('survivorsr'), np.str_('surviving'), np.str_('surveys'), np.str_('suruÌ¤'), np.str_('surgical'), np.str_('surges'), np.str_('surfspa'), np.str_('surfphoto'), np.str_('surety'), np.str_('sureshpprabhu'), np.str_('suresh'), np.str_('suregod'), np.str_('supremo'), np.str_('supremacist'), np.str_('supposedly'), np.str_('supporting'), np.str_('supporthealthhomebathroomsupportelderlyinjureds\\x89Û'), np.str_('supporters'), np.str_('superv'), np.str_('superstitions'), np.str_('superstition'), np.str_('superpower'), np.str_('supernovalester'), np.str_('supernatural'), np.str_('supermarket'), np.str_('superman'), np.str_('superiority'), np.str_('superintendent'), np.str_('superintende'), np.str_('superfood'), np.str_('superbug'), np.str_('superb'), np.str_('sunshine'), np.str_('suns'), np.str_('sunrays'), np.str_('sunnymeade'), np.str_('sunk\\x89Û1'), np.str_('sunflower'), np.str_('sundercr'), np.str_('sunday\\x89Ûªs'), np.str_('sundaydont'), np.str_('sunburst'), np.str_('sunburned'), np.str_('sunbathe'), np.str_('sumo'), np.str_('sumn'), np.str_('summons'), np.str_('summon'), np.str_('summervibes'), np.str_('summers'), np.str_('summerhallery'), np.str_('summer2k15'), np.str_('summary'), np.str_('sultry'), np.str_('sul'), np.str_('suites'), np.str_('suited'), np.str_('suitable'), np.str_('suing'), np.str_('suicides'), np.str_('suicidebycop'), np.str_('suho'), np.str_('suggs'), np.str_('sugar'), np.str_('suffield'), np.str_('sufficiently'), np.str_('suffers'), np.str_('suelinflower'), np.str_('sued'), np.str_('sudan\\x89Ûªs'), np.str_('sucking'), np.str_('suckers'), np.str_('sucked'), np.str_('suck'), np.str_('succeed'), np.str_('subtornado'), np.str_('subtlety'), np.str_('subtle'), np.str_('substantial'), np.str_('substance'), np.str_('subsequent'), np.str_('subsd'), np.str_('subscription'), np.str_('submitt'), np.str_('submissions'), np.str_('submerged'), np.str_('subjected'), np.str_('subcontractor'), np.str_('subconscious'), np.str_('subcommittee'), np.str_('subatomic'), np.str_('su'), np.str_('stylist'), np.str_('stylishly'), np.str_('styled'), np.str_('stvmlly'), np.str_('stury'), np.str_('sturgis'), np.str_('stupidniggr'), np.str_('stunningly'), np.str_('stung'), np.str_('stunckle'), np.str_('stump'), np.str_('stuffin'), np.str_('studying'), np.str_('studebaker'), np.str_('studded'), np.str_('stuckinbooks'), np.str_('stuartbroad8'), np.str_('strutting'), np.str_('strutted'), np.str_('struggle'), np.str_('structuring'), np.str_('strongminded'), np.str_('strives'), np.str_('striptease'), np.str_('strips'), np.str_('stripped'), np.str_('stripe'), np.str_('strip'), np.str_('striked'), np.str_('strictly'), np.str_('strickskin'), np.str_('stretches'), np.str_('stretcherbearers'), np.str_('stretcherbearer'), np.str_('stretched'), np.str_('stressing'), np.str_('stresses'), np.str_('strength'), np.str_('streetlight'), np.str_('streetjamzdotnet'), np.str_('stree'), np.str_('streamyxhomesouthern'), np.str_('streams'), np.str_('streaming'), np.str_('stray'), np.str_('strawberrysoryu'), np.str_('strawberries'), np.str_('stratford'), np.str_('strategyhua'), np.str_('strategies'), np.str_('strap'), np.str_('strangers'), np.str_('strand'), np.str_('straits'), np.str_('strains'), np.str_('strain'), np.str_('straighten'), np.str_('sto\\x89Û'), np.str_('stowing'), np.str_('stormtrooper'), np.str_('stormlike'), np.str_('storming'), np.str_('stormfree'), np.str_('stormbeard'), np.str_('storey'), np.str_('storen'), np.str_('stop\\x89Û\\x9d'), np.str_('stopping'), np.str_('stoponesounds'), np.str_('stopharper'), np.str_('stopevictions'), np.str_('stood'), np.str_('stony'), np.str_('stonewall'), np.str_('stones'), np.str_('stonebrewingco'), np.str_('stokes'), np.str_('stockwell'), np.str_('stockholm'), np.str_('sto'), np.str_('stlouis'), np.str_('stlnd'), np.str_('stl'), np.str_('stirring'), np.str_('stil'), np.str_('stiiilo'), np.str_('stickynyc'), np.str_('sticky'), np.str_('sticking'), np.str_('sticker'), np.str_('sthing'), np.str_('stfxuniversity'), np.str_('stevie'), np.str_('steveycheese99'), np.str_('stevenrulles'), np.str_('stevenontwatter'), np.str_('steven'), np.str_('sterotypical'), np.str_('stern'), np.str_('sterlingscott'), np.str_('sterlingknight'), np.str_('sterling'), np.str_('stepkans'), np.str_('stephenson'), np.str_('stephenscifi'), np.str_('stephenking'), np.str_('stephengeorg'), np.str_('stephaniemarija'), np.str_('steph93065'), np.str_('stemming'), np.str_('stem'), np.str_('stefano'), np.str_('stefanejones'), np.str_('steep'), np.str_('steellord'), np.str_('stearns'), np.str_('stealth'), np.str_('steady'), np.str_('stds'), np.str_('staying'), np.str_('stayed'), np.str_('stavola'), np.str_('stavernise'), np.str_('statistically'), np.str_('stations'), np.str_('stationcdrkelly'), np.str_('states\\x89Û'), np.str_('statesville'), np.str_('statements'), np.str_('stat'), np.str_('starving'), np.str_('starve'), np.str_('startrek'), np.str_('startide'), np.str_('startelegram'), np.str_('starmade'), np.str_('starks'), np.str_('stark'), np.str_('starflamegirl'), np.str_('stare'), np.str_('stardate'), np.str_('starbuckscully'), np.str_('starbs'), np.str_('stankyboy88'), np.str_('standup'), np.str_('standstill'), np.str_('standforwolves'), np.str_('standardised'), np.str_('standardanonymous'), np.str_('stallion150'), np.str_('stalled'), np.str_('stalins'), np.str_('stalag'), np.str_('staining'), np.str_('staid'), np.str_('stages'), np.str_('staged'), np.str_('staff\\x89Û'), np.str_('staffing'), np.str_('stacy'), np.str_('stacks'), np.str_('stack'), np.str_('stacedemon'), np.str_('stacdemon'), np.str_('stable'), np.str_('ssw'), np.str_('ssu'), np.str_('ssssnell'), np.str_('ssshhheeesshh'), np.str_('ssp'), np.str_('ssb4'), np.str_('srsly'), np.str_('srs'), np.str_('srk'), np.str_('sriramk'), np.str_('srajapakse'), np.str_('sr37'), np.str_('sr22'), np.str_('sr14'), np.str_('sqwizzix'), np.str_('squirrel'), np.str_('squibby'), np.str_('squeezed'), np.str_('squeaver'), np.str_('squeaky'), np.str_('squabble'), np.str_('sq'), np.str_('spyro'), np.str_('spying'), np.str_('spx'), np.str_('sputtering'), np.str_('sputnikint'), np.str_('spurs'), np.str_('spurgeon'), np.str_('spur'), np.str_('spså¨'), np.str_('spsgsp'), np.str_('sprite'), np.str_('sprinklers'), np.str_('springer'), np.str_('spree'), np.str_('spreads'), np.str_('spread'), np.str_('spray'), np.str_('sprains'), np.str_('spouting'), np.str_('spouse'), np.str_('spotting'), np.str_('spotlight'), np.str_('sportsroadhouse'), np.str_('sportinggoods'), np.str_('sporten'), np.str_('spookyfob'), np.str_('sponsor'), np.str_('sponge'), np.str_('spokes'), np.str_('spoke'), np.str_('spokane'), np.str_('spoiled'), np.str_('spoil'), np.str_('splifs'), np.str_('splattershot'), np.str_('splatoon'), np.str_('splatling'), np.str_('splatdown'), np.str_('splash'), np.str_('spits'), np.str_('spit'), np.str_('spirits'), np.str_('spins'), np.str_('spinnellii'), np.str_('spin'), np.str_('spilt'), np.str_('spillevacuationsred'), np.str_('spike'), np.str_('spies'), np.str_('spiderweb'), np.str_('spicybreads'), np.str_('spice'), np.str_('spends'), np.str_('spencerfearon'), np.str_('spen'), np.str_('spells'), np.str_('spell'), np.str_('speedtech'), np.str_('speeding'), np.str_('speech'), np.str_('speculation'), np.str_('speculatio'), np.str_('spectrum'), np.str_('specs'), np.str_('specifically'), np.str_('specialized'), np.str_('specialize'), np.str_('speccy'), np.str_('speakingfromexperience'), np.str_('sparxxx'), np.str_('spartans'), np.str_('sparkz'), np.str_('sparking'), np.str_('spark'), np.str_('spaniels'), np.str_('spaniel'), np.str_('span'), np.str_('spammers'), np.str_('spam'), np.str_('spacex'), np.str_('spacewolverine'), np.str_('spaceshiptwo'), np.str_('spaceangelseven'), np.str_('so\\x89Û'), np.str_('soz'), np.str_('sow'), np.str_('south\\x89Û'), np.str_('southwestern'), np.str_('southwest'), np.str_('southridgelife'), np.str_('southline'), np.str_('southkorea'), np.str_('southdown'), np.str_('southbound'), np.str_('southaccident'), np.str_('sousse'), np.str_('sourmashnumber7'), np.str_('sour'), np.str_('soundtrack'), np.str_('sounding'), np.str_('sounders'), np.str_('soultech'), np.str_('sought'), np.str_('souda'), np.str_('sothwest'), np.str_('sos'), np.str_('sorryi'), np.str_('sorrybutitstrue'), np.str_('sorrowful'), np.str_('sorrower'), np.str_('sorrow'), np.str_('sorely'), np.str_('sophistication'), np.str_('sophiewisey'), np.str_('sophieingle01'), np.str_('soonpandemonium'), np.str_('soonergrunt'), np.str_('sonyprousa'), np.str_('sony'), np.str_('sonoranrattler'), np.str_('sonofbobbob'), np.str_('sonofbaldwin'), np.str_('sonisoner'), np.str_('sonia'), np.str_('soni'), np.str_('songhey89'), np.str_('songfor'), np.str_('soner'), np.str_('sond'), np.str_('sona'), np.str_('somme'), np.str_('sometimesi'), np.str_('somethin\\x89Ûª'), np.str_('somethingyr'), np.str_('someday'), np.str_('solving'), np.str_('solelinks'), np.str_('sole'), np.str_('soldi'), np.str_('solano'), np.str_('sojapan'), np.str_('soil'), np.str_('soggy'), np.str_('softball'), np.str_('sofa'), np.str_('sods'), np.str_('sodamntrue'), np.str_('sockets'), np.str_('socket'), np.str_('sock'), np.str_('socialwots'), np.str_('socialtimes'), np.str_('socialmediadriven'), np.str_('socially'), np.str_('socal'), np.str_('soc'), np.str_('sobbing'), np.str_('soapscoop'), np.str_('soap'), np.str_('soaker'), np.str_('soaked'), np.str_('snuck'), np.str_('snowywolf5'), np.str_('snowy'), np.str_('snowstormhailstorm'), np.str_('snowstormdespite'), np.str_('snowflake'), np.str_('snotgreen'), np.str_('snort'), np.str_('snoop'), np.str_('snooker'), np.str_('snippets'), np.str_('snipe'), np.str_('sniiiiiiff'), np.str_('sniff'), np.str_('sni'), np.str_('sneezing'), np.str_('sneaks'), np.str_('snazzychipz'), np.str_('snapping'), np.str_('snapharmony'), np.str_('snapchatselfie'), np.str_('snakes'), np.str_('snake'), np.str_('snack'), np.str_('sn'), np.str_('smusx16475'), np.str_('smugglersåÊnabbed'), np.str_('smugglers'), np.str_('smug'), np.str_('smth'), np.str_('sms087809233445'), np.str_('sms'), np.str_('smp'), np.str_('smores'), np.str_('smoothed'), np.str_('smoochy'), np.str_('smokey'), np.str_('smokes'), np.str_('smokers'), np.str_('smoakqueen'), np.str_('smirking'), np.str_('smiles'), np.str_('smfh'), np.str_('smem'), np.str_('smelltaste'), np.str_('smelling'), np.str_('smelled'), np.str_('smeared'), np.str_('smartteks'), np.str_('smartnews'), np.str_('smart'), np.str_('smantibatam'), np.str_('smallforestelf'), np.str_('smaller'), np.str_('smallbusiness'), np.str_('smallbiz'), np.str_('smack'), np.str_('slums'), np.str_('slumber'), np.str_('slsp'), np.str_('slsandpet'), np.str_('slows'), np.str_('slowpoke'), np.str_('slosheriff'), np.str_('slosher'), np.str_('slopeofhope'), np.str_('slone'), np.str_('slogan'), np.str_('slit'), np.str_('slipping'), np.str_('slipper'), np.str_('slimebeast'), np.str_('slightest'), np.str_('slight'), np.str_('sliding'), np.str_('slideshare'), np.str_('sliced'), np.str_('slew'), np.str_('slept'), np.str_('sleepjunkies'), np.str_('slay'), np.str_('slaves'), np.str_('slavery'), np.str_('slave'), np.str_('slaughter'), np.str_('slatukip'), np.str_('slating'), np.str_('slated'), np.str_('slashandburn'), np.str_('slapping'), np.str_('slander'), np.str_('slams'), np.str_('slamming'), np.str_('slam'), np.str_('slain'), np.str_('slabs'), np.str_('sl'), np.str_('skyåÊnews'), np.str_('skywars'), np.str_('skywarn'), np.str_('skyscrapers'), np.str_('skyrim'), np.str_('skype'), np.str_('skynews'), np.str_('skynet'), np.str_('skyler'), np.str_('skylanders'), np.str_('skull'), np.str_('skippy6gaming'), np.str_('skip'), np.str_('skinless'), np.str_('skims'), np.str_('skimmed'), np.str_('skiing'), np.str_('skies'), np.str_('ski'), np.str_('skh'), np.str_('sketchbook'), np.str_('skeleton'), np.str_('skc'), np.str_('skateboards'), np.str_('skarletan'), np.str_('skardu'), np.str_('skaggs'), np.str_('sk398'), np.str_('sjubb'), np.str_('sj'), np.str_('sizygwwf'), np.str_('sizewell'), np.str_('sixcar'), np.str_('sivan'), np.str_('situ'), np.str_('sittway'), np.str_('siteinvestigating'), np.str_('sister\\x89Ûª'), np.str_('sirtophamhat'), np.str_('sirtitan45'), np.str_('sirmixalot'), np.str_('sirmione'), np.str_('sirius'), np.str_('sirenvoice'), np.str_('sirens\\x89Û'), np.str_('sirensong21'), np.str_('sirensamp'), np.str_('sippin'), np.str_('sip'), np.str_('siouxland'), np.str_('siouxlan'), np.str_('sioux'), np.str_('sins'), np.str_('sinkingshipindy'), np.str_('sinkingfund'), np.str_('sinkhole\\x89Û'), np.str_('sinistras'), np.str_('singled'), np.str_('singlecar'), np.str_('sindh'), np.str_('sincerely'), np.str_('since3g'), np.str_('since1970the'), np.str_('simulation'), np.str_('simulating'), np.str_('simplify'), np.str_('simmons'), np.str_('similar'), np.str_('silvery'), np.str_('silverwood'), np.str_('silverman'), np.str_('silverhusky'), np.str_('silo'), np.str_('silly'), np.str_('silinski'), np.str_('silentmind'), np.str_('silent0siris'), np.str_('silenced'), np.str_('silas'), np.str_('sikh'), np.str_('sigue'), np.str_('signin'), np.str_('significance'), np.str_('signatureschange'), np.str_('sigh'), np.str_('sifting'), np.str_('siena'), np.str_('sidjsjdjekdjskdjd'), np.str_('side\\x89Û'), np.str_('sidewalk'), np.str_('sidelinesavage'), np.str_('sided'), np.str_('sick\\x89Ûª'), np.str_('sibling'), np.str_('shuts'), np.str_('shunichiro'), np.str_('shuffled'), np.str_('shuffle'), np.str_('shud'), np.str_('shtf'), np.str_('shtap'), np.str_('sht'), np.str_('shrews'), np.str_('showwent'), np.str_('showersstorms'), np.str_('showers'), np.str_('showdown'), np.str_('shovel'), np.str_('shove'), np.str_('shoutout'), np.str_('shouted'), np.str_('shouout'), np.str_('shotgun'), np.str_('shorts'), np.str_('shortfalls'), np.str_('shopping'), np.str_('shoppe'), np.str_('shootoutåÊ'), np.str_('shootings'), np.str_('shoook'), np.str_('sholt87'), np.str_('shocking\\x89ÛÏ'), np.str_('shocking'), np.str_('shoalstraffic'), np.str_('shiver'), np.str_('shitton'), np.str_('shite'), np.str_('shirley'), np.str_('shipsxanchors'), np.str_('shimmyfab'), np.str_('shii'), np.str_('shifts'), np.str_('shifter'), np.str_('shifted'), np.str_('shield'), np.str_('shidddd'), np.str_('shias'), np.str_('shia'), np.str_('she\\x89Ûªs'), np.str_('shevlinhixon'), np.str_('shestooyoung'), np.str_('sherfield72'), np.str_('shen'), np.str_('shemesh'), np.str_('sheltersupport'), np.str_('shells'), np.str_('shekhargupta'), np.str_('sheeting'), np.str_('shedid'), np.str_('shear'), np.str_('shayoly'), np.str_('shawie17shawie'), np.str_('shattered'), np.str_('shatter'), np.str_('sharply'), np.str_('sharper'), np.str_('shark\\x89Û\\x9d'), np.str_('shark'), np.str_('sharif'), np.str_('sharia'), np.str_('shar'), np.str_('shaping'), np.str_('shaper'), np.str_('shapeand'), np.str_('shaolin'), np.str_('shantaeskyy'), np.str_('shantaehalfgeniehero'), np.str_('shantaeforsmash'), np.str_('shanghai\\x89Ûªs'), np.str_('shanaynay'), np.str_('shakjn'), np.str_('shakingcatching'), np.str_('shakespeares'), np.str_('shakeology'), np.str_('shaken'), np.str_('shake'), np.str_('shaheed'), np.str_('shadows'), np.str_('shadowman'), np.str_('shadowflame'), np.str_('shadowed'), np.str_('shade'), np.str_('shad'), np.str_('sha'), np.str_('sgc72'), np.str_('sg'), np.str_('sfor'), np.str_('sfgiants'), np.str_('sfa'), np.str_('sexydragonmagic'), np.str_('sexuality'), np.str_('sexist'), np.str_('sewing'), np.str_('seward'), np.str_('sewage'), np.str_('severing'), np.str_('severely'), np.str_('seventies'), np.str_('sevenfold'), np.str_('sevenfigz'), np.str_('setting4success'), np.str_('setsuko'), np.str_('sethalphaeus'), np.str_('setanta'), np.str_('sessions'), np.str_('session'), np.str_('serving'), np.str_('servicin'), np.str_('servicesft7p7a'), np.str_('sergiopiaggio'), np.str_('serephina'), np.str_('serene'), np.str_('serbian'), np.str_('seras'), np.str_('sequence'), np.str_('sequalae'), np.str_('septic'), np.str_('separation'), np.str_('separated'), np.str_('senzu'), np.str_('sentient'), np.str_('sentenced'), np.str_('sensory'), np.str_('sensorknock'), np.str_('sensitive'), np.str_('sensei'), np.str_('senschumer'), np.str_('sensanders'), np.str_('sens'), np.str_('senfeinstein'), np.str_('senators'), np.str_('senatemajldr'), np.str_('sen'), np.str_('seminars'), np.str_('semi'), np.str_('semasirtalks'), np.str_('selmoooooo'), np.str_('selmo'), np.str_('selfseeking'), np.str_('selfpity'), np.str_('selfinflict'), np.str_('selfesteem'), np.str_('selfdestruction'), np.str_('selfdelusion'), np.str_('selfavowed'), np.str_('selects'), np.str_('select'), np.str_('sel'), np.str_('sejorg'), np.str_('seizing'), np.str_('seize'), np.str_('seismicsoftware'), np.str_('seismicresistant'), np.str_('segment'), np.str_('segas'), np.str_('sef'), np.str_('seeyouatamicos'), np.str_('seeweed'), np.str_('seemly'), np.str_('seemeth'), np.str_('seeker'), np.str_('seeds'), np.str_('seed'), np.str_('sedar'), np.str_('sedan'), np.str_('securing'), np.str_('secures'), np.str_('securedgt'), np.str_('secured'), np.str_('sectors'), np.str_('sections'), np.str_('secondhand'), np.str_('seclusion'), np.str_('sec'), np.str_('seaworld'), np.str_('seattletimes'), np.str_('seattles'), np.str_('seattledot'), np.str_('seats'), np.str_('seatbelt'), np.str_('seasonfrom'), np.str_('seashore'), np.str_('seas'), np.str_('seanhannity'), np.str_('seagulls'), np.str_('seagull07'), np.str_('sd'), np.str_('scynic1'), np.str_('scwx'), np.str_('scum'), np.str_('scuf'), np.str_('sct014'), np.str_('sct012'), np.str_('scseestapreparando'), np.str_('scrolling'), np.str_('scriptettesar'), np.str_('screwed'), np.str_('screenshot'), np.str_('screening'), np.str_('screeching'), np.str_('screamsdont'), np.str_('scratching'), np.str_('scratches'), np.str_('scraptrident'), np.str_('scraped'), np.str_('scrambledeggs'), np.str_('scouts'), np.str_('scout'), np.str_('scourgue'), np.str_('scourge'), np.str_('scotto519'), np.str_('scottdpierce'), np.str_('scotrail'), np.str_('scotiabank'), np.str_('scored'), np.str_('scorched'), np.str_('scofield'), np.str_('scmpnews'), np.str_('scissor'), np.str_('sciencefiction'), np.str_('scichat'), np.str_('schulz'), np.str_('schoolboy\\x89Ûªs'), np.str_('scholars'), np.str_('schoenfeld'), np.str_('schism\\x89Ûª'), np.str_('schelbertgeorg'), np.str_('scheer'), np.str_('scenes'), np.str_('scenario'), np.str_('scegnews'), np.str_('scasualty'), np.str_('scaryeven'), np.str_('scarlet'), np.str_('scariest'), np.str_('scarier'), np.str_('scandals'), np.str_('scandal'), np.str_('scam'), np.str_('scalpium'), np.str_('scaligero'), np.str_('scabs'), np.str_('sbee'), np.str_('sa\\x89Û'), np.str_('say\\x89Û\\x9d'), np.str_('saynae'), np.str_('sayin'), np.str_('sayedridha'), np.str_('savs'), np.str_('savour'), np.str_('savior'), np.str_('saveti'), np.str_('saves'), np.str_('saver'), np.str_('savedenaliwolves'), np.str_('savannahross4'), np.str_('savages'), np.str_('savagenation'), np.str_('saumur'), np.str_('sauldale305'), np.str_('saudiåÊmosque'), np.str_('saudies'), np.str_('saudiarabia'), np.str_('saturation'), np.str_('saturated'), np.str_('satoshis'), np.str_('satisfying'), np.str_('satire'), np.str_('satin'), np.str_('satellites'), np.str_('satans'), np.str_('satanaofhell'), np.str_('sask'), np.str_('sasha'), np.str_('sarumi'), np.str_('sarniamakchris'), np.str_('sarcastic'), np.str_('sarahmcpants'), np.str_('sarahksilverman'), np.str_('sara'), np.str_('sapphirescallop'), np.str_('san\\x89Ûªa'), np.str_('santos'), np.str_('santiago'), np.str_('santanicopandemonium'), np.str_('santaclara'), np.str_('sansa'), np.str_('sanonofre'), np.str_('sanity'), np.str_('sanitizing'), np.str_('sanitised'), np.str_('sang'), np.str_('sanfrancisco'), np.str_('sanford'), np.str_('sanelesstheory'), np.str_('sandwich'), np.str_('sandunes'), np.str_('sandra'), np.str_('sanders'), np.str_('sandbox'), np.str_('sanction'), np.str_('sanchez'), np.str_('samsung'), np.str_('samsmithworld'), np.str_('samples'), np.str_('sample'), np.str_('sammysosita'), np.str_('sammy'), np.str_('samihonkonen'), np.str_('sami'), np.str_('samelsamel'), np.str_('samaritans\\x89Ûª'), np.str_('sam'), np.str_('salyersblairhall'), np.str_('salvages'), np.str_('salvadors'), np.str_('salvadoran'), np.str_('salute'), np.str_('salty'), np.str_('saltriverwildhorses'), np.str_('salted'), np.str_('salopek'), np.str_('salmanmydarling'), np.str_('salman'), np.str_('sally'), np.str_('salisbury'), np.str_('sales'), np.str_('salado'), np.str_('saladinahmed'), np.str_('sakuuchiha'), np.str_('saku'), np.str_('sakhalintribune'), np.str_('saison'), np.str_('saintsfc'), np.str_('saint'), np.str_('sailors'), np.str_('safyuan'), np.str_('safsufa'), np.str_('safferoonicle'), np.str_('safes'), np.str_('saferåÊ'), np.str_('safeco'), np.str_('safaris'), np.str_('safari'), np.str_('sadtraumatised'), np.str_('saddledome'), np.str_('saddle'), np.str_('sacrifice'), np.str_('sackville'), np.str_('sackings'), np.str_('sabotagei'), np.str_('sabcnewsroom'), np.str_('saat'), np.str_('saalon'), np.str_('saadthe'), np.str_('s61231a'), np.str_('s5'), np.str_('s3xleak'), np.str_('s01e09'), np.str_('rzimmermanjr'), np.str_('ryt'), np.str_('ryrotheunaware'), np.str_('ryleedowns02'), np.str_('ryans'), np.str_('ryanoss123'), np.str_('rwrabbit'), np.str_('rvfriedmann'), np.str_('rvaping101'), np.str_('rvacchianonydn'), np.str_('rv'), np.str_('ruthann'), np.str_('russiaukraine'), np.str_('russellville'), np.str_('russell'), np.str_('russaky89'), np.str_('rushlimbaugh'), np.str_('rural'), np.str_('rupaul'), np.str_('run\\x89Û'), np.str_('runnin'), np.str_('runners'), np.str_('runkeeper'), np.str_('runjewels'), np.str_('runin'), np.str_('runaway'), np.str_('runabout'), np.str_('rumor'), np.str_('rumbling'), np.str_('rumah'), np.str_('rum'), np.str_('ruling'), np.str_('ruler'), np.str_('ruled'), np.str_('ruhl'), np.str_('rude'), np.str_('ruddyyyyyy'), np.str_('rubybot'), np.str_('rubi'), np.str_('rubbing'), np.str_('rubbin'), np.str_('rubbery'), np.str_('ru'), np.str_('rtsampdemocracy'), np.str_('rtrrtcoach'), np.str_('rtirishirr'), np.str_('rtcom'), np.str_('rsx'), np.str_('rstormcoming'), np.str_('rspca'), np.str_('rslm72254'), np.str_('rsf'), np.str_('rsa'), np.str_('rs5'), np.str_('rs40000cr'), np.str_('rrusa'), np.str_('rq'), np.str_('rpn'), np.str_('rp'), np.str_('roy'), np.str_('rowysolouisville'), np.str_('rowyso'), np.str_('rowaa'), np.str_('roving'), np.str_('routing'), np.str_('routine'), np.str_('routes'), np.str_('router'), np.str_('rousey'), np.str_('roundhouse'), np.str_('round2'), np.str_('rotting'), np.str_('rottentomatoes'), np.str_('rotations'), np.str_('rotation'), np.str_('rotating'), np.str_('rotary'), np.str_('rosters'), np.str_('roster'), np.str_('rossmartin7'), np.str_('rossbarton'), np.str_('roskomnadzor'), np.str_('rosewell'), np.str_('rosenthalauthor'), np.str_('rosenbergs'), np.str_('rosemarytravale'), np.str_('rorington95'), np.str_('ropes'), np.str_('roomsgrrrr'), np.str_('rooms'), np.str_('roomr'), np.str_('rooftops'), np.str_('roofing'), np.str_('roofers'), np.str_('ronwyden'), np.str_('ronincarbon'), np.str_('ronge'), np.str_('rondarousey'), np.str_('ronda'), np.str_('ronald'), np.str_('romp'), np.str_('romford'), np.str_('romes'), np.str_('romeocrow'), np.str_('romeo'), np.str_('romanticsuspense'), np.str_('romantic'), np.str_('romania'), np.str_('romanatwoodvlogs'), np.str_('roman'), np.str_('rom'), np.str_('rolo'), np.str_('rolling\\x89Û'), np.str_('roles'), np.str_('roleplay'), np.str_('rolandonabeats'), np.str_('rokiieee'), np.str_('roh3smantibatam'), np.str_('roguewatson'), np.str_('rogers'), np.str_('roga'), np.str_('rods'), np.str_('rodkiai'), np.str_('roddypiperautos'), np.str_('rodarmer21'), np.str_('rockstar'), np.str_('rockn'), np.str_('rockingham'), np.str_('rocking'), np.str_('rochdale'), np.str_('robthieren'), np.str_('robsimss'), np.str_('robpulsenews'), np.str_('robotlvl'), np.str_('robotcoingame'), np.str_('robot'), np.str_('roblox'), np.str_('robertwelch'), np.str_('robertoneill31'), np.str_('robertmeyer9'), np.str_('robertharding'), np.str_('robertcalifornia'), np.str_('robertbenglunds'), np.str_('robdelaney'), np.str_('robbiewilliams'), np.str_('robbed'), np.str_('roar'), np.str_('roanoketimes'), np.str_('roadworks'), np.str_('roadwayproperty'), np.str_('roadid'), np.str_('rnk'), np.str_('rlyeh'), np.str_('rlauren83199'), np.str_('rjkrraj'), np.str_('rjg0789'), np.str_('rjailbreak'), np.str_('rizzo'), np.str_('rivers'), np.str_('riverroaming'), np.str_('riveeeeeer'), np.str_('rivals'), np.str_('ritzyjewels'), np.str_('ritualistic'), np.str_('ritual'), np.str_('rite'), np.str_('risky'), np.str_('riser'), np.str_('ris'), np.str_('ririnsider'), np.str_('rips'), np.str_('ripriprip'), np.str_('ripples'), np.str_('ripping'), np.str_('rioters'), np.str_('rioslade'), np.str_('riooooos'), np.str_('rio2016'), np.str_('rinkydnk2'), np.str_('rindou'), np.str_('rin'), np.str_('rijn'), np.str_('rigour'), np.str_('rightly'), np.str_('righteous'), np.str_('rigga'), np.str_('rig'), np.str_('rifle'), np.str_('ridiculously'), np.str_('riddler'), np.str_('ricotta\\x89Û'), np.str_('rico'), np.str_('rickybonessxm'), np.str_('rickets'), np.str_('ricin'), np.str_('richhomeydon'), np.str_('riches'), np.str_('richelieusaintlaurent'), np.str_('richarkkirkarch'), np.str_('riceechrispies'), np.str_('rice'), np.str_('ribbon'), np.str_('ri'), np.str_('rhymes'), np.str_('rhinestone'), np.str_('rhiannon'), np.str_('rhett'), np.str_('rhee1975'), np.str_('rgj'), np.str_('rfp'), np.str_('rfcgeom66'), np.str_('rezaphotography'), np.str_('reworked'), np.str_('rewatchingthepilot'), np.str_('revolutionblight'), np.str_('revolt'), np.str_('revitup'), np.str_('revise'), np.str_('reviewing'), np.str_('reverse'), np.str_('reversal'), np.str_('revere'), np.str_('revenge'), np.str_('revel'), np.str_('reveillertm'), np.str_('revealing'), np.str_('reusing'), np.str_('reunite'), np.str_('retweeted'), np.str_('returning'), np.str_('retroactive'), np.str_('retreat'), np.str_('retract'), np.str_('retooled'), np.str_('retirement'), np.str_('retirees'), np.str_('retiredfilth'), np.str_('retard'), np.str_('retainers'), np.str_('resumed'), np.str_('restrospect'), np.str_('restoringpaths'), np.str_('restoring'), np.str_('restlessness'), np.str_('resting'), np.str_('restart'), np.str_('resque'), np.str_('responding'), np.str_('respondents'), np.str_('respects'), np.str_('respecting'), np.str_('resource'), np.str_('resort'), np.str_('resolved'), np.str_('resolutevanity'), np.str_('resoluteshield'), np.str_('resistant'), np.str_('resin'), np.str_('resilience'), np.str_('resigninshame'), np.str_('residualincome'), np.str_('residual'), np.str_('reshrimplevy'), np.str_('reshareworthy'), np.str_('reshape'), np.str_('reset'), np.str_('reserves'), np.str_('reserved'), np.str_('resemblance'), np.str_('researchers'), np.str_('rescuing'), np.str_('rescuersthe'), np.str_('rescued\\x89Û'), np.str_('rescuedagain'), np.str_('rescind'), np.str_('requiring'), np.str_('requiem'), np.str_('requests'), np.str_('requa'), np.str_('reqd'), np.str_('reputation'), np.str_('reps'), np.str_('reprocussions'), np.str_('reprises'), np.str_('repression'), np.str_('represents'), np.str_('representing'), np.str_('representative'), np.str_('repped'), np.str_('reporters'), np.str_('replacement'), np.str_('replaced'), np.str_('repjohnkatko'), np.str_('repdonbeyer'), np.str_('repatriating'), np.str_('reoccur'), np.str_('rent'), np.str_('renovation'), np.str_('renewsit'), np.str_('renewed'), np.str_('renew911health'), np.str_('rene'), np.str_('rendered'), np.str_('render'), np.str_('renaomino'), np.str_('renamed'), np.str_('ren'), np.str_('remymarcel'), np.str_('remote'), np.str_('remorseless'), np.str_('remodeled'), np.str_('remixes'), np.str_('reminders'), np.str_('reminded'), np.str_('remind'), np.str_('remembrance'), np.str_('remembers'), np.str_('rememberrabaa'), np.str_('remedial'), np.str_('rembr'), np.str_('remaster'), np.str_('remarkably'), np.str_('remark'), np.str_('remand'), np.str_('remainontop'), np.str_('remaining'), np.str_('remade'), np.str_('relive'), np.str_('religious'), np.str_('reliefweb'), np.str_('relevance'), np.str_('relegation'), np.str_('releasing'), np.str_('relaxinpr'), np.str_('relations'), np.str_('rejoice'), np.str_('rejectdcartoons'), np.str_('reiterate'), np.str_('reined'), np.str_('reince'), np.str_('reimagining'), np.str_('reigncoco'), np.str_('reidlake'), np.str_('regress'), np.str_('regr'), np.str_('regime'), np.str_('reggaeboyz'), np.str_('regent'), np.str_('regc'), np.str_('reg'), np.str_('refuses'), np.str_('refunds'), np.str_('refund'), np.str_('refugees\\x89Û'), np.str_('refugeesmatter'), np.str_('reflects'), np.str_('reflections'), np.str_('reflected'), np.str_('referred'), np.str_('referencereference'), np.str_('reference'), np.str_('refer'), np.str_('reeves'), np.str_('reef'), np.str_('reed'), np.str_('reebok'), np.str_('redwing'), np.str_('reduces'), np.str_('redskins'), np.str_('reds'), np.str_('redlands'), np.str_('redistribute'), np.str_('rediscovered'), np.str_('rediscover'), np.str_('redhead'), np.str_('redhanded'), np.str_('redesigning'), np.str_('redesigned'), np.str_('redemption'), np.str_('redeemer'), np.str_('redeem'), np.str_('reddish'), np.str_('reddevil4life'), np.str_('reddakushgodd'), np.str_('redcliffe'), np.str_('redbull'), np.str_('redblood'), np.str_('recruitment'), np.str_('recruiting'), np.str_('recovered'), np.str_('recordhigh'), np.str_('recorded'), np.str_('recordand'), np.str_('reconnect'), np.str_('recommendations'), np.str_('recoil'), np.str_('recognition'), np.str_('recognised'), np.str_('recluse'), np.str_('reckless'), np.str_('recipe'), np.str_('recip'), np.str_('receives'), np.str_('recalled'), np.str_('recal'), np.str_('rec'), np.str_('rebound'), np.str_('reboot'), np.str_('reblogged'), np.str_('rebelmage2'), np.str_('rebelled'), np.str_('rebecca'), np.str_('rebahes'), np.str_('reassigned'), np.str_('realm'), np.str_('realliampayne'), np.str_('realjaxclone'), np.str_('realizations'), np.str_('realization'), np.str_('realities'), np.str_('realistic'), np.str_('realhotcullen'), np.str_('realhiphop'), np.str_('reagans'), np.str_('reagan'), np.str_('reafs'), np.str_('readiness'), np.str_('reader'), np.str_('reacts'), np.str_('reactors'), np.str_('reactorbased'), np.str_('reactions'), np.str_('reached'), np.str_('reaad'), np.str_('rdg'), np.str_('rdconsider'), np.str_('rconspiracy'), np.str_('rcityporn'), np.str_('rchs'), np.str_('rbi'), np.str_('rbcinsurance'), np.str_('razedåÊ\\x89ÛÒ'), np.str_('razak'), np.str_('rayquazaerk'), np.str_('raychielovesu'), np.str_('rawfoodbliss'), np.str_('ravioliåÊwith'), np.str_('rave'), np.str_('rationing'), np.str_('ratio'), np.str_('ratingscategories'), np.str_('ratings'), np.str_('ratingbut'), np.str_('rascal'), np.str_('raredealsuk'), np.str_('rar'), np.str_('raptorsbeg'), np.str_('raped'), np.str_('rants'), np.str_('rantipozi'), np.str_('ransacked'), np.str_('ranks'), np.str_('ranking'), np.str_('ranked'), np.str_('rank'), np.str_('raniakhalek'), np.str_('rangerkaitimay'), np.str_('rang'), np.str_('randy'), np.str_('randomtourist'), np.str_('randomthought'), np.str_('randerson62'), np.str_('randallpinkston'), np.str_('rams'), np.str_('rampage'), np.str_('ramp'), np.str_('ramat'), np.str_('ram'), np.str_('ralph'), np.str_('rally\\x89Û'), np.str_('raisinfingers'), np.str_('raishimi33'), np.str_('rainy'), np.str_('rainwindstorm'), np.str_('rainforestresq'), np.str_('raineishida'), np.str_('railroad'), np.str_('railguns'), np.str_('raidersreporter'), np.str_('rahulkanwal'), np.str_('raheelsharif'), np.str_('raheel'), np.str_('raging'), np.str_('rag'), np.str_('raft'), np.str_('raffirc'), np.str_('radychildrens'), np.str_('radler'), np.str_('radios'), np.str_('radioriffrocks'), np.str_('radical'), np.str_('rachelcaine'), np.str_('racer'), np.str_('raccoons'), np.str_('racco'), np.str_('rabidmonkeys1'), np.str_('rabbit'), np.str_('rabaa'), np.str_('raabchar28'), np.str_('ra'), np.str_('r5live'), np.str_('r3do'), np.str_('r21'), np.str_('r1354'), np.str_('qzloremft'), np.str_('qz'), np.str_('quottelevision'), np.str_('quotoperations'), np.str_('quotesttg'), np.str_('quoteoftheday'), np.str_('quora'), np.str_('quizzed'), np.str_('quit'), np.str_('quirk'), np.str_('quiet'), np.str_('quicker'), np.str_('quests'), np.str_('questionfatalityflawless'), np.str_('questergirl'), np.str_('quem'), np.str_('queer'), np.str_('queenwendy'), np.str_('queenswharf'), np.str_('queenmy'), np.str_('quarter'), np.str_('quarrel'), np.str_('quantit\\x89Ûhttpstco64cymg1ltg'), np.str_('quals'), np.str_('qualit'), np.str_('quake'), np.str_('quadrillion'), np.str_('qty'), np.str_('qpr1980'), np.str_('qotring'), np.str_('qnh'), np.str_('qew'), np.str_('qendil'), np.str_('qave'), np.str_('qampa'), np.str_('q99'), np.str_('q13'), np.str_('q1'), np.str_('python'), np.str_('pyrotechnic'), np.str_('pyrbliss'), np.str_('pyramidhead76'), np.str_('pydisney'), np.str_('pwhvgwax'), np.str_('pvris'), np.str_('puts'), np.str_('puth'), np.str_('pussyxdestroyer'), np.str_('pusssssssssy'), np.str_('push2left'), np.str_('purposely'), np.str_('purpose'), np.str_('purported'), np.str_('purpleturtlerdg'), np.str_('purified'), np.str_('purely'), np.str_('purdies'), np.str_('puppyshogun'), np.str_('puppet'), np.str_('pup'), np.str_('puny'), np.str_('punk'), np.str_('punishing'), np.str_('punishable'), np.str_('pundits'), np.str_('pundit'), np.str_('punch'), np.str_('pumpkin'), np.str_('pumper'), np.str_('pumped'), np.str_('pummel'), np.str_('pulse'), np.str_('pull\\x89Ûone\\x89Ûyou'), np.str_('pullup'), np.str_('pulkovo'), np.str_('puledotechupdate'), np.str_('pugwash'), np.str_('pugprobs'), np.str_('pug'), np.str_('puff'), np.str_('puerto'), np.str_('puddle'), np.str_('puckflattened'), np.str_('publishing'), np.str_('publish'), np.str_('publicityalthough'), np.str_('publichealth'), np.str_('pub'), np.str_('pu'), np.str_('pt4'), np.str_('pt1'), np.str_('psychrewatch'), np.str_('psychologist'), np.str_('psychic'), np.str_('psp'), np.str_('psfda'), np.str_('pseudojuuzo'), np.str_('psd'), np.str_('psalm3422'), np.str_('psa'), np.str_('ps3'), np.str_('ps2'), np.str_('ps1'), np.str_('prysmian'), np.str_('proxy'), np.str_('proxies'), np.str_('provokes'), np.str_('providers'), np.str_('provided'), np.str_('proven'), np.str_('prove'), np.str_('proudgreenhome'), np.str_('protostates'), np.str_('protestors'), np.str_('protesters'), np.str_('protein'), np.str_('protected'), np.str_('prosser'), np.str_('prosper'), np.str_('pros'), np.str_('proportions'), np.str_('prophets'), np.str_('prophecy'), np.str_('propertycasu'), np.str_('properly'), np.str_('propelled'), np.str_('propane'), np.str_('propaganda'), np.str_('pronouncing'), np.str_('proms'), np.str_('prompting'), np.str_('prompt'), np.str_('promotion'), np.str_('promoted'), np.str_('promo'), np.str_('promised'), np.str_('prom'), np.str_('prolong'), np.str_('prolly'), np.str_('proliferation'), np.str_('projectiles\\x89ÛÒ'), np.str_('progressives'), np.str_('progress4ohio'), np.str_('programs'), np.str_('profittothepeople'), np.str_('profithungry'), np.str_('professionally'), np.str_('profbriancox'), np.str_('productive'), np.str_('production'), np.str_('produces'), np.str_('producer'), np.str_('produce'), np.str_('produc'), np.str_('prodemocracy'), np.str_('proc'), np.str_('probs'), np.str_('probability'), np.str_('prob'), np.str_('privilege'), np.str_('prisonplanet'), np.str_('prisoners'), np.str_('prints'), np.str_('printing'), np.str_('printed'), np.str_('printable'), np.str_('principle'), np.str_('princessduck'), np.str_('princeoffencing'), np.str_('primalkitchen'), np.str_('primal'), np.str_('priests'), np.str_('priest'), np.str_('pride'), np.str_('prez'), np.str_('previews'), np.str_('preventative'), np.str_('prevalent'), np.str_('prettyboyshyflizzy'), np.str_('pretenses'), np.str_('presume'), np.str_('preston\\x89Ûªs'), np.str_('prestige'), np.str_('presstv'), np.str_('presssec'), np.str_('pressing'), np.str_('presser'), np.str_('presley'), np.str_('presinkhole'), np.str_('president\\x89Û\\x9d'), np.str_('presidential'), np.str_('preset'), np.str_('preserve'), np.str_('presents'), np.str_('presentation'), np.str_('preseasonworkouts'), np.str_('preseason'), np.str_('preschool'), np.str_('presbad'), np.str_('preppertalk'), np.str_('preppers'), np.str_('preparedelectrocutedboiling'), np.str_('prensa'), np.str_('premises'), np.str_('prem'), np.str_('preferable'), np.str_('prefecture'), np.str_('preemptive'), np.str_('predynastic'), np.str_('predictions'), np.str_('preconditioning'), np.str_('precisionistic'), np.str_('precedent'), np.str_('preaching'), np.str_('preacher'), np.str_('praying'), np.str_('prayforsaipan'), np.str_('prayed'), np.str_('praise'), np.str_('pragnik'), np.str_('practitioner'), np.str_('practicing'), np.str_('practicenyg'), np.str_('practically'), np.str_('prablematicla'), np.str_('pra'), np.str_('ppsellsbabyparts'), np.str_('ppor'), np.str_('pple'), np.str_('ppfa'), np.str_('ppc'), np.str_('ppact'), np.str_('pp400dr'), np.str_('pp15000266858'), np.str_('pp15000266818'), np.str_('pp'), np.str_('poze'), np.str_('pozarmy'), np.str_('pox'), np.str_('powerwow'), np.str_('powers'), np.str_('powerhiroshima'), np.str_('powder'), np.str_('poway'), np.str_('pow'), np.str_('pouring'), np.str_('poured'), np.str_('pour'), np.str_('pounds'), np.str_('pounding'), np.str_('pounded'), np.str_('pouch'), np.str_('potter'), np.str_('pots'), np.str_('potatoes'), np.str_('pot'), np.str_('postponed'), np.str_('postexistence'), np.str_('postering'), np.str_('poster'), np.str_('postcards'), np.str_('postcapitalism'), np.str_('postal'), np.str_('possess'), np.str_('possesion'), np.str_('positively'), np.str_('poses'), np.str_('pos'), np.str_('portrait'), np.str_('portfolio'), np.str_('portaloos'), np.str_('porno'), np.str_('pornhub'), np.str_('porcupine'), np.str_('porcini'), np.str_('population6'), np.str_('popeyes'), np.str_('popcorn'), np.str_('pop2015'), np.str_('pony'), np.str_('ponting'), np.str_('pone'), np.str_('polluted'), np.str_('pollster'), np.str_('politic\\x89Û'), np.str_('politicized'), np.str_('politicians'), np.str_('politely'), np.str_('polit'), np.str_('policylab'), np.str_('police\\x89Û'), np.str_('policeng'), np.str_('pole'), np.str_('polaroids'), np.str_('polar'), np.str_('pol'), np.str_('pokemoncards'), np.str_('pokemon'), np.str_('poisoned'), np.str_('point\\x89Û'), np.str_('pointless'), np.str_('poignant'), np.str_('pogo'), np.str_('podcast'), np.str_('pod'), np.str_('poconorecord'), np.str_('pochette'), np.str_('poc'), np.str_('pneumonia'), np.str_('plymouth'), np.str_('plumbing'), np.str_('plugin'), np.str_('plsss'), np.str_('plotted'), np.str_('ploppy'), np.str_('pll'), np.str_('plez'), np.str_('pletch\\x89Ûªs'), np.str_('pledged'), np.str_('pleb'), np.str_('pleasant'), np.str_('pleaded'), np.str_('plaza'), np.str_('playthrough'), np.str_('playstation'), np.str_('playoverwatch'), np.str_('playingnow'), np.str_('playa'), np.str_('platt'), np.str_('platinum'), np.str_('plastics'), np.str_('plastic'), np.str_('plantcovered'), np.str_('plantations'), np.str_('planners'), np.str_('plannedparenthood'), np.str_('plank'), np.str_('planing'), np.str_('planetary'), np.str_('pl'), np.str_('pkwy'), np.str_('pjcoyle'), np.str_('pizzas'), np.str_('pizzarev'), np.str_('pixelsmovie'), np.str_('pixeljanosz'), np.str_('pixelcanuck'), np.str_('pixar'), np.str_('pivot'), np.str_('pity'), np.str_('pittsburgh'), np.str_('pitmix'), np.str_('pitcher'), np.str_('pitched'), np.str_('pit'), np.str_('piss'), np.str_('pisco'), np.str_('pirates'), np.str_('pirate'), np.str_('piracy'), np.str_('pir'), np.str_('piprhys'), np.str_('piping'), np.str_('piperwearsthepants'), np.str_('pipeliners'), np.str_('pioneer'), np.str_('pineview'), np.str_('pin23928835'), np.str_('pills'), np.str_('pilgrims'), np.str_('pileup'), np.str_('piles'), np.str_('pileq'), np.str_('pikin'), np.str_('pikachu'), np.str_('pigeon'), np.str_('piga'), np.str_('piercings'), np.str_('piercing'), np.str_('pierce'), np.str_('pierc'), np.str_('piece\\x89Û'), np.str_('pieceofme'), np.str_('pictwittercompnpizody'), np.str_('pictured'), np.str_('picthis'), np.str_('pickpocket'), np.str_('pickle'), np.str_('pickens'), np.str_('pianohands'), np.str_('piano'), np.str_('physician'), np.str_('phuket'), np.str_('photoop'), np.str_('photographs'), np.str_('photographed'), np.str_('photogenic'), np.str_('phnotf'), np.str_('phillips'), np.str_('phillip'), np.str_('philippines\\x89Û'), np.str_('philippine'), np.str_('philippi'), np.str_('philipduncan'), np.str_('philip'), np.str_('phelimkine'), np.str_('pharrell'), np.str_('pharma'), np.str_('phantasmal'), np.str_('phandom'), np.str_('phalaborwa'), np.str_('ph0tos'), np.str_('pga'), np.str_('pft'), np.str_('pfft'), np.str_('pfannebeckers'), np.str_('petty'), np.str_('petting'), np.str_('petitiontake'), np.str_('petitionno'), np.str_('petersens'), np.str_('petersburg'), np.str_('peterknox'), np.str_('peterhowenecn'), np.str_('petereallen'), np.str_('peterduttonmp'), np.str_('petelmcguire'), np.str_('petebests'), np.str_('pete'), np.str_('petchary'), np.str_('peta'), np.str_('pet'), np.str_('pestle'), np.str_('perspectives'), np.str_('perspective'), np.str_('personnel'), np.str_('personalize'), np.str_('personalinjury'), np.str_('persistent'), np.str_('persist'), np.str_('perrychat'), np.str_('perrybellegarde'), np.str_('perrie'), np.str_('perpetrators'), np.str_('permission'), np.str_('periwinkle'), np.str_('perished'), np.str_('periscope'), np.str_('perform'), np.str_('perforated'), np.str_('perfectly'), np.str_('perceive'), np.str_('pepperoni'), np.str_('peoplegt'), np.str_('peoplecommunication'), np.str_('pension'), np.str_('penny'), np.str_('pennlive'), np.str_('pennies'), np.str_('penneys'), np.str_('peninsula'), np.str_('penetrate'), np.str_('penalty'), np.str_('pelosis'), np.str_('peice'), np.str_('peeters'), np.str_('peers'), np.str_('peeped'), np.str_('peel'), np.str_('peeked'), np.str_('pee'), np.str_('pedro20'), np.str_('pediatric'), np.str_('pedals'), np.str_('peasants'), np.str_('pearlharbor'), np.str_('pearl'), np.str_('peale'), np.str_('peace\\x89Ûª'), np.str_('peacetime'), np.str_('pdxabq'), np.str_('pd'), np.str_('pci'), np.str_('pcaldicott7'), np.str_('pbx'), np.str_('pbs'), np.str_('pbohanna'), np.str_('pbcanpcx'), np.str_('pb'), np.str_('paypile'), np.str_('payment'), np.str_('paying'), np.str_('paydayprison'), np.str_('payday'), np.str_('payback'), np.str_('paxton'), np.str_('pawsox'), np.str_('paws'), np.str_('paulstaubs'), np.str_('pauls'), np.str_('paulista'), np.str_('paulhollywood'), np.str_('pattyds50'), np.str_('patterns'), np.str_('patrol'), np.str_('patrickwsls'), np.str_('patrickjbutler'), np.str_('patriciatraina'), np.str_('patna'), np.str_('patio'), np.str_('patientreported'), np.str_('paths'), np.str_('pathfinders'), np.str_('pat'), np.str_('pastures'), np.str_('pastor'), np.str_('pastie'), np.str_('passive'), np.str_('passion'), np.str_('pascoe'), np.str_('pascal'), np.str_('partys'), np.str_('partners'), np.str_('partner'), np.str_('parties'), np.str_('participating'), np.str_('participate'), np.str_('partially'), np.str_('parter'), np.str_('partake'), np.str_('parsholics'), np.str_('pars'), np.str_('parliment'), np.str_('parliamentary'), np.str_('parley\\x89Ûªs'), np.str_('parksboardfacts'), np.str_('parks'), np.str_('parked'), np.str_('parkchat'), np.str_('parisian'), np.str_('parental'), np.str_('parent'), np.str_('pardon'), np.str_('parched'), np.str_('paratroopers'), np.str_('paramore'), np.str_('paramedics'), np.str_('paraguay'), np.str_('paradise'), np.str_('paracord'), np.str_('para'), np.str_('papicongress'), np.str_('papi'), np.str_('paperwork'), np.str_('paperback'), np.str_('papcrdoll'), np.str_('papa'), np.str_('pantofel'), np.str_('panties'), np.str_('panther'), np.str_('pantalonesfuego'), np.str_('panik'), np.str_('panics'), np.str_('panicked'), np.str_('pandora'), np.str_('pandemoniumiso'), np.str_('pandemic'), np.str_('pancakes'), np.str_('panama'), np.str_('pampered'), np.str_('pampalmater'), np.str_('palmoil'), np.str_('palmer'), np.str_('palm'), np.str_('palinfoen'), np.str_('palestinian\\x89Û'), np.str_('palermo'), np.str_('paleface'), np.str_('pale'), np.str_('pakthey'), np.str_('pakistans'), np.str_('pajamas'), np.str_('paints'), np.str_('painthey'), np.str_('painful'), np.str_('paine'), np.str_('paging'), np.str_('pageshi'), np.str_('pages'), np.str_('paeds'), np.str_('pads'), np.str_('padres'), np.str_('paddytomlinson1')]\n"
          ]
        }
      ]
    },
    {
      "cell_type": "markdown",
      "source": [
        "###Creating an Embedding using an Embedding Layer"
      ],
      "metadata": {
        "id": "0CTOdUE5cWWr"
      }
    },
    {
      "cell_type": "code",
      "source": [
        "tf.random.set_seed(42)\n",
        "from tensorflow.keras import layers\n",
        "\n",
        "embedding = layers.Embedding(input_dim = max_vocab_length,\n",
        "                             output_dim = 128,\n",
        "                             embeddings_initializer = \"uniform\",\n",
        "                             input_length=max_length,\n",
        "                             name=\"embedding\")\n",
        "\n",
        "embedding"
      ],
      "metadata": {
        "colab": {
          "base_uri": "https://localhost:8080/"
        },
        "id": "4Wd5Di6ucgZC",
        "outputId": "e947e766-1cc7-4f60-d386-ab2dd1b1912d"
      },
      "execution_count": 22,
      "outputs": [
        {
          "output_type": "stream",
          "name": "stderr",
          "text": [
            "/usr/local/lib/python3.11/dist-packages/keras/src/layers/core/embedding.py:90: UserWarning: Argument `input_length` is deprecated. Just remove it.\n",
            "  warnings.warn(\n"
          ]
        },
        {
          "output_type": "execute_result",
          "data": {
            "text/plain": [
              "<Embedding name=embedding, built=False>"
            ]
          },
          "metadata": {},
          "execution_count": 22
        }
      ]
    },
    {
      "cell_type": "code",
      "source": [
        "# Get random senetence\n",
        "sample_embed = embedding(text_vectorizer([random_sentence]))\n",
        "random_sentence,sample_embed"
      ],
      "metadata": {
        "colab": {
          "base_uri": "https://localhost:8080/"
        },
        "id": "YPOpqSUQdJ2b",
        "outputId": "273e55ce-43bd-4136-bb2f-60ed1f958c90"
      },
      "execution_count": 23,
      "outputs": [
        {
          "output_type": "execute_result",
          "data": {
            "text/plain": [
              "('Cyclist who collided with runner on Roanoke greenway wins $300000 civil verdict - Roanoke Times: Cyclist who c... http://t.co/E2WfGp8JHk',\n",
              " <tf.Tensor: shape=(1, 15, 128), dtype=float32, numpy=\n",
              " array([[[ 0.04685156, -0.01403085,  0.01134602, ...,  0.04080737,\n",
              "          -0.03986231,  0.04656643],\n",
              "         [-0.01867685,  0.04747781, -0.01844863, ...,  0.00106995,\n",
              "           0.02768442,  0.02376259],\n",
              "         [-0.02093096, -0.02773098, -0.01986631, ...,  0.00476794,\n",
              "          -0.02776359,  0.01992687],\n",
              "         ...,\n",
              "         [ 0.00039269, -0.04945963,  0.04156807, ..., -0.03325521,\n",
              "           0.03900724, -0.03882821],\n",
              "         [-0.03676867,  0.02958474, -0.02821921, ..., -0.04822086,\n",
              "          -0.02289404, -0.02862689],\n",
              "         [ 0.04685156, -0.01403085,  0.01134602, ...,  0.04080737,\n",
              "          -0.03986231,  0.04656643]]], dtype=float32)>)"
            ]
          },
          "metadata": {},
          "execution_count": 23
        }
      ]
    },
    {
      "cell_type": "code",
      "source": [
        "#Check out a single token's embedding\n",
        "sample_embed[0][0]"
      ],
      "metadata": {
        "colab": {
          "base_uri": "https://localhost:8080/"
        },
        "id": "imuUNz5ydbpQ",
        "outputId": "63263862-76b9-421c-d435-05df1bddb215"
      },
      "execution_count": 24,
      "outputs": [
        {
          "output_type": "execute_result",
          "data": {
            "text/plain": [
              "<tf.Tensor: shape=(128,), dtype=float32, numpy=\n",
              "array([ 4.68515642e-02, -1.40308514e-02,  1.13460198e-02,  2.04409286e-03,\n",
              "        1.08612776e-02, -3.38662490e-02, -1.48757473e-02,  5.11420891e-03,\n",
              "        4.15841602e-02, -4.59026806e-02, -3.70483398e-02,  2.39518918e-02,\n",
              "       -3.84786837e-02,  3.77808884e-03,  1.16971731e-02,  3.07032727e-02,\n",
              "        1.90726779e-02, -4.60807681e-02, -3.06985267e-02, -1.59004219e-02,\n",
              "       -3.30122933e-02, -2.19735745e-02, -3.08578499e-02, -4.53045219e-03,\n",
              "       -2.81866081e-02, -2.11552270e-02, -2.09330805e-02, -6.26441091e-03,\n",
              "       -1.76462904e-02, -2.86732204e-02, -3.70185599e-02,  2.58721597e-02,\n",
              "        3.20978276e-02,  5.39878756e-03, -1.66852586e-02, -3.27155478e-02,\n",
              "       -3.81066576e-02, -2.36159097e-02,  3.38079818e-02,  8.12500715e-03,\n",
              "       -4.39785421e-04, -1.88518316e-04,  2.29849331e-02, -1.75214782e-02,\n",
              "       -2.09985729e-02, -4.98593710e-02,  3.06283347e-02, -2.63452772e-02,\n",
              "       -3.20414901e-02,  2.51216926e-02, -3.98154855e-02,  8.97889212e-03,\n",
              "        1.25258006e-02,  2.78521217e-02, -4.38780189e-02, -3.03616375e-03,\n",
              "        1.75573342e-02, -4.41962257e-02, -2.15893388e-02,  3.62078808e-02,\n",
              "        1.49961002e-02,  1.23495460e-02, -3.86440158e-02,  3.66887785e-02,\n",
              "        8.44453648e-03, -8.63284990e-03, -1.57166719e-02, -2.40214709e-02,\n",
              "       -1.97910555e-02,  3.54636051e-02, -1.99168678e-02, -2.63804197e-03,\n",
              "        4.08466123e-02,  1.35918595e-02, -4.86516841e-02,  4.39930670e-02,\n",
              "       -2.93427706e-02, -2.59757768e-02,  2.59558894e-02,  1.52429380e-02,\n",
              "        4.71941568e-02, -4.77804653e-02, -4.53898683e-02,  2.55738162e-02,\n",
              "        1.70137994e-02, -3.16033587e-02, -9.30875540e-03,  4.20154817e-02,\n",
              "        2.38036625e-02,  3.32182981e-02, -4.29267399e-02, -2.00027116e-02,\n",
              "       -1.73452497e-02, -4.71422821e-03, -4.42648046e-02, -2.54315976e-02,\n",
              "        1.18503794e-02,  5.49733639e-03, -2.85473596e-02,  3.58647369e-02,\n",
              "       -3.81487012e-02, -2.37609036e-02,  1.56929754e-02, -1.99076422e-02,\n",
              "        1.78060643e-02, -4.64749001e-02,  2.53894590e-02, -8.13575834e-03,\n",
              "        4.31374572e-02,  1.07609406e-02,  3.19122411e-02, -5.52646816e-05,\n",
              "        2.50782035e-02,  2.73384787e-02, -4.86950278e-02,  1.76151283e-02,\n",
              "       -4.10529226e-03, -4.95006703e-02,  1.39611699e-02, -1.50761828e-02,\n",
              "       -3.85031477e-02,  4.76503856e-02,  2.46281512e-02,  4.47992235e-03,\n",
              "        1.14099756e-02,  4.08073701e-02, -3.98623124e-02,  4.65664305e-02],\n",
              "      dtype=float32)>"
            ]
          },
          "metadata": {},
          "execution_count": 24
        }
      ]
    },
    {
      "cell_type": "markdown",
      "source": [
        "### Modelling a text dataset\n",
        "* Model 0: Naive Bayes (baseline)\n",
        "* Model 1: Feed-forward neural network (dense model)\n",
        "* Model 2: LSTM model\n",
        "* Model 3: GRU model\n",
        "* Model 4: Bidirectional-LSTM model\n",
        "* Model 5: 1D Convolutional Neural Network\n",
        "* Model 6: TensorFlow Hub Pretrained\n",
        "Feature Extractor\n",
        "* Model 7: Same as model 6 with 10% of training data"
      ],
      "metadata": {
        "id": "Vc34m4qTdyg4"
      }
    },
    {
      "cell_type": "markdown",
      "source": [
        "#Model 0"
      ],
      "metadata": {
        "id": "EwM0eU5peg3y"
      }
    },
    {
      "cell_type": "code",
      "source": [
        "from sklearn.feature_extraction.text import TfidfVectorizer\n",
        "from sklearn.naive_bayes import MultinomialNB\n",
        "from sklearn.pipeline import Pipeline\n",
        "\n",
        "#create tokenization and modelling Pipeline\n",
        "model_0 = Pipeline([\n",
        "    (\"tfidf\", TfidfVectorizer()), #Convert words to numbers using tfidf\n",
        "    (\"clf\", MultinomialNB()) #Model the text\n",
        "])\n",
        "#Fit the pipeline to the trainig data\n",
        "model_0.fit(train_sentences, train_labels)\n"
      ],
      "metadata": {
        "colab": {
          "base_uri": "https://localhost:8080/",
          "height": 157
        },
        "id": "7Rf3P_DIett4",
        "outputId": "7659c460-f2ff-4dc8-f385-cf47efbb7b85"
      },
      "execution_count": 25,
      "outputs": [
        {
          "output_type": "execute_result",
          "data": {
            "text/plain": [
              "Pipeline(steps=[('tfidf', TfidfVectorizer()), ('clf', MultinomialNB())])"
            ],
            "text/html": [
              "<style>#sk-container-id-1 {\n",
              "  /* Definition of color scheme common for light and dark mode */\n",
              "  --sklearn-color-text: #000;\n",
              "  --sklearn-color-text-muted: #666;\n",
              "  --sklearn-color-line: gray;\n",
              "  /* Definition of color scheme for unfitted estimators */\n",
              "  --sklearn-color-unfitted-level-0: #fff5e6;\n",
              "  --sklearn-color-unfitted-level-1: #f6e4d2;\n",
              "  --sklearn-color-unfitted-level-2: #ffe0b3;\n",
              "  --sklearn-color-unfitted-level-3: chocolate;\n",
              "  /* Definition of color scheme for fitted estimators */\n",
              "  --sklearn-color-fitted-level-0: #f0f8ff;\n",
              "  --sklearn-color-fitted-level-1: #d4ebff;\n",
              "  --sklearn-color-fitted-level-2: #b3dbfd;\n",
              "  --sklearn-color-fitted-level-3: cornflowerblue;\n",
              "\n",
              "  /* Specific color for light theme */\n",
              "  --sklearn-color-text-on-default-background: var(--sg-text-color, var(--theme-code-foreground, var(--jp-content-font-color1, black)));\n",
              "  --sklearn-color-background: var(--sg-background-color, var(--theme-background, var(--jp-layout-color0, white)));\n",
              "  --sklearn-color-border-box: var(--sg-text-color, var(--theme-code-foreground, var(--jp-content-font-color1, black)));\n",
              "  --sklearn-color-icon: #696969;\n",
              "\n",
              "  @media (prefers-color-scheme: dark) {\n",
              "    /* Redefinition of color scheme for dark theme */\n",
              "    --sklearn-color-text-on-default-background: var(--sg-text-color, var(--theme-code-foreground, var(--jp-content-font-color1, white)));\n",
              "    --sklearn-color-background: var(--sg-background-color, var(--theme-background, var(--jp-layout-color0, #111)));\n",
              "    --sklearn-color-border-box: var(--sg-text-color, var(--theme-code-foreground, var(--jp-content-font-color1, white)));\n",
              "    --sklearn-color-icon: #878787;\n",
              "  }\n",
              "}\n",
              "\n",
              "#sk-container-id-1 {\n",
              "  color: var(--sklearn-color-text);\n",
              "}\n",
              "\n",
              "#sk-container-id-1 pre {\n",
              "  padding: 0;\n",
              "}\n",
              "\n",
              "#sk-container-id-1 input.sk-hidden--visually {\n",
              "  border: 0;\n",
              "  clip: rect(1px 1px 1px 1px);\n",
              "  clip: rect(1px, 1px, 1px, 1px);\n",
              "  height: 1px;\n",
              "  margin: -1px;\n",
              "  overflow: hidden;\n",
              "  padding: 0;\n",
              "  position: absolute;\n",
              "  width: 1px;\n",
              "}\n",
              "\n",
              "#sk-container-id-1 div.sk-dashed-wrapped {\n",
              "  border: 1px dashed var(--sklearn-color-line);\n",
              "  margin: 0 0.4em 0.5em 0.4em;\n",
              "  box-sizing: border-box;\n",
              "  padding-bottom: 0.4em;\n",
              "  background-color: var(--sklearn-color-background);\n",
              "}\n",
              "\n",
              "#sk-container-id-1 div.sk-container {\n",
              "  /* jupyter's `normalize.less` sets `[hidden] { display: none; }`\n",
              "     but bootstrap.min.css set `[hidden] { display: none !important; }`\n",
              "     so we also need the `!important` here to be able to override the\n",
              "     default hidden behavior on the sphinx rendered scikit-learn.org.\n",
              "     See: https://github.com/scikit-learn/scikit-learn/issues/21755 */\n",
              "  display: inline-block !important;\n",
              "  position: relative;\n",
              "}\n",
              "\n",
              "#sk-container-id-1 div.sk-text-repr-fallback {\n",
              "  display: none;\n",
              "}\n",
              "\n",
              "div.sk-parallel-item,\n",
              "div.sk-serial,\n",
              "div.sk-item {\n",
              "  /* draw centered vertical line to link estimators */\n",
              "  background-image: linear-gradient(var(--sklearn-color-text-on-default-background), var(--sklearn-color-text-on-default-background));\n",
              "  background-size: 2px 100%;\n",
              "  background-repeat: no-repeat;\n",
              "  background-position: center center;\n",
              "}\n",
              "\n",
              "/* Parallel-specific style estimator block */\n",
              "\n",
              "#sk-container-id-1 div.sk-parallel-item::after {\n",
              "  content: \"\";\n",
              "  width: 100%;\n",
              "  border-bottom: 2px solid var(--sklearn-color-text-on-default-background);\n",
              "  flex-grow: 1;\n",
              "}\n",
              "\n",
              "#sk-container-id-1 div.sk-parallel {\n",
              "  display: flex;\n",
              "  align-items: stretch;\n",
              "  justify-content: center;\n",
              "  background-color: var(--sklearn-color-background);\n",
              "  position: relative;\n",
              "}\n",
              "\n",
              "#sk-container-id-1 div.sk-parallel-item {\n",
              "  display: flex;\n",
              "  flex-direction: column;\n",
              "}\n",
              "\n",
              "#sk-container-id-1 div.sk-parallel-item:first-child::after {\n",
              "  align-self: flex-end;\n",
              "  width: 50%;\n",
              "}\n",
              "\n",
              "#sk-container-id-1 div.sk-parallel-item:last-child::after {\n",
              "  align-self: flex-start;\n",
              "  width: 50%;\n",
              "}\n",
              "\n",
              "#sk-container-id-1 div.sk-parallel-item:only-child::after {\n",
              "  width: 0;\n",
              "}\n",
              "\n",
              "/* Serial-specific style estimator block */\n",
              "\n",
              "#sk-container-id-1 div.sk-serial {\n",
              "  display: flex;\n",
              "  flex-direction: column;\n",
              "  align-items: center;\n",
              "  background-color: var(--sklearn-color-background);\n",
              "  padding-right: 1em;\n",
              "  padding-left: 1em;\n",
              "}\n",
              "\n",
              "\n",
              "/* Toggleable style: style used for estimator/Pipeline/ColumnTransformer box that is\n",
              "clickable and can be expanded/collapsed.\n",
              "- Pipeline and ColumnTransformer use this feature and define the default style\n",
              "- Estimators will overwrite some part of the style using the `sk-estimator` class\n",
              "*/\n",
              "\n",
              "/* Pipeline and ColumnTransformer style (default) */\n",
              "\n",
              "#sk-container-id-1 div.sk-toggleable {\n",
              "  /* Default theme specific background. It is overwritten whether we have a\n",
              "  specific estimator or a Pipeline/ColumnTransformer */\n",
              "  background-color: var(--sklearn-color-background);\n",
              "}\n",
              "\n",
              "/* Toggleable label */\n",
              "#sk-container-id-1 label.sk-toggleable__label {\n",
              "  cursor: pointer;\n",
              "  display: flex;\n",
              "  width: 100%;\n",
              "  margin-bottom: 0;\n",
              "  padding: 0.5em;\n",
              "  box-sizing: border-box;\n",
              "  text-align: center;\n",
              "  align-items: start;\n",
              "  justify-content: space-between;\n",
              "  gap: 0.5em;\n",
              "}\n",
              "\n",
              "#sk-container-id-1 label.sk-toggleable__label .caption {\n",
              "  font-size: 0.6rem;\n",
              "  font-weight: lighter;\n",
              "  color: var(--sklearn-color-text-muted);\n",
              "}\n",
              "\n",
              "#sk-container-id-1 label.sk-toggleable__label-arrow:before {\n",
              "  /* Arrow on the left of the label */\n",
              "  content: \"▸\";\n",
              "  float: left;\n",
              "  margin-right: 0.25em;\n",
              "  color: var(--sklearn-color-icon);\n",
              "}\n",
              "\n",
              "#sk-container-id-1 label.sk-toggleable__label-arrow:hover:before {\n",
              "  color: var(--sklearn-color-text);\n",
              "}\n",
              "\n",
              "/* Toggleable content - dropdown */\n",
              "\n",
              "#sk-container-id-1 div.sk-toggleable__content {\n",
              "  max-height: 0;\n",
              "  max-width: 0;\n",
              "  overflow: hidden;\n",
              "  text-align: left;\n",
              "  /* unfitted */\n",
              "  background-color: var(--sklearn-color-unfitted-level-0);\n",
              "}\n",
              "\n",
              "#sk-container-id-1 div.sk-toggleable__content.fitted {\n",
              "  /* fitted */\n",
              "  background-color: var(--sklearn-color-fitted-level-0);\n",
              "}\n",
              "\n",
              "#sk-container-id-1 div.sk-toggleable__content pre {\n",
              "  margin: 0.2em;\n",
              "  border-radius: 0.25em;\n",
              "  color: var(--sklearn-color-text);\n",
              "  /* unfitted */\n",
              "  background-color: var(--sklearn-color-unfitted-level-0);\n",
              "}\n",
              "\n",
              "#sk-container-id-1 div.sk-toggleable__content.fitted pre {\n",
              "  /* unfitted */\n",
              "  background-color: var(--sklearn-color-fitted-level-0);\n",
              "}\n",
              "\n",
              "#sk-container-id-1 input.sk-toggleable__control:checked~div.sk-toggleable__content {\n",
              "  /* Expand drop-down */\n",
              "  max-height: 200px;\n",
              "  max-width: 100%;\n",
              "  overflow: auto;\n",
              "}\n",
              "\n",
              "#sk-container-id-1 input.sk-toggleable__control:checked~label.sk-toggleable__label-arrow:before {\n",
              "  content: \"▾\";\n",
              "}\n",
              "\n",
              "/* Pipeline/ColumnTransformer-specific style */\n",
              "\n",
              "#sk-container-id-1 div.sk-label input.sk-toggleable__control:checked~label.sk-toggleable__label {\n",
              "  color: var(--sklearn-color-text);\n",
              "  background-color: var(--sklearn-color-unfitted-level-2);\n",
              "}\n",
              "\n",
              "#sk-container-id-1 div.sk-label.fitted input.sk-toggleable__control:checked~label.sk-toggleable__label {\n",
              "  background-color: var(--sklearn-color-fitted-level-2);\n",
              "}\n",
              "\n",
              "/* Estimator-specific style */\n",
              "\n",
              "/* Colorize estimator box */\n",
              "#sk-container-id-1 div.sk-estimator input.sk-toggleable__control:checked~label.sk-toggleable__label {\n",
              "  /* unfitted */\n",
              "  background-color: var(--sklearn-color-unfitted-level-2);\n",
              "}\n",
              "\n",
              "#sk-container-id-1 div.sk-estimator.fitted input.sk-toggleable__control:checked~label.sk-toggleable__label {\n",
              "  /* fitted */\n",
              "  background-color: var(--sklearn-color-fitted-level-2);\n",
              "}\n",
              "\n",
              "#sk-container-id-1 div.sk-label label.sk-toggleable__label,\n",
              "#sk-container-id-1 div.sk-label label {\n",
              "  /* The background is the default theme color */\n",
              "  color: var(--sklearn-color-text-on-default-background);\n",
              "}\n",
              "\n",
              "/* On hover, darken the color of the background */\n",
              "#sk-container-id-1 div.sk-label:hover label.sk-toggleable__label {\n",
              "  color: var(--sklearn-color-text);\n",
              "  background-color: var(--sklearn-color-unfitted-level-2);\n",
              "}\n",
              "\n",
              "/* Label box, darken color on hover, fitted */\n",
              "#sk-container-id-1 div.sk-label.fitted:hover label.sk-toggleable__label.fitted {\n",
              "  color: var(--sklearn-color-text);\n",
              "  background-color: var(--sklearn-color-fitted-level-2);\n",
              "}\n",
              "\n",
              "/* Estimator label */\n",
              "\n",
              "#sk-container-id-1 div.sk-label label {\n",
              "  font-family: monospace;\n",
              "  font-weight: bold;\n",
              "  display: inline-block;\n",
              "  line-height: 1.2em;\n",
              "}\n",
              "\n",
              "#sk-container-id-1 div.sk-label-container {\n",
              "  text-align: center;\n",
              "}\n",
              "\n",
              "/* Estimator-specific */\n",
              "#sk-container-id-1 div.sk-estimator {\n",
              "  font-family: monospace;\n",
              "  border: 1px dotted var(--sklearn-color-border-box);\n",
              "  border-radius: 0.25em;\n",
              "  box-sizing: border-box;\n",
              "  margin-bottom: 0.5em;\n",
              "  /* unfitted */\n",
              "  background-color: var(--sklearn-color-unfitted-level-0);\n",
              "}\n",
              "\n",
              "#sk-container-id-1 div.sk-estimator.fitted {\n",
              "  /* fitted */\n",
              "  background-color: var(--sklearn-color-fitted-level-0);\n",
              "}\n",
              "\n",
              "/* on hover */\n",
              "#sk-container-id-1 div.sk-estimator:hover {\n",
              "  /* unfitted */\n",
              "  background-color: var(--sklearn-color-unfitted-level-2);\n",
              "}\n",
              "\n",
              "#sk-container-id-1 div.sk-estimator.fitted:hover {\n",
              "  /* fitted */\n",
              "  background-color: var(--sklearn-color-fitted-level-2);\n",
              "}\n",
              "\n",
              "/* Specification for estimator info (e.g. \"i\" and \"?\") */\n",
              "\n",
              "/* Common style for \"i\" and \"?\" */\n",
              "\n",
              ".sk-estimator-doc-link,\n",
              "a:link.sk-estimator-doc-link,\n",
              "a:visited.sk-estimator-doc-link {\n",
              "  float: right;\n",
              "  font-size: smaller;\n",
              "  line-height: 1em;\n",
              "  font-family: monospace;\n",
              "  background-color: var(--sklearn-color-background);\n",
              "  border-radius: 1em;\n",
              "  height: 1em;\n",
              "  width: 1em;\n",
              "  text-decoration: none !important;\n",
              "  margin-left: 0.5em;\n",
              "  text-align: center;\n",
              "  /* unfitted */\n",
              "  border: var(--sklearn-color-unfitted-level-1) 1pt solid;\n",
              "  color: var(--sklearn-color-unfitted-level-1);\n",
              "}\n",
              "\n",
              ".sk-estimator-doc-link.fitted,\n",
              "a:link.sk-estimator-doc-link.fitted,\n",
              "a:visited.sk-estimator-doc-link.fitted {\n",
              "  /* fitted */\n",
              "  border: var(--sklearn-color-fitted-level-1) 1pt solid;\n",
              "  color: var(--sklearn-color-fitted-level-1);\n",
              "}\n",
              "\n",
              "/* On hover */\n",
              "div.sk-estimator:hover .sk-estimator-doc-link:hover,\n",
              ".sk-estimator-doc-link:hover,\n",
              "div.sk-label-container:hover .sk-estimator-doc-link:hover,\n",
              ".sk-estimator-doc-link:hover {\n",
              "  /* unfitted */\n",
              "  background-color: var(--sklearn-color-unfitted-level-3);\n",
              "  color: var(--sklearn-color-background);\n",
              "  text-decoration: none;\n",
              "}\n",
              "\n",
              "div.sk-estimator.fitted:hover .sk-estimator-doc-link.fitted:hover,\n",
              ".sk-estimator-doc-link.fitted:hover,\n",
              "div.sk-label-container:hover .sk-estimator-doc-link.fitted:hover,\n",
              ".sk-estimator-doc-link.fitted:hover {\n",
              "  /* fitted */\n",
              "  background-color: var(--sklearn-color-fitted-level-3);\n",
              "  color: var(--sklearn-color-background);\n",
              "  text-decoration: none;\n",
              "}\n",
              "\n",
              "/* Span, style for the box shown on hovering the info icon */\n",
              ".sk-estimator-doc-link span {\n",
              "  display: none;\n",
              "  z-index: 9999;\n",
              "  position: relative;\n",
              "  font-weight: normal;\n",
              "  right: .2ex;\n",
              "  padding: .5ex;\n",
              "  margin: .5ex;\n",
              "  width: min-content;\n",
              "  min-width: 20ex;\n",
              "  max-width: 50ex;\n",
              "  color: var(--sklearn-color-text);\n",
              "  box-shadow: 2pt 2pt 4pt #999;\n",
              "  /* unfitted */\n",
              "  background: var(--sklearn-color-unfitted-level-0);\n",
              "  border: .5pt solid var(--sklearn-color-unfitted-level-3);\n",
              "}\n",
              "\n",
              ".sk-estimator-doc-link.fitted span {\n",
              "  /* fitted */\n",
              "  background: var(--sklearn-color-fitted-level-0);\n",
              "  border: var(--sklearn-color-fitted-level-3);\n",
              "}\n",
              "\n",
              ".sk-estimator-doc-link:hover span {\n",
              "  display: block;\n",
              "}\n",
              "\n",
              "/* \"?\"-specific style due to the `<a>` HTML tag */\n",
              "\n",
              "#sk-container-id-1 a.estimator_doc_link {\n",
              "  float: right;\n",
              "  font-size: 1rem;\n",
              "  line-height: 1em;\n",
              "  font-family: monospace;\n",
              "  background-color: var(--sklearn-color-background);\n",
              "  border-radius: 1rem;\n",
              "  height: 1rem;\n",
              "  width: 1rem;\n",
              "  text-decoration: none;\n",
              "  /* unfitted */\n",
              "  color: var(--sklearn-color-unfitted-level-1);\n",
              "  border: var(--sklearn-color-unfitted-level-1) 1pt solid;\n",
              "}\n",
              "\n",
              "#sk-container-id-1 a.estimator_doc_link.fitted {\n",
              "  /* fitted */\n",
              "  border: var(--sklearn-color-fitted-level-1) 1pt solid;\n",
              "  color: var(--sklearn-color-fitted-level-1);\n",
              "}\n",
              "\n",
              "/* On hover */\n",
              "#sk-container-id-1 a.estimator_doc_link:hover {\n",
              "  /* unfitted */\n",
              "  background-color: var(--sklearn-color-unfitted-level-3);\n",
              "  color: var(--sklearn-color-background);\n",
              "  text-decoration: none;\n",
              "}\n",
              "\n",
              "#sk-container-id-1 a.estimator_doc_link.fitted:hover {\n",
              "  /* fitted */\n",
              "  background-color: var(--sklearn-color-fitted-level-3);\n",
              "}\n",
              "</style><div id=\"sk-container-id-1\" class=\"sk-top-container\"><div class=\"sk-text-repr-fallback\"><pre>Pipeline(steps=[(&#x27;tfidf&#x27;, TfidfVectorizer()), (&#x27;clf&#x27;, MultinomialNB())])</pre><b>In a Jupyter environment, please rerun this cell to show the HTML representation or trust the notebook. <br />On GitHub, the HTML representation is unable to render, please try loading this page with nbviewer.org.</b></div><div class=\"sk-container\" hidden><div class=\"sk-item sk-dashed-wrapped\"><div class=\"sk-label-container\"><div class=\"sk-label fitted sk-toggleable\"><input class=\"sk-toggleable__control sk-hidden--visually\" id=\"sk-estimator-id-1\" type=\"checkbox\" ><label for=\"sk-estimator-id-1\" class=\"sk-toggleable__label fitted sk-toggleable__label-arrow\"><div><div>Pipeline</div></div><div><a class=\"sk-estimator-doc-link fitted\" rel=\"noreferrer\" target=\"_blank\" href=\"https://scikit-learn.org/1.6/modules/generated/sklearn.pipeline.Pipeline.html\">?<span>Documentation for Pipeline</span></a><span class=\"sk-estimator-doc-link fitted\">i<span>Fitted</span></span></div></label><div class=\"sk-toggleable__content fitted\"><pre>Pipeline(steps=[(&#x27;tfidf&#x27;, TfidfVectorizer()), (&#x27;clf&#x27;, MultinomialNB())])</pre></div> </div></div><div class=\"sk-serial\"><div class=\"sk-item\"><div class=\"sk-estimator fitted sk-toggleable\"><input class=\"sk-toggleable__control sk-hidden--visually\" id=\"sk-estimator-id-2\" type=\"checkbox\" ><label for=\"sk-estimator-id-2\" class=\"sk-toggleable__label fitted sk-toggleable__label-arrow\"><div><div>TfidfVectorizer</div></div><div><a class=\"sk-estimator-doc-link fitted\" rel=\"noreferrer\" target=\"_blank\" href=\"https://scikit-learn.org/1.6/modules/generated/sklearn.feature_extraction.text.TfidfVectorizer.html\">?<span>Documentation for TfidfVectorizer</span></a></div></label><div class=\"sk-toggleable__content fitted\"><pre>TfidfVectorizer()</pre></div> </div></div><div class=\"sk-item\"><div class=\"sk-estimator fitted sk-toggleable\"><input class=\"sk-toggleable__control sk-hidden--visually\" id=\"sk-estimator-id-3\" type=\"checkbox\" ><label for=\"sk-estimator-id-3\" class=\"sk-toggleable__label fitted sk-toggleable__label-arrow\"><div><div>MultinomialNB</div></div><div><a class=\"sk-estimator-doc-link fitted\" rel=\"noreferrer\" target=\"_blank\" href=\"https://scikit-learn.org/1.6/modules/generated/sklearn.naive_bayes.MultinomialNB.html\">?<span>Documentation for MultinomialNB</span></a></div></label><div class=\"sk-toggleable__content fitted\"><pre>MultinomialNB()</pre></div> </div></div></div></div></div></div>"
            ]
          },
          "metadata": {},
          "execution_count": 25
        }
      ]
    },
    {
      "cell_type": "code",
      "source": [
        "#Evaluating the model\n",
        "basline_score = model_0.score(val_sentences, val_labels)\n",
        "print(f\"Our baseline model achieves an accuracy of: {basline_score*100:.2f}%\")"
      ],
      "metadata": {
        "colab": {
          "base_uri": "https://localhost:8080/"
        },
        "id": "ZaCITDZ4fhs5",
        "outputId": "ed1a211d-17f5-4bfb-f700-4c97e221990b"
      },
      "execution_count": 26,
      "outputs": [
        {
          "output_type": "stream",
          "name": "stdout",
          "text": [
            "Our baseline model achieves an accuracy of: 79.27%\n"
          ]
        }
      ]
    },
    {
      "cell_type": "code",
      "source": [
        "# MAke Predicitons\n",
        "baseline_preds = model_0.predict(val_sentences)\n",
        "baseline_preds[:20]"
      ],
      "metadata": {
        "colab": {
          "base_uri": "https://localhost:8080/"
        },
        "id": "hzf4YzBvf1TJ",
        "outputId": "e7f64c87-015c-4bce-f828-286c45f451ad"
      },
      "execution_count": 27,
      "outputs": [
        {
          "output_type": "execute_result",
          "data": {
            "text/plain": [
              "array([1, 1, 1, 0, 0, 1, 1, 1, 1, 0, 0, 1, 0, 0, 0, 0, 0, 0, 0, 1])"
            ]
          },
          "metadata": {},
          "execution_count": 27
        }
      ]
    },
    {
      "cell_type": "markdown",
      "source": [
        "#Creating an evaluation fucntions for our model experiments\n",
        "\n",
        "* Accuracy\n",
        "* Precision\n",
        "* Recall\n",
        "* F1-score"
      ],
      "metadata": {
        "id": "JQCI9AQFf9Np"
      }
    },
    {
      "cell_type": "code",
      "source": [
        "#Function to evaluate:accuracy, precision, recall, f1-score\n",
        "\n",
        "from sklearn.metrics import accuracy_score , precision_recall_fscore_support\n",
        "\n",
        "def calculate_results(y_true, y_pred):\n",
        "  \"\"\"\n",
        "  Calculates model accuracy, preciision, recall and f1 score of a binary calssification\n",
        "  Args:\n",
        "  ------\n",
        "  y_true = true labels in the form of a 1D array\n",
        "  y_pred = predicted labels in the form of a 1D array\n",
        "  Returns a dictionary of accuracy, precision, recall, f1-score.\n",
        "  \"\"\"\n",
        "\n",
        "  #Calcuate model accuracy\n",
        "  model_accuracy = accuracy_score(y_true, y_pred) * 100\n",
        "  #Calculate model precision, recall and f1-score using \"weighted\" average\n",
        "  model_precision, model_recall, model_f1, _ = precision_recall_fscore_support(y_true, y_pred, average=\"weighted\")\n",
        "  model_results  = {\"accuracy\": model_accuracy,\n",
        "                    \"precision\": model_precision,\n",
        "                    \"recall\": model_recall,\n",
        "                    \"f1\": model_f1}\n",
        "  return model_results"
      ],
      "metadata": {
        "id": "BnXCSMrDgD5Q"
      },
      "execution_count": 28,
      "outputs": []
    },
    {
      "cell_type": "code",
      "source": [
        "#Get baseline results\n",
        "baseline_results = calculate_results(y_true=val_labels,\n",
        "                                     y_pred=baseline_preds)\n",
        "baseline_results"
      ],
      "metadata": {
        "colab": {
          "base_uri": "https://localhost:8080/"
        },
        "id": "zpc-65IRle_6",
        "outputId": "87945c22-7204-4347-b384-0d736873f0b1"
      },
      "execution_count": 29,
      "outputs": [
        {
          "output_type": "execute_result",
          "data": {
            "text/plain": [
              "{'accuracy': 79.26509186351706,\n",
              " 'precision': 0.8111390004213173,\n",
              " 'recall': 0.7926509186351706,\n",
              " 'f1': 0.7862189758049549}"
            ]
          },
          "metadata": {},
          "execution_count": 29
        }
      ]
    },
    {
      "cell_type": "markdown",
      "source": [
        "##MOdel 1: A simple dense model"
      ],
      "metadata": {
        "id": "bJUTAvRLlkpY"
      }
    },
    {
      "cell_type": "code",
      "source": [
        "# Create tensorboard callback (need to create a new one for each model)\n",
        "from helper_functions import create_tensorboard_callback\n",
        "\n",
        "# Create a directory to save TensorBoard logs\n",
        "SAVE_DIR = \"model_logs\""
      ],
      "metadata": {
        "id": "G819Cm3ElqL5"
      },
      "execution_count": 30,
      "outputs": []
    },
    {
      "cell_type": "code",
      "source": [
        "#Build model with fucntional API\n",
        "import tensorflow as tf # Import tensorflow\n",
        "\n",
        "# Instead of tf_keras, use tensorflow.keras\n",
        "from tensorflow.keras import layers\n",
        "\n",
        "inputs = layers.Input(shape=(1,), dtype=\"string\")#Inputs are 1D strings\n",
        "x = text_vectorizer(inputs)\n",
        "x = embedding(x) #create an embedding of the numerized numbers\n",
        "x = layers.GlobalAveragePooling1D()(x) #Lower the dimensionality of the embedding\n",
        "outputs = layers.Dense(1, activation=\"sigmoid\")(x) #Create the output layer, want binary outputs so use sigmoid activation\n",
        "\n",
        "# Use tensorflow.keras.Model\n",
        "model_1 = tf.keras.Model(inputs, outputs, name=\"model_1_dense\")"
      ],
      "metadata": {
        "id": "T-VneZBsmtmQ"
      },
      "execution_count": 31,
      "outputs": []
    },
    {
      "cell_type": "code",
      "source": [
        "#Compile the model\n",
        "model_1.compile(loss='binary_crossentropy',\n",
        "                optimizer=tf.keras.optimizers.Adam(),\n",
        "                metrics=[\"accuracy\"])"
      ],
      "metadata": {
        "id": "mwLEOILjnIlw"
      },
      "execution_count": 32,
      "outputs": []
    },
    {
      "cell_type": "code",
      "source": [
        "model_1.summary()"
      ],
      "metadata": {
        "colab": {
          "base_uri": "https://localhost:8080/",
          "height": 331
        },
        "id": "iMPemg_SnVwI",
        "outputId": "ed0b0038-825e-4d89-813c-9f6299b8d8fa"
      },
      "execution_count": 33,
      "outputs": [
        {
          "output_type": "display_data",
          "data": {
            "text/plain": [
              "\u001b[1mModel: \"model_1_dense\"\u001b[0m\n"
            ],
            "text/html": [
              "<pre style=\"white-space:pre;overflow-x:auto;line-height:normal;font-family:Menlo,'DejaVu Sans Mono',consolas,'Courier New',monospace\"><span style=\"font-weight: bold\">Model: \"model_1_dense\"</span>\n",
              "</pre>\n"
            ]
          },
          "metadata": {}
        },
        {
          "output_type": "display_data",
          "data": {
            "text/plain": [
              "┏━━━━━━━━━━━━━━━━━━━━━━━━━━━━━━━━━━━━━━┳━━━━━━━━━━━━━━━━━━━━━━━━━━━━━┳━━━━━━━━━━━━━━━━━┓\n",
              "┃\u001b[1m \u001b[0m\u001b[1mLayer (type)                        \u001b[0m\u001b[1m \u001b[0m┃\u001b[1m \u001b[0m\u001b[1mOutput Shape               \u001b[0m\u001b[1m \u001b[0m┃\u001b[1m \u001b[0m\u001b[1m        Param #\u001b[0m\u001b[1m \u001b[0m┃\n",
              "┡━━━━━━━━━━━━━━━━━━━━━━━━━━━━━━━━━━━━━━╇━━━━━━━━━━━━━━━━━━━━━━━━━━━━━╇━━━━━━━━━━━━━━━━━┩\n",
              "│ input_layer (\u001b[38;5;33mInputLayer\u001b[0m)             │ (\u001b[38;5;45mNone\u001b[0m, \u001b[38;5;34m1\u001b[0m)                   │               \u001b[38;5;34m0\u001b[0m │\n",
              "├──────────────────────────────────────┼─────────────────────────────┼─────────────────┤\n",
              "│ text_vectorization_1                 │ (\u001b[38;5;45mNone\u001b[0m, \u001b[38;5;34m15\u001b[0m)                  │               \u001b[38;5;34m0\u001b[0m │\n",
              "│ (\u001b[38;5;33mTextVectorization\u001b[0m)                  │                             │                 │\n",
              "├──────────────────────────────────────┼─────────────────────────────┼─────────────────┤\n",
              "│ embedding (\u001b[38;5;33mEmbedding\u001b[0m)                │ (\u001b[38;5;45mNone\u001b[0m, \u001b[38;5;34m15\u001b[0m, \u001b[38;5;34m128\u001b[0m)             │       \u001b[38;5;34m1,280,000\u001b[0m │\n",
              "├──────────────────────────────────────┼─────────────────────────────┼─────────────────┤\n",
              "│ global_average_pooling1d             │ (\u001b[38;5;45mNone\u001b[0m, \u001b[38;5;34m128\u001b[0m)                 │               \u001b[38;5;34m0\u001b[0m │\n",
              "│ (\u001b[38;5;33mGlobalAveragePooling1D\u001b[0m)             │                             │                 │\n",
              "├──────────────────────────────────────┼─────────────────────────────┼─────────────────┤\n",
              "│ dense (\u001b[38;5;33mDense\u001b[0m)                        │ (\u001b[38;5;45mNone\u001b[0m, \u001b[38;5;34m1\u001b[0m)                   │             \u001b[38;5;34m129\u001b[0m │\n",
              "└──────────────────────────────────────┴─────────────────────────────┴─────────────────┘\n"
            ],
            "text/html": [
              "<pre style=\"white-space:pre;overflow-x:auto;line-height:normal;font-family:Menlo,'DejaVu Sans Mono',consolas,'Courier New',monospace\">┏━━━━━━━━━━━━━━━━━━━━━━━━━━━━━━━━━━━━━━┳━━━━━━━━━━━━━━━━━━━━━━━━━━━━━┳━━━━━━━━━━━━━━━━━┓\n",
              "┃<span style=\"font-weight: bold\"> Layer (type)                         </span>┃<span style=\"font-weight: bold\"> Output Shape                </span>┃<span style=\"font-weight: bold\">         Param # </span>┃\n",
              "┡━━━━━━━━━━━━━━━━━━━━━━━━━━━━━━━━━━━━━━╇━━━━━━━━━━━━━━━━━━━━━━━━━━━━━╇━━━━━━━━━━━━━━━━━┩\n",
              "│ input_layer (<span style=\"color: #0087ff; text-decoration-color: #0087ff\">InputLayer</span>)             │ (<span style=\"color: #00d7ff; text-decoration-color: #00d7ff\">None</span>, <span style=\"color: #00af00; text-decoration-color: #00af00\">1</span>)                   │               <span style=\"color: #00af00; text-decoration-color: #00af00\">0</span> │\n",
              "├──────────────────────────────────────┼─────────────────────────────┼─────────────────┤\n",
              "│ text_vectorization_1                 │ (<span style=\"color: #00d7ff; text-decoration-color: #00d7ff\">None</span>, <span style=\"color: #00af00; text-decoration-color: #00af00\">15</span>)                  │               <span style=\"color: #00af00; text-decoration-color: #00af00\">0</span> │\n",
              "│ (<span style=\"color: #0087ff; text-decoration-color: #0087ff\">TextVectorization</span>)                  │                             │                 │\n",
              "├──────────────────────────────────────┼─────────────────────────────┼─────────────────┤\n",
              "│ embedding (<span style=\"color: #0087ff; text-decoration-color: #0087ff\">Embedding</span>)                │ (<span style=\"color: #00d7ff; text-decoration-color: #00d7ff\">None</span>, <span style=\"color: #00af00; text-decoration-color: #00af00\">15</span>, <span style=\"color: #00af00; text-decoration-color: #00af00\">128</span>)             │       <span style=\"color: #00af00; text-decoration-color: #00af00\">1,280,000</span> │\n",
              "├──────────────────────────────────────┼─────────────────────────────┼─────────────────┤\n",
              "│ global_average_pooling1d             │ (<span style=\"color: #00d7ff; text-decoration-color: #00d7ff\">None</span>, <span style=\"color: #00af00; text-decoration-color: #00af00\">128</span>)                 │               <span style=\"color: #00af00; text-decoration-color: #00af00\">0</span> │\n",
              "│ (<span style=\"color: #0087ff; text-decoration-color: #0087ff\">GlobalAveragePooling1D</span>)             │                             │                 │\n",
              "├──────────────────────────────────────┼─────────────────────────────┼─────────────────┤\n",
              "│ dense (<span style=\"color: #0087ff; text-decoration-color: #0087ff\">Dense</span>)                        │ (<span style=\"color: #00d7ff; text-decoration-color: #00d7ff\">None</span>, <span style=\"color: #00af00; text-decoration-color: #00af00\">1</span>)                   │             <span style=\"color: #00af00; text-decoration-color: #00af00\">129</span> │\n",
              "└──────────────────────────────────────┴─────────────────────────────┴─────────────────┘\n",
              "</pre>\n"
            ]
          },
          "metadata": {}
        },
        {
          "output_type": "display_data",
          "data": {
            "text/plain": [
              "\u001b[1m Total params: \u001b[0m\u001b[38;5;34m1,280,129\u001b[0m (4.88 MB)\n"
            ],
            "text/html": [
              "<pre style=\"white-space:pre;overflow-x:auto;line-height:normal;font-family:Menlo,'DejaVu Sans Mono',consolas,'Courier New',monospace\"><span style=\"font-weight: bold\"> Total params: </span><span style=\"color: #00af00; text-decoration-color: #00af00\">1,280,129</span> (4.88 MB)\n",
              "</pre>\n"
            ]
          },
          "metadata": {}
        },
        {
          "output_type": "display_data",
          "data": {
            "text/plain": [
              "\u001b[1m Trainable params: \u001b[0m\u001b[38;5;34m1,280,129\u001b[0m (4.88 MB)\n"
            ],
            "text/html": [
              "<pre style=\"white-space:pre;overflow-x:auto;line-height:normal;font-family:Menlo,'DejaVu Sans Mono',consolas,'Courier New',monospace\"><span style=\"font-weight: bold\"> Trainable params: </span><span style=\"color: #00af00; text-decoration-color: #00af00\">1,280,129</span> (4.88 MB)\n",
              "</pre>\n"
            ]
          },
          "metadata": {}
        },
        {
          "output_type": "display_data",
          "data": {
            "text/plain": [
              "\u001b[1m Non-trainable params: \u001b[0m\u001b[38;5;34m0\u001b[0m (0.00 B)\n"
            ],
            "text/html": [
              "<pre style=\"white-space:pre;overflow-x:auto;line-height:normal;font-family:Menlo,'DejaVu Sans Mono',consolas,'Courier New',monospace\"><span style=\"font-weight: bold\"> Non-trainable params: </span><span style=\"color: #00af00; text-decoration-color: #00af00\">0</span> (0.00 B)\n",
              "</pre>\n"
            ]
          },
          "metadata": {}
        }
      ]
    },
    {
      "cell_type": "code",
      "source": [
        "# Fit the model\n",
        "model_1.history = model_1.fit(train_sentences,\n",
        "                              train_labels,\n",
        "                              epochs=5,\n",
        "                              validation_data=(val_sentences,val_labels),\n",
        "                              callbacks=[create_tensorboard_callback(dir_name=SAVE_DIR,\n",
        "                                                                     experiment_name=\"simple_dense_model\")])"
      ],
      "metadata": {
        "colab": {
          "base_uri": "https://localhost:8080/"
        },
        "id": "HkAk3-cnnY1Q",
        "outputId": "5be72c15-b2be-4227-c8c2-e283b3d34f44"
      },
      "execution_count": 34,
      "outputs": [
        {
          "output_type": "stream",
          "name": "stdout",
          "text": [
            "Saving TensorBoard log files to: model_logs/simple_dense_model/20250322-205418\n",
            "Epoch 1/5\n",
            "\u001b[1m215/215\u001b[0m \u001b[32m━━━━━━━━━━━━━━━━━━━━\u001b[0m\u001b[37m\u001b[0m \u001b[1m10s\u001b[0m 26ms/step - accuracy: 0.6359 - loss: 0.6508 - val_accuracy: 0.7625 - val_loss: 0.5349\n",
            "Epoch 2/5\n",
            "\u001b[1m215/215\u001b[0m \u001b[32m━━━━━━━━━━━━━━━━━━━━\u001b[0m\u001b[37m\u001b[0m \u001b[1m4s\u001b[0m 9ms/step - accuracy: 0.8074 - loss: 0.4674 - val_accuracy: 0.7913 - val_loss: 0.4742\n",
            "Epoch 3/5\n",
            "\u001b[1m215/215\u001b[0m \u001b[32m━━━━━━━━━━━━━━━━━━━━\u001b[0m\u001b[37m\u001b[0m \u001b[1m2s\u001b[0m 10ms/step - accuracy: 0.8516 - loss: 0.3631 - val_accuracy: 0.7940 - val_loss: 0.4619\n",
            "Epoch 4/5\n",
            "\u001b[1m215/215\u001b[0m \u001b[32m━━━━━━━━━━━━━━━━━━━━\u001b[0m\u001b[37m\u001b[0m \u001b[1m2s\u001b[0m 10ms/step - accuracy: 0.8855 - loss: 0.2968 - val_accuracy: 0.7900 - val_loss: 0.4679\n",
            "Epoch 5/5\n",
            "\u001b[1m215/215\u001b[0m \u001b[32m━━━━━━━━━━━━━━━━━━━━\u001b[0m\u001b[37m\u001b[0m \u001b[1m2s\u001b[0m 9ms/step - accuracy: 0.9058 - loss: 0.2480 - val_accuracy: 0.7782 - val_loss: 0.4834\n"
          ]
        }
      ]
    },
    {
      "cell_type": "code",
      "source": [
        "#Check the results\n",
        "model_1.evaluate(val_sentences, val_labels)"
      ],
      "metadata": {
        "colab": {
          "base_uri": "https://localhost:8080/"
        },
        "id": "U6PHZX0wn12h",
        "outputId": "f7a76ce5-2860-4a60-ecfa-f527ae17b600"
      },
      "execution_count": 35,
      "outputs": [
        {
          "output_type": "stream",
          "name": "stdout",
          "text": [
            "\u001b[1m24/24\u001b[0m \u001b[32m━━━━━━━━━━━━━━━━━━━━\u001b[0m\u001b[37m\u001b[0m \u001b[1m0s\u001b[0m 6ms/step - accuracy: 0.7671 - loss: 0.5167\n"
          ]
        },
        {
          "output_type": "execute_result",
          "data": {
            "text/plain": [
              "[0.4834430515766144, 0.778215229511261]"
            ]
          },
          "metadata": {},
          "execution_count": 35
        }
      ]
    },
    {
      "cell_type": "code",
      "source": [
        "embedding.weights"
      ],
      "metadata": {
        "colab": {
          "base_uri": "https://localhost:8080/"
        },
        "id": "IM1R-gbQoBMw",
        "outputId": "910225ab-544e-46f2-9439-d7d94003cf44"
      },
      "execution_count": 36,
      "outputs": [
        {
          "output_type": "execute_result",
          "data": {
            "text/plain": [
              "[<Variable path=embedding/embeddings, shape=(10000, 128), dtype=float32, value=[[-0.04025573 -0.05125066  0.01052833 ... -0.01925924  0.02839494\n",
              "   -0.0047914 ]\n",
              "  [ 0.01933092  0.01822232 -0.01088447 ... -0.06226217  0.02535758\n",
              "   -0.0281382 ]\n",
              "  [-0.03905455 -0.02205334  0.00893332 ... -0.06311455  0.01128144\n",
              "    0.01032185]\n",
              "  ...\n",
              "  [-0.03075012 -0.03510231 -0.02952163 ... -0.00733745  0.03001045\n",
              "    0.01522923]\n",
              "  [-0.08970481 -0.0297073  -0.0666196  ... -0.00550368  0.06413292\n",
              "    0.08915251]\n",
              "  [-0.07727936 -0.1085785  -0.10920082 ... -0.08175876  0.0832197\n",
              "    0.04706703]]>]"
            ]
          },
          "metadata": {},
          "execution_count": 36
        }
      ]
    },
    {
      "cell_type": "code",
      "source": [
        "embed_weights = model_1.get_layer(\"embedding\").get_weights()[0]\n",
        "print(embed_weights.shape)"
      ],
      "metadata": {
        "colab": {
          "base_uri": "https://localhost:8080/"
        },
        "id": "csODaLjSoGHP",
        "outputId": "7089cbab-494e-44b5-b640-fc0ca623e369"
      },
      "execution_count": 37,
      "outputs": [
        {
          "output_type": "stream",
          "name": "stdout",
          "text": [
            "(10000, 128)\n"
          ]
        }
      ]
    },
    {
      "cell_type": "code",
      "source": [
        "# Make predicitions (these com back in the form of probabailities)\n",
        "model_1_pred_probs = model_1.predict(val_sentences)\n",
        "model_1_pred_probs[:10]"
      ],
      "metadata": {
        "colab": {
          "base_uri": "https://localhost:8080/"
        },
        "id": "W2QJwGAHoTSf",
        "outputId": "37250630-fd3d-4c78-a3df-9afbc0c1b499"
      },
      "execution_count": 38,
      "outputs": [
        {
          "output_type": "stream",
          "name": "stdout",
          "text": [
            "\u001b[1m24/24\u001b[0m \u001b[32m━━━━━━━━━━━━━━━━━━━━\u001b[0m\u001b[37m\u001b[0m \u001b[1m0s\u001b[0m 12ms/step\n"
          ]
        },
        {
          "output_type": "execute_result",
          "data": {
            "text/plain": [
              "array([[0.33349267],\n",
              "       [0.73508465],\n",
              "       [0.9975293 ],\n",
              "       [0.18717091],\n",
              "       [0.09888954],\n",
              "       [0.9432776 ],\n",
              "       [0.8946977 ],\n",
              "       [0.9942668 ],\n",
              "       [0.96205556],\n",
              "       [0.400298  ]], dtype=float32)"
            ]
          },
          "metadata": {},
          "execution_count": 38
        }
      ]
    },
    {
      "cell_type": "code",
      "source": [
        "# Turn predicition probabalities into single dimension tensor of floats\n",
        "model_1_preds  =tf.squeeze(tf.round(model_1_pred_probs)).numpy()\n",
        "model_1_preds[:20]"
      ],
      "metadata": {
        "colab": {
          "base_uri": "https://localhost:8080/"
        },
        "id": "81dCVF8ooy8e",
        "outputId": "96622c57-2527-4560-c36e-1404bc173039"
      },
      "execution_count": 39,
      "outputs": [
        {
          "output_type": "execute_result",
          "data": {
            "text/plain": [
              "array([0., 1., 1., 0., 0., 1., 1., 1., 1., 0., 0., 1., 0., 0., 0., 0., 0.,\n",
              "       0., 0., 1.], dtype=float32)"
            ]
          },
          "metadata": {},
          "execution_count": 39
        }
      ]
    },
    {
      "cell_type": "code",
      "source": [
        "# Calculate model_1 metrics\n",
        "model_1_results = calculate_results(y_true=val_labels,\n",
        "                                    y_pred=model_1_preds)\n",
        "model_1_results"
      ],
      "metadata": {
        "colab": {
          "base_uri": "https://localhost:8080/"
        },
        "id": "tVFswYgtpBCe",
        "outputId": "ee3942e4-6ec4-4aa6-9661-512e94462a02"
      },
      "execution_count": 40,
      "outputs": [
        {
          "output_type": "execute_result",
          "data": {
            "text/plain": [
              "{'accuracy': 77.82152230971128,\n",
              " 'precision': 0.7814103276314137,\n",
              " 'recall': 0.7782152230971129,\n",
              " 'f1': 0.7756075024838145}"
            ]
          },
          "metadata": {},
          "execution_count": 40
        }
      ]
    },
    {
      "cell_type": "code",
      "source": [
        "# Is our simple keras model better than our baseline model?\n",
        "import numpy as np\n",
        "np.array(list(model_1_results.values())) > np.array(list(baseline_results.values()))"
      ],
      "metadata": {
        "colab": {
          "base_uri": "https://localhost:8080/"
        },
        "id": "4C7ZSlyHpOSX",
        "outputId": "3b32896a-aaf3-4cfa-bc81-2fc33a9e36cd"
      },
      "execution_count": 41,
      "outputs": [
        {
          "output_type": "execute_result",
          "data": {
            "text/plain": [
              "array([False, False, False, False])"
            ]
          },
          "metadata": {},
          "execution_count": 41
        }
      ]
    },
    {
      "cell_type": "code",
      "source": [
        "# Create a helper functions to compare our baseline results to new model results\n",
        "def compare_baseline_to_new_results(baseline_results, new_model_results):\n",
        "  for key, value in baseline_results.items():\n",
        "    print(f\"Baseline {key}: {value:.2f}, New {key}: {new_model_results[key]:.2f}, Difference: {new_model_results[key]-value:.2f}\")\n",
        "\n",
        "compare_baseline_to_new_results(baseline_results=baseline_results,\n",
        "                                  new_model_results=model_1_results)"
      ],
      "metadata": {
        "colab": {
          "base_uri": "https://localhost:8080/"
        },
        "id": "pAs8Y846ptOW",
        "outputId": "7d742784-3c67-4ca7-fa23-aaf72a8a058b"
      },
      "execution_count": 42,
      "outputs": [
        {
          "output_type": "stream",
          "name": "stdout",
          "text": [
            "Baseline accuracy: 79.27, New accuracy: 77.82, Difference: -1.44\n",
            "Baseline precision: 0.81, New precision: 0.78, Difference: -0.03\n",
            "Baseline recall: 0.79, New recall: 0.78, Difference: -0.01\n",
            "Baseline f1: 0.79, New f1: 0.78, Difference: -0.01\n"
          ]
        }
      ]
    },
    {
      "cell_type": "markdown",
      "source": [
        "#Visulaized learned embeddings"
      ],
      "metadata": {
        "id": "2OCjYnO4qVA_"
      }
    },
    {
      "cell_type": "code",
      "source": [
        "#Get the vocabulary from the text vectorization layer\n",
        "words_in_vocab = text_vectorizer.get_vocabulary()\n",
        "len(words_in_vocab), words_in_vocab[:10]"
      ],
      "metadata": {
        "colab": {
          "base_uri": "https://localhost:8080/"
        },
        "id": "8FCAKNnfqkcO",
        "outputId": "0a3abb40-fe25-455d-f9cd-23f623dbb507"
      },
      "execution_count": 43,
      "outputs": [
        {
          "output_type": "execute_result",
          "data": {
            "text/plain": [
              "(10000,\n",
              " ['',\n",
              "  '[UNK]',\n",
              "  np.str_('the'),\n",
              "  np.str_('a'),\n",
              "  np.str_('in'),\n",
              "  np.str_('to'),\n",
              "  np.str_('of'),\n",
              "  np.str_('and'),\n",
              "  np.str_('i'),\n",
              "  np.str_('is')])"
            ]
          },
          "metadata": {},
          "execution_count": 43
        }
      ]
    },
    {
      "cell_type": "code",
      "source": [
        "model_1.summary()"
      ],
      "metadata": {
        "colab": {
          "base_uri": "https://localhost:8080/",
          "height": 347
        },
        "id": "msQjstHoq4fu",
        "outputId": "ea5d2278-a902-4a88-a8c3-bd0cc8b555df"
      },
      "execution_count": 44,
      "outputs": [
        {
          "output_type": "display_data",
          "data": {
            "text/plain": [
              "\u001b[1mModel: \"model_1_dense\"\u001b[0m\n"
            ],
            "text/html": [
              "<pre style=\"white-space:pre;overflow-x:auto;line-height:normal;font-family:Menlo,'DejaVu Sans Mono',consolas,'Courier New',monospace\"><span style=\"font-weight: bold\">Model: \"model_1_dense\"</span>\n",
              "</pre>\n"
            ]
          },
          "metadata": {}
        },
        {
          "output_type": "display_data",
          "data": {
            "text/plain": [
              "┏━━━━━━━━━━━━━━━━━━━━━━━━━━━━━━━━━━━━━━┳━━━━━━━━━━━━━━━━━━━━━━━━━━━━━┳━━━━━━━━━━━━━━━━━┓\n",
              "┃\u001b[1m \u001b[0m\u001b[1mLayer (type)                        \u001b[0m\u001b[1m \u001b[0m┃\u001b[1m \u001b[0m\u001b[1mOutput Shape               \u001b[0m\u001b[1m \u001b[0m┃\u001b[1m \u001b[0m\u001b[1m        Param #\u001b[0m\u001b[1m \u001b[0m┃\n",
              "┡━━━━━━━━━━━━━━━━━━━━━━━━━━━━━━━━━━━━━━╇━━━━━━━━━━━━━━━━━━━━━━━━━━━━━╇━━━━━━━━━━━━━━━━━┩\n",
              "│ input_layer (\u001b[38;5;33mInputLayer\u001b[0m)             │ (\u001b[38;5;45mNone\u001b[0m, \u001b[38;5;34m1\u001b[0m)                   │               \u001b[38;5;34m0\u001b[0m │\n",
              "├──────────────────────────────────────┼─────────────────────────────┼─────────────────┤\n",
              "│ text_vectorization_1                 │ (\u001b[38;5;45mNone\u001b[0m, \u001b[38;5;34m15\u001b[0m)                  │               \u001b[38;5;34m0\u001b[0m │\n",
              "│ (\u001b[38;5;33mTextVectorization\u001b[0m)                  │                             │                 │\n",
              "├──────────────────────────────────────┼─────────────────────────────┼─────────────────┤\n",
              "│ embedding (\u001b[38;5;33mEmbedding\u001b[0m)                │ (\u001b[38;5;45mNone\u001b[0m, \u001b[38;5;34m15\u001b[0m, \u001b[38;5;34m128\u001b[0m)             │       \u001b[38;5;34m1,280,000\u001b[0m │\n",
              "├──────────────────────────────────────┼─────────────────────────────┼─────────────────┤\n",
              "│ global_average_pooling1d             │ (\u001b[38;5;45mNone\u001b[0m, \u001b[38;5;34m128\u001b[0m)                 │               \u001b[38;5;34m0\u001b[0m │\n",
              "│ (\u001b[38;5;33mGlobalAveragePooling1D\u001b[0m)             │                             │                 │\n",
              "├──────────────────────────────────────┼─────────────────────────────┼─────────────────┤\n",
              "│ dense (\u001b[38;5;33mDense\u001b[0m)                        │ (\u001b[38;5;45mNone\u001b[0m, \u001b[38;5;34m1\u001b[0m)                   │             \u001b[38;5;34m129\u001b[0m │\n",
              "└──────────────────────────────────────┴─────────────────────────────┴─────────────────┘\n"
            ],
            "text/html": [
              "<pre style=\"white-space:pre;overflow-x:auto;line-height:normal;font-family:Menlo,'DejaVu Sans Mono',consolas,'Courier New',monospace\">┏━━━━━━━━━━━━━━━━━━━━━━━━━━━━━━━━━━━━━━┳━━━━━━━━━━━━━━━━━━━━━━━━━━━━━┳━━━━━━━━━━━━━━━━━┓\n",
              "┃<span style=\"font-weight: bold\"> Layer (type)                         </span>┃<span style=\"font-weight: bold\"> Output Shape                </span>┃<span style=\"font-weight: bold\">         Param # </span>┃\n",
              "┡━━━━━━━━━━━━━━━━━━━━━━━━━━━━━━━━━━━━━━╇━━━━━━━━━━━━━━━━━━━━━━━━━━━━━╇━━━━━━━━━━━━━━━━━┩\n",
              "│ input_layer (<span style=\"color: #0087ff; text-decoration-color: #0087ff\">InputLayer</span>)             │ (<span style=\"color: #00d7ff; text-decoration-color: #00d7ff\">None</span>, <span style=\"color: #00af00; text-decoration-color: #00af00\">1</span>)                   │               <span style=\"color: #00af00; text-decoration-color: #00af00\">0</span> │\n",
              "├──────────────────────────────────────┼─────────────────────────────┼─────────────────┤\n",
              "│ text_vectorization_1                 │ (<span style=\"color: #00d7ff; text-decoration-color: #00d7ff\">None</span>, <span style=\"color: #00af00; text-decoration-color: #00af00\">15</span>)                  │               <span style=\"color: #00af00; text-decoration-color: #00af00\">0</span> │\n",
              "│ (<span style=\"color: #0087ff; text-decoration-color: #0087ff\">TextVectorization</span>)                  │                             │                 │\n",
              "├──────────────────────────────────────┼─────────────────────────────┼─────────────────┤\n",
              "│ embedding (<span style=\"color: #0087ff; text-decoration-color: #0087ff\">Embedding</span>)                │ (<span style=\"color: #00d7ff; text-decoration-color: #00d7ff\">None</span>, <span style=\"color: #00af00; text-decoration-color: #00af00\">15</span>, <span style=\"color: #00af00; text-decoration-color: #00af00\">128</span>)             │       <span style=\"color: #00af00; text-decoration-color: #00af00\">1,280,000</span> │\n",
              "├──────────────────────────────────────┼─────────────────────────────┼─────────────────┤\n",
              "│ global_average_pooling1d             │ (<span style=\"color: #00d7ff; text-decoration-color: #00d7ff\">None</span>, <span style=\"color: #00af00; text-decoration-color: #00af00\">128</span>)                 │               <span style=\"color: #00af00; text-decoration-color: #00af00\">0</span> │\n",
              "│ (<span style=\"color: #0087ff; text-decoration-color: #0087ff\">GlobalAveragePooling1D</span>)             │                             │                 │\n",
              "├──────────────────────────────────────┼─────────────────────────────┼─────────────────┤\n",
              "│ dense (<span style=\"color: #0087ff; text-decoration-color: #0087ff\">Dense</span>)                        │ (<span style=\"color: #00d7ff; text-decoration-color: #00d7ff\">None</span>, <span style=\"color: #00af00; text-decoration-color: #00af00\">1</span>)                   │             <span style=\"color: #00af00; text-decoration-color: #00af00\">129</span> │\n",
              "└──────────────────────────────────────┴─────────────────────────────┴─────────────────┘\n",
              "</pre>\n"
            ]
          },
          "metadata": {}
        },
        {
          "output_type": "display_data",
          "data": {
            "text/plain": [
              "\u001b[1m Total params: \u001b[0m\u001b[38;5;34m3,840,389\u001b[0m (14.65 MB)\n"
            ],
            "text/html": [
              "<pre style=\"white-space:pre;overflow-x:auto;line-height:normal;font-family:Menlo,'DejaVu Sans Mono',consolas,'Courier New',monospace\"><span style=\"font-weight: bold\"> Total params: </span><span style=\"color: #00af00; text-decoration-color: #00af00\">3,840,389</span> (14.65 MB)\n",
              "</pre>\n"
            ]
          },
          "metadata": {}
        },
        {
          "output_type": "display_data",
          "data": {
            "text/plain": [
              "\u001b[1m Trainable params: \u001b[0m\u001b[38;5;34m1,280,129\u001b[0m (4.88 MB)\n"
            ],
            "text/html": [
              "<pre style=\"white-space:pre;overflow-x:auto;line-height:normal;font-family:Menlo,'DejaVu Sans Mono',consolas,'Courier New',monospace\"><span style=\"font-weight: bold\"> Trainable params: </span><span style=\"color: #00af00; text-decoration-color: #00af00\">1,280,129</span> (4.88 MB)\n",
              "</pre>\n"
            ]
          },
          "metadata": {}
        },
        {
          "output_type": "display_data",
          "data": {
            "text/plain": [
              "\u001b[1m Non-trainable params: \u001b[0m\u001b[38;5;34m0\u001b[0m (0.00 B)\n"
            ],
            "text/html": [
              "<pre style=\"white-space:pre;overflow-x:auto;line-height:normal;font-family:Menlo,'DejaVu Sans Mono',consolas,'Courier New',monospace\"><span style=\"font-weight: bold\"> Non-trainable params: </span><span style=\"color: #00af00; text-decoration-color: #00af00\">0</span> (0.00 B)\n",
              "</pre>\n"
            ]
          },
          "metadata": {}
        },
        {
          "output_type": "display_data",
          "data": {
            "text/plain": [
              "\u001b[1m Optimizer params: \u001b[0m\u001b[38;5;34m2,560,260\u001b[0m (9.77 MB)\n"
            ],
            "text/html": [
              "<pre style=\"white-space:pre;overflow-x:auto;line-height:normal;font-family:Menlo,'DejaVu Sans Mono',consolas,'Courier New',monospace\"><span style=\"font-weight: bold\"> Optimizer params: </span><span style=\"color: #00af00; text-decoration-color: #00af00\">2,560,260</span> (9.77 MB)\n",
              "</pre>\n"
            ]
          },
          "metadata": {}
        }
      ]
    },
    {
      "cell_type": "code",
      "source": [
        "# Get the weight matrix of embedding layer\n",
        "# (these are the numerical patterns b/w the text in the training dataset the model)\n",
        "embed_weights = model_1.get_layer(\"embedding\").get_weights()[0]\n",
        "print(embed_weights.shape) # 10000 words and 128 dimensions"
      ],
      "metadata": {
        "colab": {
          "base_uri": "https://localhost:8080/"
        },
        "id": "T9XhJWyMq9Dd",
        "outputId": "ea4a9727-4a8a-4ad3-8d2e-3293a4b08c22"
      },
      "execution_count": 45,
      "outputs": [
        {
          "output_type": "stream",
          "name": "stdout",
          "text": [
            "(10000, 128)\n"
          ]
        }
      ]
    },
    {
      "cell_type": "markdown",
      "source": [
        "##Recurrent Neural Networks (RNN's)"
      ],
      "metadata": {
        "id": "U-I8z72-rT5d"
      }
    },
    {
      "cell_type": "markdown",
      "source": [
        "#Model 2:LSTM"
      ],
      "metadata": {
        "id": "5-0Kc3Wrrnwd"
      }
    },
    {
      "cell_type": "code",
      "source": [
        "# Set random seed and create embedding layer(new embedding layer for each model)\n",
        "tf.random.set_seed(42)\n",
        "from tensorflow.keras import layers\n",
        "model_2_embedding = layers.Embedding(input_dim=max_vocab_length,\n",
        "                                     output_dim=128,\n",
        "                                     embeddings_initializer=\"uniform\",\n",
        "                                     input_length = max_length,\n",
        "                                     name=\"embedding_2\")\n",
        "\n",
        "#Create LSTM Model\n",
        "inputs = layers.Input(shape=(1,),dtype=\"string\")\n",
        "x = text_vectorizer(inputs)\n",
        "x = model_2_embedding(x)\n",
        "print(x.shape)\n",
        "\n",
        "x=layers.LSTM(64)(x)\n",
        "print(x.shape)\n",
        "\n",
        "outputs = layers.Dense(1, activation=\"sigmoid\")(x)\n",
        "model_2 = tf.keras.Model(inputs, outputs, name=\"model_2_LSTM\")"
      ],
      "metadata": {
        "colab": {
          "base_uri": "https://localhost:8080/"
        },
        "id": "yn37Np_6uKys",
        "outputId": "a566c293-4aa9-4402-9cec-7a44aa41c42a"
      },
      "execution_count": 46,
      "outputs": [
        {
          "output_type": "stream",
          "name": "stdout",
          "text": [
            "(None, 15, 128)\n"
          ]
        },
        {
          "output_type": "stream",
          "name": "stderr",
          "text": [
            "/usr/local/lib/python3.11/dist-packages/keras/src/layers/core/embedding.py:90: UserWarning: Argument `input_length` is deprecated. Just remove it.\n",
            "  warnings.warn(\n"
          ]
        },
        {
          "output_type": "stream",
          "name": "stdout",
          "text": [
            "(None, 64)\n"
          ]
        }
      ]
    },
    {
      "cell_type": "code",
      "source": [
        "#Compile the model\n",
        "import tf_keras as keras\n",
        "model_2.compile(loss=\"binary_crossentropy\",\n",
        "                optimizer=tf.keras.optimizers.Adam(),\n",
        "                metrics=['accuracy'])"
      ],
      "metadata": {
        "id": "4M4w6IidvMN1"
      },
      "execution_count": 47,
      "outputs": []
    },
    {
      "cell_type": "code",
      "source": [
        "model_2.summary()"
      ],
      "metadata": {
        "colab": {
          "base_uri": "https://localhost:8080/",
          "height": 314
        },
        "id": "vcj8M_OyvwXb",
        "outputId": "5c709f53-0b0e-4382-8bac-98cb15c29e4b"
      },
      "execution_count": 48,
      "outputs": [
        {
          "output_type": "display_data",
          "data": {
            "text/plain": [
              "\u001b[1mModel: \"model_2_LSTM\"\u001b[0m\n"
            ],
            "text/html": [
              "<pre style=\"white-space:pre;overflow-x:auto;line-height:normal;font-family:Menlo,'DejaVu Sans Mono',consolas,'Courier New',monospace\"><span style=\"font-weight: bold\">Model: \"model_2_LSTM\"</span>\n",
              "</pre>\n"
            ]
          },
          "metadata": {}
        },
        {
          "output_type": "display_data",
          "data": {
            "text/plain": [
              "┏━━━━━━━━━━━━━━━━━━━━━━━━━━━━━━━━━━━━━━┳━━━━━━━━━━━━━━━━━━━━━━━━━━━━━┳━━━━━━━━━━━━━━━━━┓\n",
              "┃\u001b[1m \u001b[0m\u001b[1mLayer (type)                        \u001b[0m\u001b[1m \u001b[0m┃\u001b[1m \u001b[0m\u001b[1mOutput Shape               \u001b[0m\u001b[1m \u001b[0m┃\u001b[1m \u001b[0m\u001b[1m        Param #\u001b[0m\u001b[1m \u001b[0m┃\n",
              "┡━━━━━━━━━━━━━━━━━━━━━━━━━━━━━━━━━━━━━━╇━━━━━━━━━━━━━━━━━━━━━━━━━━━━━╇━━━━━━━━━━━━━━━━━┩\n",
              "│ input_layer_1 (\u001b[38;5;33mInputLayer\u001b[0m)           │ (\u001b[38;5;45mNone\u001b[0m, \u001b[38;5;34m1\u001b[0m)                   │               \u001b[38;5;34m0\u001b[0m │\n",
              "├──────────────────────────────────────┼─────────────────────────────┼─────────────────┤\n",
              "│ text_vectorization_1                 │ (\u001b[38;5;45mNone\u001b[0m, \u001b[38;5;34m15\u001b[0m)                  │               \u001b[38;5;34m0\u001b[0m │\n",
              "│ (\u001b[38;5;33mTextVectorization\u001b[0m)                  │                             │                 │\n",
              "├──────────────────────────────────────┼─────────────────────────────┼─────────────────┤\n",
              "│ embedding_2 (\u001b[38;5;33mEmbedding\u001b[0m)              │ (\u001b[38;5;45mNone\u001b[0m, \u001b[38;5;34m15\u001b[0m, \u001b[38;5;34m128\u001b[0m)             │       \u001b[38;5;34m1,280,000\u001b[0m │\n",
              "├──────────────────────────────────────┼─────────────────────────────┼─────────────────┤\n",
              "│ lstm (\u001b[38;5;33mLSTM\u001b[0m)                          │ (\u001b[38;5;45mNone\u001b[0m, \u001b[38;5;34m64\u001b[0m)                  │          \u001b[38;5;34m49,408\u001b[0m │\n",
              "├──────────────────────────────────────┼─────────────────────────────┼─────────────────┤\n",
              "│ dense_1 (\u001b[38;5;33mDense\u001b[0m)                      │ (\u001b[38;5;45mNone\u001b[0m, \u001b[38;5;34m1\u001b[0m)                   │              \u001b[38;5;34m65\u001b[0m │\n",
              "└──────────────────────────────────────┴─────────────────────────────┴─────────────────┘\n"
            ],
            "text/html": [
              "<pre style=\"white-space:pre;overflow-x:auto;line-height:normal;font-family:Menlo,'DejaVu Sans Mono',consolas,'Courier New',monospace\">┏━━━━━━━━━━━━━━━━━━━━━━━━━━━━━━━━━━━━━━┳━━━━━━━━━━━━━━━━━━━━━━━━━━━━━┳━━━━━━━━━━━━━━━━━┓\n",
              "┃<span style=\"font-weight: bold\"> Layer (type)                         </span>┃<span style=\"font-weight: bold\"> Output Shape                </span>┃<span style=\"font-weight: bold\">         Param # </span>┃\n",
              "┡━━━━━━━━━━━━━━━━━━━━━━━━━━━━━━━━━━━━━━╇━━━━━━━━━━━━━━━━━━━━━━━━━━━━━╇━━━━━━━━━━━━━━━━━┩\n",
              "│ input_layer_1 (<span style=\"color: #0087ff; text-decoration-color: #0087ff\">InputLayer</span>)           │ (<span style=\"color: #00d7ff; text-decoration-color: #00d7ff\">None</span>, <span style=\"color: #00af00; text-decoration-color: #00af00\">1</span>)                   │               <span style=\"color: #00af00; text-decoration-color: #00af00\">0</span> │\n",
              "├──────────────────────────────────────┼─────────────────────────────┼─────────────────┤\n",
              "│ text_vectorization_1                 │ (<span style=\"color: #00d7ff; text-decoration-color: #00d7ff\">None</span>, <span style=\"color: #00af00; text-decoration-color: #00af00\">15</span>)                  │               <span style=\"color: #00af00; text-decoration-color: #00af00\">0</span> │\n",
              "│ (<span style=\"color: #0087ff; text-decoration-color: #0087ff\">TextVectorization</span>)                  │                             │                 │\n",
              "├──────────────────────────────────────┼─────────────────────────────┼─────────────────┤\n",
              "│ embedding_2 (<span style=\"color: #0087ff; text-decoration-color: #0087ff\">Embedding</span>)              │ (<span style=\"color: #00d7ff; text-decoration-color: #00d7ff\">None</span>, <span style=\"color: #00af00; text-decoration-color: #00af00\">15</span>, <span style=\"color: #00af00; text-decoration-color: #00af00\">128</span>)             │       <span style=\"color: #00af00; text-decoration-color: #00af00\">1,280,000</span> │\n",
              "├──────────────────────────────────────┼─────────────────────────────┼─────────────────┤\n",
              "│ lstm (<span style=\"color: #0087ff; text-decoration-color: #0087ff\">LSTM</span>)                          │ (<span style=\"color: #00d7ff; text-decoration-color: #00d7ff\">None</span>, <span style=\"color: #00af00; text-decoration-color: #00af00\">64</span>)                  │          <span style=\"color: #00af00; text-decoration-color: #00af00\">49,408</span> │\n",
              "├──────────────────────────────────────┼─────────────────────────────┼─────────────────┤\n",
              "│ dense_1 (<span style=\"color: #0087ff; text-decoration-color: #0087ff\">Dense</span>)                      │ (<span style=\"color: #00d7ff; text-decoration-color: #00d7ff\">None</span>, <span style=\"color: #00af00; text-decoration-color: #00af00\">1</span>)                   │              <span style=\"color: #00af00; text-decoration-color: #00af00\">65</span> │\n",
              "└──────────────────────────────────────┴─────────────────────────────┴─────────────────┘\n",
              "</pre>\n"
            ]
          },
          "metadata": {}
        },
        {
          "output_type": "display_data",
          "data": {
            "text/plain": [
              "\u001b[1m Total params: \u001b[0m\u001b[38;5;34m1,329,473\u001b[0m (5.07 MB)\n"
            ],
            "text/html": [
              "<pre style=\"white-space:pre;overflow-x:auto;line-height:normal;font-family:Menlo,'DejaVu Sans Mono',consolas,'Courier New',monospace\"><span style=\"font-weight: bold\"> Total params: </span><span style=\"color: #00af00; text-decoration-color: #00af00\">1,329,473</span> (5.07 MB)\n",
              "</pre>\n"
            ]
          },
          "metadata": {}
        },
        {
          "output_type": "display_data",
          "data": {
            "text/plain": [
              "\u001b[1m Trainable params: \u001b[0m\u001b[38;5;34m1,329,473\u001b[0m (5.07 MB)\n"
            ],
            "text/html": [
              "<pre style=\"white-space:pre;overflow-x:auto;line-height:normal;font-family:Menlo,'DejaVu Sans Mono',consolas,'Courier New',monospace\"><span style=\"font-weight: bold\"> Trainable params: </span><span style=\"color: #00af00; text-decoration-color: #00af00\">1,329,473</span> (5.07 MB)\n",
              "</pre>\n"
            ]
          },
          "metadata": {}
        },
        {
          "output_type": "display_data",
          "data": {
            "text/plain": [
              "\u001b[1m Non-trainable params: \u001b[0m\u001b[38;5;34m0\u001b[0m (0.00 B)\n"
            ],
            "text/html": [
              "<pre style=\"white-space:pre;overflow-x:auto;line-height:normal;font-family:Menlo,'DejaVu Sans Mono',consolas,'Courier New',monospace\"><span style=\"font-weight: bold\"> Non-trainable params: </span><span style=\"color: #00af00; text-decoration-color: #00af00\">0</span> (0.00 B)\n",
              "</pre>\n"
            ]
          },
          "metadata": {}
        }
      ]
    },
    {
      "cell_type": "code",
      "source": [
        "# Fit the model\n",
        "model_2.history = model_2.fit(train_sentences,\n",
        "                              train_labels,\n",
        "                              epochs=5,\n",
        "                              validation_data=(val_sentences, val_labels),\n",
        "                              callbacks=[create_tensorboard_callback(SAVE_DIR,\n",
        "                                                                       \"LSTM\")])"
      ],
      "metadata": {
        "colab": {
          "base_uri": "https://localhost:8080/"
        },
        "id": "Z0eQbJrNv9yL",
        "outputId": "faf24fc0-0521-46af-a3df-a3f2d85af9ac"
      },
      "execution_count": 49,
      "outputs": [
        {
          "output_type": "stream",
          "name": "stdout",
          "text": [
            "Saving TensorBoard log files to: model_logs/LSTM/20250322-205442\n",
            "Epoch 1/5\n",
            "\u001b[1m215/215\u001b[0m \u001b[32m━━━━━━━━━━━━━━━━━━━━\u001b[0m\u001b[37m\u001b[0m \u001b[1m5s\u001b[0m 11ms/step - accuracy: 0.6777 - loss: 0.5803 - val_accuracy: 0.7822 - val_loss: 0.4591\n",
            "Epoch 2/5\n",
            "\u001b[1m215/215\u001b[0m \u001b[32m━━━━━━━━━━━━━━━━━━━━\u001b[0m\u001b[37m\u001b[0m \u001b[1m5s\u001b[0m 10ms/step - accuracy: 0.8662 - loss: 0.3282 - val_accuracy: 0.7585 - val_loss: 0.5151\n",
            "Epoch 3/5\n",
            "\u001b[1m215/215\u001b[0m \u001b[32m━━━━━━━━━━━━━━━━━━━━\u001b[0m\u001b[37m\u001b[0m \u001b[1m4s\u001b[0m 20ms/step - accuracy: 0.9180 - loss: 0.2227 - val_accuracy: 0.7533 - val_loss: 0.6631\n",
            "Epoch 4/5\n",
            "\u001b[1m215/215\u001b[0m \u001b[32m━━━━━━━━━━━━━━━━━━━━\u001b[0m\u001b[37m\u001b[0m \u001b[1m4s\u001b[0m 16ms/step - accuracy: 0.9480 - loss: 0.1506 - val_accuracy: 0.7612 - val_loss: 0.6847\n",
            "Epoch 5/5\n",
            "\u001b[1m215/215\u001b[0m \u001b[32m━━━━━━━━━━━━━━━━━━━━\u001b[0m\u001b[37m\u001b[0m \u001b[1m3s\u001b[0m 12ms/step - accuracy: 0.9597 - loss: 0.1253 - val_accuracy: 0.7651 - val_loss: 0.7137\n"
          ]
        }
      ]
    },
    {
      "cell_type": "code",
      "source": [
        "#MAke predictions on the validation dataset\n",
        "model_2_pred_probs = model_2.predict(val_sentences)\n",
        "model_2_pred_probs.shape, model_2_pred_probs[:10]"
      ],
      "metadata": {
        "id": "mhp_vF3zwG2U",
        "colab": {
          "base_uri": "https://localhost:8080/"
        },
        "outputId": "b43f0632-30e5-4f44-b495-4aa74e133a53"
      },
      "execution_count": 50,
      "outputs": [
        {
          "output_type": "stream",
          "name": "stdout",
          "text": [
            "\u001b[1m24/24\u001b[0m \u001b[32m━━━━━━━━━━━━━━━━━━━━\u001b[0m\u001b[37m\u001b[0m \u001b[1m0s\u001b[0m 10ms/step\n"
          ]
        },
        {
          "output_type": "execute_result",
          "data": {
            "text/plain": [
              "((762, 1),\n",
              " array([[0.0613885 ],\n",
              "        [0.9607592 ],\n",
              "        [0.99777275],\n",
              "        [0.03186111],\n",
              "        [0.00580638],\n",
              "        [0.99634844],\n",
              "        [0.4648754 ],\n",
              "        [0.9995734 ],\n",
              "        [0.9991866 ],\n",
              "        [0.40566096]], dtype=float32))"
            ]
          },
          "metadata": {},
          "execution_count": 50
        }
      ]
    },
    {
      "cell_type": "code",
      "source": [
        "# roudning out predicitions\n",
        "model_2_preds = tf.squeeze(tf.round(model_2_pred_probs))\n",
        "model_2_preds[:10]"
      ],
      "metadata": {
        "id": "ppk8-bUFLX5S",
        "colab": {
          "base_uri": "https://localhost:8080/"
        },
        "outputId": "ff896a4e-6b77-4d45-ca1c-3f576a2ad18e"
      },
      "execution_count": 51,
      "outputs": [
        {
          "output_type": "execute_result",
          "data": {
            "text/plain": [
              "<tf.Tensor: shape=(10,), dtype=float32, numpy=array([0., 1., 1., 0., 0., 1., 0., 1., 1., 0.], dtype=float32)>"
            ]
          },
          "metadata": {},
          "execution_count": 51
        }
      ]
    },
    {
      "cell_type": "code",
      "source": [
        "model_2_results = calculate_results(y_true=val_labels,\n",
        "                                    y_pred=model_2_preds)\n",
        "model_2_results"
      ],
      "metadata": {
        "id": "RgT1HRMPLnVZ",
        "colab": {
          "base_uri": "https://localhost:8080/"
        },
        "outputId": "2e83c27a-6633-4bc0-8927-29b6474461d5"
      },
      "execution_count": 52,
      "outputs": [
        {
          "output_type": "execute_result",
          "data": {
            "text/plain": [
              "{'accuracy': 76.50918635170603,\n",
              " 'precision': 0.766006698423534,\n",
              " 'recall': 0.7650918635170604,\n",
              " 'f1': 0.7632813381351602}"
            ]
          },
          "metadata": {},
          "execution_count": 52
        }
      ]
    },
    {
      "cell_type": "code",
      "source": [
        "compare_baseline_to_new_results(baseline_results, model_2_results)"
      ],
      "metadata": {
        "id": "1DzD_EOnLrQm",
        "colab": {
          "base_uri": "https://localhost:8080/"
        },
        "outputId": "ac8ab317-c3e4-4702-84c1-c6f349cef565"
      },
      "execution_count": 53,
      "outputs": [
        {
          "output_type": "stream",
          "name": "stdout",
          "text": [
            "Baseline accuracy: 79.27, New accuracy: 76.51, Difference: -2.76\n",
            "Baseline precision: 0.81, New precision: 0.77, Difference: -0.05\n",
            "Baseline recall: 0.79, New recall: 0.77, Difference: -0.03\n",
            "Baseline f1: 0.79, New f1: 0.76, Difference: -0.02\n"
          ]
        }
      ]
    },
    {
      "cell_type": "markdown",
      "source": [
        "#Model 3:GRU"
      ],
      "metadata": {
        "id": "CegUGZKhLu8l"
      }
    },
    {
      "cell_type": "code",
      "source": [
        "tf.random.set_seed(42)\n",
        "from tensorflow.keras import layers\n",
        "model_3_embedding = layers.Embedding(input_dim=max_vocab_length,\n",
        "                                     output_dim=128,\n",
        "                                     embeddings_initializer=\"uniform\",\n",
        "                                     input_length=max_length,\n",
        "                                     name=\"embedding_3\")\n",
        "\n",
        "inputs = layers.Input(shape=(1,), dtype=\"string\")\n",
        "x = text_vectorizer(inputs)\n",
        "x = model_3_embedding(x)\n",
        "x = layers.GRU(64)(x)\n",
        "outputs = layers.Dense(1, activation=\"sigmoid\")(x)\n",
        "model_3 = tf.keras.Model(inputs, outputs, name=\"model_3_GRU\")"
      ],
      "metadata": {
        "id": "gkNDORvcLx43",
        "colab": {
          "base_uri": "https://localhost:8080/"
        },
        "outputId": "831a7b79-75bf-4aaa-9b9e-99edabefaa6f"
      },
      "execution_count": 54,
      "outputs": [
        {
          "output_type": "stream",
          "name": "stderr",
          "text": [
            "/usr/local/lib/python3.11/dist-packages/keras/src/layers/core/embedding.py:90: UserWarning: Argument `input_length` is deprecated. Just remove it.\n",
            "  warnings.warn(\n"
          ]
        }
      ]
    },
    {
      "cell_type": "code",
      "source": [
        "model_3.compile(loss=\"binary_crossentropy\",\n",
        "                optimizer=tf.keras.optimizers.Adam(),\n",
        "                metrics=[\"accuracy\"])"
      ],
      "metadata": {
        "id": "wAd9GgXmMUsf"
      },
      "execution_count": 55,
      "outputs": []
    },
    {
      "cell_type": "code",
      "source": [
        "model_3.summary()"
      ],
      "metadata": {
        "id": "A1eXa8JyMaqV",
        "colab": {
          "base_uri": "https://localhost:8080/",
          "height": 314
        },
        "outputId": "9f59a055-0787-4f76-aa9b-76ba905649c7"
      },
      "execution_count": 56,
      "outputs": [
        {
          "output_type": "display_data",
          "data": {
            "text/plain": [
              "\u001b[1mModel: \"model_3_GRU\"\u001b[0m\n"
            ],
            "text/html": [
              "<pre style=\"white-space:pre;overflow-x:auto;line-height:normal;font-family:Menlo,'DejaVu Sans Mono',consolas,'Courier New',monospace\"><span style=\"font-weight: bold\">Model: \"model_3_GRU\"</span>\n",
              "</pre>\n"
            ]
          },
          "metadata": {}
        },
        {
          "output_type": "display_data",
          "data": {
            "text/plain": [
              "┏━━━━━━━━━━━━━━━━━━━━━━━━━━━━━━━━━━━━━━┳━━━━━━━━━━━━━━━━━━━━━━━━━━━━━┳━━━━━━━━━━━━━━━━━┓\n",
              "┃\u001b[1m \u001b[0m\u001b[1mLayer (type)                        \u001b[0m\u001b[1m \u001b[0m┃\u001b[1m \u001b[0m\u001b[1mOutput Shape               \u001b[0m\u001b[1m \u001b[0m┃\u001b[1m \u001b[0m\u001b[1m        Param #\u001b[0m\u001b[1m \u001b[0m┃\n",
              "┡━━━━━━━━━━━━━━━━━━━━━━━━━━━━━━━━━━━━━━╇━━━━━━━━━━━━━━━━━━━━━━━━━━━━━╇━━━━━━━━━━━━━━━━━┩\n",
              "│ input_layer_2 (\u001b[38;5;33mInputLayer\u001b[0m)           │ (\u001b[38;5;45mNone\u001b[0m, \u001b[38;5;34m1\u001b[0m)                   │               \u001b[38;5;34m0\u001b[0m │\n",
              "├──────────────────────────────────────┼─────────────────────────────┼─────────────────┤\n",
              "│ text_vectorization_1                 │ (\u001b[38;5;45mNone\u001b[0m, \u001b[38;5;34m15\u001b[0m)                  │               \u001b[38;5;34m0\u001b[0m │\n",
              "│ (\u001b[38;5;33mTextVectorization\u001b[0m)                  │                             │                 │\n",
              "├──────────────────────────────────────┼─────────────────────────────┼─────────────────┤\n",
              "│ embedding_3 (\u001b[38;5;33mEmbedding\u001b[0m)              │ (\u001b[38;5;45mNone\u001b[0m, \u001b[38;5;34m15\u001b[0m, \u001b[38;5;34m128\u001b[0m)             │       \u001b[38;5;34m1,280,000\u001b[0m │\n",
              "├──────────────────────────────────────┼─────────────────────────────┼─────────────────┤\n",
              "│ gru (\u001b[38;5;33mGRU\u001b[0m)                            │ (\u001b[38;5;45mNone\u001b[0m, \u001b[38;5;34m64\u001b[0m)                  │          \u001b[38;5;34m37,248\u001b[0m │\n",
              "├──────────────────────────────────────┼─────────────────────────────┼─────────────────┤\n",
              "│ dense_2 (\u001b[38;5;33mDense\u001b[0m)                      │ (\u001b[38;5;45mNone\u001b[0m, \u001b[38;5;34m1\u001b[0m)                   │              \u001b[38;5;34m65\u001b[0m │\n",
              "└──────────────────────────────────────┴─────────────────────────────┴─────────────────┘\n"
            ],
            "text/html": [
              "<pre style=\"white-space:pre;overflow-x:auto;line-height:normal;font-family:Menlo,'DejaVu Sans Mono',consolas,'Courier New',monospace\">┏━━━━━━━━━━━━━━━━━━━━━━━━━━━━━━━━━━━━━━┳━━━━━━━━━━━━━━━━━━━━━━━━━━━━━┳━━━━━━━━━━━━━━━━━┓\n",
              "┃<span style=\"font-weight: bold\"> Layer (type)                         </span>┃<span style=\"font-weight: bold\"> Output Shape                </span>┃<span style=\"font-weight: bold\">         Param # </span>┃\n",
              "┡━━━━━━━━━━━━━━━━━━━━━━━━━━━━━━━━━━━━━━╇━━━━━━━━━━━━━━━━━━━━━━━━━━━━━╇━━━━━━━━━━━━━━━━━┩\n",
              "│ input_layer_2 (<span style=\"color: #0087ff; text-decoration-color: #0087ff\">InputLayer</span>)           │ (<span style=\"color: #00d7ff; text-decoration-color: #00d7ff\">None</span>, <span style=\"color: #00af00; text-decoration-color: #00af00\">1</span>)                   │               <span style=\"color: #00af00; text-decoration-color: #00af00\">0</span> │\n",
              "├──────────────────────────────────────┼─────────────────────────────┼─────────────────┤\n",
              "│ text_vectorization_1                 │ (<span style=\"color: #00d7ff; text-decoration-color: #00d7ff\">None</span>, <span style=\"color: #00af00; text-decoration-color: #00af00\">15</span>)                  │               <span style=\"color: #00af00; text-decoration-color: #00af00\">0</span> │\n",
              "│ (<span style=\"color: #0087ff; text-decoration-color: #0087ff\">TextVectorization</span>)                  │                             │                 │\n",
              "├──────────────────────────────────────┼─────────────────────────────┼─────────────────┤\n",
              "│ embedding_3 (<span style=\"color: #0087ff; text-decoration-color: #0087ff\">Embedding</span>)              │ (<span style=\"color: #00d7ff; text-decoration-color: #00d7ff\">None</span>, <span style=\"color: #00af00; text-decoration-color: #00af00\">15</span>, <span style=\"color: #00af00; text-decoration-color: #00af00\">128</span>)             │       <span style=\"color: #00af00; text-decoration-color: #00af00\">1,280,000</span> │\n",
              "├──────────────────────────────────────┼─────────────────────────────┼─────────────────┤\n",
              "│ gru (<span style=\"color: #0087ff; text-decoration-color: #0087ff\">GRU</span>)                            │ (<span style=\"color: #00d7ff; text-decoration-color: #00d7ff\">None</span>, <span style=\"color: #00af00; text-decoration-color: #00af00\">64</span>)                  │          <span style=\"color: #00af00; text-decoration-color: #00af00\">37,248</span> │\n",
              "├──────────────────────────────────────┼─────────────────────────────┼─────────────────┤\n",
              "│ dense_2 (<span style=\"color: #0087ff; text-decoration-color: #0087ff\">Dense</span>)                      │ (<span style=\"color: #00d7ff; text-decoration-color: #00d7ff\">None</span>, <span style=\"color: #00af00; text-decoration-color: #00af00\">1</span>)                   │              <span style=\"color: #00af00; text-decoration-color: #00af00\">65</span> │\n",
              "└──────────────────────────────────────┴─────────────────────────────┴─────────────────┘\n",
              "</pre>\n"
            ]
          },
          "metadata": {}
        },
        {
          "output_type": "display_data",
          "data": {
            "text/plain": [
              "\u001b[1m Total params: \u001b[0m\u001b[38;5;34m1,317,313\u001b[0m (5.03 MB)\n"
            ],
            "text/html": [
              "<pre style=\"white-space:pre;overflow-x:auto;line-height:normal;font-family:Menlo,'DejaVu Sans Mono',consolas,'Courier New',monospace\"><span style=\"font-weight: bold\"> Total params: </span><span style=\"color: #00af00; text-decoration-color: #00af00\">1,317,313</span> (5.03 MB)\n",
              "</pre>\n"
            ]
          },
          "metadata": {}
        },
        {
          "output_type": "display_data",
          "data": {
            "text/plain": [
              "\u001b[1m Trainable params: \u001b[0m\u001b[38;5;34m1,317,313\u001b[0m (5.03 MB)\n"
            ],
            "text/html": [
              "<pre style=\"white-space:pre;overflow-x:auto;line-height:normal;font-family:Menlo,'DejaVu Sans Mono',consolas,'Courier New',monospace\"><span style=\"font-weight: bold\"> Trainable params: </span><span style=\"color: #00af00; text-decoration-color: #00af00\">1,317,313</span> (5.03 MB)\n",
              "</pre>\n"
            ]
          },
          "metadata": {}
        },
        {
          "output_type": "display_data",
          "data": {
            "text/plain": [
              "\u001b[1m Non-trainable params: \u001b[0m\u001b[38;5;34m0\u001b[0m (0.00 B)\n"
            ],
            "text/html": [
              "<pre style=\"white-space:pre;overflow-x:auto;line-height:normal;font-family:Menlo,'DejaVu Sans Mono',consolas,'Courier New',monospace\"><span style=\"font-weight: bold\"> Non-trainable params: </span><span style=\"color: #00af00; text-decoration-color: #00af00\">0</span> (0.00 B)\n",
              "</pre>\n"
            ]
          },
          "metadata": {}
        }
      ]
    },
    {
      "cell_type": "code",
      "source": [
        "model_3_history = model_3.fit(train_sentences,\n",
        "                              train_labels,\n",
        "                              epochs=5,\n",
        "                              validation_data=(val_sentences, val_labels),\n",
        "                              callbacks=[create_tensorboard_callback(SAVE_DIR, \"GRU\")])"
      ],
      "metadata": {
        "id": "pW4IuIGJMcqu",
        "colab": {
          "base_uri": "https://localhost:8080/"
        },
        "outputId": "faa034eb-4650-49ee-9e13-70238b6b0ad8"
      },
      "execution_count": 57,
      "outputs": [
        {
          "output_type": "stream",
          "name": "stdout",
          "text": [
            "Saving TensorBoard log files to: model_logs/GRU/20250322-205504\n",
            "Epoch 1/5\n",
            "\u001b[1m215/215\u001b[0m \u001b[32m━━━━━━━━━━━━━━━━━━━━\u001b[0m\u001b[37m\u001b[0m \u001b[1m5s\u001b[0m 9ms/step - accuracy: 0.6501 - loss: 0.6045 - val_accuracy: 0.7690 - val_loss: 0.4611\n",
            "Epoch 2/5\n",
            "\u001b[1m215/215\u001b[0m \u001b[32m━━━━━━━━━━━━━━━━━━━━\u001b[0m\u001b[37m\u001b[0m \u001b[1m2s\u001b[0m 7ms/step - accuracy: 0.8604 - loss: 0.3358 - val_accuracy: 0.7651 - val_loss: 0.5255\n",
            "Epoch 3/5\n",
            "\u001b[1m215/215\u001b[0m \u001b[32m━━━━━━━━━━━━━━━━━━━━\u001b[0m\u001b[37m\u001b[0m \u001b[1m2s\u001b[0m 7ms/step - accuracy: 0.9122 - loss: 0.2312 - val_accuracy: 0.7480 - val_loss: 0.6511\n",
            "Epoch 4/5\n",
            "\u001b[1m215/215\u001b[0m \u001b[32m━━━━━━━━━━━━━━━━━━━━\u001b[0m\u001b[37m\u001b[0m \u001b[1m2s\u001b[0m 7ms/step - accuracy: 0.9434 - loss: 0.1609 - val_accuracy: 0.7651 - val_loss: 0.6008\n",
            "Epoch 5/5\n",
            "\u001b[1m215/215\u001b[0m \u001b[32m━━━━━━━━━━━━━━━━━━━━\u001b[0m\u001b[37m\u001b[0m \u001b[1m2s\u001b[0m 7ms/step - accuracy: 0.9598 - loss: 0.1260 - val_accuracy: 0.7638 - val_loss: 0.6721\n"
          ]
        }
      ]
    },
    {
      "cell_type": "code",
      "source": [
        "# Make predictions on the validation data\n",
        "model_3_pred_probs = model_3.predict(val_sentences)\n",
        "model_3_pred_probs.shape, model_3_pred_probs[:10]"
      ],
      "metadata": {
        "id": "s317inkVMexd",
        "colab": {
          "base_uri": "https://localhost:8080/"
        },
        "outputId": "3873d94a-4ed8-4d77-e669-eb8d51217130"
      },
      "execution_count": 58,
      "outputs": [
        {
          "output_type": "stream",
          "name": "stdout",
          "text": [
            "\u001b[1m24/24\u001b[0m \u001b[32m━━━━━━━━━━━━━━━━━━━━\u001b[0m\u001b[37m\u001b[0m \u001b[1m0s\u001b[0m 10ms/step\n"
          ]
        },
        {
          "output_type": "execute_result",
          "data": {
            "text/plain": [
              "((762, 1),\n",
              " array([[0.07156474],\n",
              "        [0.9118481 ],\n",
              "        [0.99405634],\n",
              "        [0.14985801],\n",
              "        [0.01022335],\n",
              "        [0.989689  ],\n",
              "        [0.2852218 ],\n",
              "        [0.99748105],\n",
              "        [0.9945668 ],\n",
              "        [0.6516704 ]], dtype=float32))"
            ]
          },
          "metadata": {},
          "execution_count": 58
        }
      ]
    },
    {
      "cell_type": "code",
      "source": [
        "# Convert prediction probabilities to prediction classes\n",
        "model_3_preds = tf.squeeze(tf.round(model_3_pred_probs))\n",
        "model_3_preds[:10]"
      ],
      "metadata": {
        "id": "p4aVC_B2Mg1u",
        "colab": {
          "base_uri": "https://localhost:8080/"
        },
        "outputId": "8659891b-ed98-4e0c-84af-794b4e477974"
      },
      "execution_count": 59,
      "outputs": [
        {
          "output_type": "execute_result",
          "data": {
            "text/plain": [
              "<tf.Tensor: shape=(10,), dtype=float32, numpy=array([0., 1., 1., 0., 0., 1., 0., 1., 1., 1.], dtype=float32)>"
            ]
          },
          "metadata": {},
          "execution_count": 59
        }
      ]
    },
    {
      "cell_type": "code",
      "source": [
        "# Calcuate model_3 results\n",
        "model_3_results = calculate_results(y_true=val_labels,\n",
        "                                    y_pred=model_3_preds)\n",
        "model_3_results"
      ],
      "metadata": {
        "id": "U72PW_dFMjOl",
        "colab": {
          "base_uri": "https://localhost:8080/"
        },
        "outputId": "8318b81f-4028-42a5-aa20-63c7cf724ca2"
      },
      "execution_count": 60,
      "outputs": [
        {
          "output_type": "execute_result",
          "data": {
            "text/plain": [
              "{'accuracy': 76.37795275590551,\n",
              " 'precision': 0.7666261988309462,\n",
              " 'recall': 0.7637795275590551,\n",
              " 'f1': 0.7609269783019204}"
            ]
          },
          "metadata": {},
          "execution_count": 60
        }
      ]
    },
    {
      "cell_type": "code",
      "source": [
        "compare_baseline_to_new_results(baseline_results, model_3_results)"
      ],
      "metadata": {
        "id": "-dDrlBp0MltV",
        "colab": {
          "base_uri": "https://localhost:8080/"
        },
        "outputId": "4cf97323-880c-4f0b-cc1d-9e566c4c54f4"
      },
      "execution_count": 61,
      "outputs": [
        {
          "output_type": "stream",
          "name": "stdout",
          "text": [
            "Baseline accuracy: 79.27, New accuracy: 76.38, Difference: -2.89\n",
            "Baseline precision: 0.81, New precision: 0.77, Difference: -0.04\n",
            "Baseline recall: 0.79, New recall: 0.76, Difference: -0.03\n",
            "Baseline f1: 0.79, New f1: 0.76, Difference: -0.03\n"
          ]
        }
      ]
    },
    {
      "cell_type": "markdown",
      "source": [
        "#Model 4:Bidirectional RNN Model"
      ],
      "metadata": {
        "id": "gklTIEXrMoct"
      }
    },
    {
      "cell_type": "code",
      "source": [
        "tf.random.set_seed(42)\n",
        "from tensorflow.keras import layers\n",
        "model_4_embedding = layers.Embedding(input_dim=max_vocab_length,\n",
        "                                     output_dim=128,\n",
        "                                     embeddings_initializer=\"uniform\",\n",
        "                                     input_length=max_length,\n",
        "                                     name=\"embedding_4\")\n",
        "\n",
        "# Build a Bidirectional RNN in TensorFlow\n",
        "inputs = layers.Input(shape=(1,), dtype=\"string\")\n",
        "x = text_vectorizer(inputs)\n",
        "x = model_4_embedding(x)\n",
        "# x = layers.Bidirectional(layers.LSTM(64, return_sequences=True))(x) # stacking RNN layers requires return_sequences=True\n",
        "x = layers.Bidirectional(layers.LSTM(64))(x) # bidirectional goes both ways so has double the parameters of a regular LSTM layer\n",
        "outputs = layers.Dense(1, activation=\"sigmoid\")(x)\n",
        "model_4 = tf.keras.Model(inputs, outputs, name=\"model_4_Bidirectional\")"
      ],
      "metadata": {
        "id": "Epi_mndUMtU9",
        "colab": {
          "base_uri": "https://localhost:8080/"
        },
        "outputId": "4ab007c7-3682-4b38-8a16-2325d10dab0c"
      },
      "execution_count": 62,
      "outputs": [
        {
          "output_type": "stream",
          "name": "stderr",
          "text": [
            "/usr/local/lib/python3.11/dist-packages/keras/src/layers/core/embedding.py:90: UserWarning: Argument `input_length` is deprecated. Just remove it.\n",
            "  warnings.warn(\n"
          ]
        }
      ]
    },
    {
      "cell_type": "code",
      "source": [
        "# Compile\n",
        "model_4.compile(loss=\"binary_crossentropy\",\n",
        "                optimizer=tf.keras.optimizers.Adam(),\n",
        "                metrics=[\"accuracy\"])"
      ],
      "metadata": {
        "id": "qV4rA56IMxZd"
      },
      "execution_count": 63,
      "outputs": []
    },
    {
      "cell_type": "code",
      "source": [
        "\n",
        "model_4.summary()"
      ],
      "metadata": {
        "id": "vIvBFdQEM041",
        "colab": {
          "base_uri": "https://localhost:8080/",
          "height": 314
        },
        "outputId": "f2f86a17-afae-4abc-ebb1-7a820be1df03"
      },
      "execution_count": 64,
      "outputs": [
        {
          "output_type": "display_data",
          "data": {
            "text/plain": [
              "\u001b[1mModel: \"model_4_Bidirectional\"\u001b[0m\n"
            ],
            "text/html": [
              "<pre style=\"white-space:pre;overflow-x:auto;line-height:normal;font-family:Menlo,'DejaVu Sans Mono',consolas,'Courier New',monospace\"><span style=\"font-weight: bold\">Model: \"model_4_Bidirectional\"</span>\n",
              "</pre>\n"
            ]
          },
          "metadata": {}
        },
        {
          "output_type": "display_data",
          "data": {
            "text/plain": [
              "┏━━━━━━━━━━━━━━━━━━━━━━━━━━━━━━━━━━━━━━┳━━━━━━━━━━━━━━━━━━━━━━━━━━━━━┳━━━━━━━━━━━━━━━━━┓\n",
              "┃\u001b[1m \u001b[0m\u001b[1mLayer (type)                        \u001b[0m\u001b[1m \u001b[0m┃\u001b[1m \u001b[0m\u001b[1mOutput Shape               \u001b[0m\u001b[1m \u001b[0m┃\u001b[1m \u001b[0m\u001b[1m        Param #\u001b[0m\u001b[1m \u001b[0m┃\n",
              "┡━━━━━━━━━━━━━━━━━━━━━━━━━━━━━━━━━━━━━━╇━━━━━━━━━━━━━━━━━━━━━━━━━━━━━╇━━━━━━━━━━━━━━━━━┩\n",
              "│ input_layer_3 (\u001b[38;5;33mInputLayer\u001b[0m)           │ (\u001b[38;5;45mNone\u001b[0m, \u001b[38;5;34m1\u001b[0m)                   │               \u001b[38;5;34m0\u001b[0m │\n",
              "├──────────────────────────────────────┼─────────────────────────────┼─────────────────┤\n",
              "│ text_vectorization_1                 │ (\u001b[38;5;45mNone\u001b[0m, \u001b[38;5;34m15\u001b[0m)                  │               \u001b[38;5;34m0\u001b[0m │\n",
              "│ (\u001b[38;5;33mTextVectorization\u001b[0m)                  │                             │                 │\n",
              "├──────────────────────────────────────┼─────────────────────────────┼─────────────────┤\n",
              "│ embedding_4 (\u001b[38;5;33mEmbedding\u001b[0m)              │ (\u001b[38;5;45mNone\u001b[0m, \u001b[38;5;34m15\u001b[0m, \u001b[38;5;34m128\u001b[0m)             │       \u001b[38;5;34m1,280,000\u001b[0m │\n",
              "├──────────────────────────────────────┼─────────────────────────────┼─────────────────┤\n",
              "│ bidirectional (\u001b[38;5;33mBidirectional\u001b[0m)        │ (\u001b[38;5;45mNone\u001b[0m, \u001b[38;5;34m128\u001b[0m)                 │          \u001b[38;5;34m98,816\u001b[0m │\n",
              "├──────────────────────────────────────┼─────────────────────────────┼─────────────────┤\n",
              "│ dense_3 (\u001b[38;5;33mDense\u001b[0m)                      │ (\u001b[38;5;45mNone\u001b[0m, \u001b[38;5;34m1\u001b[0m)                   │             \u001b[38;5;34m129\u001b[0m │\n",
              "└──────────────────────────────────────┴─────────────────────────────┴─────────────────┘\n"
            ],
            "text/html": [
              "<pre style=\"white-space:pre;overflow-x:auto;line-height:normal;font-family:Menlo,'DejaVu Sans Mono',consolas,'Courier New',monospace\">┏━━━━━━━━━━━━━━━━━━━━━━━━━━━━━━━━━━━━━━┳━━━━━━━━━━━━━━━━━━━━━━━━━━━━━┳━━━━━━━━━━━━━━━━━┓\n",
              "┃<span style=\"font-weight: bold\"> Layer (type)                         </span>┃<span style=\"font-weight: bold\"> Output Shape                </span>┃<span style=\"font-weight: bold\">         Param # </span>┃\n",
              "┡━━━━━━━━━━━━━━━━━━━━━━━━━━━━━━━━━━━━━━╇━━━━━━━━━━━━━━━━━━━━━━━━━━━━━╇━━━━━━━━━━━━━━━━━┩\n",
              "│ input_layer_3 (<span style=\"color: #0087ff; text-decoration-color: #0087ff\">InputLayer</span>)           │ (<span style=\"color: #00d7ff; text-decoration-color: #00d7ff\">None</span>, <span style=\"color: #00af00; text-decoration-color: #00af00\">1</span>)                   │               <span style=\"color: #00af00; text-decoration-color: #00af00\">0</span> │\n",
              "├──────────────────────────────────────┼─────────────────────────────┼─────────────────┤\n",
              "│ text_vectorization_1                 │ (<span style=\"color: #00d7ff; text-decoration-color: #00d7ff\">None</span>, <span style=\"color: #00af00; text-decoration-color: #00af00\">15</span>)                  │               <span style=\"color: #00af00; text-decoration-color: #00af00\">0</span> │\n",
              "│ (<span style=\"color: #0087ff; text-decoration-color: #0087ff\">TextVectorization</span>)                  │                             │                 │\n",
              "├──────────────────────────────────────┼─────────────────────────────┼─────────────────┤\n",
              "│ embedding_4 (<span style=\"color: #0087ff; text-decoration-color: #0087ff\">Embedding</span>)              │ (<span style=\"color: #00d7ff; text-decoration-color: #00d7ff\">None</span>, <span style=\"color: #00af00; text-decoration-color: #00af00\">15</span>, <span style=\"color: #00af00; text-decoration-color: #00af00\">128</span>)             │       <span style=\"color: #00af00; text-decoration-color: #00af00\">1,280,000</span> │\n",
              "├──────────────────────────────────────┼─────────────────────────────┼─────────────────┤\n",
              "│ bidirectional (<span style=\"color: #0087ff; text-decoration-color: #0087ff\">Bidirectional</span>)        │ (<span style=\"color: #00d7ff; text-decoration-color: #00d7ff\">None</span>, <span style=\"color: #00af00; text-decoration-color: #00af00\">128</span>)                 │          <span style=\"color: #00af00; text-decoration-color: #00af00\">98,816</span> │\n",
              "├──────────────────────────────────────┼─────────────────────────────┼─────────────────┤\n",
              "│ dense_3 (<span style=\"color: #0087ff; text-decoration-color: #0087ff\">Dense</span>)                      │ (<span style=\"color: #00d7ff; text-decoration-color: #00d7ff\">None</span>, <span style=\"color: #00af00; text-decoration-color: #00af00\">1</span>)                   │             <span style=\"color: #00af00; text-decoration-color: #00af00\">129</span> │\n",
              "└──────────────────────────────────────┴─────────────────────────────┴─────────────────┘\n",
              "</pre>\n"
            ]
          },
          "metadata": {}
        },
        {
          "output_type": "display_data",
          "data": {
            "text/plain": [
              "\u001b[1m Total params: \u001b[0m\u001b[38;5;34m1,378,945\u001b[0m (5.26 MB)\n"
            ],
            "text/html": [
              "<pre style=\"white-space:pre;overflow-x:auto;line-height:normal;font-family:Menlo,'DejaVu Sans Mono',consolas,'Courier New',monospace\"><span style=\"font-weight: bold\"> Total params: </span><span style=\"color: #00af00; text-decoration-color: #00af00\">1,378,945</span> (5.26 MB)\n",
              "</pre>\n"
            ]
          },
          "metadata": {}
        },
        {
          "output_type": "display_data",
          "data": {
            "text/plain": [
              "\u001b[1m Trainable params: \u001b[0m\u001b[38;5;34m1,378,945\u001b[0m (5.26 MB)\n"
            ],
            "text/html": [
              "<pre style=\"white-space:pre;overflow-x:auto;line-height:normal;font-family:Menlo,'DejaVu Sans Mono',consolas,'Courier New',monospace\"><span style=\"font-weight: bold\"> Trainable params: </span><span style=\"color: #00af00; text-decoration-color: #00af00\">1,378,945</span> (5.26 MB)\n",
              "</pre>\n"
            ]
          },
          "metadata": {}
        },
        {
          "output_type": "display_data",
          "data": {
            "text/plain": [
              "\u001b[1m Non-trainable params: \u001b[0m\u001b[38;5;34m0\u001b[0m (0.00 B)\n"
            ],
            "text/html": [
              "<pre style=\"white-space:pre;overflow-x:auto;line-height:normal;font-family:Menlo,'DejaVu Sans Mono',consolas,'Courier New',monospace\"><span style=\"font-weight: bold\"> Non-trainable params: </span><span style=\"color: #00af00; text-decoration-color: #00af00\">0</span> (0.00 B)\n",
              "</pre>\n"
            ]
          },
          "metadata": {}
        }
      ]
    },
    {
      "cell_type": "code",
      "source": [
        "model_4_history = model_4.fit(train_sentences,\n",
        "                              train_labels,\n",
        "                              epochs=5,\n",
        "                              validation_data=(val_sentences, val_labels),\n",
        "                              callbacks=[create_tensorboard_callback(SAVE_DIR, \"bidirectional_RNN\")])"
      ],
      "metadata": {
        "id": "_qncgTqiM2rt",
        "colab": {
          "base_uri": "https://localhost:8080/"
        },
        "outputId": "ffc19d1b-152e-40b0-ff5b-7fb76bc231f6"
      },
      "execution_count": 65,
      "outputs": [
        {
          "output_type": "stream",
          "name": "stdout",
          "text": [
            "Saving TensorBoard log files to: model_logs/bidirectional_RNN/20250322-205517\n",
            "Epoch 1/5\n",
            "\u001b[1m215/215\u001b[0m \u001b[32m━━━━━━━━━━━━━━━━━━━━\u001b[0m\u001b[37m\u001b[0m \u001b[1m6s\u001b[0m 15ms/step - accuracy: 0.6796 - loss: 0.5812 - val_accuracy: 0.7822 - val_loss: 0.4615\n",
            "Epoch 2/5\n",
            "\u001b[1m215/215\u001b[0m \u001b[32m━━━━━━━━━━━━━━━━━━━━\u001b[0m\u001b[37m\u001b[0m \u001b[1m2s\u001b[0m 9ms/step - accuracy: 0.8647 - loss: 0.3283 - val_accuracy: 0.7651 - val_loss: 0.5081\n",
            "Epoch 3/5\n",
            "\u001b[1m215/215\u001b[0m \u001b[32m━━━━━━━━━━━━━━━━━━━━\u001b[0m\u001b[37m\u001b[0m \u001b[1m3s\u001b[0m 8ms/step - accuracy: 0.9189 - loss: 0.2127 - val_accuracy: 0.7703 - val_loss: 0.6207\n",
            "Epoch 4/5\n",
            "\u001b[1m215/215\u001b[0m \u001b[32m━━━━━━━━━━━━━━━━━━━━\u001b[0m\u001b[37m\u001b[0m \u001b[1m2s\u001b[0m 9ms/step - accuracy: 0.9562 - loss: 0.1345 - val_accuracy: 0.7598 - val_loss: 0.6370\n",
            "Epoch 5/5\n",
            "\u001b[1m215/215\u001b[0m \u001b[32m━━━━━━━━━━━━━━━━━━━━\u001b[0m\u001b[37m\u001b[0m \u001b[1m2s\u001b[0m 11ms/step - accuracy: 0.9533 - loss: 0.1341 - val_accuracy: 0.7454 - val_loss: 0.7340\n"
          ]
        }
      ]
    },
    {
      "cell_type": "code",
      "source": [
        "model_4_pred_probs = model_4.predict(val_sentences)\n",
        "model_4_pred_probs[:10]"
      ],
      "metadata": {
        "id": "0p8gEKKHM5p0",
        "colab": {
          "base_uri": "https://localhost:8080/"
        },
        "outputId": "371a4e92-078b-4179-ccb7-d6e11b2e02e8"
      },
      "execution_count": 66,
      "outputs": [
        {
          "output_type": "stream",
          "name": "stdout",
          "text": [
            "\u001b[1m24/24\u001b[0m \u001b[32m━━━━━━━━━━━━━━━━━━━━\u001b[0m\u001b[37m\u001b[0m \u001b[1m1s\u001b[0m 15ms/step\n"
          ]
        },
        {
          "output_type": "execute_result",
          "data": {
            "text/plain": [
              "array([[0.27676624],\n",
              "       [0.9124432 ],\n",
              "       [0.9994147 ],\n",
              "       [0.06075135],\n",
              "       [0.00725099],\n",
              "       [0.9817208 ],\n",
              "       [0.5085534 ],\n",
              "       [0.9994222 ],\n",
              "       [0.9992149 ],\n",
              "       [0.40699214]], dtype=float32)"
            ]
          },
          "metadata": {},
          "execution_count": 66
        }
      ]
    },
    {
      "cell_type": "code",
      "source": [
        "model_4_preds = tf.squeeze(tf.round(model_4_pred_probs))\n",
        "model_4_preds[:10]"
      ],
      "metadata": {
        "id": "TmSJZiD_M7kM",
        "colab": {
          "base_uri": "https://localhost:8080/"
        },
        "outputId": "b4f2cc6e-c519-4dea-f131-1c2468d25cd3"
      },
      "execution_count": 67,
      "outputs": [
        {
          "output_type": "execute_result",
          "data": {
            "text/plain": [
              "<tf.Tensor: shape=(10,), dtype=float32, numpy=array([0., 1., 1., 0., 0., 1., 1., 1., 1., 0.], dtype=float32)>"
            ]
          },
          "metadata": {},
          "execution_count": 67
        }
      ]
    },
    {
      "cell_type": "code",
      "source": [
        "model_4_results = calculate_results(val_labels, model_4_preds)\n",
        "model_4_results"
      ],
      "metadata": {
        "id": "KxXfn-mLM9bE",
        "colab": {
          "base_uri": "https://localhost:8080/"
        },
        "outputId": "43b654e8-ab8b-4ee2-caf6-be6a770417fc"
      },
      "execution_count": 68,
      "outputs": [
        {
          "output_type": "execute_result",
          "data": {
            "text/plain": [
              "{'accuracy': 74.54068241469817,\n",
              " 'precision': 0.745282272536504,\n",
              " 'recall': 0.7454068241469817,\n",
              " 'f1': 0.7440086660503945}"
            ]
          },
          "metadata": {},
          "execution_count": 68
        }
      ]
    },
    {
      "cell_type": "code",
      "source": [
        "compare_baseline_to_new_results(baseline_results, model_4_results)"
      ],
      "metadata": {
        "id": "r4dmJUwgNDnt",
        "colab": {
          "base_uri": "https://localhost:8080/"
        },
        "outputId": "9f0316aa-e82d-4230-a253-54872aa911fb"
      },
      "execution_count": 69,
      "outputs": [
        {
          "output_type": "stream",
          "name": "stdout",
          "text": [
            "Baseline accuracy: 79.27, New accuracy: 74.54, Difference: -4.72\n",
            "Baseline precision: 0.81, New precision: 0.75, Difference: -0.07\n",
            "Baseline recall: 0.79, New recall: 0.75, Difference: -0.05\n",
            "Baseline f1: 0.79, New f1: 0.74, Difference: -0.04\n"
          ]
        }
      ]
    },
    {
      "cell_type": "markdown",
      "source": [
        "#MOdel 5: CNN Model"
      ],
      "metadata": {
        "id": "NXCHZ13HNFJG"
      }
    },
    {
      "cell_type": "code",
      "source": [
        "#Test out the embedding\n",
        "embedding_test = embedding(text_vectorizer([\"this is a test sentence\"]))\n",
        "conv_1d = layers.Conv1D(filters=32,kernel_size=5,activation=\"relu\")\n",
        "conv_1d_output = conv_1d(embedding_test)\n",
        "max_pool = layers.GlobalMaxPool1D()\n",
        "max_pool_output = max_pool(conv_1d_output)\n",
        "embedding_test.shape, conv_1d_output.shape, max_pool_output.shape"
      ],
      "metadata": {
        "id": "75cKrDa1NI6e",
        "colab": {
          "base_uri": "https://localhost:8080/"
        },
        "outputId": "6e497cce-3da2-4e49-e1e8-8031bb895436"
      },
      "execution_count": 70,
      "outputs": [
        {
          "output_type": "execute_result",
          "data": {
            "text/plain": [
              "(TensorShape([1, 15, 128]), TensorShape([1, 11, 32]), TensorShape([1, 32]))"
            ]
          },
          "metadata": {},
          "execution_count": 70
        }
      ]
    },
    {
      "cell_type": "code",
      "source": [
        "embedding_test[:1], conv_1d_output[:1], max_pool_output[:1]"
      ],
      "metadata": {
        "id": "pOCZFGD4NkqO",
        "colab": {
          "base_uri": "https://localhost:8080/"
        },
        "outputId": "fcd6ecc2-32a9-47c9-891d-1171e1c41186"
      },
      "execution_count": 71,
      "outputs": [
        {
          "output_type": "execute_result",
          "data": {
            "text/plain": [
              "(<tf.Tensor: shape=(1, 15, 128), dtype=float32, numpy=\n",
              " array([[[ 0.01977056,  0.03590453,  0.04423294, ...,  0.01456167,\n",
              "          -0.0482984 , -0.03862212],\n",
              "         [-0.01243855,  0.00472372, -0.04303216, ..., -0.04015484,\n",
              "           0.0028935 ,  0.00350104],\n",
              "         [-0.02609253,  0.01318168, -0.04908518, ...,  0.03259099,\n",
              "           0.0376565 ,  0.03245922],\n",
              "         ...,\n",
              "         [-0.04025573, -0.05125066,  0.01052833, ..., -0.01925924,\n",
              "           0.02839494, -0.0047914 ],\n",
              "         [-0.04025573, -0.05125066,  0.01052833, ..., -0.01925924,\n",
              "           0.02839494, -0.0047914 ],\n",
              "         [-0.04025573, -0.05125066,  0.01052833, ..., -0.01925924,\n",
              "           0.02839494, -0.0047914 ]]], dtype=float32)>,\n",
              " <tf.Tensor: shape=(1, 11, 32), dtype=float32, numpy=\n",
              " array([[[0.08809502, 0.        , 0.09450724, 0.06706363, 0.        ,\n",
              "          0.        , 0.        , 0.        , 0.        , 0.01005633,\n",
              "          0.        , 0.001939  , 0.        , 0.        , 0.01513127,\n",
              "          0.        , 0.        , 0.        , 0.        , 0.        ,\n",
              "          0.        , 0.01841463, 0.        , 0.        , 0.00115694,\n",
              "          0.00290372, 0.        , 0.        , 0.        , 0.05700569,\n",
              "          0.        , 0.00769974],\n",
              "         [0.        , 0.00626709, 0.        , 0.        , 0.02713617,\n",
              "          0.        , 0.        , 0.        , 0.02232789, 0.        ,\n",
              "          0.        , 0.01661348, 0.        , 0.        , 0.04845938,\n",
              "          0.        , 0.04965502, 0.08040834, 0.00026457, 0.        ,\n",
              "          0.        , 0.0777834 , 0.        , 0.05661685, 0.10267464,\n",
              "          0.        , 0.        , 0.        , 0.        , 0.08904051,\n",
              "          0.        , 0.00583437],\n",
              "         [0.        , 0.0351027 , 0.13709794, 0.10896411, 0.        ,\n",
              "          0.00922075, 0.        , 0.        , 0.06186675, 0.        ,\n",
              "          0.        , 0.        , 0.        , 0.05921287, 0.        ,\n",
              "          0.        , 0.08794193, 0.        , 0.        , 0.05589407,\n",
              "          0.        , 0.0262547 , 0.        , 0.04208172, 0.01997285,\n",
              "          0.        , 0.        , 0.        , 0.02282477, 0.04351759,\n",
              "          0.04310533, 0.01535229],\n",
              "         [0.014574  , 0.        , 0.        , 0.        , 0.        ,\n",
              "          0.0108542 , 0.01093358, 0.        , 0.        , 0.        ,\n",
              "          0.        , 0.        , 0.        , 0.        , 0.        ,\n",
              "          0.        , 0.08885074, 0.04687761, 0.04147121, 0.01238468,\n",
              "          0.07832588, 0.0521751 , 0.02391151, 0.        , 0.01536552,\n",
              "          0.        , 0.        , 0.01281795, 0.        , 0.02215576,\n",
              "          0.01320452, 0.00254961],\n",
              "         [0.        , 0.        , 0.01216865, 0.        , 0.        ,\n",
              "          0.01554244, 0.        , 0.        , 0.        , 0.        ,\n",
              "          0.        , 0.        , 0.        , 0.        , 0.        ,\n",
              "          0.        , 0.00090667, 0.02732122, 0.        , 0.05884324,\n",
              "          0.05819851, 0.07037313, 0.01869322, 0.03901557, 0.        ,\n",
              "          0.0060187 , 0.        , 0.        , 0.01340092, 0.04601823,\n",
              "          0.05842548, 0.        ],\n",
              "         [0.        , 0.        , 0.0189474 , 0.        , 0.        ,\n",
              "          0.00893334, 0.        , 0.        , 0.        , 0.        ,\n",
              "          0.        , 0.01037844, 0.        , 0.        , 0.        ,\n",
              "          0.        , 0.00259835, 0.04425374, 0.00903081, 0.03008773,\n",
              "          0.02787098, 0.05815438, 0.01453482, 0.01811468, 0.        ,\n",
              "          0.        , 0.        , 0.        , 0.05212574, 0.04488922,\n",
              "          0.03725661, 0.        ],\n",
              "         [0.        , 0.        , 0.0189474 , 0.        , 0.        ,\n",
              "          0.00893334, 0.        , 0.        , 0.        , 0.        ,\n",
              "          0.        , 0.01037844, 0.        , 0.        , 0.        ,\n",
              "          0.        , 0.00259835, 0.04425374, 0.00903081, 0.03008773,\n",
              "          0.02787098, 0.05815438, 0.01453482, 0.01811468, 0.        ,\n",
              "          0.        , 0.        , 0.        , 0.05212574, 0.04488922,\n",
              "          0.03725661, 0.        ],\n",
              "         [0.        , 0.        , 0.0189474 , 0.        , 0.        ,\n",
              "          0.00893334, 0.        , 0.        , 0.        , 0.        ,\n",
              "          0.        , 0.01037844, 0.        , 0.        , 0.        ,\n",
              "          0.        , 0.00259835, 0.04425374, 0.00903081, 0.03008773,\n",
              "          0.02787098, 0.05815438, 0.01453482, 0.01811468, 0.        ,\n",
              "          0.        , 0.        , 0.        , 0.05212574, 0.04488922,\n",
              "          0.03725661, 0.        ],\n",
              "         [0.        , 0.        , 0.0189474 , 0.        , 0.        ,\n",
              "          0.00893334, 0.        , 0.        , 0.        , 0.        ,\n",
              "          0.        , 0.01037844, 0.        , 0.        , 0.        ,\n",
              "          0.        , 0.00259835, 0.04425374, 0.00903081, 0.03008773,\n",
              "          0.02787098, 0.05815438, 0.01453482, 0.01811468, 0.        ,\n",
              "          0.        , 0.        , 0.        , 0.05212574, 0.04488922,\n",
              "          0.03725661, 0.        ],\n",
              "         [0.        , 0.        , 0.0189474 , 0.        , 0.        ,\n",
              "          0.00893334, 0.        , 0.        , 0.        , 0.        ,\n",
              "          0.        , 0.01037844, 0.        , 0.        , 0.        ,\n",
              "          0.        , 0.00259835, 0.04425374, 0.00903081, 0.03008773,\n",
              "          0.02787098, 0.05815438, 0.01453482, 0.01811468, 0.        ,\n",
              "          0.        , 0.        , 0.        , 0.05212574, 0.04488922,\n",
              "          0.03725661, 0.        ],\n",
              "         [0.        , 0.        , 0.0189474 , 0.        , 0.        ,\n",
              "          0.00893334, 0.        , 0.        , 0.        , 0.        ,\n",
              "          0.        , 0.01037844, 0.        , 0.        , 0.        ,\n",
              "          0.        , 0.00259835, 0.04425374, 0.00903081, 0.03008773,\n",
              "          0.02787098, 0.05815438, 0.01453482, 0.01811468, 0.        ,\n",
              "          0.        , 0.        , 0.        , 0.05212574, 0.04488922,\n",
              "          0.03725661, 0.        ]]], dtype=float32)>,\n",
              " <tf.Tensor: shape=(1, 32), dtype=float32, numpy=\n",
              " array([[0.08809502, 0.0351027 , 0.13709794, 0.10896411, 0.02713617,\n",
              "         0.01554244, 0.01093358, 0.        , 0.06186675, 0.01005633,\n",
              "         0.        , 0.01661348, 0.        , 0.05921287, 0.04845938,\n",
              "         0.        , 0.08885074, 0.08040834, 0.04147121, 0.05884324,\n",
              "         0.07832588, 0.0777834 , 0.02391151, 0.05661685, 0.10267464,\n",
              "         0.0060187 , 0.        , 0.01281795, 0.05212574, 0.08904051,\n",
              "         0.05842548, 0.01535229]], dtype=float32)>)"
            ]
          },
          "metadata": {},
          "execution_count": 71
        }
      ]
    },
    {
      "cell_type": "code",
      "source": [
        "tf.random.set_seed(42)\n",
        "from tensorflow.keras import layers\n",
        "model_5_embedding = layers.Embedding(input_dim=max_vocab_length,\n",
        "                                     output_dim=128,\n",
        "                                     embeddings_initializer=\"uniform\",\n",
        "                                     input_length=max_length,\n",
        "                                     name=\"embedding_5\")\n",
        "\n",
        "\n",
        "from tensorflow.keras import layers\n",
        "inputs = layers.Input(shape=(1,), dtype=\"string\")\n",
        "x = text_vectorizer(inputs)\n",
        "x = model_5_embedding(x)\n",
        "x = layers.Conv1D(filters=32, kernel_size=5, activation=\"relu\")(x)\n",
        "x = layers.GlobalMaxPool1D()(x)\n",
        "# x = layers.Dense(64, activation=\"relu\")(x) # optional dense layer\n",
        "outputs = layers.Dense(1, activation=\"sigmoid\")(x)\n",
        "model_5 = tf.keras.Model(inputs, outputs, name=\"model_5_Conv1D\")\n",
        "\n",
        "# Compile Conv1D model\n",
        "model_5.compile(loss=\"binary_crossentropy\",\n",
        "                optimizer=tf.keras.optimizers.Adam(),\n",
        "                metrics=[\"accuracy\"])\n",
        "\n",
        "# Get a summary of our 1D convolution model\n",
        "model_5.summary()"
      ],
      "metadata": {
        "id": "k4x7-g_lNml2",
        "colab": {
          "base_uri": "https://localhost:8080/",
          "height": 398
        },
        "outputId": "d321e60c-f6e2-4dd9-ec1d-da9b50334381"
      },
      "execution_count": 72,
      "outputs": [
        {
          "output_type": "stream",
          "name": "stderr",
          "text": [
            "/usr/local/lib/python3.11/dist-packages/keras/src/layers/core/embedding.py:90: UserWarning: Argument `input_length` is deprecated. Just remove it.\n",
            "  warnings.warn(\n"
          ]
        },
        {
          "output_type": "display_data",
          "data": {
            "text/plain": [
              "\u001b[1mModel: \"model_5_Conv1D\"\u001b[0m\n"
            ],
            "text/html": [
              "<pre style=\"white-space:pre;overflow-x:auto;line-height:normal;font-family:Menlo,'DejaVu Sans Mono',consolas,'Courier New',monospace\"><span style=\"font-weight: bold\">Model: \"model_5_Conv1D\"</span>\n",
              "</pre>\n"
            ]
          },
          "metadata": {}
        },
        {
          "output_type": "display_data",
          "data": {
            "text/plain": [
              "┏━━━━━━━━━━━━━━━━━━━━━━━━━━━━━━━━━━━━━━┳━━━━━━━━━━━━━━━━━━━━━━━━━━━━━┳━━━━━━━━━━━━━━━━━┓\n",
              "┃\u001b[1m \u001b[0m\u001b[1mLayer (type)                        \u001b[0m\u001b[1m \u001b[0m┃\u001b[1m \u001b[0m\u001b[1mOutput Shape               \u001b[0m\u001b[1m \u001b[0m┃\u001b[1m \u001b[0m\u001b[1m        Param #\u001b[0m\u001b[1m \u001b[0m┃\n",
              "┡━━━━━━━━━━━━━━━━━━━━━━━━━━━━━━━━━━━━━━╇━━━━━━━━━━━━━━━━━━━━━━━━━━━━━╇━━━━━━━━━━━━━━━━━┩\n",
              "│ input_layer_4 (\u001b[38;5;33mInputLayer\u001b[0m)           │ (\u001b[38;5;45mNone\u001b[0m, \u001b[38;5;34m1\u001b[0m)                   │               \u001b[38;5;34m0\u001b[0m │\n",
              "├──────────────────────────────────────┼─────────────────────────────┼─────────────────┤\n",
              "│ text_vectorization_1                 │ (\u001b[38;5;45mNone\u001b[0m, \u001b[38;5;34m15\u001b[0m)                  │               \u001b[38;5;34m0\u001b[0m │\n",
              "│ (\u001b[38;5;33mTextVectorization\u001b[0m)                  │                             │                 │\n",
              "├──────────────────────────────────────┼─────────────────────────────┼─────────────────┤\n",
              "│ embedding_5 (\u001b[38;5;33mEmbedding\u001b[0m)              │ (\u001b[38;5;45mNone\u001b[0m, \u001b[38;5;34m15\u001b[0m, \u001b[38;5;34m128\u001b[0m)             │       \u001b[38;5;34m1,280,000\u001b[0m │\n",
              "├──────────────────────────────────────┼─────────────────────────────┼─────────────────┤\n",
              "│ conv1d_1 (\u001b[38;5;33mConv1D\u001b[0m)                    │ (\u001b[38;5;45mNone\u001b[0m, \u001b[38;5;34m11\u001b[0m, \u001b[38;5;34m32\u001b[0m)              │          \u001b[38;5;34m20,512\u001b[0m │\n",
              "├──────────────────────────────────────┼─────────────────────────────┼─────────────────┤\n",
              "│ global_max_pooling1d_1               │ (\u001b[38;5;45mNone\u001b[0m, \u001b[38;5;34m32\u001b[0m)                  │               \u001b[38;5;34m0\u001b[0m │\n",
              "│ (\u001b[38;5;33mGlobalMaxPooling1D\u001b[0m)                 │                             │                 │\n",
              "├──────────────────────────────────────┼─────────────────────────────┼─────────────────┤\n",
              "│ dense_4 (\u001b[38;5;33mDense\u001b[0m)                      │ (\u001b[38;5;45mNone\u001b[0m, \u001b[38;5;34m1\u001b[0m)                   │              \u001b[38;5;34m33\u001b[0m │\n",
              "└──────────────────────────────────────┴─────────────────────────────┴─────────────────┘\n"
            ],
            "text/html": [
              "<pre style=\"white-space:pre;overflow-x:auto;line-height:normal;font-family:Menlo,'DejaVu Sans Mono',consolas,'Courier New',monospace\">┏━━━━━━━━━━━━━━━━━━━━━━━━━━━━━━━━━━━━━━┳━━━━━━━━━━━━━━━━━━━━━━━━━━━━━┳━━━━━━━━━━━━━━━━━┓\n",
              "┃<span style=\"font-weight: bold\"> Layer (type)                         </span>┃<span style=\"font-weight: bold\"> Output Shape                </span>┃<span style=\"font-weight: bold\">         Param # </span>┃\n",
              "┡━━━━━━━━━━━━━━━━━━━━━━━━━━━━━━━━━━━━━━╇━━━━━━━━━━━━━━━━━━━━━━━━━━━━━╇━━━━━━━━━━━━━━━━━┩\n",
              "│ input_layer_4 (<span style=\"color: #0087ff; text-decoration-color: #0087ff\">InputLayer</span>)           │ (<span style=\"color: #00d7ff; text-decoration-color: #00d7ff\">None</span>, <span style=\"color: #00af00; text-decoration-color: #00af00\">1</span>)                   │               <span style=\"color: #00af00; text-decoration-color: #00af00\">0</span> │\n",
              "├──────────────────────────────────────┼─────────────────────────────┼─────────────────┤\n",
              "│ text_vectorization_1                 │ (<span style=\"color: #00d7ff; text-decoration-color: #00d7ff\">None</span>, <span style=\"color: #00af00; text-decoration-color: #00af00\">15</span>)                  │               <span style=\"color: #00af00; text-decoration-color: #00af00\">0</span> │\n",
              "│ (<span style=\"color: #0087ff; text-decoration-color: #0087ff\">TextVectorization</span>)                  │                             │                 │\n",
              "├──────────────────────────────────────┼─────────────────────────────┼─────────────────┤\n",
              "│ embedding_5 (<span style=\"color: #0087ff; text-decoration-color: #0087ff\">Embedding</span>)              │ (<span style=\"color: #00d7ff; text-decoration-color: #00d7ff\">None</span>, <span style=\"color: #00af00; text-decoration-color: #00af00\">15</span>, <span style=\"color: #00af00; text-decoration-color: #00af00\">128</span>)             │       <span style=\"color: #00af00; text-decoration-color: #00af00\">1,280,000</span> │\n",
              "├──────────────────────────────────────┼─────────────────────────────┼─────────────────┤\n",
              "│ conv1d_1 (<span style=\"color: #0087ff; text-decoration-color: #0087ff\">Conv1D</span>)                    │ (<span style=\"color: #00d7ff; text-decoration-color: #00d7ff\">None</span>, <span style=\"color: #00af00; text-decoration-color: #00af00\">11</span>, <span style=\"color: #00af00; text-decoration-color: #00af00\">32</span>)              │          <span style=\"color: #00af00; text-decoration-color: #00af00\">20,512</span> │\n",
              "├──────────────────────────────────────┼─────────────────────────────┼─────────────────┤\n",
              "│ global_max_pooling1d_1               │ (<span style=\"color: #00d7ff; text-decoration-color: #00d7ff\">None</span>, <span style=\"color: #00af00; text-decoration-color: #00af00\">32</span>)                  │               <span style=\"color: #00af00; text-decoration-color: #00af00\">0</span> │\n",
              "│ (<span style=\"color: #0087ff; text-decoration-color: #0087ff\">GlobalMaxPooling1D</span>)                 │                             │                 │\n",
              "├──────────────────────────────────────┼─────────────────────────────┼─────────────────┤\n",
              "│ dense_4 (<span style=\"color: #0087ff; text-decoration-color: #0087ff\">Dense</span>)                      │ (<span style=\"color: #00d7ff; text-decoration-color: #00d7ff\">None</span>, <span style=\"color: #00af00; text-decoration-color: #00af00\">1</span>)                   │              <span style=\"color: #00af00; text-decoration-color: #00af00\">33</span> │\n",
              "└──────────────────────────────────────┴─────────────────────────────┴─────────────────┘\n",
              "</pre>\n"
            ]
          },
          "metadata": {}
        },
        {
          "output_type": "display_data",
          "data": {
            "text/plain": [
              "\u001b[1m Total params: \u001b[0m\u001b[38;5;34m1,300,545\u001b[0m (4.96 MB)\n"
            ],
            "text/html": [
              "<pre style=\"white-space:pre;overflow-x:auto;line-height:normal;font-family:Menlo,'DejaVu Sans Mono',consolas,'Courier New',monospace\"><span style=\"font-weight: bold\"> Total params: </span><span style=\"color: #00af00; text-decoration-color: #00af00\">1,300,545</span> (4.96 MB)\n",
              "</pre>\n"
            ]
          },
          "metadata": {}
        },
        {
          "output_type": "display_data",
          "data": {
            "text/plain": [
              "\u001b[1m Trainable params: \u001b[0m\u001b[38;5;34m1,300,545\u001b[0m (4.96 MB)\n"
            ],
            "text/html": [
              "<pre style=\"white-space:pre;overflow-x:auto;line-height:normal;font-family:Menlo,'DejaVu Sans Mono',consolas,'Courier New',monospace\"><span style=\"font-weight: bold\"> Trainable params: </span><span style=\"color: #00af00; text-decoration-color: #00af00\">1,300,545</span> (4.96 MB)\n",
              "</pre>\n"
            ]
          },
          "metadata": {}
        },
        {
          "output_type": "display_data",
          "data": {
            "text/plain": [
              "\u001b[1m Non-trainable params: \u001b[0m\u001b[38;5;34m0\u001b[0m (0.00 B)\n"
            ],
            "text/html": [
              "<pre style=\"white-space:pre;overflow-x:auto;line-height:normal;font-family:Menlo,'DejaVu Sans Mono',consolas,'Courier New',monospace\"><span style=\"font-weight: bold\"> Non-trainable params: </span><span style=\"color: #00af00; text-decoration-color: #00af00\">0</span> (0.00 B)\n",
              "</pre>\n"
            ]
          },
          "metadata": {}
        }
      ]
    },
    {
      "cell_type": "code",
      "source": [
        "model_5_history = model_5.fit(train_sentences,\n",
        "                              train_labels,\n",
        "                              epochs=5,\n",
        "                              validation_data=(val_sentences, val_labels),\n",
        "                              callbacks=[create_tensorboard_callback(SAVE_DIR,\n",
        "                                                                     \"Conv1D\")])"
      ],
      "metadata": {
        "id": "rlnB4ob1NsUd",
        "colab": {
          "base_uri": "https://localhost:8080/"
        },
        "outputId": "233b6ba5-d1b4-4e18-f882-ba920bab4aff"
      },
      "execution_count": 73,
      "outputs": [
        {
          "output_type": "stream",
          "name": "stdout",
          "text": [
            "Saving TensorBoard log files to: model_logs/Conv1D/20250322-205535\n",
            "Epoch 1/5\n",
            "\u001b[1m215/215\u001b[0m \u001b[32m━━━━━━━━━━━━━━━━━━━━\u001b[0m\u001b[37m\u001b[0m \u001b[1m3s\u001b[0m 8ms/step - accuracy: 0.6509 - loss: 0.6341 - val_accuracy: 0.7808 - val_loss: 0.4709\n",
            "Epoch 2/5\n",
            "\u001b[1m215/215\u001b[0m \u001b[32m━━━━━━━━━━━━━━━━━━━━\u001b[0m\u001b[37m\u001b[0m \u001b[1m2s\u001b[0m 6ms/step - accuracy: 0.8396 - loss: 0.3803 - val_accuracy: 0.7940 - val_loss: 0.4741\n",
            "Epoch 3/5\n",
            "\u001b[1m215/215\u001b[0m \u001b[32m━━━━━━━━━━━━━━━━━━━━\u001b[0m\u001b[37m\u001b[0m \u001b[1m1s\u001b[0m 6ms/step - accuracy: 0.9091 - loss: 0.2414 - val_accuracy: 0.7861 - val_loss: 0.5228\n",
            "Epoch 4/5\n",
            "\u001b[1m215/215\u001b[0m \u001b[32m━━━━━━━━━━━━━━━━━━━━\u001b[0m\u001b[37m\u001b[0m \u001b[1m3s\u001b[0m 8ms/step - accuracy: 0.9496 - loss: 0.1569 - val_accuracy: 0.7808 - val_loss: 0.5909\n",
            "Epoch 5/5\n",
            "\u001b[1m215/215\u001b[0m \u001b[32m━━━━━━━━━━━━━━━━━━━━\u001b[0m\u001b[37m\u001b[0m \u001b[1m2s\u001b[0m 6ms/step - accuracy: 0.9645 - loss: 0.1078 - val_accuracy: 0.7848 - val_loss: 0.6504\n"
          ]
        }
      ]
    },
    {
      "cell_type": "code",
      "source": [
        "model_5_pred_probs = model_5.predict(val_sentences)\n",
        "model_5_pred_probs[:10]"
      ],
      "metadata": {
        "id": "xyRfiKRpNuqV",
        "colab": {
          "base_uri": "https://localhost:8080/"
        },
        "outputId": "81dc3622-9b81-45ec-f83e-aeecd282d9d7"
      },
      "execution_count": 74,
      "outputs": [
        {
          "output_type": "stream",
          "name": "stdout",
          "text": [
            "\u001b[1m24/24\u001b[0m \u001b[32m━━━━━━━━━━━━━━━━━━━━\u001b[0m\u001b[37m\u001b[0m \u001b[1m0s\u001b[0m 8ms/step\n"
          ]
        },
        {
          "output_type": "execute_result",
          "data": {
            "text/plain": [
              "array([[0.52309203],\n",
              "       [0.8153482 ],\n",
              "       [0.9997615 ],\n",
              "       [0.0536747 ],\n",
              "       [0.00333937],\n",
              "       [0.9912505 ],\n",
              "       [0.9849924 ],\n",
              "       [0.99939084],\n",
              "       [0.9989366 ],\n",
              "       [0.12278408]], dtype=float32)"
            ]
          },
          "metadata": {},
          "execution_count": 74
        }
      ]
    },
    {
      "cell_type": "code",
      "source": [
        "model_5_preds = tf.squeeze(tf.round(model_5_pred_probs))\n",
        "model_5_preds[:10]"
      ],
      "metadata": {
        "id": "9NFc-y7uNwx1",
        "colab": {
          "base_uri": "https://localhost:8080/"
        },
        "outputId": "7caafff1-80e0-42c4-8ac4-dff3df575203"
      },
      "execution_count": 75,
      "outputs": [
        {
          "output_type": "execute_result",
          "data": {
            "text/plain": [
              "<tf.Tensor: shape=(10,), dtype=float32, numpy=array([1., 1., 1., 0., 0., 1., 1., 1., 1., 0.], dtype=float32)>"
            ]
          },
          "metadata": {},
          "execution_count": 75
        }
      ]
    },
    {
      "cell_type": "code",
      "source": [
        "model_5_results = calculate_results(y_true=val_labels,\n",
        "                                    y_pred=model_5_preds)\n",
        "model_5_results"
      ],
      "metadata": {
        "id": "qSSGt5GaNyT2",
        "colab": {
          "base_uri": "https://localhost:8080/"
        },
        "outputId": "118c92e3-8f36-4291-c14d-3bfc4f6b9b10"
      },
      "execution_count": 76,
      "outputs": [
        {
          "output_type": "execute_result",
          "data": {
            "text/plain": [
              "{'accuracy': 78.4776902887139,\n",
              " 'precision': 0.7867627887573655,\n",
              " 'recall': 0.7847769028871391,\n",
              " 'f1': 0.7828250820874111}"
            ]
          },
          "metadata": {},
          "execution_count": 76
        }
      ]
    },
    {
      "cell_type": "code",
      "source": [
        "compare_baseline_to_new_results(baseline_results, model_5_results)"
      ],
      "metadata": {
        "id": "3bcmDiIANzfN",
        "colab": {
          "base_uri": "https://localhost:8080/"
        },
        "outputId": "dc08056f-e54d-4e62-db18-0f95e16ca881"
      },
      "execution_count": 77,
      "outputs": [
        {
          "output_type": "stream",
          "name": "stdout",
          "text": [
            "Baseline accuracy: 79.27, New accuracy: 78.48, Difference: -0.79\n",
            "Baseline precision: 0.81, New precision: 0.79, Difference: -0.02\n",
            "Baseline recall: 0.79, New recall: 0.78, Difference: -0.01\n",
            "Baseline f1: 0.79, New f1: 0.78, Difference: -0.00\n"
          ]
        }
      ]
    },
    {
      "cell_type": "markdown",
      "source": [
        "#Model 6: univesal sentnece encoder\n"
      ],
      "metadata": {
        "id": "9ydMDJrm2h8G"
      }
    },
    {
      "cell_type": "code",
      "source": [
        "import tensorflow_hub as hub\n",
        "\n",
        "# Load the Universal Sentence Encoder\n",
        "sentence_encoder_layer = hub.KerasLayer(\"https://tfhub.dev/google/universal-sentence-encoder/4\",\n",
        "                                        trainable=False)\n",
        "# Build the layer by specifying the input shape. Here, input_shape=[] is used\n",
        "# since the Universal Sentence Encoder expects a single string as input.\n",
        "sentence_encoder_layer.build(input_shape=[])\n",
        "\n",
        "# Now you can safely call count_params()\n",
        "print(f\"Total parameters in USE: {sentence_encoder_layer.count_params()}\")"
      ],
      "metadata": {
        "id": "B7LXRI7w6ERG",
        "colab": {
          "base_uri": "https://localhost:8080/"
        },
        "outputId": "92f3d810-ec37-4039-a7e5-16dbccf40367"
      },
      "execution_count": 84,
      "outputs": [
        {
          "output_type": "stream",
          "name": "stdout",
          "text": [
            "Total parameters in USE: 256797824\n"
          ]
        }
      ]
    },
    {
      "cell_type": "code",
      "source": [
        "!pip install tensorflow tensorflow-hub tensorflow-text"
      ],
      "metadata": {
        "id": "aXmSKxf_2lp1",
        "colab": {
          "base_uri": "https://localhost:8080/"
        },
        "outputId": "83536e6e-6420-408f-b573-fe498694172a"
      },
      "execution_count": 82,
      "outputs": [
        {
          "output_type": "stream",
          "name": "stdout",
          "text": [
            "Requirement already satisfied: tensorflow in /usr/local/lib/python3.11/dist-packages (2.18.0)\n",
            "Requirement already satisfied: tensorflow-hub in /usr/local/lib/python3.11/dist-packages (0.16.1)\n",
            "Requirement already satisfied: tensorflow-text in /usr/local/lib/python3.11/dist-packages (2.18.1)\n",
            "Requirement already satisfied: absl-py>=1.0.0 in /usr/local/lib/python3.11/dist-packages (from tensorflow) (1.4.0)\n",
            "Requirement already satisfied: astunparse>=1.6.0 in /usr/local/lib/python3.11/dist-packages (from tensorflow) (1.6.3)\n",
            "Requirement already satisfied: flatbuffers>=24.3.25 in /usr/local/lib/python3.11/dist-packages (from tensorflow) (25.2.10)\n",
            "Requirement already satisfied: gast!=0.5.0,!=0.5.1,!=0.5.2,>=0.2.1 in /usr/local/lib/python3.11/dist-packages (from tensorflow) (0.6.0)\n",
            "Requirement already satisfied: google-pasta>=0.1.1 in /usr/local/lib/python3.11/dist-packages (from tensorflow) (0.2.0)\n",
            "Requirement already satisfied: libclang>=13.0.0 in /usr/local/lib/python3.11/dist-packages (from tensorflow) (18.1.1)\n",
            "Requirement already satisfied: opt-einsum>=2.3.2 in /usr/local/lib/python3.11/dist-packages (from tensorflow) (3.4.0)\n",
            "Requirement already satisfied: packaging in /usr/local/lib/python3.11/dist-packages (from tensorflow) (24.2)\n",
            "Requirement already satisfied: protobuf!=4.21.0,!=4.21.1,!=4.21.2,!=4.21.3,!=4.21.4,!=4.21.5,<6.0.0dev,>=3.20.3 in /usr/local/lib/python3.11/dist-packages (from tensorflow) (5.29.3)\n",
            "Requirement already satisfied: requests<3,>=2.21.0 in /usr/local/lib/python3.11/dist-packages (from tensorflow) (2.32.3)\n",
            "Requirement already satisfied: setuptools in /usr/local/lib/python3.11/dist-packages (from tensorflow) (75.1.0)\n",
            "Requirement already satisfied: six>=1.12.0 in /usr/local/lib/python3.11/dist-packages (from tensorflow) (1.17.0)\n",
            "Requirement already satisfied: termcolor>=1.1.0 in /usr/local/lib/python3.11/dist-packages (from tensorflow) (2.5.0)\n",
            "Requirement already satisfied: typing-extensions>=3.6.6 in /usr/local/lib/python3.11/dist-packages (from tensorflow) (4.12.2)\n",
            "Requirement already satisfied: wrapt>=1.11.0 in /usr/local/lib/python3.11/dist-packages (from tensorflow) (1.17.2)\n",
            "Requirement already satisfied: grpcio<2.0,>=1.24.3 in /usr/local/lib/python3.11/dist-packages (from tensorflow) (1.71.0)\n",
            "Requirement already satisfied: tensorboard<2.19,>=2.18 in /usr/local/lib/python3.11/dist-packages (from tensorflow) (2.18.0)\n",
            "Requirement already satisfied: keras>=3.5.0 in /usr/local/lib/python3.11/dist-packages (from tensorflow) (3.8.0)\n",
            "Requirement already satisfied: numpy<2.1.0,>=1.26.0 in /usr/local/lib/python3.11/dist-packages (from tensorflow) (2.0.2)\n",
            "Requirement already satisfied: h5py>=3.11.0 in /usr/local/lib/python3.11/dist-packages (from tensorflow) (3.13.0)\n",
            "Requirement already satisfied: ml-dtypes<0.5.0,>=0.4.0 in /usr/local/lib/python3.11/dist-packages (from tensorflow) (0.4.1)\n",
            "Requirement already satisfied: tensorflow-io-gcs-filesystem>=0.23.1 in /usr/local/lib/python3.11/dist-packages (from tensorflow) (0.37.1)\n",
            "Requirement already satisfied: tf-keras>=2.14.1 in /usr/local/lib/python3.11/dist-packages (from tensorflow-hub) (2.18.0)\n",
            "Requirement already satisfied: wheel<1.0,>=0.23.0 in /usr/local/lib/python3.11/dist-packages (from astunparse>=1.6.0->tensorflow) (0.45.1)\n",
            "Requirement already satisfied: rich in /usr/local/lib/python3.11/dist-packages (from keras>=3.5.0->tensorflow) (13.9.4)\n",
            "Requirement already satisfied: namex in /usr/local/lib/python3.11/dist-packages (from keras>=3.5.0->tensorflow) (0.0.8)\n",
            "Requirement already satisfied: optree in /usr/local/lib/python3.11/dist-packages (from keras>=3.5.0->tensorflow) (0.14.1)\n",
            "Requirement already satisfied: charset-normalizer<4,>=2 in /usr/local/lib/python3.11/dist-packages (from requests<3,>=2.21.0->tensorflow) (3.4.1)\n",
            "Requirement already satisfied: idna<4,>=2.5 in /usr/local/lib/python3.11/dist-packages (from requests<3,>=2.21.0->tensorflow) (3.10)\n",
            "Requirement already satisfied: urllib3<3,>=1.21.1 in /usr/local/lib/python3.11/dist-packages (from requests<3,>=2.21.0->tensorflow) (2.3.0)\n",
            "Requirement already satisfied: certifi>=2017.4.17 in /usr/local/lib/python3.11/dist-packages (from requests<3,>=2.21.0->tensorflow) (2025.1.31)\n",
            "Requirement already satisfied: markdown>=2.6.8 in /usr/local/lib/python3.11/dist-packages (from tensorboard<2.19,>=2.18->tensorflow) (3.7)\n",
            "Requirement already satisfied: tensorboard-data-server<0.8.0,>=0.7.0 in /usr/local/lib/python3.11/dist-packages (from tensorboard<2.19,>=2.18->tensorflow) (0.7.2)\n",
            "Requirement already satisfied: werkzeug>=1.0.1 in /usr/local/lib/python3.11/dist-packages (from tensorboard<2.19,>=2.18->tensorflow) (3.1.3)\n",
            "Requirement already satisfied: MarkupSafe>=2.1.1 in /usr/local/lib/python3.11/dist-packages (from werkzeug>=1.0.1->tensorboard<2.19,>=2.18->tensorflow) (3.0.2)\n",
            "Requirement already satisfied: markdown-it-py>=2.2.0 in /usr/local/lib/python3.11/dist-packages (from rich->keras>=3.5.0->tensorflow) (3.0.0)\n",
            "Requirement already satisfied: pygments<3.0.0,>=2.13.0 in /usr/local/lib/python3.11/dist-packages (from rich->keras>=3.5.0->tensorflow) (2.18.0)\n",
            "Requirement already satisfied: mdurl~=0.1 in /usr/local/lib/python3.11/dist-packages (from markdown-it-py>=2.2.0->rich->keras>=3.5.0->tensorflow) (0.1.2)\n"
          ]
        }
      ]
    },
    {
      "cell_type": "code",
      "source": [
        "# Example of pretrained embedding with universal sentence encoder - https://tfhub.dev/google/universal-sentence-encoder/4\n",
        "import tensorflow_hub as hub\n",
        "embed = hub.load(\"https://tfhub.dev/google/universal-sentence-encoder/4\") # load Universal Sentence Encoder\n",
        "embed_samples = embed([sample_sentence,\n",
        "                      \"When you call the universal sentence encoder on a sentence, it turns it into numbers.\"])\n",
        "\n",
        "print(embed_samples[0][:50])"
      ],
      "metadata": {
        "id": "xx7O30KM2l8t",
        "colab": {
          "base_uri": "https://localhost:8080/"
        },
        "outputId": "7ffbd139-c3f1-43b3-96b4-a079b469685c"
      },
      "execution_count": 83,
      "outputs": [
        {
          "output_type": "stream",
          "name": "stdout",
          "text": [
            "tf.Tensor(\n",
            "[-0.01157028  0.0248591   0.02878048 -0.012715    0.03971538  0.0882776\n",
            "  0.02680984  0.05589836 -0.0106873  -0.00597291  0.00639323 -0.01819518\n",
            "  0.00030813  0.09105888  0.05874644 -0.03180628  0.01512474 -0.05162929\n",
            "  0.00991367 -0.06865347 -0.04209306  0.02678981  0.03011006  0.00321069\n",
            " -0.00337973 -0.04787357  0.0226672  -0.00985925 -0.04063613 -0.01292092\n",
            " -0.04666384  0.05630299 -0.03949255  0.00517686  0.02495829 -0.0701444\n",
            "  0.02871508  0.04947684 -0.00633979 -0.08960192  0.02807118 -0.00808364\n",
            " -0.01360602  0.0599865  -0.10361787 -0.05195374  0.00232954 -0.02332531\n",
            " -0.03758105  0.03327728], shape=(50,), dtype=float32)\n"
          ]
        }
      ]
    },
    {
      "cell_type": "code",
      "source": [
        "import tensorflow as tf\n",
        "import tensorflow_hub as hub\n",
        "\n",
        "print(\"TensorFlow Version:\", tf.__version__)\n",
        "print(\"TensorFlow Hub Version:\", hub.__version__)\n"
      ],
      "metadata": {
        "colab": {
          "base_uri": "https://localhost:8080/"
        },
        "id": "TTUbZgj-rR8h",
        "outputId": "ae7d26a4-212c-42c6-a08b-c0efc6fb88f5"
      },
      "execution_count": 96,
      "outputs": [
        {
          "output_type": "stream",
          "name": "stdout",
          "text": [
            "TensorFlow Version: 2.18.0\n",
            "TensorFlow Hub Version: 0.16.1\n"
          ]
        }
      ]
    },
    {
      "cell_type": "code",
      "source": [
        "sentence_encoder_layer = hub.KerasLayer(\"https://tfhub.dev/google/universal-sentence-encoder/4\",\n",
        "                                        input_shape=[], # shape of inputs coming to our model\n",
        "                                        dtype=tf.string, # data type of inputs coming to the USE layer\n",
        "                                        trainable=False, # keep the pretrained weights (we'll create a feature extractor)\n",
        "                                        name=\"USE\")"
      ],
      "metadata": {
        "id": "fzRP95VZqVWL"
      },
      "execution_count": 91,
      "outputs": []
    },
    {
      "cell_type": "code",
      "source": [
        "import tensorflow as tf\n",
        "import tensorflow_hub as hub\n",
        "from tensorflow.keras import layers\n",
        "\n",
        "# Load the Universal Sentence Encoder (Large version)\n",
        "sentence_encoder_layer = hub.KerasLayer(\"https://tfhub.dev/google/universal-sentence-encoder-large/5\",\n",
        "                                        dtype=tf.string,\n",
        "                                        trainable=False,  # Keep non-trainable\n",
        "                                        name=\"USE\")\n",
        "\n",
        "# Define input layer\n",
        "inputs = layers.Input(shape=(), dtype=tf.string, name=\"input_text\")\n",
        "\n",
        "# Use Lambda Layer to Wrap USE and specify output shape\n",
        "# The output shape of the USE layer is (512,).\n",
        "x = layers.Lambda(lambda x: sentence_encoder_layer(x), output_shape=(512,), name=\"USE_Lambda\")(inputs)  # ✅ FIXED\n",
        "\n",
        "# Add Dense layers\n",
        "x = layers.Dense(64, activation=\"relu\", name=\"dense_1\")(x)\n",
        "outputs = layers.Dense(1, activation=\"sigmoid\", name=\"output\")(x)\n",
        "\n",
        "# Create Model\n",
        "model_6 = tf.keras.Model(inputs=inputs, outputs=outputs, name=\"model_6_USE\")\n",
        "\n",
        "# Compile Model\n",
        "model_6.compile(loss=\"binary_crossentropy\",\n",
        "                optimizer=tf.keras.optimizers.Adam(),\n",
        "                metrics=[\"accuracy\"])\n",
        "\n",
        "# Print model summary\n",
        "model_6.summary(expand_nested=True)  # Show nested layers\n",
        "\n",
        "# Print parameter count of USE separately\n",
        "#print(f\"Total parameters in USE: {sentence_encoder_layer.count_params()}\")"
      ],
      "metadata": {
        "id": "4Ra1ei9m2md-",
        "colab": {
          "base_uri": "https://localhost:8080/",
          "height": 545
        },
        "outputId": "97b2b1c0-62df-474c-d4d0-aa6349f39127"
      },
      "execution_count": 103,
      "outputs": [
        {
          "output_type": "display_data",
          "data": {
            "text/plain": [
              "\u001b[1mModel: \"model_6_USE\"\u001b[0m\n"
            ],
            "text/html": [
              "<pre style=\"white-space:pre;overflow-x:auto;line-height:normal;font-family:Menlo,'DejaVu Sans Mono',consolas,'Courier New',monospace\"><span style=\"font-weight: bold\">Model: \"model_6_USE\"</span>\n",
              "</pre>\n"
            ]
          },
          "metadata": {}
        },
        {
          "output_type": "display_data",
          "data": {
            "text/plain": [
              "┏━━━━━━━━━━━━━━━━━━━━━━━━━━━━━━━━━━━━━━┳━━━━━━━━━━━━━━━━━━━━━━━━━━━━━┳━━━━━━━━━━━━━━━━━┓\n",
              "┃\u001b[1m \u001b[0m\u001b[1mLayer (type)                        \u001b[0m\u001b[1m \u001b[0m┃\u001b[1m \u001b[0m\u001b[1mOutput Shape               \u001b[0m\u001b[1m \u001b[0m┃\u001b[1m \u001b[0m\u001b[1m        Param #\u001b[0m\u001b[1m \u001b[0m┃\n",
              "┡━━━━━━━━━━━━━━━━━━━━━━━━━━━━━━━━━━━━━━╇━━━━━━━━━━━━━━━━━━━━━━━━━━━━━╇━━━━━━━━━━━━━━━━━┩\n",
              "│ input_text (\u001b[38;5;33mInputLayer\u001b[0m)              │ (\u001b[38;5;45mNone\u001b[0m)                      │               \u001b[38;5;34m0\u001b[0m │\n",
              "├──────────────────────────────────────┼─────────────────────────────┼─────────────────┤\n",
              "│ USE_Lambda (\u001b[38;5;33mLambda\u001b[0m)                  │ (\u001b[38;5;45mNone\u001b[0m, \u001b[38;5;34m512\u001b[0m)                 │               \u001b[38;5;34m0\u001b[0m │\n",
              "├──────────────────────────────────────┼─────────────────────────────┼─────────────────┤\n",
              "│ dense_1 (\u001b[38;5;33mDense\u001b[0m)                      │ (\u001b[38;5;45mNone\u001b[0m, \u001b[38;5;34m64\u001b[0m)                  │          \u001b[38;5;34m32,832\u001b[0m │\n",
              "├──────────────────────────────────────┼─────────────────────────────┼─────────────────┤\n",
              "│ output (\u001b[38;5;33mDense\u001b[0m)                       │ (\u001b[38;5;45mNone\u001b[0m, \u001b[38;5;34m1\u001b[0m)                   │              \u001b[38;5;34m65\u001b[0m │\n",
              "└──────────────────────────────────────┴─────────────────────────────┴─────────────────┘\n"
            ],
            "text/html": [
              "<pre style=\"white-space:pre;overflow-x:auto;line-height:normal;font-family:Menlo,'DejaVu Sans Mono',consolas,'Courier New',monospace\">┏━━━━━━━━━━━━━━━━━━━━━━━━━━━━━━━━━━━━━━┳━━━━━━━━━━━━━━━━━━━━━━━━━━━━━┳━━━━━━━━━━━━━━━━━┓\n",
              "┃<span style=\"font-weight: bold\"> Layer (type)                         </span>┃<span style=\"font-weight: bold\"> Output Shape                </span>┃<span style=\"font-weight: bold\">         Param # </span>┃\n",
              "┡━━━━━━━━━━━━━━━━━━━━━━━━━━━━━━━━━━━━━━╇━━━━━━━━━━━━━━━━━━━━━━━━━━━━━╇━━━━━━━━━━━━━━━━━┩\n",
              "│ input_text (<span style=\"color: #0087ff; text-decoration-color: #0087ff\">InputLayer</span>)              │ (<span style=\"color: #00d7ff; text-decoration-color: #00d7ff\">None</span>)                      │               <span style=\"color: #00af00; text-decoration-color: #00af00\">0</span> │\n",
              "├──────────────────────────────────────┼─────────────────────────────┼─────────────────┤\n",
              "│ USE_Lambda (<span style=\"color: #0087ff; text-decoration-color: #0087ff\">Lambda</span>)                  │ (<span style=\"color: #00d7ff; text-decoration-color: #00d7ff\">None</span>, <span style=\"color: #00af00; text-decoration-color: #00af00\">512</span>)                 │               <span style=\"color: #00af00; text-decoration-color: #00af00\">0</span> │\n",
              "├──────────────────────────────────────┼─────────────────────────────┼─────────────────┤\n",
              "│ dense_1 (<span style=\"color: #0087ff; text-decoration-color: #0087ff\">Dense</span>)                      │ (<span style=\"color: #00d7ff; text-decoration-color: #00d7ff\">None</span>, <span style=\"color: #00af00; text-decoration-color: #00af00\">64</span>)                  │          <span style=\"color: #00af00; text-decoration-color: #00af00\">32,832</span> │\n",
              "├──────────────────────────────────────┼─────────────────────────────┼─────────────────┤\n",
              "│ output (<span style=\"color: #0087ff; text-decoration-color: #0087ff\">Dense</span>)                       │ (<span style=\"color: #00d7ff; text-decoration-color: #00d7ff\">None</span>, <span style=\"color: #00af00; text-decoration-color: #00af00\">1</span>)                   │              <span style=\"color: #00af00; text-decoration-color: #00af00\">65</span> │\n",
              "└──────────────────────────────────────┴─────────────────────────────┴─────────────────┘\n",
              "</pre>\n"
            ]
          },
          "metadata": {}
        },
        {
          "output_type": "display_data",
          "data": {
            "text/plain": [
              "\u001b[1m Total params: \u001b[0m\u001b[38;5;34m32,897\u001b[0m (128.50 KB)\n"
            ],
            "text/html": [
              "<pre style=\"white-space:pre;overflow-x:auto;line-height:normal;font-family:Menlo,'DejaVu Sans Mono',consolas,'Courier New',monospace\"><span style=\"font-weight: bold\"> Total params: </span><span style=\"color: #00af00; text-decoration-color: #00af00\">32,897</span> (128.50 KB)\n",
              "</pre>\n"
            ]
          },
          "metadata": {}
        },
        {
          "output_type": "display_data",
          "data": {
            "text/plain": [
              "\u001b[1m Trainable params: \u001b[0m\u001b[38;5;34m32,897\u001b[0m (128.50 KB)\n"
            ],
            "text/html": [
              "<pre style=\"white-space:pre;overflow-x:auto;line-height:normal;font-family:Menlo,'DejaVu Sans Mono',consolas,'Courier New',monospace\"><span style=\"font-weight: bold\"> Trainable params: </span><span style=\"color: #00af00; text-decoration-color: #00af00\">32,897</span> (128.50 KB)\n",
              "</pre>\n"
            ]
          },
          "metadata": {}
        },
        {
          "output_type": "display_data",
          "data": {
            "text/plain": [
              "\u001b[1m Non-trainable params: \u001b[0m\u001b[38;5;34m0\u001b[0m (0.00 B)\n"
            ],
            "text/html": [
              "<pre style=\"white-space:pre;overflow-x:auto;line-height:normal;font-family:Menlo,'DejaVu Sans Mono',consolas,'Courier New',monospace\"><span style=\"font-weight: bold\"> Non-trainable params: </span><span style=\"color: #00af00; text-decoration-color: #00af00\">0</span> (0.00 B)\n",
              "</pre>\n"
            ]
          },
          "metadata": {}
        },
        {
          "output_type": "error",
          "ename": "ValueError",
          "evalue": "You tried to call `count_params` on layer USE, but the layer isn't built. You can build it manually via: `USE.build(batch_input_shape)`.",
          "traceback": [
            "\u001b[0;31m---------------------------------------------------------------------------\u001b[0m",
            "\u001b[0;31mValueError\u001b[0m                                Traceback (most recent call last)",
            "\u001b[0;32m<ipython-input-103-f50bd464a702>\u001b[0m in \u001b[0;36m<cell line: 0>\u001b[0;34m()\u001b[0m\n\u001b[1;32m     32\u001b[0m \u001b[0;34m\u001b[0m\u001b[0m\n\u001b[1;32m     33\u001b[0m \u001b[0;31m# Print parameter count of USE separately\u001b[0m\u001b[0;34m\u001b[0m\u001b[0;34m\u001b[0m\u001b[0m\n\u001b[0;32m---> 34\u001b[0;31m \u001b[0mprint\u001b[0m\u001b[0;34m(\u001b[0m\u001b[0;34mf\"Total parameters in USE: {sentence_encoder_layer.count_params()}\"\u001b[0m\u001b[0;34m)\u001b[0m\u001b[0;34m\u001b[0m\u001b[0;34m\u001b[0m\u001b[0m\n\u001b[0m",
            "\u001b[0;32m/usr/local/lib/python3.11/dist-packages/tf_keras/src/engine/base_layer.py\u001b[0m in \u001b[0;36mcount_params\u001b[0;34m(self)\u001b[0m\n\u001b[1;32m   2147\u001b[0m                     \u001b[0mself\u001b[0m\u001b[0;34m.\u001b[0m\u001b[0m_maybe_build\u001b[0m\u001b[0;34m(\u001b[0m\u001b[0mself\u001b[0m\u001b[0;34m.\u001b[0m\u001b[0minputs\u001b[0m\u001b[0;34m)\u001b[0m\u001b[0;34m\u001b[0m\u001b[0;34m\u001b[0m\u001b[0m\n\u001b[1;32m   2148\u001b[0m             \u001b[0;32melse\u001b[0m\u001b[0;34m:\u001b[0m\u001b[0;34m\u001b[0m\u001b[0;34m\u001b[0m\u001b[0m\n\u001b[0;32m-> 2149\u001b[0;31m                 raise ValueError(\n\u001b[0m\u001b[1;32m   2150\u001b[0m                     \u001b[0;34m\"You tried to call `count_params` \"\u001b[0m\u001b[0;34m\u001b[0m\u001b[0;34m\u001b[0m\u001b[0m\n\u001b[1;32m   2151\u001b[0m                     \u001b[0;34mf\"on layer {self.name}\"\u001b[0m\u001b[0;34m\u001b[0m\u001b[0;34m\u001b[0m\u001b[0m\n",
            "\u001b[0;31mValueError\u001b[0m: You tried to call `count_params` on layer USE, but the layer isn't built. You can build it manually via: `USE.build(batch_input_shape)`."
          ]
        }
      ]
    },
    {
      "cell_type": "code",
      "source": [
        "tf.config.run_functions_eagerly(True)\n"
      ],
      "metadata": {
        "id": "joBP3jtCsNmb"
      },
      "execution_count": 101,
      "outputs": []
    },
    {
      "cell_type": "code",
      "source": [
        "model_6_history = model_6.fit(train_sentences,\n",
        "                              train_labels,\n",
        "                              epochs=5,\n",
        "                              validation_data=(val_sentences, val_labels),\n",
        "                              callbacks=[create_tensorboard_callback(SAVE_DIR,\n",
        "                                                                     \"tf_hub_sentence_encoder\")])"
      ],
      "metadata": {
        "id": "fY7YqlAN5hZm",
        "colab": {
          "base_uri": "https://localhost:8080/"
        },
        "outputId": "aee8f60e-2919-4a8c-9330-ec845daeef75"
      },
      "execution_count": 104,
      "outputs": [
        {
          "output_type": "stream",
          "name": "stdout",
          "text": [
            "Saving TensorBoard log files to: model_logs/tf_hub_sentence_encoder/20250322-211158\n",
            "Epoch 1/5\n"
          ]
        },
        {
          "output_type": "stream",
          "name": "stderr",
          "text": [
            "/usr/local/lib/python3.11/dist-packages/tensorflow/python/data/ops/structured_function.py:258: UserWarning: Even though the `tf.config.experimental_run_functions_eagerly` option is set, this option does not apply to tf.data functions. To force eager execution of tf.data functions, please use `tf.data.experimental.enable_debug_mode()`.\n",
            "  warnings.warn(\n"
          ]
        },
        {
          "output_type": "stream",
          "name": "stdout",
          "text": [
            "\u001b[1m215/215\u001b[0m \u001b[32m━━━━━━━━━━━━━━━━━━━━\u001b[0m\u001b[37m\u001b[0m \u001b[1m78s\u001b[0m 207ms/step - accuracy: 0.7540 - loss: 0.5786 - val_accuracy: 0.8136 - val_loss: 0.4297\n",
            "Epoch 2/5\n",
            "\u001b[1m215/215\u001b[0m \u001b[32m━━━━━━━━━━━━━━━━━━━━\u001b[0m\u001b[37m\u001b[0m \u001b[1m43s\u001b[0m 181ms/step - accuracy: 0.8171 - loss: 0.4145 - val_accuracy: 0.8202 - val_loss: 0.4226\n",
            "Epoch 3/5\n",
            "\u001b[1m215/215\u001b[0m \u001b[32m━━━━━━━━━━━━━━━━━━━━\u001b[0m\u001b[37m\u001b[0m \u001b[1m41s\u001b[0m 179ms/step - accuracy: 0.8245 - loss: 0.3944 - val_accuracy: 0.8136 - val_loss: 0.4215\n",
            "Epoch 4/5\n",
            "\u001b[1m215/215\u001b[0m \u001b[32m━━━━━━━━━━━━━━━━━━━━\u001b[0m\u001b[37m\u001b[0m \u001b[1m38s\u001b[0m 176ms/step - accuracy: 0.8291 - loss: 0.3834 - val_accuracy: 0.8215 - val_loss: 0.4214\n",
            "Epoch 5/5\n",
            "\u001b[1m215/215\u001b[0m \u001b[32m━━━━━━━━━━━━━━━━━━━━\u001b[0m\u001b[37m\u001b[0m \u001b[1m43s\u001b[0m 188ms/step - accuracy: 0.8321 - loss: 0.3755 - val_accuracy: 0.8189 - val_loss: 0.4221\n"
          ]
        }
      ]
    },
    {
      "cell_type": "code",
      "source": [
        "model_6_pred_probs = model_6.predict(val_sentences)\n",
        "model_6_pred_probs[:10]"
      ],
      "metadata": {
        "colab": {
          "base_uri": "https://localhost:8080/"
        },
        "id": "0yRFvhV7st1L",
        "outputId": "09ee14d0-5734-4906-e181-dd456df63a3f"
      },
      "execution_count": 105,
      "outputs": [
        {
          "output_type": "stream",
          "name": "stdout",
          "text": [
            "\u001b[1m24/24\u001b[0m \u001b[32m━━━━━━━━━━━━━━━━━━━━\u001b[0m\u001b[37m\u001b[0m \u001b[1m1s\u001b[0m 56ms/step\n"
          ]
        },
        {
          "output_type": "execute_result",
          "data": {
            "text/plain": [
              "array([[0.23998682],\n",
              "       [0.68754846],\n",
              "       [0.99184626],\n",
              "       [0.11418606],\n",
              "       [0.7149446 ],\n",
              "       [0.7222523 ],\n",
              "       [0.9844544 ],\n",
              "       [0.95627123],\n",
              "       [0.97731143],\n",
              "       [0.19074306]], dtype=float32)"
            ]
          },
          "metadata": {},
          "execution_count": 105
        }
      ]
    },
    {
      "cell_type": "code",
      "source": [
        "model_6_preds = tf.squeeze(tf.round(model_6_pred_probs))\n",
        "model_6_preds[:10]"
      ],
      "metadata": {
        "colab": {
          "base_uri": "https://localhost:8080/"
        },
        "id": "s7w-Jp7Lsuyu",
        "outputId": "b70b867d-dfb6-4d25-89c7-bda0e8434bf9"
      },
      "execution_count": 106,
      "outputs": [
        {
          "output_type": "execute_result",
          "data": {
            "text/plain": [
              "<tf.Tensor: shape=(10,), dtype=float32, numpy=array([0., 1., 1., 0., 1., 1., 1., 1., 1., 0.], dtype=float32)>"
            ]
          },
          "metadata": {},
          "execution_count": 106
        }
      ]
    },
    {
      "cell_type": "code",
      "source": [
        "model_6_results = calculate_results(val_labels, model_6_preds)\n",
        "model_6_results"
      ],
      "metadata": {
        "colab": {
          "base_uri": "https://localhost:8080/"
        },
        "id": "BERPiSdhswur",
        "outputId": "cd307989-e602-472e-c4cf-bfb4dc9b1ba1"
      },
      "execution_count": 107,
      "outputs": [
        {
          "output_type": "execute_result",
          "data": {
            "text/plain": [
              "{'accuracy': 81.88976377952756,\n",
              " 'precision': 0.8203089036947304,\n",
              " 'recall': 0.8188976377952756,\n",
              " 'f1': 0.8177314483416845}"
            ]
          },
          "metadata": {},
          "execution_count": 107
        }
      ]
    },
    {
      "cell_type": "code",
      "source": [
        "compare_baseline_to_new_results(baseline_results, model_6_results)"
      ],
      "metadata": {
        "colab": {
          "base_uri": "https://localhost:8080/"
        },
        "id": "QSQn82QDsyX6",
        "outputId": "681dbe1a-c270-48d6-b32f-7a3144dbc5c9"
      },
      "execution_count": 108,
      "outputs": [
        {
          "output_type": "stream",
          "name": "stdout",
          "text": [
            "Baseline accuracy: 79.27, New accuracy: 81.89, Difference: 2.62\n",
            "Baseline precision: 0.81, New precision: 0.82, Difference: 0.01\n",
            "Baseline recall: 0.79, New recall: 0.82, Difference: 0.03\n",
            "Baseline f1: 0.79, New f1: 0.82, Difference: 0.03\n"
          ]
        }
      ]
    },
    {
      "cell_type": "markdown",
      "source": [
        "#Comparing the perfomance of each of our models"
      ],
      "metadata": {
        "id": "xJ3kL1ktPly1"
      }
    },
    {
      "cell_type": "code",
      "source": [
        "all_model_results = pd.DataFrame({\"baseline\": baseline_results,\n",
        "                                  \"simple_dense\": model_1_results,\n",
        "                                  \"lstm\": model_2_results,\n",
        "                                  \"gru\": model_3_results,\n",
        "                                  \"bidirectional\": model_4_results,\n",
        "                                  \"conv1d\": model_5_results,\n",
        "                                  \"tf_hub_sentence_encoder\": model_6_results,\n",
        "                                  })\n",
        "all_model_results = all_model_results.transpose()\n",
        "all_model_results"
      ],
      "metadata": {
        "id": "WHkygqY3QVjm",
        "colab": {
          "base_uri": "https://localhost:8080/",
          "height": 269
        },
        "outputId": "98872d4e-daf7-4383-e00e-0a332ceaff3e"
      },
      "execution_count": 110,
      "outputs": [
        {
          "output_type": "execute_result",
          "data": {
            "text/plain": [
              "                          accuracy  precision    recall        f1\n",
              "baseline                 79.265092   0.811139  0.792651  0.786219\n",
              "simple_dense             77.821522   0.781410  0.778215  0.775608\n",
              "lstm                     76.509186   0.766007  0.765092  0.763281\n",
              "gru                      76.377953   0.766626  0.763780  0.760927\n",
              "bidirectional            74.540682   0.745282  0.745407  0.744009\n",
              "conv1d                   78.477690   0.786763  0.784777  0.782825\n",
              "tf_hub_sentence_encoder  81.889764   0.820309  0.818898  0.817731"
            ],
            "text/html": [
              "\n",
              "  <div id=\"df-3879fb23-9a91-4242-9fd2-326b5a8cee37\" class=\"colab-df-container\">\n",
              "    <div>\n",
              "<style scoped>\n",
              "    .dataframe tbody tr th:only-of-type {\n",
              "        vertical-align: middle;\n",
              "    }\n",
              "\n",
              "    .dataframe tbody tr th {\n",
              "        vertical-align: top;\n",
              "    }\n",
              "\n",
              "    .dataframe thead th {\n",
              "        text-align: right;\n",
              "    }\n",
              "</style>\n",
              "<table border=\"1\" class=\"dataframe\">\n",
              "  <thead>\n",
              "    <tr style=\"text-align: right;\">\n",
              "      <th></th>\n",
              "      <th>accuracy</th>\n",
              "      <th>precision</th>\n",
              "      <th>recall</th>\n",
              "      <th>f1</th>\n",
              "    </tr>\n",
              "  </thead>\n",
              "  <tbody>\n",
              "    <tr>\n",
              "      <th>baseline</th>\n",
              "      <td>79.265092</td>\n",
              "      <td>0.811139</td>\n",
              "      <td>0.792651</td>\n",
              "      <td>0.786219</td>\n",
              "    </tr>\n",
              "    <tr>\n",
              "      <th>simple_dense</th>\n",
              "      <td>77.821522</td>\n",
              "      <td>0.781410</td>\n",
              "      <td>0.778215</td>\n",
              "      <td>0.775608</td>\n",
              "    </tr>\n",
              "    <tr>\n",
              "      <th>lstm</th>\n",
              "      <td>76.509186</td>\n",
              "      <td>0.766007</td>\n",
              "      <td>0.765092</td>\n",
              "      <td>0.763281</td>\n",
              "    </tr>\n",
              "    <tr>\n",
              "      <th>gru</th>\n",
              "      <td>76.377953</td>\n",
              "      <td>0.766626</td>\n",
              "      <td>0.763780</td>\n",
              "      <td>0.760927</td>\n",
              "    </tr>\n",
              "    <tr>\n",
              "      <th>bidirectional</th>\n",
              "      <td>74.540682</td>\n",
              "      <td>0.745282</td>\n",
              "      <td>0.745407</td>\n",
              "      <td>0.744009</td>\n",
              "    </tr>\n",
              "    <tr>\n",
              "      <th>conv1d</th>\n",
              "      <td>78.477690</td>\n",
              "      <td>0.786763</td>\n",
              "      <td>0.784777</td>\n",
              "      <td>0.782825</td>\n",
              "    </tr>\n",
              "    <tr>\n",
              "      <th>tf_hub_sentence_encoder</th>\n",
              "      <td>81.889764</td>\n",
              "      <td>0.820309</td>\n",
              "      <td>0.818898</td>\n",
              "      <td>0.817731</td>\n",
              "    </tr>\n",
              "  </tbody>\n",
              "</table>\n",
              "</div>\n",
              "    <div class=\"colab-df-buttons\">\n",
              "\n",
              "  <div class=\"colab-df-container\">\n",
              "    <button class=\"colab-df-convert\" onclick=\"convertToInteractive('df-3879fb23-9a91-4242-9fd2-326b5a8cee37')\"\n",
              "            title=\"Convert this dataframe to an interactive table.\"\n",
              "            style=\"display:none;\">\n",
              "\n",
              "  <svg xmlns=\"http://www.w3.org/2000/svg\" height=\"24px\" viewBox=\"0 -960 960 960\">\n",
              "    <path d=\"M120-120v-720h720v720H120Zm60-500h600v-160H180v160Zm220 220h160v-160H400v160Zm0 220h160v-160H400v160ZM180-400h160v-160H180v160Zm440 0h160v-160H620v160ZM180-180h160v-160H180v160Zm440 0h160v-160H620v160Z\"/>\n",
              "  </svg>\n",
              "    </button>\n",
              "\n",
              "  <style>\n",
              "    .colab-df-container {\n",
              "      display:flex;\n",
              "      gap: 12px;\n",
              "    }\n",
              "\n",
              "    .colab-df-convert {\n",
              "      background-color: #E8F0FE;\n",
              "      border: none;\n",
              "      border-radius: 50%;\n",
              "      cursor: pointer;\n",
              "      display: none;\n",
              "      fill: #1967D2;\n",
              "      height: 32px;\n",
              "      padding: 0 0 0 0;\n",
              "      width: 32px;\n",
              "    }\n",
              "\n",
              "    .colab-df-convert:hover {\n",
              "      background-color: #E2EBFA;\n",
              "      box-shadow: 0px 1px 2px rgba(60, 64, 67, 0.3), 0px 1px 3px 1px rgba(60, 64, 67, 0.15);\n",
              "      fill: #174EA6;\n",
              "    }\n",
              "\n",
              "    .colab-df-buttons div {\n",
              "      margin-bottom: 4px;\n",
              "    }\n",
              "\n",
              "    [theme=dark] .colab-df-convert {\n",
              "      background-color: #3B4455;\n",
              "      fill: #D2E3FC;\n",
              "    }\n",
              "\n",
              "    [theme=dark] .colab-df-convert:hover {\n",
              "      background-color: #434B5C;\n",
              "      box-shadow: 0px 1px 3px 1px rgba(0, 0, 0, 0.15);\n",
              "      filter: drop-shadow(0px 1px 2px rgba(0, 0, 0, 0.3));\n",
              "      fill: #FFFFFF;\n",
              "    }\n",
              "  </style>\n",
              "\n",
              "    <script>\n",
              "      const buttonEl =\n",
              "        document.querySelector('#df-3879fb23-9a91-4242-9fd2-326b5a8cee37 button.colab-df-convert');\n",
              "      buttonEl.style.display =\n",
              "        google.colab.kernel.accessAllowed ? 'block' : 'none';\n",
              "\n",
              "      async function convertToInteractive(key) {\n",
              "        const element = document.querySelector('#df-3879fb23-9a91-4242-9fd2-326b5a8cee37');\n",
              "        const dataTable =\n",
              "          await google.colab.kernel.invokeFunction('convertToInteractive',\n",
              "                                                    [key], {});\n",
              "        if (!dataTable) return;\n",
              "\n",
              "        const docLinkHtml = 'Like what you see? Visit the ' +\n",
              "          '<a target=\"_blank\" href=https://colab.research.google.com/notebooks/data_table.ipynb>data table notebook</a>'\n",
              "          + ' to learn more about interactive tables.';\n",
              "        element.innerHTML = '';\n",
              "        dataTable['output_type'] = 'display_data';\n",
              "        await google.colab.output.renderOutput(dataTable, element);\n",
              "        const docLink = document.createElement('div');\n",
              "        docLink.innerHTML = docLinkHtml;\n",
              "        element.appendChild(docLink);\n",
              "      }\n",
              "    </script>\n",
              "  </div>\n",
              "\n",
              "\n",
              "<div id=\"df-7afbb447-02d1-48a4-b422-204ec52c6eef\">\n",
              "  <button class=\"colab-df-quickchart\" onclick=\"quickchart('df-7afbb447-02d1-48a4-b422-204ec52c6eef')\"\n",
              "            title=\"Suggest charts\"\n",
              "            style=\"display:none;\">\n",
              "\n",
              "<svg xmlns=\"http://www.w3.org/2000/svg\" height=\"24px\"viewBox=\"0 0 24 24\"\n",
              "     width=\"24px\">\n",
              "    <g>\n",
              "        <path d=\"M19 3H5c-1.1 0-2 .9-2 2v14c0 1.1.9 2 2 2h14c1.1 0 2-.9 2-2V5c0-1.1-.9-2-2-2zM9 17H7v-7h2v7zm4 0h-2V7h2v10zm4 0h-2v-4h2v4z\"/>\n",
              "    </g>\n",
              "</svg>\n",
              "  </button>\n",
              "\n",
              "<style>\n",
              "  .colab-df-quickchart {\n",
              "      --bg-color: #E8F0FE;\n",
              "      --fill-color: #1967D2;\n",
              "      --hover-bg-color: #E2EBFA;\n",
              "      --hover-fill-color: #174EA6;\n",
              "      --disabled-fill-color: #AAA;\n",
              "      --disabled-bg-color: #DDD;\n",
              "  }\n",
              "\n",
              "  [theme=dark] .colab-df-quickchart {\n",
              "      --bg-color: #3B4455;\n",
              "      --fill-color: #D2E3FC;\n",
              "      --hover-bg-color: #434B5C;\n",
              "      --hover-fill-color: #FFFFFF;\n",
              "      --disabled-bg-color: #3B4455;\n",
              "      --disabled-fill-color: #666;\n",
              "  }\n",
              "\n",
              "  .colab-df-quickchart {\n",
              "    background-color: var(--bg-color);\n",
              "    border: none;\n",
              "    border-radius: 50%;\n",
              "    cursor: pointer;\n",
              "    display: none;\n",
              "    fill: var(--fill-color);\n",
              "    height: 32px;\n",
              "    padding: 0;\n",
              "    width: 32px;\n",
              "  }\n",
              "\n",
              "  .colab-df-quickchart:hover {\n",
              "    background-color: var(--hover-bg-color);\n",
              "    box-shadow: 0 1px 2px rgba(60, 64, 67, 0.3), 0 1px 3px 1px rgba(60, 64, 67, 0.15);\n",
              "    fill: var(--button-hover-fill-color);\n",
              "  }\n",
              "\n",
              "  .colab-df-quickchart-complete:disabled,\n",
              "  .colab-df-quickchart-complete:disabled:hover {\n",
              "    background-color: var(--disabled-bg-color);\n",
              "    fill: var(--disabled-fill-color);\n",
              "    box-shadow: none;\n",
              "  }\n",
              "\n",
              "  .colab-df-spinner {\n",
              "    border: 2px solid var(--fill-color);\n",
              "    border-color: transparent;\n",
              "    border-bottom-color: var(--fill-color);\n",
              "    animation:\n",
              "      spin 1s steps(1) infinite;\n",
              "  }\n",
              "\n",
              "  @keyframes spin {\n",
              "    0% {\n",
              "      border-color: transparent;\n",
              "      border-bottom-color: var(--fill-color);\n",
              "      border-left-color: var(--fill-color);\n",
              "    }\n",
              "    20% {\n",
              "      border-color: transparent;\n",
              "      border-left-color: var(--fill-color);\n",
              "      border-top-color: var(--fill-color);\n",
              "    }\n",
              "    30% {\n",
              "      border-color: transparent;\n",
              "      border-left-color: var(--fill-color);\n",
              "      border-top-color: var(--fill-color);\n",
              "      border-right-color: var(--fill-color);\n",
              "    }\n",
              "    40% {\n",
              "      border-color: transparent;\n",
              "      border-right-color: var(--fill-color);\n",
              "      border-top-color: var(--fill-color);\n",
              "    }\n",
              "    60% {\n",
              "      border-color: transparent;\n",
              "      border-right-color: var(--fill-color);\n",
              "    }\n",
              "    80% {\n",
              "      border-color: transparent;\n",
              "      border-right-color: var(--fill-color);\n",
              "      border-bottom-color: var(--fill-color);\n",
              "    }\n",
              "    90% {\n",
              "      border-color: transparent;\n",
              "      border-bottom-color: var(--fill-color);\n",
              "    }\n",
              "  }\n",
              "</style>\n",
              "\n",
              "  <script>\n",
              "    async function quickchart(key) {\n",
              "      const quickchartButtonEl =\n",
              "        document.querySelector('#' + key + ' button');\n",
              "      quickchartButtonEl.disabled = true;  // To prevent multiple clicks.\n",
              "      quickchartButtonEl.classList.add('colab-df-spinner');\n",
              "      try {\n",
              "        const charts = await google.colab.kernel.invokeFunction(\n",
              "            'suggestCharts', [key], {});\n",
              "      } catch (error) {\n",
              "        console.error('Error during call to suggestCharts:', error);\n",
              "      }\n",
              "      quickchartButtonEl.classList.remove('colab-df-spinner');\n",
              "      quickchartButtonEl.classList.add('colab-df-quickchart-complete');\n",
              "    }\n",
              "    (() => {\n",
              "      let quickchartButtonEl =\n",
              "        document.querySelector('#df-7afbb447-02d1-48a4-b422-204ec52c6eef button');\n",
              "      quickchartButtonEl.style.display =\n",
              "        google.colab.kernel.accessAllowed ? 'block' : 'none';\n",
              "    })();\n",
              "  </script>\n",
              "</div>\n",
              "\n",
              "  <div id=\"id_1ceafb06-b313-4815-9211-45b1c31ad025\">\n",
              "    <style>\n",
              "      .colab-df-generate {\n",
              "        background-color: #E8F0FE;\n",
              "        border: none;\n",
              "        border-radius: 50%;\n",
              "        cursor: pointer;\n",
              "        display: none;\n",
              "        fill: #1967D2;\n",
              "        height: 32px;\n",
              "        padding: 0 0 0 0;\n",
              "        width: 32px;\n",
              "      }\n",
              "\n",
              "      .colab-df-generate:hover {\n",
              "        background-color: #E2EBFA;\n",
              "        box-shadow: 0px 1px 2px rgba(60, 64, 67, 0.3), 0px 1px 3px 1px rgba(60, 64, 67, 0.15);\n",
              "        fill: #174EA6;\n",
              "      }\n",
              "\n",
              "      [theme=dark] .colab-df-generate {\n",
              "        background-color: #3B4455;\n",
              "        fill: #D2E3FC;\n",
              "      }\n",
              "\n",
              "      [theme=dark] .colab-df-generate:hover {\n",
              "        background-color: #434B5C;\n",
              "        box-shadow: 0px 1px 3px 1px rgba(0, 0, 0, 0.15);\n",
              "        filter: drop-shadow(0px 1px 2px rgba(0, 0, 0, 0.3));\n",
              "        fill: #FFFFFF;\n",
              "      }\n",
              "    </style>\n",
              "    <button class=\"colab-df-generate\" onclick=\"generateWithVariable('all_model_results')\"\n",
              "            title=\"Generate code using this dataframe.\"\n",
              "            style=\"display:none;\">\n",
              "\n",
              "  <svg xmlns=\"http://www.w3.org/2000/svg\" height=\"24px\"viewBox=\"0 0 24 24\"\n",
              "       width=\"24px\">\n",
              "    <path d=\"M7,19H8.4L18.45,9,17,7.55,7,17.6ZM5,21V16.75L18.45,3.32a2,2,0,0,1,2.83,0l1.4,1.43a1.91,1.91,0,0,1,.58,1.4,1.91,1.91,0,0,1-.58,1.4L9.25,21ZM18.45,9,17,7.55Zm-12,3A5.31,5.31,0,0,0,4.9,8.1,5.31,5.31,0,0,0,1,6.5,5.31,5.31,0,0,0,4.9,4.9,5.31,5.31,0,0,0,6.5,1,5.31,5.31,0,0,0,8.1,4.9,5.31,5.31,0,0,0,12,6.5,5.46,5.46,0,0,0,6.5,12Z\"/>\n",
              "  </svg>\n",
              "    </button>\n",
              "    <script>\n",
              "      (() => {\n",
              "      const buttonEl =\n",
              "        document.querySelector('#id_1ceafb06-b313-4815-9211-45b1c31ad025 button.colab-df-generate');\n",
              "      buttonEl.style.display =\n",
              "        google.colab.kernel.accessAllowed ? 'block' : 'none';\n",
              "\n",
              "      buttonEl.onclick = () => {\n",
              "        google.colab.notebook.generateWithVariable('all_model_results');\n",
              "      }\n",
              "      })();\n",
              "    </script>\n",
              "  </div>\n",
              "\n",
              "    </div>\n",
              "  </div>\n"
            ],
            "application/vnd.google.colaboratory.intrinsic+json": {
              "type": "dataframe",
              "variable_name": "all_model_results",
              "summary": "{\n  \"name\": \"all_model_results\",\n  \"rows\": 7,\n  \"fields\": [\n    {\n      \"column\": \"accuracy\",\n      \"properties\": {\n        \"dtype\": \"number\",\n        \"std\": 2.3675798806570922,\n        \"min\": 74.54068241469817,\n        \"max\": 81.88976377952756,\n        \"num_unique_values\": 7,\n        \"samples\": [\n          79.26509186351706,\n          77.82152230971128,\n          78.4776902887139\n        ],\n        \"semantic_type\": \"\",\n        \"description\": \"\"\n      }\n    },\n    {\n      \"column\": \"precision\",\n      \"properties\": {\n        \"dtype\": \"number\",\n        \"std\": 0.0263888546817244,\n        \"min\": 0.745282272536504,\n        \"max\": 0.8203089036947304,\n        \"num_unique_values\": 7,\n        \"samples\": [\n          0.8111390004213173,\n          0.7814103276314137,\n          0.7867627887573655\n        ],\n        \"semantic_type\": \"\",\n        \"description\": \"\"\n      }\n    },\n    {\n      \"column\": \"recall\",\n      \"properties\": {\n        \"dtype\": \"number\",\n        \"std\": 0.02367579880657093,\n        \"min\": 0.7454068241469817,\n        \"max\": 0.8188976377952756,\n        \"num_unique_values\": 7,\n        \"samples\": [\n          0.7926509186351706,\n          0.7782152230971129,\n          0.7847769028871391\n        ],\n        \"semantic_type\": \"\",\n        \"description\": \"\"\n      }\n    },\n    {\n      \"column\": \"f1\",\n      \"properties\": {\n        \"dtype\": \"number\",\n        \"std\": 0.02346913872193747,\n        \"min\": 0.7440086660503945,\n        \"max\": 0.8177314483416845,\n        \"num_unique_values\": 7,\n        \"samples\": [\n          0.7862189758049549,\n          0.7756075024838145,\n          0.7828250820874111\n        ],\n        \"semantic_type\": \"\",\n        \"description\": \"\"\n      }\n    }\n  ]\n}"
            }
          },
          "metadata": {},
          "execution_count": 110
        }
      ]
    },
    {
      "cell_type": "code",
      "source": [
        "all_model_results[\"accuracy\"] = all_model_results[\"accuracy\"]/100;\n",
        "all_model_results.plot(kind=\"bar\", figsize=(10, 7)).legend(bbox_to_anchor=(1.0, 1.0));"
      ],
      "metadata": {
        "id": "-3_w30G-Qc1c",
        "colab": {
          "base_uri": "https://localhost:8080/",
          "height": 763
        },
        "outputId": "0738ea66-f235-42a3-b1a9-4866c62e9323"
      },
      "execution_count": 111,
      "outputs": [
        {
          "output_type": "display_data",
          "data": {
            "text/plain": [
              "<Figure size 1000x700 with 1 Axes>"
            ],
            "image/png": "[encoded data removed]"
          },
          "metadata": {}
        }
      ]
    },
    {
      "cell_type": "code",
      "source": [
        "all_model_results.sort_values(\"f1\", ascending=False)[\"f1\"].plot(kind=\"bar\", figsize=(10, 7));"
      ],
      "metadata": {
        "id": "c-3Mi2-1QeQc",
        "colab": {
          "base_uri": "https://localhost:8080/",
          "height": 763
        },
        "outputId": "2d196988-4e7a-4a76-c2fa-688b56be3688"
      },
      "execution_count": 112,
      "outputs": [
        {
          "output_type": "display_data",
          "data": {
            "text/plain": [
              "<Figure size 1000x700 with 1 Axes>"
            ],
            "image/png": "[encoded data removed]"
          },
          "metadata": {}
        }
      ]
    },
    {
      "cell_type": "markdown",
      "source": [
        "#Ensembling our models"
      ],
      "metadata": {
        "id": "iH-FxaVZQhFN"
      }
    },
    {
      "cell_type": "code",
      "source": [
        "baseline_pred_probs = np.max(model_0.predict_proba(val_sentences), axis=1) # get the prediction probabilities from baseline model\n",
        "combined_pred_probs = baseline_pred_probs + tf.squeeze(model_2_pred_probs, axis=1) + tf.squeeze(model_6_pred_probs)\n",
        "combined_preds = tf.round(combined_pred_probs/3) # average and round the prediction probabilities to get prediction classes\n",
        "combined_preds[:20]"
      ],
      "metadata": {
        "id": "tDtI33OWQouN",
        "colab": {
          "base_uri": "https://localhost:8080/"
        },
        "outputId": "371ce4cd-11f7-4428-8c0c-366488060553"
      },
      "execution_count": 113,
      "outputs": [
        {
          "output_type": "execute_result",
          "data": {
            "text/plain": [
              "<tf.Tensor: shape=(20,), dtype=float32, numpy=\n",
              "array([0., 1., 1., 0., 0., 1., 1., 1., 1., 0., 0., 1., 0., 1., 0., 0., 0.,\n",
              "       0., 0., 1.], dtype=float32)>"
            ]
          },
          "metadata": {},
          "execution_count": 113
        }
      ]
    },
    {
      "cell_type": "code",
      "source": [
        "ensemble_results = calculate_results(val_labels, combined_preds)\n",
        "ensemble_results"
      ],
      "metadata": {
        "id": "NABw0tQnQq_G",
        "colab": {
          "base_uri": "https://localhost:8080/"
        },
        "outputId": "b053655b-f18b-44f6-f053-ca2a85fa5884"
      },
      "execution_count": 114,
      "outputs": [
        {
          "output_type": "execute_result",
          "data": {
            "text/plain": [
              "{'accuracy': 79.92125984251969,\n",
              " 'precision': 0.7989657478091081,\n",
              " 'recall': 0.7992125984251969,\n",
              " 'f1': 0.7989768992638423}"
            ]
          },
          "metadata": {},
          "execution_count": 114
        }
      ]
    },
    {
      "cell_type": "code",
      "source": [
        "all_model_results.loc[\"ensemble_results\"] = ensemble_results"
      ],
      "metadata": {
        "id": "seZr9sn4RARk"
      },
      "execution_count": 115,
      "outputs": []
    },
    {
      "cell_type": "code",
      "source": [
        "all_model_results.loc[\"ensemble_results\"][\"accuracy\"] = all_model_results.loc[\"ensemble_results\"][\"accuracy\"]/100"
      ],
      "metadata": {
        "id": "k57GC_iWRB5s",
        "colab": {
          "base_uri": "https://localhost:8080/"
        },
        "outputId": "2d0fde9c-fd90-4242-c5e6-0a6e030f9e1b"
      },
      "execution_count": 116,
      "outputs": [
        {
          "output_type": "stream",
          "name": "stderr",
          "text": [
            "<ipython-input-116-5bfc9ea95ee8>:1: SettingWithCopyWarning: \n",
            "A value is trying to be set on a copy of a slice from a DataFrame\n",
            "\n",
            "See the caveats in the documentation: https://pandas.pydata.org/pandas-docs/stable/user_guide/indexing.html#returning-a-view-versus-a-copy\n",
            "  all_model_results.loc[\"ensemble_results\"][\"accuracy\"] = all_model_results.loc[\"ensemble_results\"][\"accuracy\"]/100\n"
          ]
        }
      ]
    },
    {
      "cell_type": "code",
      "source": [
        "all_model_results"
      ],
      "metadata": {
        "id": "pi_y-H8bRDak",
        "colab": {
          "base_uri": "https://localhost:8080/",
          "height": 300
        },
        "outputId": "8963b34f-e650-4769-9319-403b941084a9"
      },
      "execution_count": 117,
      "outputs": [
        {
          "output_type": "execute_result",
          "data": {
            "text/plain": [
              "                          accuracy  precision    recall        f1\n",
              "baseline                  0.792651   0.811139  0.792651  0.786219\n",
              "simple_dense              0.778215   0.781410  0.778215  0.775608\n",
              "lstm                      0.765092   0.766007  0.765092  0.763281\n",
              "gru                       0.763780   0.766626  0.763780  0.760927\n",
              "bidirectional             0.745407   0.745282  0.745407  0.744009\n",
              "conv1d                    0.784777   0.786763  0.784777  0.782825\n",
              "tf_hub_sentence_encoder   0.818898   0.820309  0.818898  0.817731\n",
              "ensemble_results         79.921260   0.798966  0.799213  0.798977"
            ],
            "text/html": [
              "\n",
              "  <div id=\"df-131b869d-1d8d-48e2-baa2-e3070e9f5edb\" class=\"colab-df-container\">\n",
              "    <div>\n",
              "<style scoped>\n",
              "    .dataframe tbody tr th:only-of-type {\n",
              "        vertical-align: middle;\n",
              "    }\n",
              "\n",
              "    .dataframe tbody tr th {\n",
              "        vertical-align: top;\n",
              "    }\n",
              "\n",
              "    .dataframe thead th {\n",
              "        text-align: right;\n",
              "    }\n",
              "</style>\n",
              "<table border=\"1\" class=\"dataframe\">\n",
              "  <thead>\n",
              "    <tr style=\"text-align: right;\">\n",
              "      <th></th>\n",
              "      <th>accuracy</th>\n",
              "      <th>precision</th>\n",
              "      <th>recall</th>\n",
              "      <th>f1</th>\n",
              "    </tr>\n",
              "  </thead>\n",
              "  <tbody>\n",
              "    <tr>\n",
              "      <th>baseline</th>\n",
              "      <td>0.792651</td>\n",
              "      <td>0.811139</td>\n",
              "      <td>0.792651</td>\n",
              "      <td>0.786219</td>\n",
              "    </tr>\n",
              "    <tr>\n",
              "      <th>simple_dense</th>\n",
              "      <td>0.778215</td>\n",
              "      <td>0.781410</td>\n",
              "      <td>0.778215</td>\n",
              "      <td>0.775608</td>\n",
              "    </tr>\n",
              "    <tr>\n",
              "      <th>lstm</th>\n",
              "      <td>0.765092</td>\n",
              "      <td>0.766007</td>\n",
              "      <td>0.765092</td>\n",
              "      <td>0.763281</td>\n",
              "    </tr>\n",
              "    <tr>\n",
              "      <th>gru</th>\n",
              "      <td>0.763780</td>\n",
              "      <td>0.766626</td>\n",
              "      <td>0.763780</td>\n",
              "      <td>0.760927</td>\n",
              "    </tr>\n",
              "    <tr>\n",
              "      <th>bidirectional</th>\n",
              "      <td>0.745407</td>\n",
              "      <td>0.745282</td>\n",
              "      <td>0.745407</td>\n",
              "      <td>0.744009</td>\n",
              "    </tr>\n",
              "    <tr>\n",
              "      <th>conv1d</th>\n",
              "      <td>0.784777</td>\n",
              "      <td>0.786763</td>\n",
              "      <td>0.784777</td>\n",
              "      <td>0.782825</td>\n",
              "    </tr>\n",
              "    <tr>\n",
              "      <th>tf_hub_sentence_encoder</th>\n",
              "      <td>0.818898</td>\n",
              "      <td>0.820309</td>\n",
              "      <td>0.818898</td>\n",
              "      <td>0.817731</td>\n",
              "    </tr>\n",
              "    <tr>\n",
              "      <th>ensemble_results</th>\n",
              "      <td>79.921260</td>\n",
              "      <td>0.798966</td>\n",
              "      <td>0.799213</td>\n",
              "      <td>0.798977</td>\n",
              "    </tr>\n",
              "  </tbody>\n",
              "</table>\n",
              "</div>\n",
              "    <div class=\"colab-df-buttons\">\n",
              "\n",
              "  <div class=\"colab-df-container\">\n",
              "    <button class=\"colab-df-convert\" onclick=\"convertToInteractive('df-131b869d-1d8d-48e2-baa2-e3070e9f5edb')\"\n",
              "            title=\"Convert this dataframe to an interactive table.\"\n",
              "            style=\"display:none;\">\n",
              "\n",
              "  <svg xmlns=\"http://www.w3.org/2000/svg\" height=\"24px\" viewBox=\"0 -960 960 960\">\n",
              "    <path d=\"M120-120v-720h720v720H120Zm60-500h600v-160H180v160Zm220 220h160v-160H400v160Zm0 220h160v-160H400v160ZM180-400h160v-160H180v160Zm440 0h160v-160H620v160ZM180-180h160v-160H180v160Zm440 0h160v-160H620v160Z\"/>\n",
              "  </svg>\n",
              "    </button>\n",
              "\n",
              "  <style>\n",
              "    .colab-df-container {\n",
              "      display:flex;\n",
              "      gap: 12px;\n",
              "    }\n",
              "\n",
              "    .colab-df-convert {\n",
              "      background-color: #E8F0FE;\n",
              "      border: none;\n",
              "      border-radius: 50%;\n",
              "      cursor: pointer;\n",
              "      display: none;\n",
              "      fill: #1967D2;\n",
              "      height: 32px;\n",
              "      padding: 0 0 0 0;\n",
              "      width: 32px;\n",
              "    }\n",
              "\n",
              "    .colab-df-convert:hover {\n",
              "      background-color: #E2EBFA;\n",
              "      box-shadow: 0px 1px 2px rgba(60, 64, 67, 0.3), 0px 1px 3px 1px rgba(60, 64, 67, 0.15);\n",
              "      fill: #174EA6;\n",
              "    }\n",
              "\n",
              "    .colab-df-buttons div {\n",
              "      margin-bottom: 4px;\n",
              "    }\n",
              "\n",
              "    [theme=dark] .colab-df-convert {\n",
              "      background-color: #3B4455;\n",
              "      fill: #D2E3FC;\n",
              "    }\n",
              "\n",
              "    [theme=dark] .colab-df-convert:hover {\n",
              "      background-color: #434B5C;\n",
              "      box-shadow: 0px 1px 3px 1px rgba(0, 0, 0, 0.15);\n",
              "      filter: drop-shadow(0px 1px 2px rgba(0, 0, 0, 0.3));\n",
              "      fill: #FFFFFF;\n",
              "    }\n",
              "  </style>\n",
              "\n",
              "    <script>\n",
              "      const buttonEl =\n",
              "        document.querySelector('#df-131b869d-1d8d-48e2-baa2-e3070e9f5edb button.colab-df-convert');\n",
              "      buttonEl.style.display =\n",
              "        google.colab.kernel.accessAllowed ? 'block' : 'none';\n",
              "\n",
              "      async function convertToInteractive(key) {\n",
              "        const element = document.querySelector('#df-131b869d-1d8d-48e2-baa2-e3070e9f5edb');\n",
              "        const dataTable =\n",
              "          await google.colab.kernel.invokeFunction('convertToInteractive',\n",
              "                                                    [key], {});\n",
              "        if (!dataTable) return;\n",
              "\n",
              "        const docLinkHtml = 'Like what you see? Visit the ' +\n",
              "          '<a target=\"_blank\" href=https://colab.research.google.com/notebooks/data_table.ipynb>data table notebook</a>'\n",
              "          + ' to learn more about interactive tables.';\n",
              "        element.innerHTML = '';\n",
              "        dataTable['output_type'] = 'display_data';\n",
              "        await google.colab.output.renderOutput(dataTable, element);\n",
              "        const docLink = document.createElement('div');\n",
              "        docLink.innerHTML = docLinkHtml;\n",
              "        element.appendChild(docLink);\n",
              "      }\n",
              "    </script>\n",
              "  </div>\n",
              "\n",
              "\n",
              "<div id=\"df-26a044dc-4884-4347-b7b6-2607b5cd6d9f\">\n",
              "  <button class=\"colab-df-quickchart\" onclick=\"quickchart('df-26a044dc-4884-4347-b7b6-2607b5cd6d9f')\"\n",
              "            title=\"Suggest charts\"\n",
              "            style=\"display:none;\">\n",
              "\n",
              "<svg xmlns=\"http://www.w3.org/2000/svg\" height=\"24px\"viewBox=\"0 0 24 24\"\n",
              "     width=\"24px\">\n",
              "    <g>\n",
              "        <path d=\"M19 3H5c-1.1 0-2 .9-2 2v14c0 1.1.9 2 2 2h14c1.1 0 2-.9 2-2V5c0-1.1-.9-2-2-2zM9 17H7v-7h2v7zm4 0h-2V7h2v10zm4 0h-2v-4h2v4z\"/>\n",
              "    </g>\n",
              "</svg>\n",
              "  </button>\n",
              "\n",
              "<style>\n",
              "  .colab-df-quickchart {\n",
              "      --bg-color: #E8F0FE;\n",
              "      --fill-color: #1967D2;\n",
              "      --hover-bg-color: #E2EBFA;\n",
              "      --hover-fill-color: #174EA6;\n",
              "      --disabled-fill-color: #AAA;\n",
              "      --disabled-bg-color: #DDD;\n",
              "  }\n",
              "\n",
              "  [theme=dark] .colab-df-quickchart {\n",
              "      --bg-color: #3B4455;\n",
              "      --fill-color: #D2E3FC;\n",
              "      --hover-bg-color: #434B5C;\n",
              "      --hover-fill-color: #FFFFFF;\n",
              "      --disabled-bg-color: #3B4455;\n",
              "      --disabled-fill-color: #666;\n",
              "  }\n",
              "\n",
              "  .colab-df-quickchart {\n",
              "    background-color: var(--bg-color);\n",
              "    border: none;\n",
              "    border-radius: 50%;\n",
              "    cursor: pointer;\n",
              "    display: none;\n",
              "    fill: var(--fill-color);\n",
              "    height: 32px;\n",
              "    padding: 0;\n",
              "    width: 32px;\n",
              "  }\n",
              "\n",
              "  .colab-df-quickchart:hover {\n",
              "    background-color: var(--hover-bg-color);\n",
              "    box-shadow: 0 1px 2px rgba(60, 64, 67, 0.3), 0 1px 3px 1px rgba(60, 64, 67, 0.15);\n",
              "    fill: var(--button-hover-fill-color);\n",
              "  }\n",
              "\n",
              "  .colab-df-quickchart-complete:disabled,\n",
              "  .colab-df-quickchart-complete:disabled:hover {\n",
              "    background-color: var(--disabled-bg-color);\n",
              "    fill: var(--disabled-fill-color);\n",
              "    box-shadow: none;\n",
              "  }\n",
              "\n",
              "  .colab-df-spinner {\n",
              "    border: 2px solid var(--fill-color);\n",
              "    border-color: transparent;\n",
              "    border-bottom-color: var(--fill-color);\n",
              "    animation:\n",
              "      spin 1s steps(1) infinite;\n",
              "  }\n",
              "\n",
              "  @keyframes spin {\n",
              "    0% {\n",
              "      border-color: transparent;\n",
              "      border-bottom-color: var(--fill-color);\n",
              "      border-left-color: var(--fill-color);\n",
              "    }\n",
              "    20% {\n",
              "      border-color: transparent;\n",
              "      border-left-color: var(--fill-color);\n",
              "      border-top-color: var(--fill-color);\n",
              "    }\n",
              "    30% {\n",
              "      border-color: transparent;\n",
              "      border-left-color: var(--fill-color);\n",
              "      border-top-color: var(--fill-color);\n",
              "      border-right-color: var(--fill-color);\n",
              "    }\n",
              "    40% {\n",
              "      border-color: transparent;\n",
              "      border-right-color: var(--fill-color);\n",
              "      border-top-color: var(--fill-color);\n",
              "    }\n",
              "    60% {\n",
              "      border-color: transparent;\n",
              "      border-right-color: var(--fill-color);\n",
              "    }\n",
              "    80% {\n",
              "      border-color: transparent;\n",
              "      border-right-color: var(--fill-color);\n",
              "      border-bottom-color: var(--fill-color);\n",
              "    }\n",
              "    90% {\n",
              "      border-color: transparent;\n",
              "      border-bottom-color: var(--fill-color);\n",
              "    }\n",
              "  }\n",
              "</style>\n",
              "\n",
              "  <script>\n",
              "    async function quickchart(key) {\n",
              "      const quickchartButtonEl =\n",
              "        document.querySelector('#' + key + ' button');\n",
              "      quickchartButtonEl.disabled = true;  // To prevent multiple clicks.\n",
              "      quickchartButtonEl.classList.add('colab-df-spinner');\n",
              "      try {\n",
              "        const charts = await google.colab.kernel.invokeFunction(\n",
              "            'suggestCharts', [key], {});\n",
              "      } catch (error) {\n",
              "        console.error('Error during call to suggestCharts:', error);\n",
              "      }\n",
              "      quickchartButtonEl.classList.remove('colab-df-spinner');\n",
              "      quickchartButtonEl.classList.add('colab-df-quickchart-complete');\n",
              "    }\n",
              "    (() => {\n",
              "      let quickchartButtonEl =\n",
              "        document.querySelector('#df-26a044dc-4884-4347-b7b6-2607b5cd6d9f button');\n",
              "      quickchartButtonEl.style.display =\n",
              "        google.colab.kernel.accessAllowed ? 'block' : 'none';\n",
              "    })();\n",
              "  </script>\n",
              "</div>\n",
              "\n",
              "  <div id=\"id_77909d7c-b649-4462-8e37-551cb1cde41e\">\n",
              "    <style>\n",
              "      .colab-df-generate {\n",
              "        background-color: #E8F0FE;\n",
              "        border: none;\n",
              "        border-radius: 50%;\n",
              "        cursor: pointer;\n",
              "        display: none;\n",
              "        fill: #1967D2;\n",
              "        height: 32px;\n",
              "        padding: 0 0 0 0;\n",
              "        width: 32px;\n",
              "      }\n",
              "\n",
              "      .colab-df-generate:hover {\n",
              "        background-color: #E2EBFA;\n",
              "        box-shadow: 0px 1px 2px rgba(60, 64, 67, 0.3), 0px 1px 3px 1px rgba(60, 64, 67, 0.15);\n",
              "        fill: #174EA6;\n",
              "      }\n",
              "\n",
              "      [theme=dark] .colab-df-generate {\n",
              "        background-color: #3B4455;\n",
              "        fill: #D2E3FC;\n",
              "      }\n",
              "\n",
              "      [theme=dark] .colab-df-generate:hover {\n",
              "        background-color: #434B5C;\n",
              "        box-shadow: 0px 1px 3px 1px rgba(0, 0, 0, 0.15);\n",
              "        filter: drop-shadow(0px 1px 2px rgba(0, 0, 0, 0.3));\n",
              "        fill: #FFFFFF;\n",
              "      }\n",
              "    </style>\n",
              "    <button class=\"colab-df-generate\" onclick=\"generateWithVariable('all_model_results')\"\n",
              "            title=\"Generate code using this dataframe.\"\n",
              "            style=\"display:none;\">\n",
              "\n",
              "  <svg xmlns=\"http://www.w3.org/2000/svg\" height=\"24px\"viewBox=\"0 0 24 24\"\n",
              "       width=\"24px\">\n",
              "    <path d=\"M7,19H8.4L18.45,9,17,7.55,7,17.6ZM5,21V16.75L18.45,3.32a2,2,0,0,1,2.83,0l1.4,1.43a1.91,1.91,0,0,1,.58,1.4,1.91,1.91,0,0,1-.58,1.4L9.25,21ZM18.45,9,17,7.55Zm-12,3A5.31,5.31,0,0,0,4.9,8.1,5.31,5.31,0,0,0,1,6.5,5.31,5.31,0,0,0,4.9,4.9,5.31,5.31,0,0,0,6.5,1,5.31,5.31,0,0,0,8.1,4.9,5.31,5.31,0,0,0,12,6.5,5.46,5.46,0,0,0,6.5,12Z\"/>\n",
              "  </svg>\n",
              "    </button>\n",
              "    <script>\n",
              "      (() => {\n",
              "      const buttonEl =\n",
              "        document.querySelector('#id_77909d7c-b649-4462-8e37-551cb1cde41e button.colab-df-generate');\n",
              "      buttonEl.style.display =\n",
              "        google.colab.kernel.accessAllowed ? 'block' : 'none';\n",
              "\n",
              "      buttonEl.onclick = () => {\n",
              "        google.colab.notebook.generateWithVariable('all_model_results');\n",
              "      }\n",
              "      })();\n",
              "    </script>\n",
              "  </div>\n",
              "\n",
              "    </div>\n",
              "  </div>\n"
            ],
            "application/vnd.google.colaboratory.intrinsic+json": {
              "type": "dataframe",
              "variable_name": "all_model_results",
              "summary": "{\n  \"name\": \"all_model_results\",\n  \"rows\": 8,\n  \"fields\": [\n    {\n      \"column\": \"accuracy\",\n      \"properties\": {\n        \"dtype\": \"number\",\n        \"std\": 27.98123406959833,\n        \"min\": 0.7454068241469817,\n        \"max\": 79.92125984251969,\n        \"num_unique_values\": 8,\n        \"samples\": [\n          0.7782152230971129,\n          0.784776902887139,\n          0.7926509186351706\n        ],\n        \"semantic_type\": \"\",\n        \"description\": \"\"\n      }\n    },\n    {\n      \"column\": \"precision\",\n      \"properties\": {\n        \"dtype\": \"number\",\n        \"std\": 0.025114912193314243,\n        \"min\": 0.745282272536504,\n        \"max\": 0.8203089036947304,\n        \"num_unique_values\": 8,\n        \"samples\": [\n          0.7814103276314137,\n          0.7867627887573655,\n          0.8111390004213173\n        ],\n        \"semantic_type\": \"\",\n        \"description\": \"\"\n      }\n    },\n    {\n      \"column\": \"recall\",\n      \"properties\": {\n        \"dtype\": \"number\",\n        \"std\": 0.02312136024011841,\n        \"min\": 0.7454068241469817,\n        \"max\": 0.8188976377952756,\n        \"num_unique_values\": 8,\n        \"samples\": [\n          0.7782152230971129,\n          0.7847769028871391,\n          0.7926509186351706\n        ],\n        \"semantic_type\": \"\",\n        \"description\": \"\"\n      }\n    },\n    {\n      \"column\": \"f1\",\n      \"properties\": {\n        \"dtype\": \"number\",\n        \"std\": 0.02322198915469687,\n        \"min\": 0.7440086660503945,\n        \"max\": 0.8177314483416845,\n        \"num_unique_values\": 8,\n        \"samples\": [\n          0.7756075024838145,\n          0.7828250820874111,\n          0.7862189758049549\n        ],\n        \"semantic_type\": \"\",\n        \"description\": \"\"\n      }\n    }\n  ]\n}"
            }
          },
          "metadata": {},
          "execution_count": 117
        }
      ]
    },
    {
      "cell_type": "markdown",
      "source": [
        "#Finding the most wrong examples"
      ],
      "metadata": {
        "id": "prNKHK2GRFAN"
      }
    },
    {
      "cell_type": "code",
      "source": [
        "val_df = pd.DataFrame({\"text\": val_sentences,\n",
        "                       \"target\": val_labels,\n",
        "                       \"pred\": model_1_preds,\n",
        "                       \"pred_prob\": tf.squeeze(model_1_pred_probs)})\n",
        "val_df.head()"
      ],
      "metadata": {
        "id": "jnTO6sWvRP3F",
        "colab": {
          "base_uri": "https://localhost:8080/",
          "height": 206
        },
        "outputId": "dcff44bd-53cc-4575-e989-ae00d3428bb6"
      },
      "execution_count": 118,
      "outputs": [
        {
          "output_type": "execute_result",
          "data": {
            "text/plain": [
              "                                                text  target  pred  pred_prob\n",
              "0  DFR EP016 Monthly Meltdown - On Dnbheaven 2015...       0   0.0   0.333493\n",
              "1  FedEx no longer to transport bioterror germs i...       0   1.0   0.735085\n",
              "2  Gunmen kill four in El Salvador bus attack: Su...       1   1.0   0.997529\n",
              "3  @camilacabello97 Internally and externally scr...       1   0.0   0.187171\n",
              "4  Radiation emergency #preparedness starts with ...       1   0.0   0.098890"
            ],
            "text/html": [
              "\n",
              "  <div id=\"df-aa633016-25bd-47bd-bc0a-bef4174b463c\" class=\"colab-df-container\">\n",
              "    <div>\n",
              "<style scoped>\n",
              "    .dataframe tbody tr th:only-of-type {\n",
              "        vertical-align: middle;\n",
              "    }\n",
              "\n",
              "    .dataframe tbody tr th {\n",
              "        vertical-align: top;\n",
              "    }\n",
              "\n",
              "    .dataframe thead th {\n",
              "        text-align: right;\n",
              "    }\n",
              "</style>\n",
              "<table border=\"1\" class=\"dataframe\">\n",
              "  <thead>\n",
              "    <tr style=\"text-align: right;\">\n",
              "      <th></th>\n",
              "      <th>text</th>\n",
              "      <th>target</th>\n",
              "      <th>pred</th>\n",
              "      <th>pred_prob</th>\n",
              "    </tr>\n",
              "  </thead>\n",
              "  <tbody>\n",
              "    <tr>\n",
              "      <th>0</th>\n",
              "      <td>DFR EP016 Monthly Meltdown - On Dnbheaven 2015...</td>\n",
              "      <td>0</td>\n",
              "      <td>0.0</td>\n",
              "      <td>0.333493</td>\n",
              "    </tr>\n",
              "    <tr>\n",
              "      <th>1</th>\n",
              "      <td>FedEx no longer to transport bioterror germs i...</td>\n",
              "      <td>0</td>\n",
              "      <td>1.0</td>\n",
              "      <td>0.735085</td>\n",
              "    </tr>\n",
              "    <tr>\n",
              "      <th>2</th>\n",
              "      <td>Gunmen kill four in El Salvador bus attack: Su...</td>\n",
              "      <td>1</td>\n",
              "      <td>1.0</td>\n",
              "      <td>0.997529</td>\n",
              "    </tr>\n",
              "    <tr>\n",
              "      <th>3</th>\n",
              "      <td>@camilacabello97 Internally and externally scr...</td>\n",
              "      <td>1</td>\n",
              "      <td>0.0</td>\n",
              "      <td>0.187171</td>\n",
              "    </tr>\n",
              "    <tr>\n",
              "      <th>4</th>\n",
              "      <td>Radiation emergency #preparedness starts with ...</td>\n",
              "      <td>1</td>\n",
              "      <td>0.0</td>\n",
              "      <td>0.098890</td>\n",
              "    </tr>\n",
              "  </tbody>\n",
              "</table>\n",
              "</div>\n",
              "    <div class=\"colab-df-buttons\">\n",
              "\n",
              "  <div class=\"colab-df-container\">\n",
              "    <button class=\"colab-df-convert\" onclick=\"convertToInteractive('df-aa633016-25bd-47bd-bc0a-bef4174b463c')\"\n",
              "            title=\"Convert this dataframe to an interactive table.\"\n",
              "            style=\"display:none;\">\n",
              "\n",
              "  <svg xmlns=\"http://www.w3.org/2000/svg\" height=\"24px\" viewBox=\"0 -960 960 960\">\n",
              "    <path d=\"M120-120v-720h720v720H120Zm60-500h600v-160H180v160Zm220 220h160v-160H400v160Zm0 220h160v-160H400v160ZM180-400h160v-160H180v160Zm440 0h160v-160H620v160ZM180-180h160v-160H180v160Zm440 0h160v-160H620v160Z\"/>\n",
              "  </svg>\n",
              "    </button>\n",
              "\n",
              "  <style>\n",
              "    .colab-df-container {\n",
              "      display:flex;\n",
              "      gap: 12px;\n",
              "    }\n",
              "\n",
              "    .colab-df-convert {\n",
              "      background-color: #E8F0FE;\n",
              "      border: none;\n",
              "      border-radius: 50%;\n",
              "      cursor: pointer;\n",
              "      display: none;\n",
              "      fill: #1967D2;\n",
              "      height: 32px;\n",
              "      padding: 0 0 0 0;\n",
              "      width: 32px;\n",
              "    }\n",
              "\n",
              "    .colab-df-convert:hover {\n",
              "      background-color: #E2EBFA;\n",
              "      box-shadow: 0px 1px 2px rgba(60, 64, 67, 0.3), 0px 1px 3px 1px rgba(60, 64, 67, 0.15);\n",
              "      fill: #174EA6;\n",
              "    }\n",
              "\n",
              "    .colab-df-buttons div {\n",
              "      margin-bottom: 4px;\n",
              "    }\n",
              "\n",
              "    [theme=dark] .colab-df-convert {\n",
              "      background-color: #3B4455;\n",
              "      fill: #D2E3FC;\n",
              "    }\n",
              "\n",
              "    [theme=dark] .colab-df-convert:hover {\n",
              "      background-color: #434B5C;\n",
              "      box-shadow: 0px 1px 3px 1px rgba(0, 0, 0, 0.15);\n",
              "      filter: drop-shadow(0px 1px 2px rgba(0, 0, 0, 0.3));\n",
              "      fill: #FFFFFF;\n",
              "    }\n",
              "  </style>\n",
              "\n",
              "    <script>\n",
              "      const buttonEl =\n",
              "        document.querySelector('#df-aa633016-25bd-47bd-bc0a-bef4174b463c button.colab-df-convert');\n",
              "      buttonEl.style.display =\n",
              "        google.colab.kernel.accessAllowed ? 'block' : 'none';\n",
              "\n",
              "      async function convertToInteractive(key) {\n",
              "        const element = document.querySelector('#df-aa633016-25bd-47bd-bc0a-bef4174b463c');\n",
              "        const dataTable =\n",
              "          await google.colab.kernel.invokeFunction('convertToInteractive',\n",
              "                                                    [key], {});\n",
              "        if (!dataTable) return;\n",
              "\n",
              "        const docLinkHtml = 'Like what you see? Visit the ' +\n",
              "          '<a target=\"_blank\" href=https://colab.research.google.com/notebooks/data_table.ipynb>data table notebook</a>'\n",
              "          + ' to learn more about interactive tables.';\n",
              "        element.innerHTML = '';\n",
              "        dataTable['output_type'] = 'display_data';\n",
              "        await google.colab.output.renderOutput(dataTable, element);\n",
              "        const docLink = document.createElement('div');\n",
              "        docLink.innerHTML = docLinkHtml;\n",
              "        element.appendChild(docLink);\n",
              "      }\n",
              "    </script>\n",
              "  </div>\n",
              "\n",
              "\n",
              "<div id=\"df-0b095bec-12ce-448e-8b8d-1db28c35800c\">\n",
              "  <button class=\"colab-df-quickchart\" onclick=\"quickchart('df-0b095bec-12ce-448e-8b8d-1db28c35800c')\"\n",
              "            title=\"Suggest charts\"\n",
              "            style=\"display:none;\">\n",
              "\n",
              "<svg xmlns=\"http://www.w3.org/2000/svg\" height=\"24px\"viewBox=\"0 0 24 24\"\n",
              "     width=\"24px\">\n",
              "    <g>\n",
              "        <path d=\"M19 3H5c-1.1 0-2 .9-2 2v14c0 1.1.9 2 2 2h14c1.1 0 2-.9 2-2V5c0-1.1-.9-2-2-2zM9 17H7v-7h2v7zm4 0h-2V7h2v10zm4 0h-2v-4h2v4z\"/>\n",
              "    </g>\n",
              "</svg>\n",
              "  </button>\n",
              "\n",
              "<style>\n",
              "  .colab-df-quickchart {\n",
              "      --bg-color: #E8F0FE;\n",
              "      --fill-color: #1967D2;\n",
              "      --hover-bg-color: #E2EBFA;\n",
              "      --hover-fill-color: #174EA6;\n",
              "      --disabled-fill-color: #AAA;\n",
              "      --disabled-bg-color: #DDD;\n",
              "  }\n",
              "\n",
              "  [theme=dark] .colab-df-quickchart {\n",
              "      --bg-color: #3B4455;\n",
              "      --fill-color: #D2E3FC;\n",
              "      --hover-bg-color: #434B5C;\n",
              "      --hover-fill-color: #FFFFFF;\n",
              "      --disabled-bg-color: #3B4455;\n",
              "      --disabled-fill-color: #666;\n",
              "  }\n",
              "\n",
              "  .colab-df-quickchart {\n",
              "    background-color: var(--bg-color);\n",
              "    border: none;\n",
              "    border-radius: 50%;\n",
              "    cursor: pointer;\n",
              "    display: none;\n",
              "    fill: var(--fill-color);\n",
              "    height: 32px;\n",
              "    padding: 0;\n",
              "    width: 32px;\n",
              "  }\n",
              "\n",
              "  .colab-df-quickchart:hover {\n",
              "    background-color: var(--hover-bg-color);\n",
              "    box-shadow: 0 1px 2px rgba(60, 64, 67, 0.3), 0 1px 3px 1px rgba(60, 64, 67, 0.15);\n",
              "    fill: var(--button-hover-fill-color);\n",
              "  }\n",
              "\n",
              "  .colab-df-quickchart-complete:disabled,\n",
              "  .colab-df-quickchart-complete:disabled:hover {\n",
              "    background-color: var(--disabled-bg-color);\n",
              "    fill: var(--disabled-fill-color);\n",
              "    box-shadow: none;\n",
              "  }\n",
              "\n",
              "  .colab-df-spinner {\n",
              "    border: 2px solid var(--fill-color);\n",
              "    border-color: transparent;\n",
              "    border-bottom-color: var(--fill-color);\n",
              "    animation:\n",
              "      spin 1s steps(1) infinite;\n",
              "  }\n",
              "\n",
              "  @keyframes spin {\n",
              "    0% {\n",
              "      border-color: transparent;\n",
              "      border-bottom-color: var(--fill-color);\n",
              "      border-left-color: var(--fill-color);\n",
              "    }\n",
              "    20% {\n",
              "      border-color: transparent;\n",
              "      border-left-color: var(--fill-color);\n",
              "      border-top-color: var(--fill-color);\n",
              "    }\n",
              "    30% {\n",
              "      border-color: transparent;\n",
              "      border-left-color: var(--fill-color);\n",
              "      border-top-color: var(--fill-color);\n",
              "      border-right-color: var(--fill-color);\n",
              "    }\n",
              "    40% {\n",
              "      border-color: transparent;\n",
              "      border-right-color: var(--fill-color);\n",
              "      border-top-color: var(--fill-color);\n",
              "    }\n",
              "    60% {\n",
              "      border-color: transparent;\n",
              "      border-right-color: var(--fill-color);\n",
              "    }\n",
              "    80% {\n",
              "      border-color: transparent;\n",
              "      border-right-color: var(--fill-color);\n",
              "      border-bottom-color: var(--fill-color);\n",
              "    }\n",
              "    90% {\n",
              "      border-color: transparent;\n",
              "      border-bottom-color: var(--fill-color);\n",
              "    }\n",
              "  }\n",
              "</style>\n",
              "\n",
              "  <script>\n",
              "    async function quickchart(key) {\n",
              "      const quickchartButtonEl =\n",
              "        document.querySelector('#' + key + ' button');\n",
              "      quickchartButtonEl.disabled = true;  // To prevent multiple clicks.\n",
              "      quickchartButtonEl.classList.add('colab-df-spinner');\n",
              "      try {\n",
              "        const charts = await google.colab.kernel.invokeFunction(\n",
              "            'suggestCharts', [key], {});\n",
              "      } catch (error) {\n",
              "        console.error('Error during call to suggestCharts:', error);\n",
              "      }\n",
              "      quickchartButtonEl.classList.remove('colab-df-spinner');\n",
              "      quickchartButtonEl.classList.add('colab-df-quickchart-complete');\n",
              "    }\n",
              "    (() => {\n",
              "      let quickchartButtonEl =\n",
              "        document.querySelector('#df-0b095bec-12ce-448e-8b8d-1db28c35800c button');\n",
              "      quickchartButtonEl.style.display =\n",
              "        google.colab.kernel.accessAllowed ? 'block' : 'none';\n",
              "    })();\n",
              "  </script>\n",
              "</div>\n",
              "\n",
              "    </div>\n",
              "  </div>\n"
            ],
            "application/vnd.google.colaboratory.intrinsic+json": {
              "type": "dataframe",
              "variable_name": "val_df",
              "summary": "{\n  \"name\": \"val_df\",\n  \"rows\": 762,\n  \"fields\": [\n    {\n      \"column\": \"text\",\n      \"properties\": {\n        \"dtype\": \"string\",\n        \"num_unique_values\": 761,\n        \"samples\": [\n          \"collapsed the moment i got home last night lol\",\n          \"Reality Training: Train falls off elevated tracks during windstorm http://t.co/qzRciNaF5z\",\n          \"Storm headed towards Idaho Falls with blowing dust &amp; winds to 60 mph.  US HWY 20 &amp; I15 look out.  #idwx http://t.co/0cR74m1Uxm\"\n        ],\n        \"semantic_type\": \"\",\n        \"description\": \"\"\n      }\n    },\n    {\n      \"column\": \"target\",\n      \"properties\": {\n        \"dtype\": \"number\",\n        \"std\": 0,\n        \"min\": 0,\n        \"max\": 1,\n        \"num_unique_values\": 2,\n        \"samples\": [\n          1,\n          0\n        ],\n        \"semantic_type\": \"\",\n        \"description\": \"\"\n      }\n    },\n    {\n      \"column\": \"pred\",\n      \"properties\": {\n        \"dtype\": \"float32\",\n        \"num_unique_values\": 2,\n        \"samples\": [\n          1.0,\n          0.0\n        ],\n        \"semantic_type\": \"\",\n        \"description\": \"\"\n      }\n    },\n    {\n      \"column\": \"pred_prob\",\n      \"properties\": {\n        \"dtype\": \"float32\",\n        \"num_unique_values\": 747,\n        \"samples\": [\n          0.9852679967880249,\n          0.004936289042234421\n        ],\n        \"semantic_type\": \"\",\n        \"description\": \"\"\n      }\n    }\n  ]\n}"
            }
          },
          "metadata": {},
          "execution_count": 118
        }
      ]
    },
    {
      "cell_type": "code",
      "source": [
        "most_wrong = val_df[val_df[\"target\"] != val_df[\"pred\"]].sort_values(\"pred_prob\", ascending=False)\n",
        "most_wrong[:10]"
      ],
      "metadata": {
        "id": "LAuZNfzWRRe0",
        "colab": {
          "base_uri": "https://localhost:8080/",
          "height": 363
        },
        "outputId": "27fc2bf6-ac77-4f73-d4ef-d0e7fc57f086"
      },
      "execution_count": 119,
      "outputs": [
        {
          "output_type": "execute_result",
          "data": {
            "text/plain": [
              "                                                  text  target  pred  \\\n",
              "698  åÈMGN-AFRICAå¨ pin:263789F4 åÈ Correction: Ten...       0   1.0   \n",
              "303  Trafford Centre film fans angry after Odeon ci...       0   1.0   \n",
              "474  My phone looks like it was in a car ship airpl...       0   1.0   \n",
              "606  Maid charged with stealing Dh30000 from police...       0   1.0   \n",
              "682  A change in the State fire code prohibits gril...       0   1.0   \n",
              "129                        Drowning in Actavis suicide       0   1.0   \n",
              "643  another day another excellent @_dangerousbeans...       0   1.0   \n",
              "209  Ashes 2015: AustraliaÛªs collapse at Trent Br...       0   1.0   \n",
              "126  ??One night and we're gonna come and crash the...       0   1.0   \n",
              "351  @BookTubeAThon A world in which people aren't ...       0   1.0   \n",
              "\n",
              "     pred_prob  \n",
              "698   0.992051  \n",
              "303   0.985709  \n",
              "474   0.945853  \n",
              "606   0.898053  \n",
              "682   0.879753  \n",
              "129   0.875083  \n",
              "643   0.846922  \n",
              "209   0.845181  \n",
              "126   0.829161  \n",
              "351   0.800411  "
            ],
            "text/html": [
              "\n",
              "  <div id=\"df-31b34b5d-df2e-4a09-8a33-dda5057a79b5\" class=\"colab-df-container\">\n",
              "    <div>\n",
              "<style scoped>\n",
              "    .dataframe tbody tr th:only-of-type {\n",
              "        vertical-align: middle;\n",
              "    }\n",
              "\n",
              "    .dataframe tbody tr th {\n",
              "        vertical-align: top;\n",
              "    }\n",
              "\n",
              "    .dataframe thead th {\n",
              "        text-align: right;\n",
              "    }\n",
              "</style>\n",
              "<table border=\"1\" class=\"dataframe\">\n",
              "  <thead>\n",
              "    <tr style=\"text-align: right;\">\n",
              "      <th></th>\n",
              "      <th>text</th>\n",
              "      <th>target</th>\n",
              "      <th>pred</th>\n",
              "      <th>pred_prob</th>\n",
              "    </tr>\n",
              "  </thead>\n",
              "  <tbody>\n",
              "    <tr>\n",
              "      <th>698</th>\n",
              "      <td>åÈMGN-AFRICAå¨ pin:263789F4 åÈ Correction: Ten...</td>\n",
              "      <td>0</td>\n",
              "      <td>1.0</td>\n",
              "      <td>0.992051</td>\n",
              "    </tr>\n",
              "    <tr>\n",
              "      <th>303</th>\n",
              "      <td>Trafford Centre film fans angry after Odeon ci...</td>\n",
              "      <td>0</td>\n",
              "      <td>1.0</td>\n",
              "      <td>0.985709</td>\n",
              "    </tr>\n",
              "    <tr>\n",
              "      <th>474</th>\n",
              "      <td>My phone looks like it was in a car ship airpl...</td>\n",
              "      <td>0</td>\n",
              "      <td>1.0</td>\n",
              "      <td>0.945853</td>\n",
              "    </tr>\n",
              "    <tr>\n",
              "      <th>606</th>\n",
              "      <td>Maid charged with stealing Dh30000 from police...</td>\n",
              "      <td>0</td>\n",
              "      <td>1.0</td>\n",
              "      <td>0.898053</td>\n",
              "    </tr>\n",
              "    <tr>\n",
              "      <th>682</th>\n",
              "      <td>A change in the State fire code prohibits gril...</td>\n",
              "      <td>0</td>\n",
              "      <td>1.0</td>\n",
              "      <td>0.879753</td>\n",
              "    </tr>\n",
              "    <tr>\n",
              "      <th>129</th>\n",
              "      <td>Drowning in Actavis suicide</td>\n",
              "      <td>0</td>\n",
              "      <td>1.0</td>\n",
              "      <td>0.875083</td>\n",
              "    </tr>\n",
              "    <tr>\n",
              "      <th>643</th>\n",
              "      <td>another day another excellent @_dangerousbeans...</td>\n",
              "      <td>0</td>\n",
              "      <td>1.0</td>\n",
              "      <td>0.846922</td>\n",
              "    </tr>\n",
              "    <tr>\n",
              "      <th>209</th>\n",
              "      <td>Ashes 2015: AustraliaÛªs collapse at Trent Br...</td>\n",
              "      <td>0</td>\n",
              "      <td>1.0</td>\n",
              "      <td>0.845181</td>\n",
              "    </tr>\n",
              "    <tr>\n",
              "      <th>126</th>\n",
              "      <td>??One night and we're gonna come and crash the...</td>\n",
              "      <td>0</td>\n",
              "      <td>1.0</td>\n",
              "      <td>0.829161</td>\n",
              "    </tr>\n",
              "    <tr>\n",
              "      <th>351</th>\n",
              "      <td>@BookTubeAThon A world in which people aren't ...</td>\n",
              "      <td>0</td>\n",
              "      <td>1.0</td>\n",
              "      <td>0.800411</td>\n",
              "    </tr>\n",
              "  </tbody>\n",
              "</table>\n",
              "</div>\n",
              "    <div class=\"colab-df-buttons\">\n",
              "\n",
              "  <div class=\"colab-df-container\">\n",
              "    <button class=\"colab-df-convert\" onclick=\"convertToInteractive('df-31b34b5d-df2e-4a09-8a33-dda5057a79b5')\"\n",
              "            title=\"Convert this dataframe to an interactive table.\"\n",
              "            style=\"display:none;\">\n",
              "\n",
              "  <svg xmlns=\"http://www.w3.org/2000/svg\" height=\"24px\" viewBox=\"0 -960 960 960\">\n",
              "    <path d=\"M120-120v-720h720v720H120Zm60-500h600v-160H180v160Zm220 220h160v-160H400v160Zm0 220h160v-160H400v160ZM180-400h160v-160H180v160Zm440 0h160v-160H620v160ZM180-180h160v-160H180v160Zm440 0h160v-160H620v160Z\"/>\n",
              "  </svg>\n",
              "    </button>\n",
              "\n",
              "  <style>\n",
              "    .colab-df-container {\n",
              "      display:flex;\n",
              "      gap: 12px;\n",
              "    }\n",
              "\n",
              "    .colab-df-convert {\n",
              "      background-color: #E8F0FE;\n",
              "      border: none;\n",
              "      border-radius: 50%;\n",
              "      cursor: pointer;\n",
              "      display: none;\n",
              "      fill: #1967D2;\n",
              "      height: 32px;\n",
              "      padding: 0 0 0 0;\n",
              "      width: 32px;\n",
              "    }\n",
              "\n",
              "    .colab-df-convert:hover {\n",
              "      background-color: #E2EBFA;\n",
              "      box-shadow: 0px 1px 2px rgba(60, 64, 67, 0.3), 0px 1px 3px 1px rgba(60, 64, 67, 0.15);\n",
              "      fill: #174EA6;\n",
              "    }\n",
              "\n",
              "    .colab-df-buttons div {\n",
              "      margin-bottom: 4px;\n",
              "    }\n",
              "\n",
              "    [theme=dark] .colab-df-convert {\n",
              "      background-color: #3B4455;\n",
              "      fill: #D2E3FC;\n",
              "    }\n",
              "\n",
              "    [theme=dark] .colab-df-convert:hover {\n",
              "      background-color: #434B5C;\n",
              "      box-shadow: 0px 1px 3px 1px rgba(0, 0, 0, 0.15);\n",
              "      filter: drop-shadow(0px 1px 2px rgba(0, 0, 0, 0.3));\n",
              "      fill: #FFFFFF;\n",
              "    }\n",
              "  </style>\n",
              "\n",
              "    <script>\n",
              "      const buttonEl =\n",
              "        document.querySelector('#df-31b34b5d-df2e-4a09-8a33-dda5057a79b5 button.colab-df-convert');\n",
              "      buttonEl.style.display =\n",
              "        google.colab.kernel.accessAllowed ? 'block' : 'none';\n",
              "\n",
              "      async function convertToInteractive(key) {\n",
              "        const element = document.querySelector('#df-31b34b5d-df2e-4a09-8a33-dda5057a79b5');\n",
              "        const dataTable =\n",
              "          await google.colab.kernel.invokeFunction('convertToInteractive',\n",
              "                                                    [key], {});\n",
              "        if (!dataTable) return;\n",
              "\n",
              "        const docLinkHtml = 'Like what you see? Visit the ' +\n",
              "          '<a target=\"_blank\" href=https://colab.research.google.com/notebooks/data_table.ipynb>data table notebook</a>'\n",
              "          + ' to learn more about interactive tables.';\n",
              "        element.innerHTML = '';\n",
              "        dataTable['output_type'] = 'display_data';\n",
              "        await google.colab.output.renderOutput(dataTable, element);\n",
              "        const docLink = document.createElement('div');\n",
              "        docLink.innerHTML = docLinkHtml;\n",
              "        element.appendChild(docLink);\n",
              "      }\n",
              "    </script>\n",
              "  </div>\n",
              "\n",
              "\n",
              "<div id=\"df-3e051255-13b6-4cd3-bcd5-5236486085f3\">\n",
              "  <button class=\"colab-df-quickchart\" onclick=\"quickchart('df-3e051255-13b6-4cd3-bcd5-5236486085f3')\"\n",
              "            title=\"Suggest charts\"\n",
              "            style=\"display:none;\">\n",
              "\n",
              "<svg xmlns=\"http://www.w3.org/2000/svg\" height=\"24px\"viewBox=\"0 0 24 24\"\n",
              "     width=\"24px\">\n",
              "    <g>\n",
              "        <path d=\"M19 3H5c-1.1 0-2 .9-2 2v14c0 1.1.9 2 2 2h14c1.1 0 2-.9 2-2V5c0-1.1-.9-2-2-2zM9 17H7v-7h2v7zm4 0h-2V7h2v10zm4 0h-2v-4h2v4z\"/>\n",
              "    </g>\n",
              "</svg>\n",
              "  </button>\n",
              "\n",
              "<style>\n",
              "  .colab-df-quickchart {\n",
              "      --bg-color: #E8F0FE;\n",
              "      --fill-color: #1967D2;\n",
              "      --hover-bg-color: #E2EBFA;\n",
              "      --hover-fill-color: #174EA6;\n",
              "      --disabled-fill-color: #AAA;\n",
              "      --disabled-bg-color: #DDD;\n",
              "  }\n",
              "\n",
              "  [theme=dark] .colab-df-quickchart {\n",
              "      --bg-color: #3B4455;\n",
              "      --fill-color: #D2E3FC;\n",
              "      --hover-bg-color: #434B5C;\n",
              "      --hover-fill-color: #FFFFFF;\n",
              "      --disabled-bg-color: #3B4455;\n",
              "      --disabled-fill-color: #666;\n",
              "  }\n",
              "\n",
              "  .colab-df-quickchart {\n",
              "    background-color: var(--bg-color);\n",
              "    border: none;\n",
              "    border-radius: 50%;\n",
              "    cursor: pointer;\n",
              "    display: none;\n",
              "    fill: var(--fill-color);\n",
              "    height: 32px;\n",
              "    padding: 0;\n",
              "    width: 32px;\n",
              "  }\n",
              "\n",
              "  .colab-df-quickchart:hover {\n",
              "    background-color: var(--hover-bg-color);\n",
              "    box-shadow: 0 1px 2px rgba(60, 64, 67, 0.3), 0 1px 3px 1px rgba(60, 64, 67, 0.15);\n",
              "    fill: var(--button-hover-fill-color);\n",
              "  }\n",
              "\n",
              "  .colab-df-quickchart-complete:disabled,\n",
              "  .colab-df-quickchart-complete:disabled:hover {\n",
              "    background-color: var(--disabled-bg-color);\n",
              "    fill: var(--disabled-fill-color);\n",
              "    box-shadow: none;\n",
              "  }\n",
              "\n",
              "  .colab-df-spinner {\n",
              "    border: 2px solid var(--fill-color);\n",
              "    border-color: transparent;\n",
              "    border-bottom-color: var(--fill-color);\n",
              "    animation:\n",
              "      spin 1s steps(1) infinite;\n",
              "  }\n",
              "\n",
              "  @keyframes spin {\n",
              "    0% {\n",
              "      border-color: transparent;\n",
              "      border-bottom-color: var(--fill-color);\n",
              "      border-left-color: var(--fill-color);\n",
              "    }\n",
              "    20% {\n",
              "      border-color: transparent;\n",
              "      border-left-color: var(--fill-color);\n",
              "      border-top-color: var(--fill-color);\n",
              "    }\n",
              "    30% {\n",
              "      border-color: transparent;\n",
              "      border-left-color: var(--fill-color);\n",
              "      border-top-color: var(--fill-color);\n",
              "      border-right-color: var(--fill-color);\n",
              "    }\n",
              "    40% {\n",
              "      border-color: transparent;\n",
              "      border-right-color: var(--fill-color);\n",
              "      border-top-color: var(--fill-color);\n",
              "    }\n",
              "    60% {\n",
              "      border-color: transparent;\n",
              "      border-right-color: var(--fill-color);\n",
              "    }\n",
              "    80% {\n",
              "      border-color: transparent;\n",
              "      border-right-color: var(--fill-color);\n",
              "      border-bottom-color: var(--fill-color);\n",
              "    }\n",
              "    90% {\n",
              "      border-color: transparent;\n",
              "      border-bottom-color: var(--fill-color);\n",
              "    }\n",
              "  }\n",
              "</style>\n",
              "\n",
              "  <script>\n",
              "    async function quickchart(key) {\n",
              "      const quickchartButtonEl =\n",
              "        document.querySelector('#' + key + ' button');\n",
              "      quickchartButtonEl.disabled = true;  // To prevent multiple clicks.\n",
              "      quickchartButtonEl.classList.add('colab-df-spinner');\n",
              "      try {\n",
              "        const charts = await google.colab.kernel.invokeFunction(\n",
              "            'suggestCharts', [key], {});\n",
              "      } catch (error) {\n",
              "        console.error('Error during call to suggestCharts:', error);\n",
              "      }\n",
              "      quickchartButtonEl.classList.remove('colab-df-spinner');\n",
              "      quickchartButtonEl.classList.add('colab-df-quickchart-complete');\n",
              "    }\n",
              "    (() => {\n",
              "      let quickchartButtonEl =\n",
              "        document.querySelector('#df-3e051255-13b6-4cd3-bcd5-5236486085f3 button');\n",
              "      quickchartButtonEl.style.display =\n",
              "        google.colab.kernel.accessAllowed ? 'block' : 'none';\n",
              "    })();\n",
              "  </script>\n",
              "</div>\n",
              "\n",
              "    </div>\n",
              "  </div>\n"
            ],
            "application/vnd.google.colaboratory.intrinsic+json": {
              "type": "dataframe",
              "summary": "{\n  \"name\": \"most_wrong[:10]\",\n  \"rows\": 10,\n  \"fields\": [\n    {\n      \"column\": \"text\",\n      \"properties\": {\n        \"dtype\": \"string\",\n        \"num_unique_values\": 10,\n        \"samples\": [\n          \"??One night and we're gonna come and crash the party\\nWeren't invited but we're feelin' so\\u0089\\u00db_ https://t.co/9hKXxBB82O\",\n          \"Trafford Centre film fans angry after Odeon cinema evacuated following false fire alarm   http://t.co/6GLDwx71DA\",\n          \"Drowning in Actavis suicide\"\n        ],\n        \"semantic_type\": \"\",\n        \"description\": \"\"\n      }\n    },\n    {\n      \"column\": \"target\",\n      \"properties\": {\n        \"dtype\": \"number\",\n        \"std\": 0,\n        \"min\": 0,\n        \"max\": 0,\n        \"num_unique_values\": 1,\n        \"samples\": [\n          0\n        ],\n        \"semantic_type\": \"\",\n        \"description\": \"\"\n      }\n    },\n    {\n      \"column\": \"pred\",\n      \"properties\": {\n        \"dtype\": \"float32\",\n        \"num_unique_values\": 1,\n        \"samples\": [\n          1.0\n        ],\n        \"semantic_type\": \"\",\n        \"description\": \"\"\n      }\n    },\n    {\n      \"column\": \"pred_prob\",\n      \"properties\": {\n        \"dtype\": \"float32\",\n        \"num_unique_values\": 10,\n        \"samples\": [\n          0.8291612863540649\n        ],\n        \"semantic_type\": \"\",\n        \"description\": \"\"\n      }\n    }\n  ]\n}"
            }
          },
          "metadata": {},
          "execution_count": 119
        }
      ]
    },
    {
      "cell_type": "code",
      "source": [
        "for row in most_wrong[:10].itertuples(): # loop through the top 10 rows (change the index to view different rows)\n",
        "  _, text, target, pred, prob = row\n",
        "  print(f\"Target: {target}, Pred: {int(pred)}, Prob: {prob}\")\n",
        "  print(f\"Text:\\n{text}\\n\")\n",
        "  print(\"----\\n\")"
      ],
      "metadata": {
        "id": "MPmEc9WBRhbc",
        "colab": {
          "base_uri": "https://localhost:8080/"
        },
        "outputId": "0c7a9b8c-4df2-438c-8409-6e0068f3d3a3"
      },
      "execution_count": 120,
      "outputs": [
        {
          "output_type": "stream",
          "name": "stdout",
          "text": [
            "Target: 0, Pred: 1, Prob: 0.9920514822006226\n",
            "Text:\n",
            "åÈMGN-AFRICAå¨ pin:263789F4 åÈ Correction: Tent Collapse Story: Correction: Tent Collapse story åÈ http://t.co/fDJUYvZMrv @wizkidayo\n",
            "\n",
            "----\n",
            "\n",
            "Target: 0, Pred: 1, Prob: 0.9857094287872314\n",
            "Text:\n",
            "Trafford Centre film fans angry after Odeon cinema evacuated following false fire alarm   http://t.co/6GLDwx71DA\n",
            "\n",
            "----\n",
            "\n",
            "Target: 0, Pred: 1, Prob: 0.9458527565002441\n",
            "Text:\n",
            "My phone looks like it was in a car ship airplane accident. Terrible\n",
            "\n",
            "----\n",
            "\n",
            "Target: 0, Pred: 1, Prob: 0.8980534672737122\n",
            "Text:\n",
            "Maid charged with stealing Dh30000 from police officer sponsor http://t.co/y35qtVDSOH | https://t.co/qhUJAjCTR5\n",
            "\n",
            "----\n",
            "\n",
            "Target: 0, Pred: 1, Prob: 0.879753053188324\n",
            "Text:\n",
            "A change in the State fire code prohibits grills on decks at condos and apartment buildings.  Check with your... http://t.co/KE1ZS6NAml\n",
            "\n",
            "----\n",
            "\n",
            "Target: 0, Pred: 1, Prob: 0.8750830888748169\n",
            "Text:\n",
            "Drowning in Actavis suicide\n",
            "\n",
            "----\n",
            "\n",
            "Target: 0, Pred: 1, Prob: 0.8469218611717224\n",
            "Text:\n",
            "another day another excellent @_dangerousbeans porridge. seriously people. blood orange in porridge is phenomenal.\n",
            "\n",
            "----\n",
            "\n",
            "Target: 0, Pred: 1, Prob: 0.8451811671257019\n",
            "Text:\n",
            "Ashes 2015: AustraliaÛªs collapse at Trent Bridge among worst in history: England bundled out Australia for 60 ... http://t.co/t5TrhjUAU0\n",
            "\n",
            "----\n",
            "\n",
            "Target: 0, Pred: 1, Prob: 0.8291612863540649\n",
            "Text:\n",
            "??One night and we're gonna come and crash the party\n",
            "Weren't invited but we're feelin' soÛ_ https://t.co/9hKXxBB82O\n",
            "\n",
            "----\n",
            "\n",
            "Target: 0, Pred: 1, Prob: 0.8004105687141418\n",
            "Text:\n",
            "@BookTubeAThon A world in which people aren't dying from natural and supernatural disaster and war most likely.\n",
            "\n",
            "----\n",
            "\n"
          ]
        }
      ]
    },
    {
      "cell_type": "code",
      "source": [
        "for row in most_wrong[-10:].itertuples():\n",
        "  _, text, target, pred, prob = row\n",
        "  print(f\"Target: {target}, Pred: {int(pred)}, Prob: {prob}\")\n",
        "  print(f\"Text:\\n{text}\\n\")\n",
        "  print(\"----\\n\")"
      ],
      "metadata": {
        "id": "eR-3cy4BRjoD",
        "colab": {
          "base_uri": "https://localhost:8080/"
        },
        "outputId": "4fb625bb-1d5c-4102-aa4b-27abc8b60fa2"
      },
      "execution_count": 121,
      "outputs": [
        {
          "output_type": "stream",
          "name": "stdout",
          "text": [
            "Target: 1, Pred: 0, Prob: 0.033527474850416183\n",
            "Text:\n",
            "@DavidJordan88 @Stephanenny Except we don't know who started the riot or if it even makes sense to credit any particular individuals...\n",
            "\n",
            "----\n",
            "\n",
            "Target: 1, Pred: 0, Prob: 0.03343614190816879\n",
            "Text:\n",
            "@reriellechan HE WAS THE LICH KING'S FIRST CASUALTY BLOCK ME BACK I HATE YOU! http://t.co/0Gidg9U45J\n",
            "\n",
            "----\n",
            "\n",
            "Target: 1, Pred: 0, Prob: 0.03333664685487747\n",
            "Text:\n",
            "Why are you deluged with low self-image? Take the quiz: http://t.co/XsPqdOrIqj http://t.co/CQYvFR4UCy\n",
            "\n",
            "----\n",
            "\n",
            "Target: 1, Pred: 0, Prob: 0.028467928990721703\n",
            "Text:\n",
            "#ClimateChange Eyewitness to Extreme Weather: 11 Social Media Posts that Show Just How Crazy Things A... http://t.co/czpDn9oBiT #Anarchy\n",
            "\n",
            "----\n",
            "\n",
            "Target: 1, Pred: 0, Prob: 0.02218005619943142\n",
            "Text:\n",
            "Owner of Chicago-Area Gay Bar Admits to Arson Scheme http://t.co/ZPxE3fMYNG #LGBT\n",
            "\n",
            "----\n",
            "\n",
            "Target: 1, Pred: 0, Prob: 0.01444978080689907\n",
            "Text:\n",
            "Rand Paul's Debate Strategy 'demolish Some other bad ideas out there or point out maybe that there are some em... http://t.co/qzdqRBr4Lh\n",
            "\n",
            "----\n",
            "\n",
            "Target: 1, Pred: 0, Prob: 0.010087649337947369\n",
            "Text:\n",
            "Petition | Heartless owner that whipped horse until it collapsed is told he can KEEP his animal! Act Now! http://t.co/87eFCBIczM\n",
            "\n",
            "----\n",
            "\n",
            "Target: 1, Pred: 0, Prob: 0.008554608561098576\n",
            "Text:\n",
            "Crazy Mom Threw Teen Daughter a NUDE Twister Sex Party According To Her Friend50 =&gt;http://t.co/Hy5Pbe12TM http://t.co/c1nJpLi5oR\n",
            "\n",
            "----\n",
            "\n",
            "Target: 1, Pred: 0, Prob: 0.004936289042234421\n",
            "Text:\n",
            "Just came back from camping and returned with a new song which gets recorded tomorrow. Can't wait! #Desolation #TheConspiracyTheory #NewEP\n",
            "\n",
            "----\n",
            "\n",
            "Target: 1, Pred: 0, Prob: 0.003067256649956107\n",
            "Text:\n",
            "You can never escape me. Bullets don't harm me. Nothing harms me. But I know pain. I know pain. Sometimes I share it. With someone like you.\n",
            "\n",
            "----\n",
            "\n"
          ]
        }
      ]
    },
    {
      "cell_type": "markdown",
      "source": [
        "#Making predicitions on the test dataset"
      ],
      "metadata": {
        "id": "GfKUtcgHRmGc"
      }
    },
    {
      "cell_type": "code",
      "source": [
        "import numpy as np\n",
        "import random\n",
        "\n",
        "test_sentences = test_df[\"text\"].to_list()\n",
        "test_samples = random.sample(test_sentences, 10)\n",
        "\n",
        "for test_sample in test_samples:\n",
        "    # ✅ Convert to NumPy array before passing to the model\n",
        "    test_input = np.array([test_sample], dtype=object)\n",
        "\n",
        "    pred_prob = tf.squeeze(model_6.predict(test_input))  # Ensure proper input format\n",
        "    pred = tf.round(pred_prob)\n",
        "\n",
        "    print(f\"Pred: {int(pred)}, Prob: {pred_prob}\")\n",
        "    print(f\"Text:\\n{test_sample}\\n\")\n",
        "    print(\"----\\n\")\n"
      ],
      "metadata": {
        "id": "56zBgstTTj9b",
        "colab": {
          "base_uri": "https://localhost:8080/"
        },
        "outputId": "ccdb8585-9466-413b-be37-9b63715b6df2"
      },
      "execution_count": 132,
      "outputs": [
        {
          "output_type": "stream",
          "name": "stdout",
          "text": [
            "\u001b[1m1/1\u001b[0m \u001b[32m━━━━━━━━━━━━━━━━━━━━\u001b[0m\u001b[37m\u001b[0m \u001b[1m0s\u001b[0m 207ms/step\n",
            "Pred: 1, Prob: 0.9884018301963806\n",
            "Text:\n",
            "Landslide in Italian Alps kills three: ROME (Reuters) - Three people were killed when a severe rainstorm in th... http://t.co/GX1UXeY57B\n",
            "\n",
            "----\n",
            "\n",
            "\u001b[1m1/1\u001b[0m \u001b[32m━━━━━━━━━━━━━━━━━━━━\u001b[0m\u001b[37m\u001b[0m \u001b[1m0s\u001b[0m 201ms/step\n",
            "Pred: 1, Prob: 0.9480841755867004\n",
            "Text:\n",
            "Rly tragedy in MP: Some live to recount horror: ÛÏWhen I saw coaches of my train plunging into water I called ... http://t.co/KiXRcBNjLs\n",
            "\n",
            "----\n",
            "\n",
            "\u001b[1m1/1\u001b[0m \u001b[32m━━━━━━━━━━━━━━━━━━━━\u001b[0m\u001b[37m\u001b[0m \u001b[1m0s\u001b[0m 188ms/step\n",
            "Pred: 1, Prob: 0.9888690710067749\n",
            "Text:\n",
            "qtSZg mhtw4fnet\n",
            "\n",
            "Suicide bomber kills 15 in Saudi security site mosque - Reuters\n",
            "\n",
            "----\n",
            "\n",
            "\u001b[1m1/1\u001b[0m \u001b[32m━━━━━━━━━━━━━━━━━━━━\u001b[0m\u001b[37m\u001b[0m \u001b[1m0s\u001b[0m 271ms/step\n",
            "Pred: 0, Prob: 0.1992054134607315\n",
            "Text:\n",
            "Please share and sign this petition to save wild horses in Arizona. http://t.co/3tsSXPHuFE\n",
            "\n",
            "----\n",
            "\n",
            "\u001b[1m1/1\u001b[0m \u001b[32m━━━━━━━━━━━━━━━━━━━━\u001b[0m\u001b[37m\u001b[0m \u001b[1m0s\u001b[0m 130ms/step\n",
            "Pred: 1, Prob: 0.7490931749343872\n",
            "Text:\n",
            "This time next week there will be absolute pandemonium in several homes around Westmeath with some carefully... http://t.co/nwfNxs4rIE\n",
            "\n",
            "----\n",
            "\n",
            "\u001b[1m1/1\u001b[0m \u001b[32m━━━━━━━━━━━━━━━━━━━━\u001b[0m\u001b[37m\u001b[0m \u001b[1m0s\u001b[0m 128ms/step\n",
            "Pred: 1, Prob: 0.9725425243377686\n",
            "Text:\n",
            "The day of death destruction chaos; 60000 to 80000 people were killed instantly. Please take sometime to remember and think about others\n",
            "\n",
            "----\n",
            "\n",
            "\u001b[1m1/1\u001b[0m \u001b[32m━━━━━━━━━━━━━━━━━━━━\u001b[0m\u001b[37m\u001b[0m \u001b[1m0s\u001b[0m 123ms/step\n",
            "Pred: 0, Prob: 0.15958619117736816\n",
            "Text:\n",
            "AMAZING ANCIENT TEXT RENDERINGS!\n",
            "-------\n",
            "Carl Gallups Dr. Michael Brown and Mark Biltz weigh in on this... http://t.co/sifF4ITJZ0\n",
            "\n",
            "----\n",
            "\n",
            "\u001b[1m1/1\u001b[0m \u001b[32m━━━━━━━━━━━━━━━━━━━━\u001b[0m\u001b[37m\u001b[0m \u001b[1m0s\u001b[0m 120ms/step\n",
            "Pred: 0, Prob: 0.01150449924170971\n",
            "Text:\n",
            "New Blog Post Emergency-response plan helps employees get back to productive work http://t.co/Eu21N1G1ZX\n",
            "\n",
            "----\n",
            "\n",
            "\u001b[1m1/1\u001b[0m \u001b[32m━━━━━━━━━━━━━━━━━━━━\u001b[0m\u001b[37m\u001b[0m \u001b[1m0s\u001b[0m 71ms/step\n",
            "Pred: 0, Prob: 0.20032314956188202\n",
            "Text:\n",
            "Reddit Is Planning to 'Quarantine' Its Most Toxic Communities http://t.co/KlVxYN2EJK #mcgtech\n",
            "\n",
            "----\n",
            "\n",
            "\u001b[1m1/1\u001b[0m \u001b[32m━━━━━━━━━━━━━━━━━━━━\u001b[0m\u001b[37m\u001b[0m \u001b[1m0s\u001b[0m 67ms/step\n",
            "Pred: 1, Prob: 0.8813295960426331\n",
            "Text:\n",
            "Cop pulls drunk driver to safety SECONDS before his car is hit by train. http://t.co/cTL5xzIHxAåÊ http://t.co/1kDOZTD9mv via @ViralSpell\n",
            "\n",
            "----\n",
            "\n"
          ]
        }
      ]
    },
    {
      "cell_type": "code",
      "source": [
        "tweet = \"My name is Balaji\""
      ],
      "metadata": {
        "id": "Xd2pPJWMuxys"
      },
      "execution_count": 156,
      "outputs": []
    },
    {
      "cell_type": "code",
      "source": [
        "def predict_on_sentence(model, sentence):\n",
        "  \"\"\"\n",
        "  Uses model to make a prediction on sentence.\n",
        "\n",
        "  Returns the sentence, the predicted label and the prediction probability.\n",
        "  \"\"\"\n",
        "  test_input = np.array([sentence], dtype=object)\n",
        "\n",
        "  pred_prob = tf.squeeze(model_6.predict(test_input))  # Ensure proper input format and get prediction probability\n",
        "  pred_label = tf.round(pred_prob)\n",
        "  # ✅ Use pred_prob directly instead of pred_prob[0][0]\n",
        "  # ✅ pred_prob is a scalar, so access it directly\n",
        "  print(f\"Pred: {pred_label}\", \"(real disaster)\" if pred_label > 0 else \"(not real disaster)\", f\"Prob: {pred_prob}\")\n",
        "  print(f\"Text:\\n{sentence}\")"
      ],
      "metadata": {
        "id": "V8mgewngvLdh"
      },
      "execution_count": 167,
      "outputs": []
    },
    {
      "cell_type": "code",
      "source": [
        "predict_on_sentence(model=model_6, # use the USE model\n",
        "                    sentence=tweet)"
      ],
      "metadata": {
        "colab": {
          "base_uri": "https://localhost:8080/"
        },
        "id": "3bXwuDB3vNMQ",
        "outputId": "b2619044-d386-4002-a3de-67802faaaf59"
      },
      "execution_count": 168,
      "outputs": [
        {
          "output_type": "stream",
          "name": "stdout",
          "text": [
            "\u001b[1m1/1\u001b[0m \u001b[32m━━━━━━━━━━━━━━━━━━━━\u001b[0m\u001b[37m\u001b[0m \u001b[1m0s\u001b[0m 82ms/step\n"
          ]
        },
        {
          "output_type": "stream",
          "name": "stderr",
          "text": [
            "/usr/local/lib/python3.11/dist-packages/tensorflow/python/data/ops/structured_function.py:258: UserWarning: Even though the `tf.config.experimental_run_functions_eagerly` option is set, this option does not apply to tf.data functions. To force eager execution of tf.data functions, please use `tf.data.experimental.enable_debug_mode()`.\n",
            "  warnings.warn(\n"
          ]
        },
        {
          "output_type": "stream",
          "name": "stdout",
          "text": [
            "Pred: 0.0 (not real disaster) Prob: 0.07323009520769119\n",
            "Text:\n",
            "My name is Balaji\n"
          ]
        }
      ]
    },
    {
      "cell_type": "code",
      "source": [
        "tweet_1 = \"Massive earthquake strikes downtown! Buildings collapsed, people trapped under debris! Urgent help needed!\"\n",
        "\n",
        "# Source - https://twitter.com/BeirutCityGuide/status/1290773498743476224\n",
        "tweet_2 = \"Had an amazing weekend at the beach! The weather was perfect, and the sunset was breathtaking!\""
      ],
      "metadata": {
        "id": "cPeIykdHvOcb"
      },
      "execution_count": 172,
      "outputs": []
    },
    {
      "cell_type": "code",
      "source": [
        "# Predict on diaster Tweet 1\n",
        "predict_on_sentence(model=model_6,\n",
        "                    sentence=tweet_1)"
      ],
      "metadata": {
        "colab": {
          "base_uri": "https://localhost:8080/"
        },
        "id": "7d2UEe97wDE_",
        "outputId": "f897dddd-71eb-42bb-8b16-846ce5604f09"
      },
      "execution_count": 173,
      "outputs": [
        {
          "output_type": "stream",
          "name": "stdout",
          "text": [
            "\u001b[1m1/1\u001b[0m \u001b[32m━━━━━━━━━━━━━━━━━━━━\u001b[0m\u001b[37m\u001b[0m \u001b[1m0s\u001b[0m 117ms/step\n",
            "Pred: 1.0 (real disaster) Prob: 0.994615375995636\n",
            "Text:\n",
            "Massive earthquake strikes downtown! Buildings collapsed, people trapped under debris! Urgent help needed!\n"
          ]
        }
      ]
    },
    {
      "cell_type": "code",
      "source": [
        "# Predict on diaster Tweet 2\n",
        "predict_on_sentence(model=model_6,\n",
        "                    sentence=tweet_2)"
      ],
      "metadata": {
        "colab": {
          "base_uri": "https://localhost:8080/"
        },
        "id": "X2inNyw7wEXg",
        "outputId": "4a83c659-e919-4afd-cee1-b247d44282a8"
      },
      "execution_count": 174,
      "outputs": [
        {
          "output_type": "stream",
          "name": "stdout",
          "text": [
            "\u001b[1m1/1\u001b[0m \u001b[32m━━━━━━━━━━━━━━━━━━━━\u001b[0m\u001b[37m\u001b[0m \u001b[1m0s\u001b[0m 137ms/step\n",
            "Pred: 0.0 (not real disaster) Prob: 0.04251991957426071\n",
            "Text:\n",
            "Had an amazing weekend at the beach! The weather was perfect, and the sunset was breathtaking!\n"
          ]
        }
      ]
    },
    {
      "cell_type": "code",
      "source": [],
      "metadata": {
        "id": "RF3GZr8hwHQu"
      },
      "execution_count": null,
      "outputs": []
    }
  ]
}